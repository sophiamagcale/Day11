{
 "cells": [
  {
   "cell_type": "raw",
   "id": "28893d40-51ed-4b98-bab4-6fc58ef03e2d",
   "metadata": {},
   "source": [
    "## Introduction to Data Science\n",
    "\n",
    "#### University of Redlands - DATA 101\n",
    "#### Prof: Joanna Bieri [joanna_bieri@redlands.edu](mailto:joanna_bieri@redlands.edu)\n",
    "#### [Class Website: data101.joannabieri.com](https://joannabieri.com/data101.html)\n",
    "\n",
    "---------------------------------------\n",
    "# Homework Day 11\n",
    "---------------------------------------\n",
    "\n",
    "GOALS:\n",
    "\n",
    "1. Understand Causal vs Experimental Studies\n",
    "2. Do a more free form data analysis\n",
    "3. Start doing your ethics reading\n",
    "\n",
    "----------------------------------------------------------\n",
    "\n",
    "This homework has **2 questions**, **10 exercises** and **1 essay response**."
   ]
  },
  {
   "cell_type": "code",
   "execution_count": 434,
   "id": "d0153569-41e3-4696-9b34-83ba90a0b5cf",
   "metadata": {},
   "outputs": [],
   "source": [
    "import numpy as np\n",
    "import pandas as pd\n",
    "\n",
    "import matplotlib.pyplot as plt\n",
    "import plotly.express as px\n",
    "from plotly.subplots import make_subplots\n",
    "import plotly.io as pio\n",
    "pio.renderers.defaule = 'colab'\n",
    "\n",
    "from itables import show\n",
    "\n",
    "# This stops a few warning messages from showing\n",
    "pd.options.mode.chained_assignment = None \n",
    "import warnings\n",
    "warnings.simplefilter(action='ignore', category=FutureWarning)"
   ]
  },
  {
   "cell_type": "code",
   "execution_count": 435,
   "id": "7048dfd1-2b03-4c4b-93e2-ff48f66af288",
   "metadata": {},
   "outputs": [
    {
     "data": {
      "text/html": [
       "<div>\n",
       "<style scoped>\n",
       "    .dataframe tbody tr th:only-of-type {\n",
       "        vertical-align: middle;\n",
       "    }\n",
       "\n",
       "    .dataframe tbody tr th {\n",
       "        vertical-align: top;\n",
       "    }\n",
       "\n",
       "    .dataframe thead th {\n",
       "        text-align: right;\n",
       "    }\n",
       "</style>\n",
       "<table border=\"1\" class=\"dataframe\">\n",
       "  <thead>\n",
       "    <tr style=\"text-align: right;\">\n",
       "      <th></th>\n",
       "      <th>The climate is changing and human activity is mainly responsible</th>\n",
       "      <th>The climate is changing and human activity is partly responsible, together with other factors</th>\n",
       "      <th>The climate is changing but human activity is not responsible at all</th>\n",
       "      <th>The climate is not changing</th>\n",
       "      <th>Don't know</th>\n",
       "    </tr>\n",
       "    <tr>\n",
       "      <th>country</th>\n",
       "      <th></th>\n",
       "      <th></th>\n",
       "      <th></th>\n",
       "      <th></th>\n",
       "      <th></th>\n",
       "    </tr>\n",
       "  </thead>\n",
       "  <tbody>\n",
       "    <tr>\n",
       "      <th>GB</th>\n",
       "      <td>833</td>\n",
       "      <td>604</td>\n",
       "      <td>49</td>\n",
       "      <td>33</td>\n",
       "      <td>114</td>\n",
       "    </tr>\n",
       "    <tr>\n",
       "      <th>US</th>\n",
       "      <td>507</td>\n",
       "      <td>493</td>\n",
       "      <td>120</td>\n",
       "      <td>80</td>\n",
       "      <td>133</td>\n",
       "    </tr>\n",
       "  </tbody>\n",
       "</table>\n",
       "</div>"
      ],
      "text/plain": [
       "         The climate is changing and human activity is mainly responsible    \\\n",
       "country                                                                       \n",
       "GB                                                     833                    \n",
       "US                                                     507                    \n",
       "\n",
       "         The climate is changing and human activity is partly responsible, together with other factors    \\\n",
       "country                                                                                                    \n",
       "GB                                                     604                                                 \n",
       "US                                                     493                                                 \n",
       "\n",
       "         The climate is changing but human activity is not responsible at all    \\\n",
       "country                                                                           \n",
       "GB                                                      49                        \n",
       "US                                                     120                        \n",
       "\n",
       "         The climate is not changing    Don't know  \n",
       "country                                             \n",
       "GB                                  33         114  \n",
       "US                                  80         133  "
      ]
     },
     "execution_count": 435,
     "metadata": {},
     "output_type": "execute_result"
    }
   ],
   "source": [
    "file_name = 'data/yougov-climate.csv'\n",
    "DF = pd.read_csv(file_name,index_col=0)\n",
    "DF"
   ]
  },
  {
   "cell_type": "code",
   "execution_count": 436,
   "id": "b071d31e-4c0b-4f0d-97d9-b0b5169dbde2",
   "metadata": {},
   "outputs": [
    {
     "data": {
      "text/plain": [
       "Index(['The climate is changing and human activity is mainly responsible  ',\n",
       "       'The climate is changing and human activity is partly responsible, together with other factors  ',\n",
       "       'The climate is changing but human activity is not responsible at all  ',\n",
       "       'The climate is not changing  ', 'Don't know'],\n",
       "      dtype='object')"
      ]
     },
     "execution_count": 436,
     "metadata": {},
     "output_type": "execute_result"
    }
   ],
   "source": [
    "DF.keys()"
   ]
  },
  {
   "cell_type": "markdown",
   "id": "ed9f27ed-eb76-470c-8f3d-cbc80e2b8ee9",
   "metadata": {},
   "source": [
    "In the lecture we analyzed the following questions for the first column in the data:\n",
    "\n",
    "### First question:\n",
    "\n",
    "What percent of **all respondents** think the climate is changing and human activity is mainly responsible?  \n",
    "\n",
    "### Second question:\n",
    "\n",
    "What percent of **GB respondents** think the climate is changing and  human activity is mainly responsible?  \n",
    "\n",
    "### Third Question\n",
    "\n",
    "What percent of **US respondents** think the climate is changing and  human activity is mainly responsible?  \n",
    "\n",
    "**Q1** Repeat the analysis from the lecture notes for one of the other columns/questions.\n",
    "\n",
    "1. Percent total\n",
    "2. Percent from GB\n",
    "3. Percent from US\n",
    "\n",
    "Talk about the conditional probability in this case:\n",
    "\n",
    "eg. In a person is from ________ then there is a ________ probability that they believe _______. If a person answered _______ then they are more likley to be from ________. "
   ]
  },
  {
   "cell_type": "code",
   "execution_count": 438,
   "id": "86345f32-eb4f-41a2-b968-87ab76bc4d1b",
   "metadata": {},
   "outputs": [
    {
     "data": {
      "text/html": [
       "<div>\n",
       "<style scoped>\n",
       "    .dataframe tbody tr th:only-of-type {\n",
       "        vertical-align: middle;\n",
       "    }\n",
       "\n",
       "    .dataframe tbody tr th {\n",
       "        vertical-align: top;\n",
       "    }\n",
       "\n",
       "    .dataframe thead th {\n",
       "        text-align: right;\n",
       "    }\n",
       "</style>\n",
       "<table border=\"1\" class=\"dataframe\">\n",
       "  <thead>\n",
       "    <tr style=\"text-align: right;\">\n",
       "      <th></th>\n",
       "      <th>The climate is changing and human activity is mainly responsible</th>\n",
       "      <th>The climate is changing and human activity is partly responsible, together with other factors</th>\n",
       "      <th>The climate is changing but human activity is not responsible at all</th>\n",
       "      <th>The climate is not changing</th>\n",
       "      <th>Don't know</th>\n",
       "      <th>total</th>\n",
       "    </tr>\n",
       "    <tr>\n",
       "      <th>country</th>\n",
       "      <th></th>\n",
       "      <th></th>\n",
       "      <th></th>\n",
       "      <th></th>\n",
       "      <th></th>\n",
       "      <th></th>\n",
       "    </tr>\n",
       "  </thead>\n",
       "  <tbody>\n",
       "    <tr>\n",
       "      <th>GB</th>\n",
       "      <td>833</td>\n",
       "      <td>604</td>\n",
       "      <td>49</td>\n",
       "      <td>33</td>\n",
       "      <td>114</td>\n",
       "      <td>1633</td>\n",
       "    </tr>\n",
       "    <tr>\n",
       "      <th>US</th>\n",
       "      <td>507</td>\n",
       "      <td>493</td>\n",
       "      <td>120</td>\n",
       "      <td>80</td>\n",
       "      <td>133</td>\n",
       "      <td>1333</td>\n",
       "    </tr>\n",
       "    <tr>\n",
       "      <th>total</th>\n",
       "      <td>1340</td>\n",
       "      <td>1097</td>\n",
       "      <td>169</td>\n",
       "      <td>113</td>\n",
       "      <td>247</td>\n",
       "      <td>2966</td>\n",
       "    </tr>\n",
       "  </tbody>\n",
       "</table>\n",
       "</div>"
      ],
      "text/plain": [
       "         The climate is changing and human activity is mainly responsible    \\\n",
       "country                                                                       \n",
       "GB                                                     833                    \n",
       "US                                                     507                    \n",
       "total                                                 1340                    \n",
       "\n",
       "         The climate is changing and human activity is partly responsible, together with other factors    \\\n",
       "country                                                                                                    \n",
       "GB                                                     604                                                 \n",
       "US                                                     493                                                 \n",
       "total                                                 1097                                                 \n",
       "\n",
       "         The climate is changing but human activity is not responsible at all    \\\n",
       "country                                                                           \n",
       "GB                                                      49                        \n",
       "US                                                     120                        \n",
       "total                                                  169                        \n",
       "\n",
       "         The climate is not changing    Don't know  total  \n",
       "country                                                    \n",
       "GB                                  33         114   1633  \n",
       "US                                  80         133   1333  \n",
       "total                              113         247   2966  "
      ]
     },
     "execution_count": 438,
     "metadata": {},
     "output_type": "execute_result"
    }
   ],
   "source": [
    "DF.loc['total']= DF.sum(axis=0)\n",
    "DF['total'] = DF.sum(axis=1)\n",
    "DF"
   ]
  },
  {
   "cell_type": "code",
   "execution_count": 439,
   "id": "eefcd38d-520f-4dc4-bc0c-60892b740ed2",
   "metadata": {},
   "outputs": [
    {
     "data": {
      "text/plain": [
       "0.0900225056264066"
      ]
     },
     "execution_count": 439,
     "metadata": {},
     "output_type": "execute_result"
    }
   ],
   "source": [
    "us_respondants = DF['total'].loc['US']\n",
    "US_nothumans = DF['The climate is changing but human activity is not responsible at all  ']['US']\n",
    "US_nothumans/us_respondants"
   ]
  },
  {
   "cell_type": "code",
   "execution_count": 440,
   "id": "15f71dc9-54e0-4fff-975e-78b04a392be5",
   "metadata": {},
   "outputs": [
    {
     "data": {
      "text/plain": [
       "0.030006123698714023"
      ]
     },
     "execution_count": 440,
     "metadata": {},
     "output_type": "execute_result"
    }
   ],
   "source": [
    "gb_respondants = DF['total'].loc['GB']\n",
    "GB_nothumans = DF['The climate is changing but human activity is not responsible at all  ']['GB']\n",
    "GB_nothumans/gb_respondants"
   ]
  },
  {
   "cell_type": "markdown",
   "id": "1974df84-9d6f-4273-9894-146386bfc886",
   "metadata": {},
   "source": [
    "If a person is from the US then there is a 9% probability that they believe the climate is changing but humans are not responsible. If a person answered climate change is not caused by humans then they are more likley to be from the US."
   ]
  },
  {
   "cell_type": "markdown",
   "id": "249af7fa-4af0-4948-aa1c-6ac55a12b77d",
   "metadata": {},
   "source": [
    "## Berkeley admission data example\n",
    "\n",
    "- Study carried out by the Graduate Division of the University of California, Berkeley in the early 70’s to evaluate whether there was a gender bias in graduate admissions.\n",
    "- The data come from six departments. For confidentiality we'll call them A-F. \n",
    "- We have information on whether the applicant was male or female and whether they were admitted or rejected. This is an old study so only two binary classifications were used. \n",
    "\n",
    "### Here is the data\n"
   ]
  },
  {
   "cell_type": "code",
   "execution_count": 443,
   "id": "18c756ff-0c11-409c-b377-7f271627f33b",
   "metadata": {},
   "outputs": [
    {
     "data": {
      "text/html": [
       "<table id=\"itables_c353b379_45e7_4340_bac6_ec5bd3bafd6b\" class=\"display nowrap\" data-quarto-disable-processing=\"true\" style=\"table-layout:auto;width:auto;margin:auto;caption-side:bottom\">\n",
       "<thead>\n",
       "    <tr style=\"text-align: right;\">\n",
       "      \n",
       "      <th>Department</th>\n",
       "      <th>Male Yes</th>\n",
       "      <th>Male No</th>\n",
       "      <th>Female Yes</th>\n",
       "      <th>Female No</th>\n",
       "    </tr>\n",
       "  </thead><tbody><tr>\n",
       "<td style=\"vertical-align:middle; text-align:left\">\n",
       "<div style=\"float:left; margin-right: 10px;\">\n",
       "<a href=https://mwouts.github.io/itables/><svg class=\"main-svg\" xmlns=\"http://www.w3.org/2000/svg\" xmlns:xlink=\"http://www.w3.org/1999/xlink\"\n",
       "width=\"64\" viewBox=\"0 0 500 400\" style=\"font-family: 'Droid Sans', sans-serif;\">\n",
       "    <g style=\"fill:#d9d7fc\">\n",
       "        <path d=\"M100,400H500V357H100Z\" />\n",
       "        <path d=\"M100,300H400V257H100Z\" />\n",
       "        <path d=\"M0,200H400V157H0Z\" />\n",
       "        <path d=\"M100,100H500V57H100Z\" />\n",
       "        <path d=\"M100,350H500V307H100Z\" />\n",
       "        <path d=\"M100,250H400V207H100Z\" />\n",
       "        <path d=\"M0,150H400V107H0Z\" />\n",
       "        <path d=\"M100,50H500V7H100Z\" />\n",
       "    </g>\n",
       "    <g style=\"fill:#1a1366;stroke:#1a1366;\">\n",
       "   <rect x=\"100\" y=\"7\" width=\"400\" height=\"43\">\n",
       "    <animate\n",
       "      attributeName=\"width\"\n",
       "      values=\"0;400;0\"\n",
       "      dur=\"5s\"\n",
       "      repeatCount=\"indefinite\" />\n",
       "      <animate\n",
       "      attributeName=\"x\"\n",
       "      values=\"100;100;500\"\n",
       "      dur=\"5s\"\n",
       "      repeatCount=\"indefinite\" />\n",
       "  </rect>\n",
       "        <rect x=\"0\" y=\"107\" width=\"400\" height=\"43\">\n",
       "    <animate\n",
       "      attributeName=\"width\"\n",
       "      values=\"0;400;0\"\n",
       "      dur=\"3.5s\"\n",
       "      repeatCount=\"indefinite\" />\n",
       "    <animate\n",
       "      attributeName=\"x\"\n",
       "      values=\"0;0;400\"\n",
       "      dur=\"3.5s\"\n",
       "      repeatCount=\"indefinite\" />\n",
       "  </rect>\n",
       "        <rect x=\"100\" y=\"207\" width=\"300\" height=\"43\">\n",
       "    <animate\n",
       "      attributeName=\"width\"\n",
       "      values=\"0;300;0\"\n",
       "      dur=\"3s\"\n",
       "      repeatCount=\"indefinite\" />\n",
       "    <animate\n",
       "      attributeName=\"x\"\n",
       "      values=\"100;100;400\"\n",
       "      dur=\"3s\"\n",
       "      repeatCount=\"indefinite\" />\n",
       "  </rect>\n",
       "        <rect x=\"100\" y=\"307\" width=\"400\" height=\"43\">\n",
       "    <animate\n",
       "      attributeName=\"width\"\n",
       "      values=\"0;400;0\"\n",
       "      dur=\"4s\"\n",
       "      repeatCount=\"indefinite\" />\n",
       "      <animate\n",
       "      attributeName=\"x\"\n",
       "      values=\"100;100;500\"\n",
       "      dur=\"4s\"\n",
       "      repeatCount=\"indefinite\" />\n",
       "  </rect>\n",
       "        <g style=\"fill:transparent;stroke-width:8; stroke-linejoin:round\" rx=\"5\">\n",
       "            <g transform=\"translate(45 50) rotate(-45)\">\n",
       "                <circle r=\"33\" cx=\"0\" cy=\"0\" />\n",
       "                <rect x=\"-8\" y=\"32\" width=\"16\" height=\"30\" />\n",
       "            </g>\n",
       "\n",
       "            <g transform=\"translate(450 152)\">\n",
       "                <polyline points=\"-15,-20 -35,-20 -35,40 25,40 25,20\" />\n",
       "                <rect x=\"-15\" y=\"-40\" width=\"60\" height=\"60\" />\n",
       "            </g>\n",
       "\n",
       "            <g transform=\"translate(50 352)\">\n",
       "                <polygon points=\"-35,-5 0,-40 35,-5\" />\n",
       "                <polygon points=\"-35,10 0,45 35,10\" />\n",
       "            </g>\n",
       "\n",
       "            <g transform=\"translate(75 250)\">\n",
       "                <polyline points=\"-30,30 -60,0 -30,-30\" />\n",
       "                <polyline points=\"0,30 -30,0 0,-30\" />\n",
       "            </g>\n",
       "\n",
       "            <g transform=\"translate(425 250) rotate(180)\">\n",
       "                <polyline points=\"-30,30 -60,0 -30,-30\" />\n",
       "                <polyline points=\"0,30 -30,0 0,-30\" />\n",
       "            </g>\n",
       "        </g>\n",
       "    </g>\n",
       "</svg>\n",
       "</a>\n",
       "</div>\n",
       "<div>\n",
       "Loading ITables v2.1.4 from the internet...\n",
       "(need <a href=https://mwouts.github.io/itables/troubleshooting.html>help</a>?)</td>\n",
       "</div>\n",
       "</tr></tbody>\n",
       "\n",
       "</table>\n",
       "<link href=\"https://www.unpkg.com/dt_for_itables@2.0.11/dt_bundle.css\" rel=\"stylesheet\">\n",
       "<script type=\"module\">\n",
       "    import {DataTable, jQuery as $} from 'https://www.unpkg.com/dt_for_itables@2.0.11/dt_bundle.js';\n",
       "\n",
       "    document.querySelectorAll(\"#itables_c353b379_45e7_4340_bac6_ec5bd3bafd6b:not(.dataTable)\").forEach(table => {\n",
       "        // Define the table data\n",
       "        const data = [[\"A\", 512, 313, 89, 19], [\"B\", 353, 207, 17, 8], [\"C\", 120, 205, 202, 391], [\"D\", 138, 279, 131, 244], [\"E\", 53, 138, 94, 299], [\"F\", 22, 351, 24, 317]];\n",
       "\n",
       "        // Define the dt_args\n",
       "        let dt_args = {\"layout\": {\"topStart\": null, \"topEnd\": null, \"bottomStart\": null, \"bottomEnd\": null}, \"order\": []};\n",
       "        dt_args[\"data\"] = data;\n",
       "\n",
       "        \n",
       "        new DataTable(table, dt_args);\n",
       "    });\n",
       "</script>\n"
      ],
      "text/plain": [
       "<IPython.core.display.HTML object>"
      ]
     },
     "metadata": {},
     "output_type": "display_data"
    }
   ],
   "source": [
    "file_name = 'data/berkley.csv'\n",
    "DF = pd.read_csv(file_name)\n",
    "show(DF)"
   ]
  },
  {
   "cell_type": "code",
   "execution_count": 444,
   "id": "2946022d-d2f3-45fb-9426-fbde15d6427d",
   "metadata": {},
   "outputs": [
    {
     "data": {
      "text/html": [
       "<div>\n",
       "<style scoped>\n",
       "    .dataframe tbody tr th:only-of-type {\n",
       "        vertical-align: middle;\n",
       "    }\n",
       "\n",
       "    .dataframe tbody tr th {\n",
       "        vertical-align: top;\n",
       "    }\n",
       "\n",
       "    .dataframe thead th {\n",
       "        text-align: right;\n",
       "    }\n",
       "</style>\n",
       "<table border=\"1\" class=\"dataframe\">\n",
       "  <thead>\n",
       "    <tr style=\"text-align: right;\">\n",
       "      <th></th>\n",
       "      <th>Department</th>\n",
       "      <th>MF</th>\n",
       "      <th>Number</th>\n",
       "    </tr>\n",
       "  </thead>\n",
       "  <tbody>\n",
       "    <tr>\n",
       "      <th>0</th>\n",
       "      <td>A</td>\n",
       "      <td>Male Yes</td>\n",
       "      <td>512</td>\n",
       "    </tr>\n",
       "    <tr>\n",
       "      <th>1</th>\n",
       "      <td>B</td>\n",
       "      <td>Male Yes</td>\n",
       "      <td>353</td>\n",
       "    </tr>\n",
       "    <tr>\n",
       "      <th>2</th>\n",
       "      <td>C</td>\n",
       "      <td>Male Yes</td>\n",
       "      <td>120</td>\n",
       "    </tr>\n",
       "    <tr>\n",
       "      <th>3</th>\n",
       "      <td>D</td>\n",
       "      <td>Male Yes</td>\n",
       "      <td>138</td>\n",
       "    </tr>\n",
       "    <tr>\n",
       "      <th>4</th>\n",
       "      <td>E</td>\n",
       "      <td>Male Yes</td>\n",
       "      <td>53</td>\n",
       "    </tr>\n",
       "    <tr>\n",
       "      <th>5</th>\n",
       "      <td>F</td>\n",
       "      <td>Male Yes</td>\n",
       "      <td>22</td>\n",
       "    </tr>\n",
       "    <tr>\n",
       "      <th>6</th>\n",
       "      <td>A</td>\n",
       "      <td>Male No</td>\n",
       "      <td>313</td>\n",
       "    </tr>\n",
       "    <tr>\n",
       "      <th>7</th>\n",
       "      <td>B</td>\n",
       "      <td>Male No</td>\n",
       "      <td>207</td>\n",
       "    </tr>\n",
       "    <tr>\n",
       "      <th>8</th>\n",
       "      <td>C</td>\n",
       "      <td>Male No</td>\n",
       "      <td>205</td>\n",
       "    </tr>\n",
       "    <tr>\n",
       "      <th>9</th>\n",
       "      <td>D</td>\n",
       "      <td>Male No</td>\n",
       "      <td>279</td>\n",
       "    </tr>\n",
       "    <tr>\n",
       "      <th>10</th>\n",
       "      <td>E</td>\n",
       "      <td>Male No</td>\n",
       "      <td>138</td>\n",
       "    </tr>\n",
       "    <tr>\n",
       "      <th>11</th>\n",
       "      <td>F</td>\n",
       "      <td>Male No</td>\n",
       "      <td>351</td>\n",
       "    </tr>\n",
       "    <tr>\n",
       "      <th>12</th>\n",
       "      <td>A</td>\n",
       "      <td>Female Yes</td>\n",
       "      <td>89</td>\n",
       "    </tr>\n",
       "    <tr>\n",
       "      <th>13</th>\n",
       "      <td>B</td>\n",
       "      <td>Female Yes</td>\n",
       "      <td>17</td>\n",
       "    </tr>\n",
       "    <tr>\n",
       "      <th>14</th>\n",
       "      <td>C</td>\n",
       "      <td>Female Yes</td>\n",
       "      <td>202</td>\n",
       "    </tr>\n",
       "    <tr>\n",
       "      <th>15</th>\n",
       "      <td>D</td>\n",
       "      <td>Female Yes</td>\n",
       "      <td>131</td>\n",
       "    </tr>\n",
       "    <tr>\n",
       "      <th>16</th>\n",
       "      <td>E</td>\n",
       "      <td>Female Yes</td>\n",
       "      <td>94</td>\n",
       "    </tr>\n",
       "    <tr>\n",
       "      <th>17</th>\n",
       "      <td>F</td>\n",
       "      <td>Female Yes</td>\n",
       "      <td>24</td>\n",
       "    </tr>\n",
       "    <tr>\n",
       "      <th>18</th>\n",
       "      <td>A</td>\n",
       "      <td>Female No</td>\n",
       "      <td>19</td>\n",
       "    </tr>\n",
       "    <tr>\n",
       "      <th>19</th>\n",
       "      <td>B</td>\n",
       "      <td>Female No</td>\n",
       "      <td>8</td>\n",
       "    </tr>\n",
       "    <tr>\n",
       "      <th>20</th>\n",
       "      <td>C</td>\n",
       "      <td>Female No</td>\n",
       "      <td>391</td>\n",
       "    </tr>\n",
       "    <tr>\n",
       "      <th>21</th>\n",
       "      <td>D</td>\n",
       "      <td>Female No</td>\n",
       "      <td>244</td>\n",
       "    </tr>\n",
       "    <tr>\n",
       "      <th>22</th>\n",
       "      <td>E</td>\n",
       "      <td>Female No</td>\n",
       "      <td>299</td>\n",
       "    </tr>\n",
       "    <tr>\n",
       "      <th>23</th>\n",
       "      <td>F</td>\n",
       "      <td>Female No</td>\n",
       "      <td>317</td>\n",
       "    </tr>\n",
       "  </tbody>\n",
       "</table>\n",
       "</div>"
      ],
      "text/plain": [
       "   Department          MF  Number\n",
       "0           A    Male Yes     512\n",
       "1           B    Male Yes     353\n",
       "2           C    Male Yes     120\n",
       "3           D    Male Yes     138\n",
       "4           E    Male Yes      53\n",
       "5           F    Male Yes      22\n",
       "6           A     Male No     313\n",
       "7           B     Male No     207\n",
       "8           C     Male No     205\n",
       "9           D     Male No     279\n",
       "10          E     Male No     138\n",
       "11          F     Male No     351\n",
       "12          A  Female Yes      89\n",
       "13          B  Female Yes      17\n",
       "14          C  Female Yes     202\n",
       "15          D  Female Yes     131\n",
       "16          E  Female Yes      94\n",
       "17          F  Female Yes      24\n",
       "18          A   Female No      19\n",
       "19          B   Female No       8\n",
       "20          C   Female No     391\n",
       "21          D   Female No     244\n",
       "22          E   Female No     299\n",
       "23          F   Female No     317"
      ]
     },
     "execution_count": 444,
     "metadata": {},
     "output_type": "execute_result"
    }
   ],
   "source": [
    "DF_melt = pd.melt(DF,id_vars=['Department'],var_name='MF',value_name='Number')\n",
    "DF_melt"
   ]
  },
  {
   "cell_type": "code",
   "execution_count": 445,
   "id": "5d861ae5-ede6-4cfa-8a13-4b27e3de2b8e",
   "metadata": {},
   "outputs": [],
   "source": [
    "DF_melt['gender'] = DF_melt['MF'].apply(lambda x: x.split(' ')[0]).copy()\n",
    "DF_melt['admitted'] = DF_melt['MF'].apply(lambda x: x.split(' ')[1]).copy()"
   ]
  },
  {
   "cell_type": "code",
   "execution_count": 446,
   "id": "632666dc-2519-4a29-8f2e-d84bfb94ab1e",
   "metadata": {},
   "outputs": [
    {
     "data": {
      "text/html": [
       "<div>\n",
       "<style scoped>\n",
       "    .dataframe tbody tr th:only-of-type {\n",
       "        vertical-align: middle;\n",
       "    }\n",
       "\n",
       "    .dataframe tbody tr th {\n",
       "        vertical-align: top;\n",
       "    }\n",
       "\n",
       "    .dataframe thead th {\n",
       "        text-align: right;\n",
       "    }\n",
       "</style>\n",
       "<table border=\"1\" class=\"dataframe\">\n",
       "  <thead>\n",
       "    <tr style=\"text-align: right;\">\n",
       "      <th></th>\n",
       "      <th>Department</th>\n",
       "      <th>MF</th>\n",
       "      <th>Number</th>\n",
       "      <th>gender</th>\n",
       "      <th>admitted</th>\n",
       "    </tr>\n",
       "  </thead>\n",
       "  <tbody>\n",
       "    <tr>\n",
       "      <th>0</th>\n",
       "      <td>A</td>\n",
       "      <td>Male Yes</td>\n",
       "      <td>512</td>\n",
       "      <td>Male</td>\n",
       "      <td>Yes</td>\n",
       "    </tr>\n",
       "    <tr>\n",
       "      <th>1</th>\n",
       "      <td>B</td>\n",
       "      <td>Male Yes</td>\n",
       "      <td>353</td>\n",
       "      <td>Male</td>\n",
       "      <td>Yes</td>\n",
       "    </tr>\n",
       "    <tr>\n",
       "      <th>2</th>\n",
       "      <td>C</td>\n",
       "      <td>Male Yes</td>\n",
       "      <td>120</td>\n",
       "      <td>Male</td>\n",
       "      <td>Yes</td>\n",
       "    </tr>\n",
       "    <tr>\n",
       "      <th>3</th>\n",
       "      <td>D</td>\n",
       "      <td>Male Yes</td>\n",
       "      <td>138</td>\n",
       "      <td>Male</td>\n",
       "      <td>Yes</td>\n",
       "    </tr>\n",
       "    <tr>\n",
       "      <th>4</th>\n",
       "      <td>E</td>\n",
       "      <td>Male Yes</td>\n",
       "      <td>53</td>\n",
       "      <td>Male</td>\n",
       "      <td>Yes</td>\n",
       "    </tr>\n",
       "    <tr>\n",
       "      <th>5</th>\n",
       "      <td>F</td>\n",
       "      <td>Male Yes</td>\n",
       "      <td>22</td>\n",
       "      <td>Male</td>\n",
       "      <td>Yes</td>\n",
       "    </tr>\n",
       "    <tr>\n",
       "      <th>6</th>\n",
       "      <td>A</td>\n",
       "      <td>Male No</td>\n",
       "      <td>313</td>\n",
       "      <td>Male</td>\n",
       "      <td>No</td>\n",
       "    </tr>\n",
       "    <tr>\n",
       "      <th>7</th>\n",
       "      <td>B</td>\n",
       "      <td>Male No</td>\n",
       "      <td>207</td>\n",
       "      <td>Male</td>\n",
       "      <td>No</td>\n",
       "    </tr>\n",
       "    <tr>\n",
       "      <th>8</th>\n",
       "      <td>C</td>\n",
       "      <td>Male No</td>\n",
       "      <td>205</td>\n",
       "      <td>Male</td>\n",
       "      <td>No</td>\n",
       "    </tr>\n",
       "    <tr>\n",
       "      <th>9</th>\n",
       "      <td>D</td>\n",
       "      <td>Male No</td>\n",
       "      <td>279</td>\n",
       "      <td>Male</td>\n",
       "      <td>No</td>\n",
       "    </tr>\n",
       "    <tr>\n",
       "      <th>10</th>\n",
       "      <td>E</td>\n",
       "      <td>Male No</td>\n",
       "      <td>138</td>\n",
       "      <td>Male</td>\n",
       "      <td>No</td>\n",
       "    </tr>\n",
       "    <tr>\n",
       "      <th>11</th>\n",
       "      <td>F</td>\n",
       "      <td>Male No</td>\n",
       "      <td>351</td>\n",
       "      <td>Male</td>\n",
       "      <td>No</td>\n",
       "    </tr>\n",
       "    <tr>\n",
       "      <th>12</th>\n",
       "      <td>A</td>\n",
       "      <td>Female Yes</td>\n",
       "      <td>89</td>\n",
       "      <td>Female</td>\n",
       "      <td>Yes</td>\n",
       "    </tr>\n",
       "    <tr>\n",
       "      <th>13</th>\n",
       "      <td>B</td>\n",
       "      <td>Female Yes</td>\n",
       "      <td>17</td>\n",
       "      <td>Female</td>\n",
       "      <td>Yes</td>\n",
       "    </tr>\n",
       "    <tr>\n",
       "      <th>14</th>\n",
       "      <td>C</td>\n",
       "      <td>Female Yes</td>\n",
       "      <td>202</td>\n",
       "      <td>Female</td>\n",
       "      <td>Yes</td>\n",
       "    </tr>\n",
       "    <tr>\n",
       "      <th>15</th>\n",
       "      <td>D</td>\n",
       "      <td>Female Yes</td>\n",
       "      <td>131</td>\n",
       "      <td>Female</td>\n",
       "      <td>Yes</td>\n",
       "    </tr>\n",
       "    <tr>\n",
       "      <th>16</th>\n",
       "      <td>E</td>\n",
       "      <td>Female Yes</td>\n",
       "      <td>94</td>\n",
       "      <td>Female</td>\n",
       "      <td>Yes</td>\n",
       "    </tr>\n",
       "    <tr>\n",
       "      <th>17</th>\n",
       "      <td>F</td>\n",
       "      <td>Female Yes</td>\n",
       "      <td>24</td>\n",
       "      <td>Female</td>\n",
       "      <td>Yes</td>\n",
       "    </tr>\n",
       "    <tr>\n",
       "      <th>18</th>\n",
       "      <td>A</td>\n",
       "      <td>Female No</td>\n",
       "      <td>19</td>\n",
       "      <td>Female</td>\n",
       "      <td>No</td>\n",
       "    </tr>\n",
       "    <tr>\n",
       "      <th>19</th>\n",
       "      <td>B</td>\n",
       "      <td>Female No</td>\n",
       "      <td>8</td>\n",
       "      <td>Female</td>\n",
       "      <td>No</td>\n",
       "    </tr>\n",
       "    <tr>\n",
       "      <th>20</th>\n",
       "      <td>C</td>\n",
       "      <td>Female No</td>\n",
       "      <td>391</td>\n",
       "      <td>Female</td>\n",
       "      <td>No</td>\n",
       "    </tr>\n",
       "    <tr>\n",
       "      <th>21</th>\n",
       "      <td>D</td>\n",
       "      <td>Female No</td>\n",
       "      <td>244</td>\n",
       "      <td>Female</td>\n",
       "      <td>No</td>\n",
       "    </tr>\n",
       "    <tr>\n",
       "      <th>22</th>\n",
       "      <td>E</td>\n",
       "      <td>Female No</td>\n",
       "      <td>299</td>\n",
       "      <td>Female</td>\n",
       "      <td>No</td>\n",
       "    </tr>\n",
       "    <tr>\n",
       "      <th>23</th>\n",
       "      <td>F</td>\n",
       "      <td>Female No</td>\n",
       "      <td>317</td>\n",
       "      <td>Female</td>\n",
       "      <td>No</td>\n",
       "    </tr>\n",
       "  </tbody>\n",
       "</table>\n",
       "</div>"
      ],
      "text/plain": [
       "   Department          MF  Number  gender admitted\n",
       "0           A    Male Yes     512    Male      Yes\n",
       "1           B    Male Yes     353    Male      Yes\n",
       "2           C    Male Yes     120    Male      Yes\n",
       "3           D    Male Yes     138    Male      Yes\n",
       "4           E    Male Yes      53    Male      Yes\n",
       "5           F    Male Yes      22    Male      Yes\n",
       "6           A     Male No     313    Male       No\n",
       "7           B     Male No     207    Male       No\n",
       "8           C     Male No     205    Male       No\n",
       "9           D     Male No     279    Male       No\n",
       "10          E     Male No     138    Male       No\n",
       "11          F     Male No     351    Male       No\n",
       "12          A  Female Yes      89  Female      Yes\n",
       "13          B  Female Yes      17  Female      Yes\n",
       "14          C  Female Yes     202  Female      Yes\n",
       "15          D  Female Yes     131  Female      Yes\n",
       "16          E  Female Yes      94  Female      Yes\n",
       "17          F  Female Yes      24  Female      Yes\n",
       "18          A   Female No      19  Female       No\n",
       "19          B   Female No       8  Female       No\n",
       "20          C   Female No     391  Female       No\n",
       "21          D   Female No     244  Female       No\n",
       "22          E   Female No     299  Female       No\n",
       "23          F   Female No     317  Female       No"
      ]
     },
     "execution_count": 446,
     "metadata": {},
     "output_type": "execute_result"
    }
   ],
   "source": [
    "DF_melt"
   ]
  },
  {
   "cell_type": "markdown",
   "id": "432131a7-8956-4a5f-adee-ca0c59c0ff64",
   "metadata": {},
   "source": [
    "### Gender distribution by department\n",
    "\n",
    "What can we say about the gender distribution if we look at the individual departments.\n",
    "\n",
    "Start with our original \"melted\" data frame:"
   ]
  },
  {
   "cell_type": "markdown",
   "id": "022204a9-b9e4-4cc3-984f-d821c69b432b",
   "metadata": {},
   "source": [
    "#### Lets pivot!\n",
    "\n",
    "Pivot this data so that our departments become the column labels and our MF column becomes the index."
   ]
  },
  {
   "cell_type": "code",
   "execution_count": 449,
   "id": "af17b1d9-39d9-4fa7-9f03-619e4cca6639",
   "metadata": {},
   "outputs": [
    {
     "data": {
      "text/html": [
       "<div>\n",
       "<style scoped>\n",
       "    .dataframe tbody tr th:only-of-type {\n",
       "        vertical-align: middle;\n",
       "    }\n",
       "\n",
       "    .dataframe tbody tr th {\n",
       "        vertical-align: top;\n",
       "    }\n",
       "\n",
       "    .dataframe thead th {\n",
       "        text-align: right;\n",
       "    }\n",
       "</style>\n",
       "<table border=\"1\" class=\"dataframe\">\n",
       "  <thead>\n",
       "    <tr style=\"text-align: right;\">\n",
       "      <th>Department</th>\n",
       "      <th>A</th>\n",
       "      <th>B</th>\n",
       "      <th>C</th>\n",
       "      <th>D</th>\n",
       "      <th>E</th>\n",
       "      <th>F</th>\n",
       "    </tr>\n",
       "    <tr>\n",
       "      <th>MF</th>\n",
       "      <th></th>\n",
       "      <th></th>\n",
       "      <th></th>\n",
       "      <th></th>\n",
       "      <th></th>\n",
       "      <th></th>\n",
       "    </tr>\n",
       "  </thead>\n",
       "  <tbody>\n",
       "    <tr>\n",
       "      <th>Female No</th>\n",
       "      <td>19</td>\n",
       "      <td>8</td>\n",
       "      <td>391</td>\n",
       "      <td>244</td>\n",
       "      <td>299</td>\n",
       "      <td>317</td>\n",
       "    </tr>\n",
       "    <tr>\n",
       "      <th>Female Yes</th>\n",
       "      <td>89</td>\n",
       "      <td>17</td>\n",
       "      <td>202</td>\n",
       "      <td>131</td>\n",
       "      <td>94</td>\n",
       "      <td>24</td>\n",
       "    </tr>\n",
       "    <tr>\n",
       "      <th>Male No</th>\n",
       "      <td>313</td>\n",
       "      <td>207</td>\n",
       "      <td>205</td>\n",
       "      <td>279</td>\n",
       "      <td>138</td>\n",
       "      <td>351</td>\n",
       "    </tr>\n",
       "    <tr>\n",
       "      <th>Male Yes</th>\n",
       "      <td>512</td>\n",
       "      <td>353</td>\n",
       "      <td>120</td>\n",
       "      <td>138</td>\n",
       "      <td>53</td>\n",
       "      <td>22</td>\n",
       "    </tr>\n",
       "  </tbody>\n",
       "</table>\n",
       "</div>"
      ],
      "text/plain": [
       "Department    A    B    C    D    E    F\n",
       "MF                                      \n",
       "Female No    19    8  391  244  299  317\n",
       "Female Yes   89   17  202  131   94   24\n",
       "Male No     313  207  205  279  138  351\n",
       "Male Yes    512  353  120  138   53   22"
      ]
     },
     "execution_count": 449,
     "metadata": {},
     "output_type": "execute_result"
    }
   ],
   "source": [
    "DF_dept = DF_melt.pivot(index='MF',columns='Department',values='Number')\n",
    "DF_dept"
   ]
  },
  {
   "cell_type": "markdown",
   "id": "6f3a4052-70cb-45e1-9175-559660d97a6d",
   "metadata": {},
   "source": [
    "**Q2** Calculate the proportions for the other departments. We did department A in the lecture. You can use the code from the lecture or come up with your own way to do this. You can do this one by one or try using a FOR loop.\n",
    "\n",
    "Talk about what you see in these proportions. Which departments admit a large number of women? How do your number align with the visualization below?"
   ]
  },
  {
   "cell_type": "code",
   "execution_count": 451,
   "id": "0e45185f-febe-4dc8-9d2a-392cb154218d",
   "metadata": {},
   "outputs": [],
   "source": [
    "prob_femaleB = DF_dept['B']['Female Yes']/(DF_dept['B']['Female Yes']+DF_dept['B']['Female No'])\n",
    "prob_maleB = DF_dept['B']['Male Yes']/(DF_dept['B']['Male Yes']+DF_dept['B']['Male No'])"
   ]
  },
  {
   "cell_type": "code",
   "execution_count": 452,
   "id": "1d1ccaae-91ef-493a-9e0e-f84d9b0b03e2",
   "metadata": {},
   "outputs": [
    {
     "data": {
      "text/plain": [
       "0.6303571428571428"
      ]
     },
     "execution_count": 452,
     "metadata": {},
     "output_type": "execute_result"
    }
   ],
   "source": [
    "prob_maleB"
   ]
  },
  {
   "cell_type": "code",
   "execution_count": 453,
   "id": "a49883e4-0a09-4804-94ff-41a8cc4c08c7",
   "metadata": {},
   "outputs": [
    {
     "data": {
      "text/plain": [
       "0.68"
      ]
     },
     "execution_count": 453,
     "metadata": {},
     "output_type": "execute_result"
    }
   ],
   "source": [
    "prob_femaleB"
   ]
  },
  {
   "cell_type": "code",
   "execution_count": 454,
   "id": "89d23c2e-7762-41cb-a232-805053074f7d",
   "metadata": {},
   "outputs": [],
   "source": [
    "prob_femaleC = DF_dept['C']['Female Yes']/(DF_dept['C']['Female Yes']+DF_dept['C']['Female No'])\n",
    "prob_maleC = DF_dept['C']['Male Yes']/(DF_dept['C']['Male Yes']+DF_dept['C']['Male No'])"
   ]
  },
  {
   "cell_type": "code",
   "execution_count": 455,
   "id": "7b384421-2379-4959-8425-f0ade6b46852",
   "metadata": {},
   "outputs": [
    {
     "data": {
      "text/plain": [
       "0.3406408094435076"
      ]
     },
     "execution_count": 455,
     "metadata": {},
     "output_type": "execute_result"
    }
   ],
   "source": [
    "prob_femaleC"
   ]
  },
  {
   "cell_type": "code",
   "execution_count": 456,
   "id": "108525df-308b-43e1-9b2d-dab02292633b",
   "metadata": {},
   "outputs": [
    {
     "data": {
      "text/plain": [
       "0.36923076923076925"
      ]
     },
     "execution_count": 456,
     "metadata": {},
     "output_type": "execute_result"
    }
   ],
   "source": [
    "prob_maleC"
   ]
  },
  {
   "cell_type": "code",
   "execution_count": 457,
   "id": "dfb81d4b-9166-4056-813c-f3e139e438ce",
   "metadata": {},
   "outputs": [],
   "source": [
    "prob_femaleD = DF_dept['D']['Female Yes']/(DF_dept['D']['Female Yes']+DF_dept['D']['Female No'])\n",
    "prob_maleD = DF_dept['D']['Male Yes']/(DF_dept['D']['Male Yes']+DF_dept['D']['Male No'])"
   ]
  },
  {
   "cell_type": "code",
   "execution_count": 458,
   "id": "05b0072b-e6a0-4308-860a-36149d3ee41a",
   "metadata": {},
   "outputs": [
    {
     "data": {
      "text/plain": [
       "0.34933333333333333"
      ]
     },
     "execution_count": 458,
     "metadata": {},
     "output_type": "execute_result"
    }
   ],
   "source": [
    "prob_femaleD"
   ]
  },
  {
   "cell_type": "code",
   "execution_count": 459,
   "id": "4cf97006-a8ed-4901-9017-90ad9df54027",
   "metadata": {},
   "outputs": [
    {
     "data": {
      "text/plain": [
       "0.33093525179856115"
      ]
     },
     "execution_count": 459,
     "metadata": {},
     "output_type": "execute_result"
    }
   ],
   "source": [
    "prob_maleD"
   ]
  },
  {
   "cell_type": "code",
   "execution_count": 460,
   "id": "b7dbaecb-985e-4ec8-8485-c9cd6266a762",
   "metadata": {},
   "outputs": [],
   "source": [
    "prob_femaleE = DF_dept['E']['Female Yes']/(DF_dept['E']['Female Yes']+DF_dept['E']['Female No'])\n",
    "prob_maleE = DF_dept['E']['Male Yes']/(DF_dept['E']['Male Yes']+DF_dept['E']['Male No'])"
   ]
  },
  {
   "cell_type": "code",
   "execution_count": 461,
   "id": "e3c27e80-c826-4f57-b791-61e0ceaebfe4",
   "metadata": {},
   "outputs": [
    {
     "data": {
      "text/plain": [
       "0.23918575063613232"
      ]
     },
     "execution_count": 461,
     "metadata": {},
     "output_type": "execute_result"
    }
   ],
   "source": [
    "prob_femaleE"
   ]
  },
  {
   "cell_type": "code",
   "execution_count": 462,
   "id": "76d184ee-ddc2-4432-a99a-de0f7e1ca47e",
   "metadata": {},
   "outputs": [
    {
     "data": {
      "text/plain": [
       "0.2774869109947644"
      ]
     },
     "execution_count": 462,
     "metadata": {},
     "output_type": "execute_result"
    }
   ],
   "source": [
    "prob_maleE"
   ]
  },
  {
   "cell_type": "code",
   "execution_count": 463,
   "id": "8747807f-8952-446b-910e-880d081da762",
   "metadata": {},
   "outputs": [],
   "source": [
    "prob_femaleF = DF_dept['F']['Female Yes']/(DF_dept['F']['Female Yes']+DF_dept['F']['Female No'])\n",
    "prob_maleF = DF_dept['F']['Male Yes']/(DF_dept['F']['Male Yes']+DF_dept['F']['Male No'])"
   ]
  },
  {
   "cell_type": "code",
   "execution_count": 464,
   "id": "85e6186d-6554-48e0-9f04-a3a0e8158bc6",
   "metadata": {},
   "outputs": [
    {
     "data": {
      "text/plain": [
       "0.07038123167155426"
      ]
     },
     "execution_count": 464,
     "metadata": {},
     "output_type": "execute_result"
    }
   ],
   "source": [
    "prob_femaleF"
   ]
  },
  {
   "cell_type": "code",
   "execution_count": 465,
   "id": "e4a96264-c20b-4b4e-b4e1-9a8b9bd848fb",
   "metadata": {},
   "outputs": [
    {
     "data": {
      "text/plain": [
       "0.058981233243967826"
      ]
     },
     "execution_count": 465,
     "metadata": {},
     "output_type": "execute_result"
    }
   ],
   "source": [
    "prob_maleF"
   ]
  },
  {
   "cell_type": "markdown",
   "id": "82b268a1-3373-4a68-92d0-ad1d3db52625",
   "metadata": {},
   "source": [
    "Department A and B admit a large number of women. The other departments admit less than 50% of women. These numbers match up with the histogram below, the other departments clearly admit less than half of the women."
   ]
  },
  {
   "cell_type": "markdown",
   "id": "1443020f-a431-4c9a-b5c7-7b47229b4614",
   "metadata": {},
   "source": [
    "### Here is a plot of the proportions data"
   ]
  },
  {
   "cell_type": "code",
   "execution_count": 468,
   "id": "fe801850-b1ab-4c10-b14a-5ddb8d1d6797",
   "metadata": {},
   "outputs": [
    {
     "data": {
      "application/vnd.plotly.v1+json": {
       "config": {
        "plotlyServerURL": "https://plot.ly"
       },
       "data": [
        {
         "alignmentgroup": "True",
         "bingroup": "y",
         "histfunc": "sum",
         "hovertemplate": "admitted=Yes<br>Department=A<br>sum of Number (normalized as percent)=%{x}<br>gender=%{y}<extra></extra>",
         "legendgroup": "Yes",
         "marker": {
          "color": "#2ca25f",
          "pattern": {
           "shape": ""
          }
         },
         "name": "Yes",
         "offsetgroup": "Yes",
         "orientation": "h",
         "showlegend": true,
         "type": "histogram",
         "x": [
          512,
          89
         ],
         "xaxis": "x5",
         "y": [
          "Male",
          "Female"
         ],
         "yaxis": "y5"
        },
        {
         "alignmentgroup": "True",
         "bingroup": "y",
         "histfunc": "sum",
         "hovertemplate": "admitted=Yes<br>Department=B<br>sum of Number (normalized as percent)=%{x}<br>gender=%{y}<extra></extra>",
         "legendgroup": "Yes",
         "marker": {
          "color": "#2ca25f",
          "pattern": {
           "shape": ""
          }
         },
         "name": "Yes",
         "offsetgroup": "Yes",
         "orientation": "h",
         "showlegend": false,
         "type": "histogram",
         "x": [
          353,
          17
         ],
         "xaxis": "x6",
         "y": [
          "Male",
          "Female"
         ],
         "yaxis": "y6"
        },
        {
         "alignmentgroup": "True",
         "bingroup": "y",
         "histfunc": "sum",
         "hovertemplate": "admitted=Yes<br>Department=C<br>sum of Number (normalized as percent)=%{x}<br>gender=%{y}<extra></extra>",
         "legendgroup": "Yes",
         "marker": {
          "color": "#2ca25f",
          "pattern": {
           "shape": ""
          }
         },
         "name": "Yes",
         "offsetgroup": "Yes",
         "orientation": "h",
         "showlegend": false,
         "type": "histogram",
         "x": [
          120,
          202
         ],
         "xaxis": "x3",
         "y": [
          "Male",
          "Female"
         ],
         "yaxis": "y3"
        },
        {
         "alignmentgroup": "True",
         "bingroup": "y",
         "histfunc": "sum",
         "hovertemplate": "admitted=Yes<br>Department=D<br>sum of Number (normalized as percent)=%{x}<br>gender=%{y}<extra></extra>",
         "legendgroup": "Yes",
         "marker": {
          "color": "#2ca25f",
          "pattern": {
           "shape": ""
          }
         },
         "name": "Yes",
         "offsetgroup": "Yes",
         "orientation": "h",
         "showlegend": false,
         "type": "histogram",
         "x": [
          138,
          131
         ],
         "xaxis": "x4",
         "y": [
          "Male",
          "Female"
         ],
         "yaxis": "y4"
        },
        {
         "alignmentgroup": "True",
         "bingroup": "y",
         "histfunc": "sum",
         "hovertemplate": "admitted=Yes<br>Department=E<br>sum of Number (normalized as percent)=%{x}<br>gender=%{y}<extra></extra>",
         "legendgroup": "Yes",
         "marker": {
          "color": "#2ca25f",
          "pattern": {
           "shape": ""
          }
         },
         "name": "Yes",
         "offsetgroup": "Yes",
         "orientation": "h",
         "showlegend": false,
         "type": "histogram",
         "x": [
          53,
          94
         ],
         "xaxis": "x",
         "y": [
          "Male",
          "Female"
         ],
         "yaxis": "y"
        },
        {
         "alignmentgroup": "True",
         "bingroup": "y",
         "histfunc": "sum",
         "hovertemplate": "admitted=Yes<br>Department=F<br>sum of Number (normalized as percent)=%{x}<br>gender=%{y}<extra></extra>",
         "legendgroup": "Yes",
         "marker": {
          "color": "#2ca25f",
          "pattern": {
           "shape": ""
          }
         },
         "name": "Yes",
         "offsetgroup": "Yes",
         "orientation": "h",
         "showlegend": false,
         "type": "histogram",
         "x": [
          22,
          24
         ],
         "xaxis": "x2",
         "y": [
          "Male",
          "Female"
         ],
         "yaxis": "y2"
        },
        {
         "alignmentgroup": "True",
         "bingroup": "y",
         "histfunc": "sum",
         "hovertemplate": "admitted=No<br>Department=A<br>sum of Number (normalized as percent)=%{x}<br>gender=%{y}<extra></extra>",
         "legendgroup": "No",
         "marker": {
          "color": "#99d8c9",
          "pattern": {
           "shape": ""
          }
         },
         "name": "No",
         "offsetgroup": "No",
         "orientation": "h",
         "showlegend": true,
         "type": "histogram",
         "x": [
          313,
          19
         ],
         "xaxis": "x5",
         "y": [
          "Male",
          "Female"
         ],
         "yaxis": "y5"
        },
        {
         "alignmentgroup": "True",
         "bingroup": "y",
         "histfunc": "sum",
         "hovertemplate": "admitted=No<br>Department=B<br>sum of Number (normalized as percent)=%{x}<br>gender=%{y}<extra></extra>",
         "legendgroup": "No",
         "marker": {
          "color": "#99d8c9",
          "pattern": {
           "shape": ""
          }
         },
         "name": "No",
         "offsetgroup": "No",
         "orientation": "h",
         "showlegend": false,
         "type": "histogram",
         "x": [
          207,
          8
         ],
         "xaxis": "x6",
         "y": [
          "Male",
          "Female"
         ],
         "yaxis": "y6"
        },
        {
         "alignmentgroup": "True",
         "bingroup": "y",
         "histfunc": "sum",
         "hovertemplate": "admitted=No<br>Department=C<br>sum of Number (normalized as percent)=%{x}<br>gender=%{y}<extra></extra>",
         "legendgroup": "No",
         "marker": {
          "color": "#99d8c9",
          "pattern": {
           "shape": ""
          }
         },
         "name": "No",
         "offsetgroup": "No",
         "orientation": "h",
         "showlegend": false,
         "type": "histogram",
         "x": [
          205,
          391
         ],
         "xaxis": "x3",
         "y": [
          "Male",
          "Female"
         ],
         "yaxis": "y3"
        },
        {
         "alignmentgroup": "True",
         "bingroup": "y",
         "histfunc": "sum",
         "hovertemplate": "admitted=No<br>Department=D<br>sum of Number (normalized as percent)=%{x}<br>gender=%{y}<extra></extra>",
         "legendgroup": "No",
         "marker": {
          "color": "#99d8c9",
          "pattern": {
           "shape": ""
          }
         },
         "name": "No",
         "offsetgroup": "No",
         "orientation": "h",
         "showlegend": false,
         "type": "histogram",
         "x": [
          279,
          244
         ],
         "xaxis": "x4",
         "y": [
          "Male",
          "Female"
         ],
         "yaxis": "y4"
        },
        {
         "alignmentgroup": "True",
         "bingroup": "y",
         "histfunc": "sum",
         "hovertemplate": "admitted=No<br>Department=E<br>sum of Number (normalized as percent)=%{x}<br>gender=%{y}<extra></extra>",
         "legendgroup": "No",
         "marker": {
          "color": "#99d8c9",
          "pattern": {
           "shape": ""
          }
         },
         "name": "No",
         "offsetgroup": "No",
         "orientation": "h",
         "showlegend": false,
         "type": "histogram",
         "x": [
          138,
          299
         ],
         "xaxis": "x",
         "y": [
          "Male",
          "Female"
         ],
         "yaxis": "y"
        },
        {
         "alignmentgroup": "True",
         "bingroup": "y",
         "histfunc": "sum",
         "hovertemplate": "admitted=No<br>Department=F<br>sum of Number (normalized as percent)=%{x}<br>gender=%{y}<extra></extra>",
         "legendgroup": "No",
         "marker": {
          "color": "#99d8c9",
          "pattern": {
           "shape": ""
          }
         },
         "name": "No",
         "offsetgroup": "No",
         "orientation": "h",
         "showlegend": false,
         "type": "histogram",
         "x": [
          351,
          317
         ],
         "xaxis": "x2",
         "y": [
          "Male",
          "Female"
         ],
         "yaxis": "y2"
        }
       ],
       "layout": {
        "annotations": [
         {
          "font": {},
          "showarrow": false,
          "text": "E",
          "x": 0.245,
          "xanchor": "center",
          "xref": "paper",
          "y": 0.2866666666666666,
          "yanchor": "bottom",
          "yref": "paper"
         },
         {
          "font": {},
          "showarrow": false,
          "text": "F",
          "x": 0.755,
          "xanchor": "center",
          "xref": "paper",
          "y": 0.2866666666666666,
          "yanchor": "bottom",
          "yref": "paper"
         },
         {
          "font": {},
          "showarrow": false,
          "text": "C",
          "x": 0.245,
          "xanchor": "center",
          "xref": "paper",
          "y": 0.6433333333333333,
          "yanchor": "bottom",
          "yref": "paper"
         },
         {
          "font": {},
          "showarrow": false,
          "text": "D",
          "x": 0.755,
          "xanchor": "center",
          "xref": "paper",
          "y": 0.6433333333333333,
          "yanchor": "bottom",
          "yref": "paper"
         },
         {
          "font": {},
          "showarrow": false,
          "text": "A",
          "x": 0.245,
          "xanchor": "center",
          "xref": "paper",
          "y": 0.9999999999999999,
          "yanchor": "bottom",
          "yref": "paper"
         },
         {
          "font": {},
          "showarrow": false,
          "text": "B",
          "x": 0.755,
          "xanchor": "center",
          "xref": "paper",
          "y": 0.9999999999999999,
          "yanchor": "bottom",
          "yref": "paper"
         }
        ],
        "autosize": false,
        "barmode": "relative",
        "barnorm": "percent",
        "height": 500,
        "legend": {
         "title": {
          "text": "Admitted"
         },
         "tracegroupgap": 0
        },
        "margin": {
         "t": 60
        },
        "template": {
         "data": {
          "bar": [
           {
            "error_x": {
             "color": "#2a3f5f"
            },
            "error_y": {
             "color": "#2a3f5f"
            },
            "marker": {
             "line": {
              "color": "white",
              "width": 0.5
             },
             "pattern": {
              "fillmode": "overlay",
              "size": 10,
              "solidity": 0.2
             }
            },
            "type": "bar"
           }
          ],
          "barpolar": [
           {
            "marker": {
             "line": {
              "color": "white",
              "width": 0.5
             },
             "pattern": {
              "fillmode": "overlay",
              "size": 10,
              "solidity": 0.2
             }
            },
            "type": "barpolar"
           }
          ],
          "carpet": [
           {
            "aaxis": {
             "endlinecolor": "#2a3f5f",
             "gridcolor": "#C8D4E3",
             "linecolor": "#C8D4E3",
             "minorgridcolor": "#C8D4E3",
             "startlinecolor": "#2a3f5f"
            },
            "baxis": {
             "endlinecolor": "#2a3f5f",
             "gridcolor": "#C8D4E3",
             "linecolor": "#C8D4E3",
             "minorgridcolor": "#C8D4E3",
             "startlinecolor": "#2a3f5f"
            },
            "type": "carpet"
           }
          ],
          "choropleth": [
           {
            "colorbar": {
             "outlinewidth": 0,
             "ticks": ""
            },
            "type": "choropleth"
           }
          ],
          "contour": [
           {
            "colorbar": {
             "outlinewidth": 0,
             "ticks": ""
            },
            "colorscale": [
             [
              0,
              "#0d0887"
             ],
             [
              0.1111111111111111,
              "#46039f"
             ],
             [
              0.2222222222222222,
              "#7201a8"
             ],
             [
              0.3333333333333333,
              "#9c179e"
             ],
             [
              0.4444444444444444,
              "#bd3786"
             ],
             [
              0.5555555555555556,
              "#d8576b"
             ],
             [
              0.6666666666666666,
              "#ed7953"
             ],
             [
              0.7777777777777778,
              "#fb9f3a"
             ],
             [
              0.8888888888888888,
              "#fdca26"
             ],
             [
              1,
              "#f0f921"
             ]
            ],
            "type": "contour"
           }
          ],
          "contourcarpet": [
           {
            "colorbar": {
             "outlinewidth": 0,
             "ticks": ""
            },
            "type": "contourcarpet"
           }
          ],
          "heatmap": [
           {
            "colorbar": {
             "outlinewidth": 0,
             "ticks": ""
            },
            "colorscale": [
             [
              0,
              "#0d0887"
             ],
             [
              0.1111111111111111,
              "#46039f"
             ],
             [
              0.2222222222222222,
              "#7201a8"
             ],
             [
              0.3333333333333333,
              "#9c179e"
             ],
             [
              0.4444444444444444,
              "#bd3786"
             ],
             [
              0.5555555555555556,
              "#d8576b"
             ],
             [
              0.6666666666666666,
              "#ed7953"
             ],
             [
              0.7777777777777778,
              "#fb9f3a"
             ],
             [
              0.8888888888888888,
              "#fdca26"
             ],
             [
              1,
              "#f0f921"
             ]
            ],
            "type": "heatmap"
           }
          ],
          "heatmapgl": [
           {
            "colorbar": {
             "outlinewidth": 0,
             "ticks": ""
            },
            "colorscale": [
             [
              0,
              "#0d0887"
             ],
             [
              0.1111111111111111,
              "#46039f"
             ],
             [
              0.2222222222222222,
              "#7201a8"
             ],
             [
              0.3333333333333333,
              "#9c179e"
             ],
             [
              0.4444444444444444,
              "#bd3786"
             ],
             [
              0.5555555555555556,
              "#d8576b"
             ],
             [
              0.6666666666666666,
              "#ed7953"
             ],
             [
              0.7777777777777778,
              "#fb9f3a"
             ],
             [
              0.8888888888888888,
              "#fdca26"
             ],
             [
              1,
              "#f0f921"
             ]
            ],
            "type": "heatmapgl"
           }
          ],
          "histogram": [
           {
            "marker": {
             "pattern": {
              "fillmode": "overlay",
              "size": 10,
              "solidity": 0.2
             }
            },
            "type": "histogram"
           }
          ],
          "histogram2d": [
           {
            "colorbar": {
             "outlinewidth": 0,
             "ticks": ""
            },
            "colorscale": [
             [
              0,
              "#0d0887"
             ],
             [
              0.1111111111111111,
              "#46039f"
             ],
             [
              0.2222222222222222,
              "#7201a8"
             ],
             [
              0.3333333333333333,
              "#9c179e"
             ],
             [
              0.4444444444444444,
              "#bd3786"
             ],
             [
              0.5555555555555556,
              "#d8576b"
             ],
             [
              0.6666666666666666,
              "#ed7953"
             ],
             [
              0.7777777777777778,
              "#fb9f3a"
             ],
             [
              0.8888888888888888,
              "#fdca26"
             ],
             [
              1,
              "#f0f921"
             ]
            ],
            "type": "histogram2d"
           }
          ],
          "histogram2dcontour": [
           {
            "colorbar": {
             "outlinewidth": 0,
             "ticks": ""
            },
            "colorscale": [
             [
              0,
              "#0d0887"
             ],
             [
              0.1111111111111111,
              "#46039f"
             ],
             [
              0.2222222222222222,
              "#7201a8"
             ],
             [
              0.3333333333333333,
              "#9c179e"
             ],
             [
              0.4444444444444444,
              "#bd3786"
             ],
             [
              0.5555555555555556,
              "#d8576b"
             ],
             [
              0.6666666666666666,
              "#ed7953"
             ],
             [
              0.7777777777777778,
              "#fb9f3a"
             ],
             [
              0.8888888888888888,
              "#fdca26"
             ],
             [
              1,
              "#f0f921"
             ]
            ],
            "type": "histogram2dcontour"
           }
          ],
          "mesh3d": [
           {
            "colorbar": {
             "outlinewidth": 0,
             "ticks": ""
            },
            "type": "mesh3d"
           }
          ],
          "parcoords": [
           {
            "line": {
             "colorbar": {
              "outlinewidth": 0,
              "ticks": ""
             }
            },
            "type": "parcoords"
           }
          ],
          "pie": [
           {
            "automargin": true,
            "type": "pie"
           }
          ],
          "scatter": [
           {
            "fillpattern": {
             "fillmode": "overlay",
             "size": 10,
             "solidity": 0.2
            },
            "type": "scatter"
           }
          ],
          "scatter3d": [
           {
            "line": {
             "colorbar": {
              "outlinewidth": 0,
              "ticks": ""
             }
            },
            "marker": {
             "colorbar": {
              "outlinewidth": 0,
              "ticks": ""
             }
            },
            "type": "scatter3d"
           }
          ],
          "scattercarpet": [
           {
            "marker": {
             "colorbar": {
              "outlinewidth": 0,
              "ticks": ""
             }
            },
            "type": "scattercarpet"
           }
          ],
          "scattergeo": [
           {
            "marker": {
             "colorbar": {
              "outlinewidth": 0,
              "ticks": ""
             }
            },
            "type": "scattergeo"
           }
          ],
          "scattergl": [
           {
            "marker": {
             "colorbar": {
              "outlinewidth": 0,
              "ticks": ""
             }
            },
            "type": "scattergl"
           }
          ],
          "scattermapbox": [
           {
            "marker": {
             "colorbar": {
              "outlinewidth": 0,
              "ticks": ""
             }
            },
            "type": "scattermapbox"
           }
          ],
          "scatterpolar": [
           {
            "marker": {
             "colorbar": {
              "outlinewidth": 0,
              "ticks": ""
             }
            },
            "type": "scatterpolar"
           }
          ],
          "scatterpolargl": [
           {
            "marker": {
             "colorbar": {
              "outlinewidth": 0,
              "ticks": ""
             }
            },
            "type": "scatterpolargl"
           }
          ],
          "scatterternary": [
           {
            "marker": {
             "colorbar": {
              "outlinewidth": 0,
              "ticks": ""
             }
            },
            "type": "scatterternary"
           }
          ],
          "surface": [
           {
            "colorbar": {
             "outlinewidth": 0,
             "ticks": ""
            },
            "colorscale": [
             [
              0,
              "#0d0887"
             ],
             [
              0.1111111111111111,
              "#46039f"
             ],
             [
              0.2222222222222222,
              "#7201a8"
             ],
             [
              0.3333333333333333,
              "#9c179e"
             ],
             [
              0.4444444444444444,
              "#bd3786"
             ],
             [
              0.5555555555555556,
              "#d8576b"
             ],
             [
              0.6666666666666666,
              "#ed7953"
             ],
             [
              0.7777777777777778,
              "#fb9f3a"
             ],
             [
              0.8888888888888888,
              "#fdca26"
             ],
             [
              1,
              "#f0f921"
             ]
            ],
            "type": "surface"
           }
          ],
          "table": [
           {
            "cells": {
             "fill": {
              "color": "#EBF0F8"
             },
             "line": {
              "color": "white"
             }
            },
            "header": {
             "fill": {
              "color": "#C8D4E3"
             },
             "line": {
              "color": "white"
             }
            },
            "type": "table"
           }
          ]
         },
         "layout": {
          "annotationdefaults": {
           "arrowcolor": "#2a3f5f",
           "arrowhead": 0,
           "arrowwidth": 1
          },
          "autotypenumbers": "strict",
          "coloraxis": {
           "colorbar": {
            "outlinewidth": 0,
            "ticks": ""
           }
          },
          "colorscale": {
           "diverging": [
            [
             0,
             "#8e0152"
            ],
            [
             0.1,
             "#c51b7d"
            ],
            [
             0.2,
             "#de77ae"
            ],
            [
             0.3,
             "#f1b6da"
            ],
            [
             0.4,
             "#fde0ef"
            ],
            [
             0.5,
             "#f7f7f7"
            ],
            [
             0.6,
             "#e6f5d0"
            ],
            [
             0.7,
             "#b8e186"
            ],
            [
             0.8,
             "#7fbc41"
            ],
            [
             0.9,
             "#4d9221"
            ],
            [
             1,
             "#276419"
            ]
           ],
           "sequential": [
            [
             0,
             "#0d0887"
            ],
            [
             0.1111111111111111,
             "#46039f"
            ],
            [
             0.2222222222222222,
             "#7201a8"
            ],
            [
             0.3333333333333333,
             "#9c179e"
            ],
            [
             0.4444444444444444,
             "#bd3786"
            ],
            [
             0.5555555555555556,
             "#d8576b"
            ],
            [
             0.6666666666666666,
             "#ed7953"
            ],
            [
             0.7777777777777778,
             "#fb9f3a"
            ],
            [
             0.8888888888888888,
             "#fdca26"
            ],
            [
             1,
             "#f0f921"
            ]
           ],
           "sequentialminus": [
            [
             0,
             "#0d0887"
            ],
            [
             0.1111111111111111,
             "#46039f"
            ],
            [
             0.2222222222222222,
             "#7201a8"
            ],
            [
             0.3333333333333333,
             "#9c179e"
            ],
            [
             0.4444444444444444,
             "#bd3786"
            ],
            [
             0.5555555555555556,
             "#d8576b"
            ],
            [
             0.6666666666666666,
             "#ed7953"
            ],
            [
             0.7777777777777778,
             "#fb9f3a"
            ],
            [
             0.8888888888888888,
             "#fdca26"
            ],
            [
             1,
             "#f0f921"
            ]
           ]
          },
          "colorway": [
           "#636efa",
           "#EF553B",
           "#00cc96",
           "#ab63fa",
           "#FFA15A",
           "#19d3f3",
           "#FF6692",
           "#B6E880",
           "#FF97FF",
           "#FECB52"
          ],
          "font": {
           "color": "#2a3f5f"
          },
          "geo": {
           "bgcolor": "white",
           "lakecolor": "white",
           "landcolor": "white",
           "showlakes": true,
           "showland": true,
           "subunitcolor": "#C8D4E3"
          },
          "hoverlabel": {
           "align": "left"
          },
          "hovermode": "closest",
          "mapbox": {
           "style": "light"
          },
          "paper_bgcolor": "white",
          "plot_bgcolor": "white",
          "polar": {
           "angularaxis": {
            "gridcolor": "#EBF0F8",
            "linecolor": "#EBF0F8",
            "ticks": ""
           },
           "bgcolor": "white",
           "radialaxis": {
            "gridcolor": "#EBF0F8",
            "linecolor": "#EBF0F8",
            "ticks": ""
           }
          },
          "scene": {
           "xaxis": {
            "backgroundcolor": "white",
            "gridcolor": "#DFE8F3",
            "gridwidth": 2,
            "linecolor": "#EBF0F8",
            "showbackground": true,
            "ticks": "",
            "zerolinecolor": "#EBF0F8"
           },
           "yaxis": {
            "backgroundcolor": "white",
            "gridcolor": "#DFE8F3",
            "gridwidth": 2,
            "linecolor": "#EBF0F8",
            "showbackground": true,
            "ticks": "",
            "zerolinecolor": "#EBF0F8"
           },
           "zaxis": {
            "backgroundcolor": "white",
            "gridcolor": "#DFE8F3",
            "gridwidth": 2,
            "linecolor": "#EBF0F8",
            "showbackground": true,
            "ticks": "",
            "zerolinecolor": "#EBF0F8"
           }
          },
          "shapedefaults": {
           "line": {
            "color": "#2a3f5f"
           }
          },
          "ternary": {
           "aaxis": {
            "gridcolor": "#DFE8F3",
            "linecolor": "#A2B1C6",
            "ticks": ""
           },
           "baxis": {
            "gridcolor": "#DFE8F3",
            "linecolor": "#A2B1C6",
            "ticks": ""
           },
           "bgcolor": "white",
           "caxis": {
            "gridcolor": "#DFE8F3",
            "linecolor": "#A2B1C6",
            "ticks": ""
           }
          },
          "title": {
           "x": 0.05
          },
          "xaxis": {
           "automargin": true,
           "gridcolor": "#EBF0F8",
           "linecolor": "#EBF0F8",
           "ticks": "",
           "title": {
            "standoff": 15
           },
           "zerolinecolor": "#EBF0F8",
           "zerolinewidth": 2
          },
          "yaxis": {
           "automargin": true,
           "gridcolor": "#EBF0F8",
           "linecolor": "#EBF0F8",
           "ticks": "",
           "title": {
            "standoff": 15
           },
           "zerolinecolor": "#EBF0F8",
           "zerolinewidth": 2
          }
         }
        },
        "title": {
         "text": "Percent male and female applications",
         "x": 0.5
        },
        "width": 800,
        "xaxis": {
         "anchor": "y",
         "autorange": true,
         "domain": [
          0,
          0.49
         ],
         "range": [
          0,
          105.26315789473685
         ],
         "title": {
          "text": ""
         },
         "type": "linear"
        },
        "xaxis2": {
         "anchor": "y2",
         "autorange": true,
         "domain": [
          0.51,
          1
         ],
         "matches": "x",
         "range": [
          0,
          105.26315789473685
         ],
         "title": {
          "text": ""
         },
         "type": "linear"
        },
        "xaxis3": {
         "anchor": "y3",
         "autorange": true,
         "domain": [
          0,
          0.49
         ],
         "matches": "x",
         "range": [
          0,
          105.26315789473685
         ],
         "showticklabels": false,
         "title": {
          "text": ""
         },
         "type": "linear"
        },
        "xaxis4": {
         "anchor": "y4",
         "autorange": true,
         "domain": [
          0.51,
          1
         ],
         "matches": "x",
         "range": [
          0,
          105.26315789473685
         ],
         "showticklabels": false,
         "title": {
          "text": ""
         },
         "type": "linear"
        },
        "xaxis5": {
         "anchor": "y5",
         "autorange": true,
         "domain": [
          0,
          0.49
         ],
         "matches": "x",
         "range": [
          0,
          105.26315789473685
         ],
         "showticklabels": false,
         "title": {
          "text": ""
         },
         "type": "linear"
        },
        "xaxis6": {
         "anchor": "y6",
         "autorange": true,
         "domain": [
          0.51,
          1
         ],
         "matches": "x",
         "range": [
          0,
          105.26315789473685
         ],
         "showticklabels": false,
         "title": {
          "text": ""
         },
         "type": "linear"
        },
        "yaxis": {
         "anchor": "x",
         "autorange": true,
         "domain": [
          0,
          0.2866666666666666
         ],
         "range": [
          -0.5,
          1.5
         ],
         "title": {
          "text": "Gender"
         },
         "type": "category"
        },
        "yaxis2": {
         "anchor": "x2",
         "autorange": true,
         "domain": [
          0,
          0.2866666666666666
         ],
         "matches": "y",
         "range": [
          -0.5,
          1.5
         ],
         "showticklabels": false,
         "type": "category"
        },
        "yaxis3": {
         "anchor": "x3",
         "autorange": true,
         "domain": [
          0.35666666666666663,
          0.6433333333333333
         ],
         "matches": "y",
         "range": [
          -0.5,
          1.5
         ],
         "title": {
          "text": "gender"
         },
         "type": "category"
        },
        "yaxis4": {
         "anchor": "x4",
         "autorange": true,
         "domain": [
          0.35666666666666663,
          0.6433333333333333
         ],
         "matches": "y",
         "range": [
          -0.5,
          1.5
         ],
         "showticklabels": false,
         "type": "category"
        },
        "yaxis5": {
         "anchor": "x5",
         "autorange": true,
         "domain": [
          0.7133333333333333,
          0.9999999999999999
         ],
         "matches": "y",
         "range": [
          -0.5,
          1.5
         ],
         "title": {
          "text": "gender"
         },
         "type": "category"
        },
        "yaxis6": {
         "anchor": "x6",
         "autorange": true,
         "domain": [
          0.7133333333333333,
          0.9999999999999999
         ],
         "matches": "y",
         "range": [
          -0.5,
          1.5
         ],
         "showticklabels": false,
         "type": "category"
        }
       }
      },
      "image/png": "[encoded data removed]",
      "text/html": [
       "<div>                            <div id=\"376f08f3-9b30-43f0-bb25-b495a51bb825\" class=\"plotly-graph-div\" style=\"height:500px; width:800px;\"></div>            <script type=\"text/javascript\">                require([\"plotly\"], function(Plotly) {                    window.PLOTLYENV=window.PLOTLYENV || {};                                    if (document.getElementById(\"376f08f3-9b30-43f0-bb25-b495a51bb825\")) {                    Plotly.newPlot(                        \"376f08f3-9b30-43f0-bb25-b495a51bb825\",                        [{\"alignmentgroup\":\"True\",\"bingroup\":\"y\",\"histfunc\":\"sum\",\"hovertemplate\":\"admitted=Yes\\u003cbr\\u003eDepartment=A\\u003cbr\\u003esum of Number (normalized as percent)=%{x}\\u003cbr\\u003egender=%{y}\\u003cextra\\u003e\\u003c\\u002fextra\\u003e\",\"legendgroup\":\"Yes\",\"marker\":{\"color\":\"#2ca25f\",\"pattern\":{\"shape\":\"\"}},\"name\":\"Yes\",\"offsetgroup\":\"Yes\",\"orientation\":\"h\",\"showlegend\":true,\"x\":[512,89],\"xaxis\":\"x5\",\"y\":[\"Male\",\"Female\"],\"yaxis\":\"y5\",\"type\":\"histogram\"},{\"alignmentgroup\":\"True\",\"bingroup\":\"y\",\"histfunc\":\"sum\",\"hovertemplate\":\"admitted=Yes\\u003cbr\\u003eDepartment=B\\u003cbr\\u003esum of Number (normalized as percent)=%{x}\\u003cbr\\u003egender=%{y}\\u003cextra\\u003e\\u003c\\u002fextra\\u003e\",\"legendgroup\":\"Yes\",\"marker\":{\"color\":\"#2ca25f\",\"pattern\":{\"shape\":\"\"}},\"name\":\"Yes\",\"offsetgroup\":\"Yes\",\"orientation\":\"h\",\"showlegend\":false,\"x\":[353,17],\"xaxis\":\"x6\",\"y\":[\"Male\",\"Female\"],\"yaxis\":\"y6\",\"type\":\"histogram\"},{\"alignmentgroup\":\"True\",\"bingroup\":\"y\",\"histfunc\":\"sum\",\"hovertemplate\":\"admitted=Yes\\u003cbr\\u003eDepartment=C\\u003cbr\\u003esum of Number (normalized as percent)=%{x}\\u003cbr\\u003egender=%{y}\\u003cextra\\u003e\\u003c\\u002fextra\\u003e\",\"legendgroup\":\"Yes\",\"marker\":{\"color\":\"#2ca25f\",\"pattern\":{\"shape\":\"\"}},\"name\":\"Yes\",\"offsetgroup\":\"Yes\",\"orientation\":\"h\",\"showlegend\":false,\"x\":[120,202],\"xaxis\":\"x3\",\"y\":[\"Male\",\"Female\"],\"yaxis\":\"y3\",\"type\":\"histogram\"},{\"alignmentgroup\":\"True\",\"bingroup\":\"y\",\"histfunc\":\"sum\",\"hovertemplate\":\"admitted=Yes\\u003cbr\\u003eDepartment=D\\u003cbr\\u003esum of Number (normalized as percent)=%{x}\\u003cbr\\u003egender=%{y}\\u003cextra\\u003e\\u003c\\u002fextra\\u003e\",\"legendgroup\":\"Yes\",\"marker\":{\"color\":\"#2ca25f\",\"pattern\":{\"shape\":\"\"}},\"name\":\"Yes\",\"offsetgroup\":\"Yes\",\"orientation\":\"h\",\"showlegend\":false,\"x\":[138,131],\"xaxis\":\"x4\",\"y\":[\"Male\",\"Female\"],\"yaxis\":\"y4\",\"type\":\"histogram\"},{\"alignmentgroup\":\"True\",\"bingroup\":\"y\",\"histfunc\":\"sum\",\"hovertemplate\":\"admitted=Yes\\u003cbr\\u003eDepartment=E\\u003cbr\\u003esum of Number (normalized as percent)=%{x}\\u003cbr\\u003egender=%{y}\\u003cextra\\u003e\\u003c\\u002fextra\\u003e\",\"legendgroup\":\"Yes\",\"marker\":{\"color\":\"#2ca25f\",\"pattern\":{\"shape\":\"\"}},\"name\":\"Yes\",\"offsetgroup\":\"Yes\",\"orientation\":\"h\",\"showlegend\":false,\"x\":[53,94],\"xaxis\":\"x\",\"y\":[\"Male\",\"Female\"],\"yaxis\":\"y\",\"type\":\"histogram\"},{\"alignmentgroup\":\"True\",\"bingroup\":\"y\",\"histfunc\":\"sum\",\"hovertemplate\":\"admitted=Yes\\u003cbr\\u003eDepartment=F\\u003cbr\\u003esum of Number (normalized as percent)=%{x}\\u003cbr\\u003egender=%{y}\\u003cextra\\u003e\\u003c\\u002fextra\\u003e\",\"legendgroup\":\"Yes\",\"marker\":{\"color\":\"#2ca25f\",\"pattern\":{\"shape\":\"\"}},\"name\":\"Yes\",\"offsetgroup\":\"Yes\",\"orientation\":\"h\",\"showlegend\":false,\"x\":[22,24],\"xaxis\":\"x2\",\"y\":[\"Male\",\"Female\"],\"yaxis\":\"y2\",\"type\":\"histogram\"},{\"alignmentgroup\":\"True\",\"bingroup\":\"y\",\"histfunc\":\"sum\",\"hovertemplate\":\"admitted=No\\u003cbr\\u003eDepartment=A\\u003cbr\\u003esum of Number (normalized as percent)=%{x}\\u003cbr\\u003egender=%{y}\\u003cextra\\u003e\\u003c\\u002fextra\\u003e\",\"legendgroup\":\"No\",\"marker\":{\"color\":\"#99d8c9\",\"pattern\":{\"shape\":\"\"}},\"name\":\"No\",\"offsetgroup\":\"No\",\"orientation\":\"h\",\"showlegend\":true,\"x\":[313,19],\"xaxis\":\"x5\",\"y\":[\"Male\",\"Female\"],\"yaxis\":\"y5\",\"type\":\"histogram\"},{\"alignmentgroup\":\"True\",\"bingroup\":\"y\",\"histfunc\":\"sum\",\"hovertemplate\":\"admitted=No\\u003cbr\\u003eDepartment=B\\u003cbr\\u003esum of Number (normalized as percent)=%{x}\\u003cbr\\u003egender=%{y}\\u003cextra\\u003e\\u003c\\u002fextra\\u003e\",\"legendgroup\":\"No\",\"marker\":{\"color\":\"#99d8c9\",\"pattern\":{\"shape\":\"\"}},\"name\":\"No\",\"offsetgroup\":\"No\",\"orientation\":\"h\",\"showlegend\":false,\"x\":[207,8],\"xaxis\":\"x6\",\"y\":[\"Male\",\"Female\"],\"yaxis\":\"y6\",\"type\":\"histogram\"},{\"alignmentgroup\":\"True\",\"bingroup\":\"y\",\"histfunc\":\"sum\",\"hovertemplate\":\"admitted=No\\u003cbr\\u003eDepartment=C\\u003cbr\\u003esum of Number (normalized as percent)=%{x}\\u003cbr\\u003egender=%{y}\\u003cextra\\u003e\\u003c\\u002fextra\\u003e\",\"legendgroup\":\"No\",\"marker\":{\"color\":\"#99d8c9\",\"pattern\":{\"shape\":\"\"}},\"name\":\"No\",\"offsetgroup\":\"No\",\"orientation\":\"h\",\"showlegend\":false,\"x\":[205,391],\"xaxis\":\"x3\",\"y\":[\"Male\",\"Female\"],\"yaxis\":\"y3\",\"type\":\"histogram\"},{\"alignmentgroup\":\"True\",\"bingroup\":\"y\",\"histfunc\":\"sum\",\"hovertemplate\":\"admitted=No\\u003cbr\\u003eDepartment=D\\u003cbr\\u003esum of Number (normalized as percent)=%{x}\\u003cbr\\u003egender=%{y}\\u003cextra\\u003e\\u003c\\u002fextra\\u003e\",\"legendgroup\":\"No\",\"marker\":{\"color\":\"#99d8c9\",\"pattern\":{\"shape\":\"\"}},\"name\":\"No\",\"offsetgroup\":\"No\",\"orientation\":\"h\",\"showlegend\":false,\"x\":[279,244],\"xaxis\":\"x4\",\"y\":[\"Male\",\"Female\"],\"yaxis\":\"y4\",\"type\":\"histogram\"},{\"alignmentgroup\":\"True\",\"bingroup\":\"y\",\"histfunc\":\"sum\",\"hovertemplate\":\"admitted=No\\u003cbr\\u003eDepartment=E\\u003cbr\\u003esum of Number (normalized as percent)=%{x}\\u003cbr\\u003egender=%{y}\\u003cextra\\u003e\\u003c\\u002fextra\\u003e\",\"legendgroup\":\"No\",\"marker\":{\"color\":\"#99d8c9\",\"pattern\":{\"shape\":\"\"}},\"name\":\"No\",\"offsetgroup\":\"No\",\"orientation\":\"h\",\"showlegend\":false,\"x\":[138,299],\"xaxis\":\"x\",\"y\":[\"Male\",\"Female\"],\"yaxis\":\"y\",\"type\":\"histogram\"},{\"alignmentgroup\":\"True\",\"bingroup\":\"y\",\"histfunc\":\"sum\",\"hovertemplate\":\"admitted=No\\u003cbr\\u003eDepartment=F\\u003cbr\\u003esum of Number (normalized as percent)=%{x}\\u003cbr\\u003egender=%{y}\\u003cextra\\u003e\\u003c\\u002fextra\\u003e\",\"legendgroup\":\"No\",\"marker\":{\"color\":\"#99d8c9\",\"pattern\":{\"shape\":\"\"}},\"name\":\"No\",\"offsetgroup\":\"No\",\"orientation\":\"h\",\"showlegend\":false,\"x\":[351,317],\"xaxis\":\"x2\",\"y\":[\"Male\",\"Female\"],\"yaxis\":\"y2\",\"type\":\"histogram\"}],                        {\"template\":{\"data\":{\"barpolar\":[{\"marker\":{\"line\":{\"color\":\"white\",\"width\":0.5},\"pattern\":{\"fillmode\":\"overlay\",\"size\":10,\"solidity\":0.2}},\"type\":\"barpolar\"}],\"bar\":[{\"error_x\":{\"color\":\"#2a3f5f\"},\"error_y\":{\"color\":\"#2a3f5f\"},\"marker\":{\"line\":{\"color\":\"white\",\"width\":0.5},\"pattern\":{\"fillmode\":\"overlay\",\"size\":10,\"solidity\":0.2}},\"type\":\"bar\"}],\"carpet\":[{\"aaxis\":{\"endlinecolor\":\"#2a3f5f\",\"gridcolor\":\"#C8D4E3\",\"linecolor\":\"#C8D4E3\",\"minorgridcolor\":\"#C8D4E3\",\"startlinecolor\":\"#2a3f5f\"},\"baxis\":{\"endlinecolor\":\"#2a3f5f\",\"gridcolor\":\"#C8D4E3\",\"linecolor\":\"#C8D4E3\",\"minorgridcolor\":\"#C8D4E3\",\"startlinecolor\":\"#2a3f5f\"},\"type\":\"carpet\"}],\"choropleth\":[{\"colorbar\":{\"outlinewidth\":0,\"ticks\":\"\"},\"type\":\"choropleth\"}],\"contourcarpet\":[{\"colorbar\":{\"outlinewidth\":0,\"ticks\":\"\"},\"type\":\"contourcarpet\"}],\"contour\":[{\"colorbar\":{\"outlinewidth\":0,\"ticks\":\"\"},\"colorscale\":[[0.0,\"#0d0887\"],[0.1111111111111111,\"#46039f\"],[0.2222222222222222,\"#7201a8\"],[0.3333333333333333,\"#9c179e\"],[0.4444444444444444,\"#bd3786\"],[0.5555555555555556,\"#d8576b\"],[0.6666666666666666,\"#ed7953\"],[0.7777777777777778,\"#fb9f3a\"],[0.8888888888888888,\"#fdca26\"],[1.0,\"#f0f921\"]],\"type\":\"contour\"}],\"heatmapgl\":[{\"colorbar\":{\"outlinewidth\":0,\"ticks\":\"\"},\"colorscale\":[[0.0,\"#0d0887\"],[0.1111111111111111,\"#46039f\"],[0.2222222222222222,\"#7201a8\"],[0.3333333333333333,\"#9c179e\"],[0.4444444444444444,\"#bd3786\"],[0.5555555555555556,\"#d8576b\"],[0.6666666666666666,\"#ed7953\"],[0.7777777777777778,\"#fb9f3a\"],[0.8888888888888888,\"#fdca26\"],[1.0,\"#f0f921\"]],\"type\":\"heatmapgl\"}],\"heatmap\":[{\"colorbar\":{\"outlinewidth\":0,\"ticks\":\"\"},\"colorscale\":[[0.0,\"#0d0887\"],[0.1111111111111111,\"#46039f\"],[0.2222222222222222,\"#7201a8\"],[0.3333333333333333,\"#9c179e\"],[0.4444444444444444,\"#bd3786\"],[0.5555555555555556,\"#d8576b\"],[0.6666666666666666,\"#ed7953\"],[0.7777777777777778,\"#fb9f3a\"],[0.8888888888888888,\"#fdca26\"],[1.0,\"#f0f921\"]],\"type\":\"heatmap\"}],\"histogram2dcontour\":[{\"colorbar\":{\"outlinewidth\":0,\"ticks\":\"\"},\"colorscale\":[[0.0,\"#0d0887\"],[0.1111111111111111,\"#46039f\"],[0.2222222222222222,\"#7201a8\"],[0.3333333333333333,\"#9c179e\"],[0.4444444444444444,\"#bd3786\"],[0.5555555555555556,\"#d8576b\"],[0.6666666666666666,\"#ed7953\"],[0.7777777777777778,\"#fb9f3a\"],[0.8888888888888888,\"#fdca26\"],[1.0,\"#f0f921\"]],\"type\":\"histogram2dcontour\"}],\"histogram2d\":[{\"colorbar\":{\"outlinewidth\":0,\"ticks\":\"\"},\"colorscale\":[[0.0,\"#0d0887\"],[0.1111111111111111,\"#46039f\"],[0.2222222222222222,\"#7201a8\"],[0.3333333333333333,\"#9c179e\"],[0.4444444444444444,\"#bd3786\"],[0.5555555555555556,\"#d8576b\"],[0.6666666666666666,\"#ed7953\"],[0.7777777777777778,\"#fb9f3a\"],[0.8888888888888888,\"#fdca26\"],[1.0,\"#f0f921\"]],\"type\":\"histogram2d\"}],\"histogram\":[{\"marker\":{\"pattern\":{\"fillmode\":\"overlay\",\"size\":10,\"solidity\":0.2}},\"type\":\"histogram\"}],\"mesh3d\":[{\"colorbar\":{\"outlinewidth\":0,\"ticks\":\"\"},\"type\":\"mesh3d\"}],\"parcoords\":[{\"line\":{\"colorbar\":{\"outlinewidth\":0,\"ticks\":\"\"}},\"type\":\"parcoords\"}],\"pie\":[{\"automargin\":true,\"type\":\"pie\"}],\"scatter3d\":[{\"line\":{\"colorbar\":{\"outlinewidth\":0,\"ticks\":\"\"}},\"marker\":{\"colorbar\":{\"outlinewidth\":0,\"ticks\":\"\"}},\"type\":\"scatter3d\"}],\"scattercarpet\":[{\"marker\":{\"colorbar\":{\"outlinewidth\":0,\"ticks\":\"\"}},\"type\":\"scattercarpet\"}],\"scattergeo\":[{\"marker\":{\"colorbar\":{\"outlinewidth\":0,\"ticks\":\"\"}},\"type\":\"scattergeo\"}],\"scattergl\":[{\"marker\":{\"colorbar\":{\"outlinewidth\":0,\"ticks\":\"\"}},\"type\":\"scattergl\"}],\"scattermapbox\":[{\"marker\":{\"colorbar\":{\"outlinewidth\":0,\"ticks\":\"\"}},\"type\":\"scattermapbox\"}],\"scatterpolargl\":[{\"marker\":{\"colorbar\":{\"outlinewidth\":0,\"ticks\":\"\"}},\"type\":\"scatterpolargl\"}],\"scatterpolar\":[{\"marker\":{\"colorbar\":{\"outlinewidth\":0,\"ticks\":\"\"}},\"type\":\"scatterpolar\"}],\"scatter\":[{\"fillpattern\":{\"fillmode\":\"overlay\",\"size\":10,\"solidity\":0.2},\"type\":\"scatter\"}],\"scatterternary\":[{\"marker\":{\"colorbar\":{\"outlinewidth\":0,\"ticks\":\"\"}},\"type\":\"scatterternary\"}],\"surface\":[{\"colorbar\":{\"outlinewidth\":0,\"ticks\":\"\"},\"colorscale\":[[0.0,\"#0d0887\"],[0.1111111111111111,\"#46039f\"],[0.2222222222222222,\"#7201a8\"],[0.3333333333333333,\"#9c179e\"],[0.4444444444444444,\"#bd3786\"],[0.5555555555555556,\"#d8576b\"],[0.6666666666666666,\"#ed7953\"],[0.7777777777777778,\"#fb9f3a\"],[0.8888888888888888,\"#fdca26\"],[1.0,\"#f0f921\"]],\"type\":\"surface\"}],\"table\":[{\"cells\":{\"fill\":{\"color\":\"#EBF0F8\"},\"line\":{\"color\":\"white\"}},\"header\":{\"fill\":{\"color\":\"#C8D4E3\"},\"line\":{\"color\":\"white\"}},\"type\":\"table\"}]},\"layout\":{\"annotationdefaults\":{\"arrowcolor\":\"#2a3f5f\",\"arrowhead\":0,\"arrowwidth\":1},\"autotypenumbers\":\"strict\",\"coloraxis\":{\"colorbar\":{\"outlinewidth\":0,\"ticks\":\"\"}},\"colorscale\":{\"diverging\":[[0,\"#8e0152\"],[0.1,\"#c51b7d\"],[0.2,\"#de77ae\"],[0.3,\"#f1b6da\"],[0.4,\"#fde0ef\"],[0.5,\"#f7f7f7\"],[0.6,\"#e6f5d0\"],[0.7,\"#b8e186\"],[0.8,\"#7fbc41\"],[0.9,\"#4d9221\"],[1,\"#276419\"]],\"sequential\":[[0.0,\"#0d0887\"],[0.1111111111111111,\"#46039f\"],[0.2222222222222222,\"#7201a8\"],[0.3333333333333333,\"#9c179e\"],[0.4444444444444444,\"#bd3786\"],[0.5555555555555556,\"#d8576b\"],[0.6666666666666666,\"#ed7953\"],[0.7777777777777778,\"#fb9f3a\"],[0.8888888888888888,\"#fdca26\"],[1.0,\"#f0f921\"]],\"sequentialminus\":[[0.0,\"#0d0887\"],[0.1111111111111111,\"#46039f\"],[0.2222222222222222,\"#7201a8\"],[0.3333333333333333,\"#9c179e\"],[0.4444444444444444,\"#bd3786\"],[0.5555555555555556,\"#d8576b\"],[0.6666666666666666,\"#ed7953\"],[0.7777777777777778,\"#fb9f3a\"],[0.8888888888888888,\"#fdca26\"],[1.0,\"#f0f921\"]]},\"colorway\":[\"#636efa\",\"#EF553B\",\"#00cc96\",\"#ab63fa\",\"#FFA15A\",\"#19d3f3\",\"#FF6692\",\"#B6E880\",\"#FF97FF\",\"#FECB52\"],\"font\":{\"color\":\"#2a3f5f\"},\"geo\":{\"bgcolor\":\"white\",\"lakecolor\":\"white\",\"landcolor\":\"white\",\"showlakes\":true,\"showland\":true,\"subunitcolor\":\"#C8D4E3\"},\"hoverlabel\":{\"align\":\"left\"},\"hovermode\":\"closest\",\"mapbox\":{\"style\":\"light\"},\"paper_bgcolor\":\"white\",\"plot_bgcolor\":\"white\",\"polar\":{\"angularaxis\":{\"gridcolor\":\"#EBF0F8\",\"linecolor\":\"#EBF0F8\",\"ticks\":\"\"},\"bgcolor\":\"white\",\"radialaxis\":{\"gridcolor\":\"#EBF0F8\",\"linecolor\":\"#EBF0F8\",\"ticks\":\"\"}},\"scene\":{\"xaxis\":{\"backgroundcolor\":\"white\",\"gridcolor\":\"#DFE8F3\",\"gridwidth\":2,\"linecolor\":\"#EBF0F8\",\"showbackground\":true,\"ticks\":\"\",\"zerolinecolor\":\"#EBF0F8\"},\"yaxis\":{\"backgroundcolor\":\"white\",\"gridcolor\":\"#DFE8F3\",\"gridwidth\":2,\"linecolor\":\"#EBF0F8\",\"showbackground\":true,\"ticks\":\"\",\"zerolinecolor\":\"#EBF0F8\"},\"zaxis\":{\"backgroundcolor\":\"white\",\"gridcolor\":\"#DFE8F3\",\"gridwidth\":2,\"linecolor\":\"#EBF0F8\",\"showbackground\":true,\"ticks\":\"\",\"zerolinecolor\":\"#EBF0F8\"}},\"shapedefaults\":{\"line\":{\"color\":\"#2a3f5f\"}},\"ternary\":{\"aaxis\":{\"gridcolor\":\"#DFE8F3\",\"linecolor\":\"#A2B1C6\",\"ticks\":\"\"},\"baxis\":{\"gridcolor\":\"#DFE8F3\",\"linecolor\":\"#A2B1C6\",\"ticks\":\"\"},\"bgcolor\":\"white\",\"caxis\":{\"gridcolor\":\"#DFE8F3\",\"linecolor\":\"#A2B1C6\",\"ticks\":\"\"}},\"title\":{\"x\":0.05},\"xaxis\":{\"automargin\":true,\"gridcolor\":\"#EBF0F8\",\"linecolor\":\"#EBF0F8\",\"ticks\":\"\",\"title\":{\"standoff\":15},\"zerolinecolor\":\"#EBF0F8\",\"zerolinewidth\":2},\"yaxis\":{\"automargin\":true,\"gridcolor\":\"#EBF0F8\",\"linecolor\":\"#EBF0F8\",\"ticks\":\"\",\"title\":{\"standoff\":15},\"zerolinecolor\":\"#EBF0F8\",\"zerolinewidth\":2}}},\"xaxis\":{\"anchor\":\"y\",\"domain\":[0.0,0.49],\"title\":{\"text\":\"\"}},\"yaxis\":{\"anchor\":\"x\",\"domain\":[0.0,0.2866666666666666],\"title\":{\"text\":\"Gender\"}},\"xaxis2\":{\"anchor\":\"y2\",\"domain\":[0.51,1.0],\"matches\":\"x\",\"title\":{\"text\":\"\"}},\"yaxis2\":{\"anchor\":\"x2\",\"domain\":[0.0,0.2866666666666666],\"matches\":\"y\",\"showticklabels\":false},\"xaxis3\":{\"anchor\":\"y3\",\"domain\":[0.0,0.49],\"matches\":\"x\",\"showticklabels\":false,\"title\":{\"text\":\"\"}},\"yaxis3\":{\"anchor\":\"x3\",\"domain\":[0.35666666666666663,0.6433333333333333],\"matches\":\"y\",\"title\":{\"text\":\"gender\"}},\"xaxis4\":{\"anchor\":\"y4\",\"domain\":[0.51,1.0],\"matches\":\"x\",\"showticklabels\":false,\"title\":{\"text\":\"\"}},\"yaxis4\":{\"anchor\":\"x4\",\"domain\":[0.35666666666666663,0.6433333333333333],\"matches\":\"y\",\"showticklabels\":false},\"xaxis5\":{\"anchor\":\"y5\",\"domain\":[0.0,0.49],\"matches\":\"x\",\"showticklabels\":false,\"title\":{\"text\":\"\"}},\"yaxis5\":{\"anchor\":\"x5\",\"domain\":[0.7133333333333333,0.9999999999999999],\"matches\":\"y\",\"title\":{\"text\":\"gender\"}},\"xaxis6\":{\"anchor\":\"y6\",\"domain\":[0.51,1.0],\"matches\":\"x\",\"showticklabels\":false,\"title\":{\"text\":\"\"}},\"yaxis6\":{\"anchor\":\"x6\",\"domain\":[0.7133333333333333,0.9999999999999999],\"matches\":\"y\",\"showticklabels\":false},\"annotations\":[{\"font\":{},\"showarrow\":false,\"text\":\"E\",\"x\":0.245,\"xanchor\":\"center\",\"xref\":\"paper\",\"y\":0.2866666666666666,\"yanchor\":\"bottom\",\"yref\":\"paper\"},{\"font\":{},\"showarrow\":false,\"text\":\"F\",\"x\":0.755,\"xanchor\":\"center\",\"xref\":\"paper\",\"y\":0.2866666666666666,\"yanchor\":\"bottom\",\"yref\":\"paper\"},{\"font\":{},\"showarrow\":false,\"text\":\"C\",\"x\":0.245,\"xanchor\":\"center\",\"xref\":\"paper\",\"y\":0.6433333333333333,\"yanchor\":\"bottom\",\"yref\":\"paper\"},{\"font\":{},\"showarrow\":false,\"text\":\"D\",\"x\":0.755,\"xanchor\":\"center\",\"xref\":\"paper\",\"y\":0.6433333333333333,\"yanchor\":\"bottom\",\"yref\":\"paper\"},{\"font\":{},\"showarrow\":false,\"text\":\"A\",\"x\":0.245,\"xanchor\":\"center\",\"xref\":\"paper\",\"y\":0.9999999999999999,\"yanchor\":\"bottom\",\"yref\":\"paper\"},{\"font\":{},\"showarrow\":false,\"text\":\"B\",\"x\":0.755,\"xanchor\":\"center\",\"xref\":\"paper\",\"y\":0.9999999999999999,\"yanchor\":\"bottom\",\"yref\":\"paper\"}],\"legend\":{\"title\":{\"text\":\"Admitted\"},\"tracegroupgap\":0},\"margin\":{\"t\":60},\"barmode\":\"relative\",\"barnorm\":\"percent\",\"title\":{\"text\":\"Percent male and female applications\",\"x\":0.5},\"autosize\":false,\"width\":800,\"height\":500},                        {\"responsive\": true}                    ).then(function(){\n",
       "                            \n",
       "var gd = document.getElementById('376f08f3-9b30-43f0-bb25-b495a51bb825');\n",
       "var x = new MutationObserver(function (mutations, observer) {{\n",
       "        var display = window.getComputedStyle(gd).display;\n",
       "        if (!display || display === 'none') {{\n",
       "            console.log([gd, 'removed!']);\n",
       "            Plotly.purge(gd);\n",
       "            observer.disconnect();\n",
       "        }}\n",
       "}});\n",
       "\n",
       "// Listen for the removal of the full notebook cells\n",
       "var notebookContainer = gd.closest('#notebook-container');\n",
       "if (notebookContainer) {{\n",
       "    x.observe(notebookContainer, {childList: true});\n",
       "}}\n",
       "\n",
       "// Listen for the clearing of the current output cell\n",
       "var outputEl = gd.closest('.output');\n",
       "if (outputEl) {{\n",
       "    x.observe(outputEl, {childList: true});\n",
       "}}\n",
       "\n",
       "                        })                };                });            </script>        </div>"
      ]
     },
     "metadata": {},
     "output_type": "display_data"
    }
   ],
   "source": [
    "fig = px.histogram(DF_melt,\n",
    "                   y='gender',\n",
    "                   x='Number',\n",
    "                   barnorm = \"percent\",\n",
    "                   color='admitted',\n",
    "                   facet_col='Department',\n",
    "                   facet_col_wrap=2,\n",
    "                   color_discrete_map = {'No':'#99d8c9','Yes':'#2ca25f'})\n",
    "\n",
    "fig.for_each_annotation(lambda a: a.update(text=a.text.split(\"=\")[1]))\n",
    "fig.update_xaxes(title_text='')\n",
    "\n",
    "fig.update_layout(title='Percent male and female applications',\n",
    "                  title_x=0.5,\n",
    "                  template=\"plotly_white\",\n",
    "                  xaxis_title=\"\",\n",
    "                  yaxis_title=\"Gender\",\n",
    "                  legend_title='Admitted',\n",
    "                  autosize=False,\n",
    "                  width=800,\n",
    "                  height=500)\n",
    "\n",
    "fig.show()"
   ]
  },
  {
   "cell_type": "markdown",
   "id": "a40fab13-19ce-4835-8a0c-145796c99d93",
   "metadata": {},
   "source": [
    "------------------------\n",
    "------------------------\n",
    "\n",
    "## Homework - Exercises\n",
    "\n",
    "** Homework content and data from Data Science in a Box - he-05-legos.Rmd\n",
    "\n",
    "This week we'll do some data gymnastics to refresh and review what we learned over the past few weeks using (**simulated**) data from Lego sales in 2018 for a sample of customers who bought Legos in the US. This is different than the data we used on the Exam!\n",
    "\n",
    "\n",
    "### Data"
   ]
  },
  {
   "cell_type": "code",
   "execution_count": 470,
   "id": "c5775204-ebb3-4e1c-a300-d4985aec01d5",
   "metadata": {},
   "outputs": [
    {
     "data": {
      "text/html": [
       "<div>\n",
       "<style scoped>\n",
       "    .dataframe tbody tr th:only-of-type {\n",
       "        vertical-align: middle;\n",
       "    }\n",
       "\n",
       "    .dataframe tbody tr th {\n",
       "        vertical-align: top;\n",
       "    }\n",
       "\n",
       "    .dataframe thead th {\n",
       "        text-align: right;\n",
       "    }\n",
       "</style>\n",
       "<table border=\"1\" class=\"dataframe\">\n",
       "  <thead>\n",
       "    <tr style=\"text-align: right;\">\n",
       "      <th></th>\n",
       "      <th>first_name</th>\n",
       "      <th>last_name</th>\n",
       "      <th>age</th>\n",
       "      <th>phone_number</th>\n",
       "      <th>set_id</th>\n",
       "      <th>number</th>\n",
       "      <th>theme</th>\n",
       "      <th>subtheme</th>\n",
       "      <th>year</th>\n",
       "      <th>name</th>\n",
       "      <th>pieces</th>\n",
       "      <th>us_price</th>\n",
       "      <th>image_url</th>\n",
       "      <th>quantity</th>\n",
       "    </tr>\n",
       "  </thead>\n",
       "  <tbody>\n",
       "    <tr>\n",
       "      <th>0</th>\n",
       "      <td>Kimberly</td>\n",
       "      <td>Beckstead</td>\n",
       "      <td>24</td>\n",
       "      <td>216-555-2549</td>\n",
       "      <td>24701</td>\n",
       "      <td>76062</td>\n",
       "      <td>DC Comics Super Heroes</td>\n",
       "      <td>Mighty Micros</td>\n",
       "      <td>2018</td>\n",
       "      <td>Robin vs. Bane</td>\n",
       "      <td>77.0</td>\n",
       "      <td>9.99</td>\n",
       "      <td>http://images.brickset.com/sets/images/76062-1...</td>\n",
       "      <td>1</td>\n",
       "    </tr>\n",
       "    <tr>\n",
       "      <th>1</th>\n",
       "      <td>Neel</td>\n",
       "      <td>Garvin</td>\n",
       "      <td>35</td>\n",
       "      <td>819-555-3189</td>\n",
       "      <td>25626</td>\n",
       "      <td>70595</td>\n",
       "      <td>Ninjago</td>\n",
       "      <td>Rise of the Villains</td>\n",
       "      <td>2018</td>\n",
       "      <td>Ultra Stealth Raider</td>\n",
       "      <td>1093.0</td>\n",
       "      <td>119.99</td>\n",
       "      <td>http://images.brickset.com/sets/images/70595-1...</td>\n",
       "      <td>1</td>\n",
       "    </tr>\n",
       "    <tr>\n",
       "      <th>2</th>\n",
       "      <td>Neel</td>\n",
       "      <td>Garvin</td>\n",
       "      <td>35</td>\n",
       "      <td>819-555-3189</td>\n",
       "      <td>24665</td>\n",
       "      <td>21031</td>\n",
       "      <td>Architecture</td>\n",
       "      <td>NaN</td>\n",
       "      <td>2018</td>\n",
       "      <td>Burj Khalifa</td>\n",
       "      <td>333.0</td>\n",
       "      <td>39.99</td>\n",
       "      <td>http://images.brickset.com/sets/images/21031-1...</td>\n",
       "      <td>1</td>\n",
       "    </tr>\n",
       "    <tr>\n",
       "      <th>3</th>\n",
       "      <td>Chelsea</td>\n",
       "      <td>Bouchard</td>\n",
       "      <td>41</td>\n",
       "      <td>NaN</td>\n",
       "      <td>24695</td>\n",
       "      <td>31048</td>\n",
       "      <td>Creator</td>\n",
       "      <td>NaN</td>\n",
       "      <td>2018</td>\n",
       "      <td>Lakeside Lodge</td>\n",
       "      <td>368.0</td>\n",
       "      <td>29.99</td>\n",
       "      <td>http://images.brickset.com/sets/images/31048-1...</td>\n",
       "      <td>1</td>\n",
       "    </tr>\n",
       "    <tr>\n",
       "      <th>4</th>\n",
       "      <td>Chelsea</td>\n",
       "      <td>Bouchard</td>\n",
       "      <td>41</td>\n",
       "      <td>NaN</td>\n",
       "      <td>25626</td>\n",
       "      <td>70595</td>\n",
       "      <td>Ninjago</td>\n",
       "      <td>Rise of the Villains</td>\n",
       "      <td>2018</td>\n",
       "      <td>Ultra Stealth Raider</td>\n",
       "      <td>1093.0</td>\n",
       "      <td>119.99</td>\n",
       "      <td>http://images.brickset.com/sets/images/70595-1...</td>\n",
       "      <td>1</td>\n",
       "    </tr>\n",
       "    <tr>\n",
       "      <th>...</th>\n",
       "      <td>...</td>\n",
       "      <td>...</td>\n",
       "      <td>...</td>\n",
       "      <td>...</td>\n",
       "      <td>...</td>\n",
       "      <td>...</td>\n",
       "      <td>...</td>\n",
       "      <td>...</td>\n",
       "      <td>...</td>\n",
       "      <td>...</td>\n",
       "      <td>...</td>\n",
       "      <td>...</td>\n",
       "      <td>...</td>\n",
       "      <td>...</td>\n",
       "    </tr>\n",
       "    <tr>\n",
       "      <th>615</th>\n",
       "      <td>Talise</td>\n",
       "      <td>Nieukirk</td>\n",
       "      <td>16</td>\n",
       "      <td>801-555-2343</td>\n",
       "      <td>24902</td>\n",
       "      <td>41556</td>\n",
       "      <td>Mixels</td>\n",
       "      <td>Series 7</td>\n",
       "      <td>2018</td>\n",
       "      <td>Tiketz</td>\n",
       "      <td>62.0</td>\n",
       "      <td>4.99</td>\n",
       "      <td>http://images.brickset.com/sets/images/41556-1...</td>\n",
       "      <td>2</td>\n",
       "    </tr>\n",
       "    <tr>\n",
       "      <th>616</th>\n",
       "      <td>Spencer</td>\n",
       "      <td>Morgan</td>\n",
       "      <td>28</td>\n",
       "      <td>784-555-3455</td>\n",
       "      <td>26041</td>\n",
       "      <td>41580</td>\n",
       "      <td>Mixels</td>\n",
       "      <td>Series 9</td>\n",
       "      <td>2018</td>\n",
       "      <td>Myke</td>\n",
       "      <td>63.0</td>\n",
       "      <td>4.99</td>\n",
       "      <td>NaN</td>\n",
       "      <td>2</td>\n",
       "    </tr>\n",
       "    <tr>\n",
       "      <th>617</th>\n",
       "      <td>Spencer</td>\n",
       "      <td>Morgan</td>\n",
       "      <td>28</td>\n",
       "      <td>784-555-3455</td>\n",
       "      <td>26060</td>\n",
       "      <td>5005051</td>\n",
       "      <td>Gear</td>\n",
       "      <td>Digital Media</td>\n",
       "      <td>2018</td>\n",
       "      <td>Friends of Heartlake City Girlz 4 Life</td>\n",
       "      <td>NaN</td>\n",
       "      <td>19.99</td>\n",
       "      <td>NaN</td>\n",
       "      <td>1</td>\n",
       "    </tr>\n",
       "    <tr>\n",
       "      <th>618</th>\n",
       "      <td>Amelia</td>\n",
       "      <td>Hageman</td>\n",
       "      <td>40</td>\n",
       "      <td>336-555-1950</td>\n",
       "      <td>24702</td>\n",
       "      <td>76063</td>\n",
       "      <td>DC Comics Super Heroes</td>\n",
       "      <td>Mighty Micros</td>\n",
       "      <td>2018</td>\n",
       "      <td>The Flash vs. Captain Cold</td>\n",
       "      <td>88.0</td>\n",
       "      <td>9.99</td>\n",
       "      <td>http://images.brickset.com/sets/images/76063-1...</td>\n",
       "      <td>2</td>\n",
       "    </tr>\n",
       "    <tr>\n",
       "      <th>619</th>\n",
       "      <td>Amelia</td>\n",
       "      <td>Hageman</td>\n",
       "      <td>40</td>\n",
       "      <td>336-555-1950</td>\n",
       "      <td>24720</td>\n",
       "      <td>10830</td>\n",
       "      <td>Duplo</td>\n",
       "      <td>NaN</td>\n",
       "      <td>2018</td>\n",
       "      <td>Minnie's Café</td>\n",
       "      <td>27.0</td>\n",
       "      <td>19.99</td>\n",
       "      <td>http://images.brickset.com/sets/images/10830-1...</td>\n",
       "      <td>4</td>\n",
       "    </tr>\n",
       "  </tbody>\n",
       "</table>\n",
       "<p>620 rows × 14 columns</p>\n",
       "</div>"
      ],
      "text/plain": [
       "    first_name  last_name  age  phone_number  set_id   number  \\\n",
       "0     Kimberly  Beckstead   24  216-555-2549   24701    76062   \n",
       "1         Neel     Garvin   35  819-555-3189   25626    70595   \n",
       "2         Neel     Garvin   35  819-555-3189   24665    21031   \n",
       "3      Chelsea   Bouchard   41           NaN   24695    31048   \n",
       "4      Chelsea   Bouchard   41           NaN   25626    70595   \n",
       "..         ...        ...  ...           ...     ...      ...   \n",
       "615     Talise   Nieukirk   16  801-555-2343   24902    41556   \n",
       "616    Spencer     Morgan   28  784-555-3455   26041    41580   \n",
       "617    Spencer     Morgan   28  784-555-3455   26060  5005051   \n",
       "618     Amelia    Hageman   40  336-555-1950   24702    76063   \n",
       "619     Amelia    Hageman   40  336-555-1950   24720    10830   \n",
       "\n",
       "                      theme              subtheme  year  \\\n",
       "0    DC Comics Super Heroes         Mighty Micros  2018   \n",
       "1                   Ninjago  Rise of the Villains  2018   \n",
       "2              Architecture                   NaN  2018   \n",
       "3                   Creator                   NaN  2018   \n",
       "4                   Ninjago  Rise of the Villains  2018   \n",
       "..                      ...                   ...   ...   \n",
       "615                  Mixels              Series 7  2018   \n",
       "616                  Mixels              Series 9  2018   \n",
       "617                    Gear         Digital Media  2018   \n",
       "618  DC Comics Super Heroes         Mighty Micros  2018   \n",
       "619                   Duplo                   NaN  2018   \n",
       "\n",
       "                                       name  pieces  us_price  \\\n",
       "0                            Robin vs. Bane    77.0      9.99   \n",
       "1                      Ultra Stealth Raider  1093.0    119.99   \n",
       "2                              Burj Khalifa   333.0     39.99   \n",
       "3                            Lakeside Lodge   368.0     29.99   \n",
       "4                      Ultra Stealth Raider  1093.0    119.99   \n",
       "..                                      ...     ...       ...   \n",
       "615                                  Tiketz    62.0      4.99   \n",
       "616                                    Myke    63.0      4.99   \n",
       "617  Friends of Heartlake City Girlz 4 Life     NaN     19.99   \n",
       "618              The Flash vs. Captain Cold    88.0      9.99   \n",
       "619                           Minnie's Café    27.0     19.99   \n",
       "\n",
       "                                             image_url  quantity  \n",
       "0    http://images.brickset.com/sets/images/76062-1...         1  \n",
       "1    http://images.brickset.com/sets/images/70595-1...         1  \n",
       "2    http://images.brickset.com/sets/images/21031-1...         1  \n",
       "3    http://images.brickset.com/sets/images/31048-1...         1  \n",
       "4    http://images.brickset.com/sets/images/70595-1...         1  \n",
       "..                                                 ...       ...  \n",
       "615  http://images.brickset.com/sets/images/41556-1...         2  \n",
       "616                                                NaN         2  \n",
       "617                                                NaN         1  \n",
       "618  http://images.brickset.com/sets/images/76063-1...         2  \n",
       "619  http://images.brickset.com/sets/images/10830-1...         4  \n",
       "\n",
       "[620 rows x 14 columns]"
      ]
     },
     "execution_count": 470,
     "metadata": {},
     "output_type": "execute_result"
    }
   ],
   "source": [
    "file_name = 'data/lego-sales.csv'\n",
    "DF = pd.read_csv(file_name)\n",
    "DF"
   ]
  },
  {
   "cell_type": "markdown",
   "id": "b2474002-893e-4c33-8229-d9fb8a3f4b29",
   "metadata": {},
   "source": [
    "### Exercises\n",
    "\n",
    "* Answer the following questions using reproducible Python code.\n",
    "* For each question, state your answer in a sentence, e.g. \"In this sample, the first three common names of purchasers are ...\".\n",
    "* Note that the answers to all questions are within the context of this particular sample of sales, i.e. you shouldn't make inferences about the population of all Lego sales based on this sample.\n",
    "\n",
    "-------------\n",
    "\n",
    "1.  Describe what you see in the data set (variables, observations, etc)\n",
    "\n",
    "2.  What are the three most common first names of purchasers?\n",
    "\n",
    "3.  What are the three most common themes of Lego sets purchased?\n",
    "\n",
    "4.  Among the most common theme of Lego sets purchased, what is the most common subtheme?\n",
    "\n",
    "5.  Create data frames for each of the ages in the following categories: \"18 and under\", \"19 - 25\", \"26 - 35\", \"36 - 50\", \"51 and over\". HINT - use masks and create separate data frames -OR- create a new column with these categorical labels (more advanced).\n",
    "\n",
    "6.  Which age group has purchased the highest number of Lego sets.\n",
    "\n",
    "7.  Which age group has spent the most money on Legos?\n",
    "\n",
    "8.  Which Lego theme has made the most money for Lego? HINT: Simpler than #5, just use a groupby()\n",
    "\n",
    "9.  Which area code has spent the most money on Legos? In the US the area code is the first 3 digits of a phone number. HINT: You will need to split the phone number and get just the first three. You decided what to do about reporting the NaNs.\n",
    "\n",
    "10.  Come up with a question you want to answer using these data, and write it down. Then, create a data visualization that answers the question, and explain how your visualization answers the question."
   ]
  },
  {
   "cell_type": "code",
   "execution_count": 472,
   "id": "e10cadd5-2d97-4f13-be56-816e4c7bc99e",
   "metadata": {},
   "outputs": [
    {
     "data": {
      "text/plain": [
       "Index(['first_name', 'last_name', 'age', 'phone_number', 'set_id', 'number',\n",
       "       'theme', 'subtheme', 'year', 'name', 'pieces', 'us_price', 'image_url',\n",
       "       'quantity'],\n",
       "      dtype='object')"
      ]
     },
     "execution_count": 472,
     "metadata": {},
     "output_type": "execute_result"
    }
   ],
   "source": [
    "DF.keys()"
   ]
  },
  {
   "cell_type": "markdown",
   "id": "1b31afe2-474d-42db-b4cf-01df4f5b1e38",
   "metadata": {},
   "source": [
    "1. Describe what you see in the data set (variables, observations, etc)\n",
    "\n",
    "There are 620 observations and 14 columns. It shows the purchase info of customers, including their name, age, phone number, and information about the set they purchased.\n"
   ]
  },
  {
   "cell_type": "code",
   "execution_count": 474,
   "id": "51dd8ef4-a8f8-4e1c-b9c3-87dbab560f4f",
   "metadata": {},
   "outputs": [
    {
     "data": {
      "text/plain": [
       "first_name\n",
       "Jackson       13\n",
       "Joseph        11\n",
       "Jacob         11\n",
       "Michael       10\n",
       "Kaitlyn        8\n",
       "              ..\n",
       "Gunnar         1\n",
       "David          1\n",
       "Lawrence       1\n",
       "John'Dunae     1\n",
       "Kimberly       1\n",
       "Name: count, Length: 211, dtype: int64"
      ]
     },
     "execution_count": 474,
     "metadata": {},
     "output_type": "execute_result"
    }
   ],
   "source": [
    "DF['first_name'].value_counts()"
   ]
  },
  {
   "cell_type": "markdown",
   "id": "cbfd1014-0649-411a-89cb-c277a532c379",
   "metadata": {},
   "source": [
    "2. What are the three most common first names of purchasers?\n",
    "\n",
    "Jackson, Joseph, and Jacob are the three most common first names of purchasers."
   ]
  },
  {
   "cell_type": "code",
   "execution_count": 476,
   "id": "c82c626e-61b2-4046-8344-921d4249b35a",
   "metadata": {},
   "outputs": [
    {
     "data": {
      "text/plain": [
       "theme\n",
       "Star Wars                  75\n",
       "Nexo Knights               64\n",
       "Gear                       55\n",
       "Mixels                     55\n",
       "City                       45\n",
       "Friends                    42\n",
       "Ninjago                    38\n",
       "Duplo                      35\n",
       "Bionicle                   34\n",
       "Creator                    25\n",
       "DC Comics Super Heroes     22\n",
       "Elves                      22\n",
       "Marvel Super Heroes        19\n",
       "Dimensions                 18\n",
       "Disney Princess            15\n",
       "The Angry Birds Movie      11\n",
       "Technic                    10\n",
       "Architecture               10\n",
       "Minecraft                   9\n",
       "Advanced Models             4\n",
       "Ghostbusters                3\n",
       "Seasonal                    3\n",
       "Collectable Minifigures     3\n",
       "Ideas                       2\n",
       "Classic                     1\n",
       "Name: count, dtype: int64"
      ]
     },
     "execution_count": 476,
     "metadata": {},
     "output_type": "execute_result"
    }
   ],
   "source": [
    "DF['theme'].value_counts()"
   ]
  },
  {
   "cell_type": "markdown",
   "id": "c30d8c0e-525d-41ea-9c3f-104d74282732",
   "metadata": {},
   "source": [
    "3. What are the three most common themes of Lego sets purchased?\n",
    "\n",
    "Star Wars, Nexo Knights, and Gear are the three most common themes of Lego sets purchased."
   ]
  },
  {
   "cell_type": "code",
   "execution_count": 478,
   "id": "6c8f5350-690e-4447-b467-44213fe7d7dc",
   "metadata": {},
   "outputs": [
    {
     "data": {
      "text/html": [
       "<table id=\"itables_703c7c56_859c_4ced_98d8_cda3ac02ae15\" class=\"display nowrap\" data-quarto-disable-processing=\"true\" style=\"table-layout:auto;width:auto;margin:auto;caption-side:bottom\">\n",
       "<thead>\n",
       "    <tr style=\"text-align: right;\">\n",
       "      <th></th>\n",
       "      <th>first_name</th>\n",
       "      <th>last_name</th>\n",
       "      <th>age</th>\n",
       "      <th>phone_number</th>\n",
       "      <th>set_id</th>\n",
       "      <th>number</th>\n",
       "      <th>theme</th>\n",
       "      <th>subtheme</th>\n",
       "      <th>year</th>\n",
       "      <th>name</th>\n",
       "      <th>pieces</th>\n",
       "      <th>us_price</th>\n",
       "      <th>image_url</th>\n",
       "      <th>quantity</th>\n",
       "    </tr>\n",
       "  </thead><tbody><tr>\n",
       "<td style=\"vertical-align:middle; text-align:left\">\n",
       "<div style=\"float:left; margin-right: 10px;\">\n",
       "<a href=https://mwouts.github.io/itables/><svg class=\"main-svg\" xmlns=\"http://www.w3.org/2000/svg\" xmlns:xlink=\"http://www.w3.org/1999/xlink\"\n",
       "width=\"64\" viewBox=\"0 0 500 400\" style=\"font-family: 'Droid Sans', sans-serif;\">\n",
       "    <g style=\"fill:#d9d7fc\">\n",
       "        <path d=\"M100,400H500V357H100Z\" />\n",
       "        <path d=\"M100,300H400V257H100Z\" />\n",
       "        <path d=\"M0,200H400V157H0Z\" />\n",
       "        <path d=\"M100,100H500V57H100Z\" />\n",
       "        <path d=\"M100,350H500V307H100Z\" />\n",
       "        <path d=\"M100,250H400V207H100Z\" />\n",
       "        <path d=\"M0,150H400V107H0Z\" />\n",
       "        <path d=\"M100,50H500V7H100Z\" />\n",
       "    </g>\n",
       "    <g style=\"fill:#1a1366;stroke:#1a1366;\">\n",
       "   <rect x=\"100\" y=\"7\" width=\"400\" height=\"43\">\n",
       "    <animate\n",
       "      attributeName=\"width\"\n",
       "      values=\"0;400;0\"\n",
       "      dur=\"5s\"\n",
       "      repeatCount=\"indefinite\" />\n",
       "      <animate\n",
       "      attributeName=\"x\"\n",
       "      values=\"100;100;500\"\n",
       "      dur=\"5s\"\n",
       "      repeatCount=\"indefinite\" />\n",
       "  </rect>\n",
       "        <rect x=\"0\" y=\"107\" width=\"400\" height=\"43\">\n",
       "    <animate\n",
       "      attributeName=\"width\"\n",
       "      values=\"0;400;0\"\n",
       "      dur=\"3.5s\"\n",
       "      repeatCount=\"indefinite\" />\n",
       "    <animate\n",
       "      attributeName=\"x\"\n",
       "      values=\"0;0;400\"\n",
       "      dur=\"3.5s\"\n",
       "      repeatCount=\"indefinite\" />\n",
       "  </rect>\n",
       "        <rect x=\"100\" y=\"207\" width=\"300\" height=\"43\">\n",
       "    <animate\n",
       "      attributeName=\"width\"\n",
       "      values=\"0;300;0\"\n",
       "      dur=\"3s\"\n",
       "      repeatCount=\"indefinite\" />\n",
       "    <animate\n",
       "      attributeName=\"x\"\n",
       "      values=\"100;100;400\"\n",
       "      dur=\"3s\"\n",
       "      repeatCount=\"indefinite\" />\n",
       "  </rect>\n",
       "        <rect x=\"100\" y=\"307\" width=\"400\" height=\"43\">\n",
       "    <animate\n",
       "      attributeName=\"width\"\n",
       "      values=\"0;400;0\"\n",
       "      dur=\"4s\"\n",
       "      repeatCount=\"indefinite\" />\n",
       "      <animate\n",
       "      attributeName=\"x\"\n",
       "      values=\"100;100;500\"\n",
       "      dur=\"4s\"\n",
       "      repeatCount=\"indefinite\" />\n",
       "  </rect>\n",
       "        <g style=\"fill:transparent;stroke-width:8; stroke-linejoin:round\" rx=\"5\">\n",
       "            <g transform=\"translate(45 50) rotate(-45)\">\n",
       "                <circle r=\"33\" cx=\"0\" cy=\"0\" />\n",
       "                <rect x=\"-8\" y=\"32\" width=\"16\" height=\"30\" />\n",
       "            </g>\n",
       "\n",
       "            <g transform=\"translate(450 152)\">\n",
       "                <polyline points=\"-15,-20 -35,-20 -35,40 25,40 25,20\" />\n",
       "                <rect x=\"-15\" y=\"-40\" width=\"60\" height=\"60\" />\n",
       "            </g>\n",
       "\n",
       "            <g transform=\"translate(50 352)\">\n",
       "                <polygon points=\"-35,-5 0,-40 35,-5\" />\n",
       "                <polygon points=\"-35,10 0,45 35,10\" />\n",
       "            </g>\n",
       "\n",
       "            <g transform=\"translate(75 250)\">\n",
       "                <polyline points=\"-30,30 -60,0 -30,-30\" />\n",
       "                <polyline points=\"0,30 -30,0 0,-30\" />\n",
       "            </g>\n",
       "\n",
       "            <g transform=\"translate(425 250) rotate(180)\">\n",
       "                <polyline points=\"-30,30 -60,0 -30,-30\" />\n",
       "                <polyline points=\"0,30 -30,0 0,-30\" />\n",
       "            </g>\n",
       "        </g>\n",
       "    </g>\n",
       "</svg>\n",
       "</a>\n",
       "</div>\n",
       "<div>\n",
       "Loading ITables v2.1.4 from the internet...\n",
       "(need <a href=https://mwouts.github.io/itables/troubleshooting.html>help</a>?)</td>\n",
       "</div>\n",
       "</tr></tbody>\n",
       "\n",
       "</table>\n",
       "<link href=\"https://www.unpkg.com/dt_for_itables@2.0.11/dt_bundle.css\" rel=\"stylesheet\">\n",
       "<script type=\"module\">\n",
       "    import {DataTable, jQuery as $} from 'https://www.unpkg.com/dt_for_itables@2.0.11/dt_bundle.js';\n",
       "\n",
       "    document.querySelectorAll(\"#itables_703c7c56_859c_4ced_98d8_cda3ac02ae15:not(.dataTable)\").forEach(table => {\n",
       "        // Define the table data\n",
       "        const data = [[6, \"Bryanna\", \"Welsh\", 19, \"NaN\", 24797, \"75138\", \"Star Wars\", \"Episode V\", 2018, \"Hoth Attack\", 233.0, 24.99, \"http://images.brickset.com/sets/images/75138-1.jpg\", 1], [23, \"Amanda\", \"Tronnier\", 45, \"317-555-7477\", 24959, \"75139\", \"Star Wars\", \"The Force Awakens\", 2018, \"Battle on Takodana\", 409.0, 59.99, \"http://images.brickset.com/sets/images/75139-1.jpg\", 1], [28, \"Jacob\", \"Nzabanita\", 31, \"339-555-2572\", 24793, \"75133\", \"Star Wars\", \"Battlefront\", 2018, \"Rebel Alliance Battle Pack\", 101.0, 12.99, \"http://images.brickset.com/sets/images/75133-1.jpg\", 2], [30, \"Jacob\", \"Nzabanita\", 31, \"339-555-2572\", 25920, \"75151\", \"Star Wars\", \"Episode III\", 2018, \"Clone Turbo Tank\", 903.0, 109.99, \"http://images.brickset.com/sets/images/75151-1.jpg\", 1], [38, \"Riley\", \"Ott\", 51, \"517-555-2093\", 24785, \"75126\", \"Star Wars\", \"MicroFighters\", 2018, \"First Order Snowspeeder\", 91.0, 9.99, \"http://images.brickset.com/sets/images/75126-1.jpg\", 2], [40, \"Hector\", \"Collins\", 20, \"340-555-2508\", 24781, \"75116\", \"Star Wars\", \"Buildable Figures\", 2018, \"Finn\", 98.0, 24.99, \"http://images.brickset.com/sets/images/75116-1.jpg\", 1], [42, \"Hector\", \"Collins\", 20, \"340-555-2508\", 24627, \"75098\", \"Star Wars\", \"Ultimate Collector Series\", 2018, \"Assault on Hoth\", 2144.0, 249.99, \"http://images.brickset.com/sets/images/75098-1.jpg\", 1], [53, \"Cecilia\", \"Mauro\", 50, \"NaN\", 25921, \"75157\", \"Star Wars\", \"Rebels\", 2018, \"Captain Rex's AT-TE\", 972.0, 119.99, \"http://images.brickset.com/sets/images/75157-1.jpg\", 3], [60, \"Connor\", \"Fourzan\", 32, \"805-555-3065\", 24789, \"75130\", \"Star Wars\", \"MicroFighters\", 2018, \"AT-DP\", 76.0, 9.99, \"http://images.brickset.com/sets/images/75130-1.jpg\", 1], [69, \"Keno\", \"Graves\", 51, \"209-555-6030\", 25898, \"75145\", \"Star Wars\", \"Original Content\", 2018, \"Eclipse Fighter\", 363.0, 29.99, \"http://images.brickset.com/sets/images/75145-1.jpg\", 1], [99, \"Connor\", \"Padilla\", 36, \"441-555-6534\", 24797, \"75138\", \"Star Wars\", \"Episode V\", 2018, \"Hoth Attack\", 233.0, 24.99, \"http://images.brickset.com/sets/images/75138-1.jpg\", 1], [105, \"Caroline\", \"Holstein\", 38, \"318-555-7894\", 24798, \"75140\", \"Star Wars\", \"The Force Awakens\", 2018, \"Resistance Troop Transporter\", 646.0, 69.99, \"http://images.brickset.com/sets/images/75140-1.jpg\", 1], [108, \"Caroline\", \"Holstein\", 38, \"318-555-7894\", 24959, \"75139\", \"Star Wars\", \"The Force Awakens\", 2018, \"Battle on Takodana\", 409.0, 59.99, \"http://images.brickset.com/sets/images/75139-1.jpg\", 1], [113, \"Binh\", \"Skalla\", 23, \"NaN\", 24781, \"75116\", \"Star Wars\", \"Buildable Figures\", 2018, \"Finn\", 98.0, 24.99, \"http://images.brickset.com/sets/images/75116-1.jpg\", 1], [119, \"Jacob\", \"Barron\", 27, \"319-555-6104\", 24792, \"75134\", \"Star Wars\", \"Battlefront\", 2018, \"Galactic Empire Battle Pack\", 109.0, 12.99, \"http://images.brickset.com/sets/images/75134-1.jpg\", 2], [136, \"Xavier\", \"Suazo\", 27, \"321-555-0605\", 24779, \"75114\", \"Star Wars\", \"Buildable Figures\", 2018, \"First Order Stormtrooper\", 81.0, 19.99, \"http://images.brickset.com/sets/images/75114-1.jpg\", 1], [144, \"Taylor\", \"Allen\", 41, \"760-555-8123\", 25923, \"75147\", \"Star Wars\", \"Original Content\", 2018, \"Star Scavenger\", 558.0, 49.99, \"http://images.brickset.com/sets/images/75147-1.jpg\", 2], [155, \"Reyes\", \"Wilson\", 33, \"605-555-2774\", 24793, \"75133\", \"Star Wars\", \"Battlefront\", 2018, \"Rebel Alliance Battle Pack\", 101.0, 12.99, \"http://images.brickset.com/sets/images/75133-1.jpg\", 2], [156, \"Avery\", \"Leung\", 33, \"330-555-2699\", 24781, \"75116\", \"Star Wars\", \"Buildable Figures\", 2018, \"Finn\", 98.0, 24.99, \"http://images.brickset.com/sets/images/75116-1.jpg\", 1], [170, \"Son\", \"Saldanha\", 30, \"507-555-2278\", 24793, \"75133\", \"Star Wars\", \"Battlefront\", 2018, \"Rebel Alliance Battle Pack\", 101.0, 12.99, \"http://images.brickset.com/sets/images/75133-1.jpg\", 2], [172, \"Katherine\", \"Beck\", 45, \"209-555-7105\", 24959, \"75139\", \"Star Wars\", \"The Force Awakens\", 2018, \"Battle on Takodana\", 409.0, 59.99, \"http://images.brickset.com/sets/images/75139-1.jpg\", 1], [176, \"Beemnet\", \"Masters\", 41, \"902-555-8429\", 24794, \"75135\", \"Star Wars\", \"Episode III\", 2018, \"Obi-Wan's Jedi Interceptor\", 215.0, 24.99, \"http://images.brickset.com/sets/images/75135-1.jpg\", 1], [180, \"Joshua\", \"Reyes\", 53, \"251-555-5985\", 25605, \"75146\", \"Star Wars\", \"Seasonal\", 2018, \"Star Wars Advent Calendar\", 282.0, 39.99, \"http://images.brickset.com/sets/images/75146-1.jpg\", 2], [181, \"Joshua\", \"Reyes\", 53, \"251-555-5985\", 24780, \"75115\", \"Star Wars\", \"Buildable Figures\", 2018, \"Poe Dameron\", 102.0, 24.99, \"http://images.brickset.com/sets/images/75115-1.jpg\", 3], [192, \"Demetri\", \"Do\", 21, \"541-555-1433\", 24794, \"75135\", \"Star Wars\", \"Episode III\", 2018, \"Obi-Wan's Jedi Interceptor\", 215.0, 24.99, \"http://images.brickset.com/sets/images/75135-1.jpg\", 1], [195, \"Joseph\", \"Ross\", 33, \"254-555-7628\", 24794, \"75135\", \"Star Wars\", \"Episode III\", 2018, \"Obi-Wan's Jedi Interceptor\", 215.0, 24.99, \"http://images.brickset.com/sets/images/75135-1.jpg\", 4], [200, \"Paige\", \"Wagner\", 35, \"860-555-1618\", 24798, \"75140\", \"Star Wars\", \"The Force Awakens\", 2018, \"Resistance Troop Transporter\", 646.0, 69.99, \"http://images.brickset.com/sets/images/75140-1.jpg\", 1], [212, \"Nerea\", \"Feldman\", 28, \"423-555-9631\", 25921, \"75157\", \"Star Wars\", \"Rebels\", 2018, \"Captain Rex's AT-TE\", 972.0, 119.99, \"http://images.brickset.com/sets/images/75157-1.jpg\", 2], [214, \"Julianna\", \"Stephens\", 34, \"403-555-9991\", 24797, \"75138\", \"Star Wars\", \"Episode V\", 2018, \"Hoth Attack\", 233.0, 24.99, \"http://images.brickset.com/sets/images/75138-1.jpg\", 1], [217, \"Ramon\", \"Walker-Reese\", 23, \"NaN\", 24796, \"75137\", \"Star Wars\", \"Episode V\", 2018, \"Carbon-Freezing Chamber\", 231.0, 24.99, \"http://images.brickset.com/sets/images/75137-1.jpg\", 1], [226, \"Melissa\", \"Holmberg\", 36, \"NaN\", 24791, \"75132\", \"Star Wars\", \"The Force Awakens\", 2018, \"First Order Battle Pack\", 88.0, 12.99, \"http://images.brickset.com/sets/images/75132-1.jpg\", 1], [228, \"Cody\", \"Gonzales\", 44, \"973-555-3236\", 25922, \"75149\", \"Star Wars\", \"The Force Awakens\", 2018, \"Resistance X-wing Fighter\", 740.0, 79.99, \"http://images.brickset.com/sets/images/75149-1.jpg\", 3], [239, \"John Jay\", \"Griego\", 50, \"710-555-8921\", 24795, \"75136\", \"Star Wars\", \"Episode IV\", 2018, \"Droid Escape Pod\", 197.0, 24.99, \"http://images.brickset.com/sets/images/75136-1.jpg\", 1], [244, \"Celia\", \"Foley\", 42, \"NaN\", 25605, \"75146\", \"Star Wars\", \"Seasonal\", 2018, \"Star Wars Advent Calendar\", 282.0, 39.99, \"http://images.brickset.com/sets/images/75146-1.jpg\", 2], [287, \"Serena\", \"Bartkowiak\", 16, \"305-555-2377\", 24778, \"75113\", \"Star Wars\", \"Buildable Figures\", 2018, \"Rey\", 84.0, 19.99, \"http://images.brickset.com/sets/images/75113-1.jpg\", 1], [304, \"Pa\", \"Strasser\", 26, \"830-555-7071\", 24795, \"75136\", \"Star Wars\", \"Episode IV\", 2018, \"Droid Escape Pod\", 197.0, 24.99, \"http://images.brickset.com/sets/images/75136-1.jpg\", 2], [311, \"Abraham\", \"Medlock\", 23, \"754-555-6047\", 24783, \"75118\", \"Star Wars\", \"Buildable Figures\", 2018, \"Captain Phasma\", 82.0, 24.99, \"http://images.brickset.com/sets/images/75118-1.jpg\", 1], [322, \"Makenzie\", \"Pitts\", 25, \"NaN\", 24792, \"75134\", \"Star Wars\", \"Battlefront\", 2018, \"Galactic Empire Battle Pack\", 109.0, 12.99, \"http://images.brickset.com/sets/images/75134-1.jpg\", 1], [325, \"Ramses\", \"Ackah Yensu\", 38, \"909-555-0851\", 24791, \"75132\", \"Star Wars\", \"The Force Awakens\", 2018, \"First Order Battle Pack\", 88.0, 12.99, \"http://images.brickset.com/sets/images/75132-1.jpg\", 1], [328, \"Ramses\", \"Ackah Yensu\", 38, \"909-555-0851\", 24796, \"75137\", \"Star Wars\", \"Episode V\", 2018, \"Carbon-Freezing Chamber\", 231.0, 24.99, \"http://images.brickset.com/sets/images/75137-1.jpg\", 2], [329, \"Christian\", \"Ortiviz Madrid\", 41, \"434-555-8176\", 24781, \"75116\", \"Star Wars\", \"Buildable Figures\", 2018, \"Finn\", 98.0, 24.99, \"http://images.brickset.com/sets/images/75116-1.jpg\", 3], [334, \"Jeffrey\", \"Cervantes\", 61, \"859-555-4454\", 24784, \"75125\", \"Star Wars\", \"MicroFighters\", 2018, \"Resistance X-wing Fighter\", 87.0, 9.99, \"http://images.brickset.com/sets/images/75125-1.jpg\", 1], [344, \"Chisa\", \"Pomeroy\", 39, \"617-555-1805\", 24788, \"75129\", \"Star Wars\", \"MicroFighters\", 2018, \"Wookiee Gunship\", 84.0, 9.99, \"http://images.brickset.com/sets/images/75129-1.jpg\", 1], [349, \"Senay\", \"Hildreth\", 30, \"607-555-8247\", 24798, \"75140\", \"Star Wars\", \"The Force Awakens\", 2018, \"Resistance Troop Transporter\", 646.0, 69.99, \"http://images.brickset.com/sets/images/75140-1.jpg\", 2], [360, \"Hanibal\", \"Vera\", 54, \"206-555-3697\", 24783, \"75118\", \"Star Wars\", \"Buildable Figures\", 2018, \"Captain Phasma\", 82.0, 24.99, \"http://images.brickset.com/sets/images/75118-1.jpg\", 2], [365, \"Jose\", \"Downing\", 53, \"415-555-4797\", 25923, \"75147\", \"Star Wars\", \"Original Content\", 2018, \"Star Scavenger\", 558.0, 49.99, \"http://images.brickset.com/sets/images/75147-1.jpg\", 1], [369, \"Justin\", \"Hiner\", 23, \"212-555-7274\", 24797, \"75138\", \"Star Wars\", \"Episode V\", 2018, \"Hoth Attack\", 233.0, 24.99, \"http://images.brickset.com/sets/images/75138-1.jpg\", 1], [373, \"Sergey\", \"Lapp\", 56, \"802-555-5261\", 25923, \"75147\", \"Star Wars\", \"Original Content\", 2018, \"Star Scavenger\", 558.0, 49.99, \"http://images.brickset.com/sets/images/75147-1.jpg\", 1], [395, \"Blake\", \"Serota\", 44, \"952-555-3416\", 24785, \"75126\", \"Star Wars\", \"MicroFighters\", 2018, \"First Order Snowspeeder\", 91.0, 9.99, \"http://images.brickset.com/sets/images/75126-1.jpg\", 1], [428, \"India\", \"Rudy\", 39, \"NaN\", 24790, \"75131\", \"Star Wars\", \"The Force Awakens\", 2018, \"Resistance Trooper Battle Pack\", 112.0, 12.99, \"http://images.brickset.com/sets/images/75131-1.jpg\", 1], [433, \"Carolane\", \"Levosky\", 37, \"732-555-0913\", 24797, \"75138\", \"Star Wars\", \"Episode V\", 2018, \"Hoth Attack\", 233.0, 24.99, \"http://images.brickset.com/sets/images/75138-1.jpg\", 2], [441, \"Aaron\", \"Bruner\", 18, \"914-555-5003\", 24796, \"75137\", \"Star Wars\", \"Episode V\", 2018, \"Carbon-Freezing Chamber\", 231.0, 24.99, \"http://images.brickset.com/sets/images/75137-1.jpg\", 2], [456, \"Taylor\", \"Bruder\", 56, \"409-555-7986\", 24793, \"75133\", \"Star Wars\", \"Battlefront\", 2018, \"Rebel Alliance Battle Pack\", 101.0, 12.99, \"http://images.brickset.com/sets/images/75133-1.jpg\", 2], [484, \"Robert\", \"Buse\", 38, \"712-555-9533\", 24794, \"75135\", \"Star Wars\", \"Episode III\", 2018, \"Obi-Wan's Jedi Interceptor\", 215.0, 24.99, \"http://images.brickset.com/sets/images/75135-1.jpg\", 2], [485, \"Robert\", \"Buse\", 38, \"712-555-9533\", 24784, \"75125\", \"Star Wars\", \"MicroFighters\", 2018, \"Resistance X-wing Fighter\", 87.0, 9.99, \"http://images.brickset.com/sets/images/75125-1.jpg\", 1], [490, \"Ryan\", \"Marquez\", 25, \"281-555-0811\", 25898, \"75145\", \"Star Wars\", \"Original Content\", 2018, \"Eclipse Fighter\", 363.0, 29.99, \"http://images.brickset.com/sets/images/75145-1.jpg\", 1], [499, \"Josie\", \"Paley\", 38, \"807-555-3971\", 24796, \"75137\", \"Star Wars\", \"Episode V\", 2018, \"Carbon-Freezing Chamber\", 231.0, 24.99, \"http://images.brickset.com/sets/images/75137-1.jpg\", 2], [500, \"Josie\", \"Paley\", 38, \"807-555-3971\", 24781, \"75116\", \"Star Wars\", \"Buildable Figures\", 2018, \"Finn\", 98.0, 24.99, \"http://images.brickset.com/sets/images/75116-1.jpg\", 3], [502, \"Josie\", \"Paley\", 38, \"807-555-3971\", 24788, \"75129\", \"Star Wars\", \"MicroFighters\", 2018, \"Wookiee Gunship\", 84.0, 9.99, \"http://images.brickset.com/sets/images/75129-1.jpg\", 1], [513, \"Peyton\", \"Wiebe\", 29, \"281-555-8711\", 25922, \"75149\", \"Star Wars\", \"The Force Awakens\", 2018, \"Resistance X-wing Fighter\", 740.0, 79.99, \"http://images.brickset.com/sets/images/75149-1.jpg\", 1], [543, \"Megan\", \"Sweetman\", 30, \"567-555-4401\", 24959, \"75139\", \"Star Wars\", \"The Force Awakens\", 2018, \"Battle on Takodana\", 409.0, 59.99, \"http://images.brickset.com/sets/images/75139-1.jpg\", 2], [548, \"John\", \"Leavell\", 39, \"843-555-8490\", 24786, \"75127\", \"Star Wars\", \"MicroFighters\", 2018, \"The Ghost\", 104.0, 9.99, \"http://images.brickset.com/sets/images/75127-1.jpg\", 1], [552, \"Angel\", \"Payne\", 62, \"NaN\", 25605, \"75146\", \"Star Wars\", \"Seasonal\", 2018, \"Star Wars Advent Calendar\", 282.0, 39.99, \"http://images.brickset.com/sets/images/75146-1.jpg\", 4], [553, \"Angel\", \"Payne\", 62, \"NaN\", 24793, \"75133\", \"Star Wars\", \"Battlefront\", 2018, \"Rebel Alliance Battle Pack\", 101.0, 12.99, \"http://images.brickset.com/sets/images/75133-1.jpg\", 1], [560, \"Joseph\", \"Holub\", 33, \"732-555-8846\", 25606, \"75148\", \"Star Wars\", \"The Force Awakens\", 2018, \"Encounter on Jakku\", 530.0, 59.99, \"http://images.brickset.com/sets/images/75148-1.jpg\", 1], [562, \"Joseph\", \"Holub\", 33, \"732-555-8846\", 24797, \"75138\", \"Star Wars\", \"Episode V\", 2018, \"Hoth Attack\", 233.0, 24.99, \"http://images.brickset.com/sets/images/75138-1.jpg\", 2], [564, \"Elias\", \"Garrett\", 50, \"832-555-9165\", 25898, \"75145\", \"Star Wars\", \"Original Content\", 2018, \"Eclipse Fighter\", 363.0, 29.99, \"http://images.brickset.com/sets/images/75145-1.jpg\", 1], [581, \"Tanner\", \"Dockstader\", 21, \"573-555-4274\", 24789, \"75130\", \"Star Wars\", \"MicroFighters\", 2018, \"AT-DP\", 76.0, 9.99, \"http://images.brickset.com/sets/images/75130-1.jpg\", 1], [586, \"Trenidy\", \"Embrey\", 26, \"215-555-1034\", 24779, \"75114\", \"Star Wars\", \"Buildable Figures\", 2018, \"First Order Stormtrooper\", 81.0, 19.99, \"http://images.brickset.com/sets/images/75114-1.jpg\", 1], [587, \"Trenidy\", \"Embrey\", 26, \"215-555-1034\", 24791, \"75132\", \"Star Wars\", \"The Force Awakens\", 2018, \"First Order Battle Pack\", 88.0, 12.99, \"http://images.brickset.com/sets/images/75132-1.jpg\", 3], [596, \"Dustin\", \"Vanvuuren\", 51, \"812-555-1009\", 25920, \"75151\", \"Star Wars\", \"Episode III\", 2018, \"Clone Turbo Tank\", 903.0, 109.99, \"http://images.brickset.com/sets/images/75151-1.jpg\", 1], [600, \"Juana\", \"Geisert\", 35, \"701-555-8100\", 25919, \"75150\", \"Star Wars\", \"Rebels\", 2018, \"Vader's TIE Advanced vs. A-wing Fighter\", 702.0, 89.99, \"http://images.brickset.com/sets/images/75150-1.jpg\", 2], [603, \"Benjamin\", \"Park\", 33, \"NaN\", 24785, \"75126\", \"Star Wars\", \"MicroFighters\", 2018, \"First Order Snowspeeder\", 91.0, 9.99, \"http://images.brickset.com/sets/images/75126-1.jpg\", 1], [604, \"Benjamin\", \"Park\", 33, \"NaN\", 25898, \"75145\", \"Star Wars\", \"Original Content\", 2018, \"Eclipse Fighter\", 363.0, 29.99, \"http://images.brickset.com/sets/images/75145-1.jpg\", 4], [614, \"Natalia\", \"Vonduyke\", 16, \"859-555-3818\", 25922, \"75149\", \"Star Wars\", \"The Force Awakens\", 2018, \"Resistance X-wing Fighter\", 740.0, 79.99, \"http://images.brickset.com/sets/images/75149-1.jpg\", 1]];\n",
       "\n",
       "        // Define the dt_args\n",
       "        let dt_args = {\"layout\": {\"topStart\": \"pageLength\", \"topEnd\": \"search\", \"bottomStart\": \"info\", \"bottomEnd\": \"paging\"}, \"order\": []};\n",
       "        dt_args[\"data\"] = data;\n",
       "\n",
       "        \n",
       "        new DataTable(table, dt_args);\n",
       "    });\n",
       "</script>\n"
      ],
      "text/plain": [
       "<IPython.core.display.HTML object>"
      ]
     },
     "metadata": {},
     "output_type": "display_data"
    }
   ],
   "source": [
    "masktheme = (DF['theme']== 'Star Wars')\n",
    "DFmasked = DF[masktheme]\n",
    "show(DFmasked)"
   ]
  },
  {
   "cell_type": "code",
   "execution_count": 479,
   "id": "979e328c-2e26-4b9b-a23a-2f282ea72af9",
   "metadata": {},
   "outputs": [
    {
     "data": {
      "text/plain": [
       "subtheme\n",
       "The Force Awakens            15\n",
       "Buildable Figures            11\n",
       "Episode V                    10\n",
       "MicroFighters                10\n",
       "Battlefront                   7\n",
       "Original Content              7\n",
       "Episode III                   6\n",
       "Rebels                        3\n",
       "Seasonal                      3\n",
       "Episode IV                    2\n",
       "Ultimate Collector Series     1\n",
       "Name: count, dtype: int64"
      ]
     },
     "execution_count": 479,
     "metadata": {},
     "output_type": "execute_result"
    }
   ],
   "source": [
    "DFmasked['subtheme'].value_counts()"
   ]
  },
  {
   "cell_type": "markdown",
   "id": "cbd7f395-4724-4acd-8430-39c20b2fe989",
   "metadata": {},
   "source": [
    "4. Among the most common theme of Lego sets purchased, what is the most common subtheme?\n",
    "\n",
    "Among the theme Star Wars, the most common subtheme is The Force Awakens."
   ]
  },
  {
   "cell_type": "markdown",
   "id": "79d28a2b-21a0-4c7a-a133-30c169f15426",
   "metadata": {},
   "source": [
    "5. Create data frames for each of the ages in the following categories: \"18 and under\", \"19 - 25\", \"26 - 35\", \"36 - 50\", \"51 and over\". HINT - use masks and create separate data frames -OR- create a new column with these categorical labels (more advanced)."
   ]
  },
  {
   "cell_type": "code",
   "execution_count": 482,
   "id": "07745a02-d680-4710-8e4d-c3f7525d97ae",
   "metadata": {},
   "outputs": [
    {
     "data": {
      "text/html": [
       "<table id=\"itables_3ec2c9f4_51fa_4f2f_9e09_5e808e738975\" class=\"display nowrap\" data-quarto-disable-processing=\"true\" style=\"table-layout:auto;width:auto;margin:auto;caption-side:bottom\">\n",
       "<thead>\n",
       "    <tr style=\"text-align: right;\">\n",
       "      <th></th>\n",
       "      <th>first_name</th>\n",
       "      <th>last_name</th>\n",
       "      <th>age</th>\n",
       "      <th>phone_number</th>\n",
       "      <th>set_id</th>\n",
       "      <th>number</th>\n",
       "      <th>theme</th>\n",
       "      <th>subtheme</th>\n",
       "      <th>year</th>\n",
       "      <th>name</th>\n",
       "      <th>pieces</th>\n",
       "      <th>us_price</th>\n",
       "      <th>image_url</th>\n",
       "      <th>quantity</th>\n",
       "    </tr>\n",
       "  </thead><tbody><tr>\n",
       "<td style=\"vertical-align:middle; text-align:left\">\n",
       "<div style=\"float:left; margin-right: 10px;\">\n",
       "<a href=https://mwouts.github.io/itables/><svg class=\"main-svg\" xmlns=\"http://www.w3.org/2000/svg\" xmlns:xlink=\"http://www.w3.org/1999/xlink\"\n",
       "width=\"64\" viewBox=\"0 0 500 400\" style=\"font-family: 'Droid Sans', sans-serif;\">\n",
       "    <g style=\"fill:#d9d7fc\">\n",
       "        <path d=\"M100,400H500V357H100Z\" />\n",
       "        <path d=\"M100,300H400V257H100Z\" />\n",
       "        <path d=\"M0,200H400V157H0Z\" />\n",
       "        <path d=\"M100,100H500V57H100Z\" />\n",
       "        <path d=\"M100,350H500V307H100Z\" />\n",
       "        <path d=\"M100,250H400V207H100Z\" />\n",
       "        <path d=\"M0,150H400V107H0Z\" />\n",
       "        <path d=\"M100,50H500V7H100Z\" />\n",
       "    </g>\n",
       "    <g style=\"fill:#1a1366;stroke:#1a1366;\">\n",
       "   <rect x=\"100\" y=\"7\" width=\"400\" height=\"43\">\n",
       "    <animate\n",
       "      attributeName=\"width\"\n",
       "      values=\"0;400;0\"\n",
       "      dur=\"5s\"\n",
       "      repeatCount=\"indefinite\" />\n",
       "      <animate\n",
       "      attributeName=\"x\"\n",
       "      values=\"100;100;500\"\n",
       "      dur=\"5s\"\n",
       "      repeatCount=\"indefinite\" />\n",
       "  </rect>\n",
       "        <rect x=\"0\" y=\"107\" width=\"400\" height=\"43\">\n",
       "    <animate\n",
       "      attributeName=\"width\"\n",
       "      values=\"0;400;0\"\n",
       "      dur=\"3.5s\"\n",
       "      repeatCount=\"indefinite\" />\n",
       "    <animate\n",
       "      attributeName=\"x\"\n",
       "      values=\"0;0;400\"\n",
       "      dur=\"3.5s\"\n",
       "      repeatCount=\"indefinite\" />\n",
       "  </rect>\n",
       "        <rect x=\"100\" y=\"207\" width=\"300\" height=\"43\">\n",
       "    <animate\n",
       "      attributeName=\"width\"\n",
       "      values=\"0;300;0\"\n",
       "      dur=\"3s\"\n",
       "      repeatCount=\"indefinite\" />\n",
       "    <animate\n",
       "      attributeName=\"x\"\n",
       "      values=\"100;100;400\"\n",
       "      dur=\"3s\"\n",
       "      repeatCount=\"indefinite\" />\n",
       "  </rect>\n",
       "        <rect x=\"100\" y=\"307\" width=\"400\" height=\"43\">\n",
       "    <animate\n",
       "      attributeName=\"width\"\n",
       "      values=\"0;400;0\"\n",
       "      dur=\"4s\"\n",
       "      repeatCount=\"indefinite\" />\n",
       "      <animate\n",
       "      attributeName=\"x\"\n",
       "      values=\"100;100;500\"\n",
       "      dur=\"4s\"\n",
       "      repeatCount=\"indefinite\" />\n",
       "  </rect>\n",
       "        <g style=\"fill:transparent;stroke-width:8; stroke-linejoin:round\" rx=\"5\">\n",
       "            <g transform=\"translate(45 50) rotate(-45)\">\n",
       "                <circle r=\"33\" cx=\"0\" cy=\"0\" />\n",
       "                <rect x=\"-8\" y=\"32\" width=\"16\" height=\"30\" />\n",
       "            </g>\n",
       "\n",
       "            <g transform=\"translate(450 152)\">\n",
       "                <polyline points=\"-15,-20 -35,-20 -35,40 25,40 25,20\" />\n",
       "                <rect x=\"-15\" y=\"-40\" width=\"60\" height=\"60\" />\n",
       "            </g>\n",
       "\n",
       "            <g transform=\"translate(50 352)\">\n",
       "                <polygon points=\"-35,-5 0,-40 35,-5\" />\n",
       "                <polygon points=\"-35,10 0,45 35,10\" />\n",
       "            </g>\n",
       "\n",
       "            <g transform=\"translate(75 250)\">\n",
       "                <polyline points=\"-30,30 -60,0 -30,-30\" />\n",
       "                <polyline points=\"0,30 -30,0 0,-30\" />\n",
       "            </g>\n",
       "\n",
       "            <g transform=\"translate(425 250) rotate(180)\">\n",
       "                <polyline points=\"-30,30 -60,0 -30,-30\" />\n",
       "                <polyline points=\"0,30 -30,0 0,-30\" />\n",
       "            </g>\n",
       "        </g>\n",
       "    </g>\n",
       "</svg>\n",
       "</a>\n",
       "</div>\n",
       "<div>\n",
       "Loading ITables v2.1.4 from the internet...\n",
       "(need <a href=https://mwouts.github.io/itables/troubleshooting.html>help</a>?)</td>\n",
       "</div>\n",
       "</tr></tbody>\n",
       "\n",
       "</table>\n",
       "<link href=\"https://www.unpkg.com/dt_for_itables@2.0.11/dt_bundle.css\" rel=\"stylesheet\">\n",
       "<script type=\"module\">\n",
       "    import {DataTable, jQuery as $} from 'https://www.unpkg.com/dt_for_itables@2.0.11/dt_bundle.js';\n",
       "\n",
       "    document.querySelectorAll(\"#itables_3ec2c9f4_51fa_4f2f_9e09_5e808e738975:not(.dataTable)\").forEach(table => {\n",
       "        // Define the table data\n",
       "        const data = [[44, \"Michelle\", \"Uguccioni\", 17, \"NaN\", 24756, \"70310\", \"Nexo Knights\", \"NaN\", 2018, \"Knighton Battle Blaster\", 76.0, 9.99, \"http://images.brickset.com/sets/images/70310-1.jpg\", 1], [45, \"Michelle\", \"Uguccioni\", 17, \"NaN\", 24896, \"31046\", \"Creator\", \"NaN\", 2018, \"Fast Car\", 222.0, 19.99, \"http://images.brickset.com/sets/images/31046-1.jpg\", 1], [70, \"Lucas\", \"Jimenez-Dominguez\", 18, \"712-555-0459\", 24691, \"31043\", \"Creator\", \"NaN\", 2018, \"Chopper Transporter\", 124.0, 9.99, \"http://images.brickset.com/sets/images/31043-1.jpg\", 2], [71, \"Lucas\", \"Jimenez-Dominguez\", 18, \"712-555-0459\", 26034, \"41573\", \"Mixels\", \"Series 9\", 2018, \"Sweepz\", 61.0, 4.99, \"NaN\", 1], [72, \"Lucas\", \"Jimenez-Dominguez\", 18, \"712-555-0459\", 24704, \"41140\", \"Disney Princess\", \"Palace Pets\", 2018, \"Daisy's Beauty Salon\", 98.0, 9.99, \"http://images.brickset.com/sets/images/41140-1.jpg\", 1], [73, \"Lucas\", \"Jimenez-Dominguez\", 18, \"712-555-0459\", 24903, \"41558\", \"Mixels\", \"Series 7\", 2018, \"Mixadel\", 63.0, 4.99, \"http://images.brickset.com/sets/images/41558-1.jpg\", 2], [74, \"Lucas\", \"Jimenez-Dominguez\", 18, \"712-555-0459\", 26033, \"41572\", \"Mixels\", \"Series 9\", 2018, \"Gobbol\", 62.0, 4.99, \"NaN\", 1], [187, \"Chayanne\", \"Williams\", 17, \"869-555-6681\", 24678, \"60109\", \"City\", \"Fire\", 2018, \"Fire Boat\", 412.0, 79.99, \"http://images.brickset.com/sets/images/60109-1.jpg\", 2], [188, \"Chayanne\", \"Williams\", 17, \"869-555-6681\", 24697, \"76044\", \"DC Comics Super Heroes\", \"Batman v Superman: Dawn of Justice\", 2018, \"Clash of the Heroes\", 92.0, 12.99, \"http://images.brickset.com/sets/images/76044-1.jpg\", 1], [223, \"Michael\", \"Cruz\", 17, \"361-555-8212\", 24723, \"41172\", \"Elves\", \"NaN\", 2018, \"The Water Dragon Adventure\", 212.0, 19.99, \"http://images.brickset.com/sets/images/41172-1.jpg\", 1], [224, \"Michael\", \"Cruz\", 17, \"361-555-8212\", 24618, \"71238\", \"Dimensions\", \"Fun Pack\", 2018, \"Fun Pack: Cyberman\", 40.0, 14.99, \"http://images.brickset.com/sets/images/71238-1.jpg\", 1], [225, \"Michael\", \"Cruz\", 17, \"361-555-8212\", 24920, \"70605\", \"Ninjago\", \"Skybound\", 2018, \"Misfortune's Keep\", 754.0, 79.99, \"http://images.brickset.com/sets/images/70605-1.jpg\", 1], [284, \"Steven\", \"Washington\", 16, \"336-555-1433\", 25910, \"30347\", \"City\", \"Fire\", 2018, \"Fire Car\", 53.0, 3.99, \"http://images.brickset.com/sets/images/30347-1.jpg\", 1], [285, \"Steven\", \"Washington\", 16, \"336-555-1433\", 25893, \"30349\", \"City\", \"NaN\", 2018, \"Sports Car\", 47.0, 3.99, \"http://images.brickset.com/sets/images/30349-1.jpg\", 5], [286, \"Serena\", \"Bartkowiak\", 16, \"305-555-2377\", 24806, \"71311\", \"Bionicle\", \"Miscellaneous\", 2018, \"Kopaka and Melum - Unity set\", 171.0, 24.99, \"http://images.brickset.com/sets/images/71311-1.jpg\", 2], [287, \"Serena\", \"Bartkowiak\", 16, \"305-555-2377\", 24778, \"75113\", \"Star Wars\", \"Buildable Figures\", 2018, \"Rey\", 84.0, 19.99, \"http://images.brickset.com/sets/images/75113-1.jpg\", 1], [288, \"Serena\", \"Bartkowiak\", 16, \"305-555-2377\", 24987, \"40201\", \"Seasonal\", \"Valentine's Day\", 2018, \"Valentine's Cupid Dog\", 150.0, 9.99, \"http://images.brickset.com/sets/images/40201-1.jpg\", 1], [439, \"Aaron\", \"Bruner\", 18, \"914-555-5003\", 24679, \"60111\", \"City\", \"Fire\", 2018, \"Fire Utility Truck\", 368.0, 39.99, \"http://images.brickset.com/sets/images/60111-1.jpg\", 4], [440, \"Aaron\", \"Bruner\", 18, \"914-555-5003\", 24956, \"71300\", \"Bionicle\", \"companions\", 2018, \"Uxar - Creature of Jungle\", 89.0, 9.99, \"http://images.brickset.com/sets/images/71300-1.jpg\", 1], [441, \"Aaron\", \"Bruner\", 18, \"914-555-5003\", 24796, \"75137\", \"Star Wars\", \"Episode V\", 2018, \"Carbon-Freezing Chamber\", 231.0, 24.99, \"http://images.brickset.com/sets/images/75137-1.jpg\", 2], [443, \"Michael\", \"Donner\", 18, \"432-555-3069\", 24660, \"71241\", \"Dimensions\", \"Fun Pack\", 2018, \"Fun Pack: Slimer\", 33.0, 14.99, \"http://images.brickset.com/sets/images/71241-1.jpg\", 2], [444, \"Michael\", \"Donner\", 18, \"432-555-3069\", 24709, \"10803\", \"Duplo\", \"NaN\", 2018, \"Arctic\", 40.0, 29.99, \"http://images.brickset.com/sets/images/10803-1.jpg\", 1], [445, \"Michael\", \"Donner\", 18, \"432-555-3069\", 26059, \"5005060\", \"Gear\", \"Video Games/3DS\", 2018, \"Marvel Avengers Nintendo 3DS Video Game\", NaN, 29.99, \"http://images.brickset.com/sets/images/5005060-1.jpg\", 1], [476, \"Dylan\", \"Mcgrath\", 18, \"229-555-1970\", 24748, \"76050\", \"Marvel Super Heroes\", \"Captain America: Civil War\", 2018, \"Crossbones' Hazard Heist\", 179.0, 19.99, \"http://images.brickset.com/sets/images/76050-1.jpg\", 1], [477, \"Dylan\", \"Mcgrath\", 18, \"229-555-1970\", 25645, \"71314\", \"Bionicle\", \"Reboot Villains\", 2018, \"Storm Beast\", 109.0, 14.99, \"NaN\", 1], [611, \"Natalia\", \"Vonduyke\", 16, \"859-555-3818\", 25879, \"853534\", \"Gear\", \"Key Chains/Ninjago\", 2018, \"Airjitzu Jay Key Chain\", NaN, 5.99, \"http://images.brickset.com/sets/images/853534-1.jpg\", 2], [612, \"Natalia\", \"Vonduyke\", 16, \"859-555-3818\", 24714, \"10814\", \"Duplo\", \"NaN\", 2018, \"Tow Truck\", 28.0, 19.99, \"http://images.brickset.com/sets/images/10814-1.jpg\", 1], [613, \"Natalia\", \"Vonduyke\", 16, \"859-555-3818\", 24765, \"70332\", \"Nexo Knights\", \"Ultimate\", 2018, \"Ultimate Aaron\", 82.0, 9.99, \"http://images.brickset.com/sets/images/70332-1.jpg\", 1], [614, \"Natalia\", \"Vonduyke\", 16, \"859-555-3818\", 25922, \"75149\", \"Star Wars\", \"The Force Awakens\", 2018, \"Resistance X-wing Fighter\", 740.0, 79.99, \"http://images.brickset.com/sets/images/75149-1.jpg\", 1], [615, \"Talise\", \"Nieukirk\", 16, \"801-555-2343\", 24902, \"41556\", \"Mixels\", \"Series 7\", 2018, \"Tiketz\", 62.0, 4.99, \"http://images.brickset.com/sets/images/41556-1.jpg\", 2]];\n",
       "\n",
       "        // Define the dt_args\n",
       "        let dt_args = {\"layout\": {\"topStart\": \"pageLength\", \"topEnd\": \"search\", \"bottomStart\": \"info\", \"bottomEnd\": \"paging\"}, \"order\": []};\n",
       "        dt_args[\"data\"] = data;\n",
       "\n",
       "        \n",
       "        new DataTable(table, dt_args);\n",
       "    });\n",
       "</script>\n"
      ],
      "text/plain": [
       "<IPython.core.display.HTML object>"
      ]
     },
     "metadata": {},
     "output_type": "display_data"
    }
   ],
   "source": [
    "maskunder18 = (DF['age']<= 18)\n",
    "DFunder18 = DF[maskunder18]\n",
    "show(DFunder18)"
   ]
  },
  {
   "cell_type": "code",
   "execution_count": 483,
   "id": "ed0f4056-bb26-4123-a28c-58f82d8074e9",
   "metadata": {},
   "outputs": [
    {
     "data": {
      "text/html": [
       "<table id=\"itables_02317112_30dd_4890_9d8e_877bbc91de66\" class=\"display nowrap\" data-quarto-disable-processing=\"true\" style=\"table-layout:auto;width:auto;margin:auto;caption-side:bottom\">\n",
       "<thead>\n",
       "    <tr style=\"text-align: right;\">\n",
       "      <th></th>\n",
       "      <th>first_name</th>\n",
       "      <th>last_name</th>\n",
       "      <th>age</th>\n",
       "      <th>phone_number</th>\n",
       "      <th>set_id</th>\n",
       "      <th>number</th>\n",
       "      <th>theme</th>\n",
       "      <th>subtheme</th>\n",
       "      <th>year</th>\n",
       "      <th>name</th>\n",
       "      <th>pieces</th>\n",
       "      <th>us_price</th>\n",
       "      <th>image_url</th>\n",
       "      <th>quantity</th>\n",
       "    </tr>\n",
       "  </thead><tbody><tr>\n",
       "<td style=\"vertical-align:middle; text-align:left\">\n",
       "<div style=\"float:left; margin-right: 10px;\">\n",
       "<a href=https://mwouts.github.io/itables/><svg class=\"main-svg\" xmlns=\"http://www.w3.org/2000/svg\" xmlns:xlink=\"http://www.w3.org/1999/xlink\"\n",
       "width=\"64\" viewBox=\"0 0 500 400\" style=\"font-family: 'Droid Sans', sans-serif;\">\n",
       "    <g style=\"fill:#d9d7fc\">\n",
       "        <path d=\"M100,400H500V357H100Z\" />\n",
       "        <path d=\"M100,300H400V257H100Z\" />\n",
       "        <path d=\"M0,200H400V157H0Z\" />\n",
       "        <path d=\"M100,100H500V57H100Z\" />\n",
       "        <path d=\"M100,350H500V307H100Z\" />\n",
       "        <path d=\"M100,250H400V207H100Z\" />\n",
       "        <path d=\"M0,150H400V107H0Z\" />\n",
       "        <path d=\"M100,50H500V7H100Z\" />\n",
       "    </g>\n",
       "    <g style=\"fill:#1a1366;stroke:#1a1366;\">\n",
       "   <rect x=\"100\" y=\"7\" width=\"400\" height=\"43\">\n",
       "    <animate\n",
       "      attributeName=\"width\"\n",
       "      values=\"0;400;0\"\n",
       "      dur=\"5s\"\n",
       "      repeatCount=\"indefinite\" />\n",
       "      <animate\n",
       "      attributeName=\"x\"\n",
       "      values=\"100;100;500\"\n",
       "      dur=\"5s\"\n",
       "      repeatCount=\"indefinite\" />\n",
       "  </rect>\n",
       "        <rect x=\"0\" y=\"107\" width=\"400\" height=\"43\">\n",
       "    <animate\n",
       "      attributeName=\"width\"\n",
       "      values=\"0;400;0\"\n",
       "      dur=\"3.5s\"\n",
       "      repeatCount=\"indefinite\" />\n",
       "    <animate\n",
       "      attributeName=\"x\"\n",
       "      values=\"0;0;400\"\n",
       "      dur=\"3.5s\"\n",
       "      repeatCount=\"indefinite\" />\n",
       "  </rect>\n",
       "        <rect x=\"100\" y=\"207\" width=\"300\" height=\"43\">\n",
       "    <animate\n",
       "      attributeName=\"width\"\n",
       "      values=\"0;300;0\"\n",
       "      dur=\"3s\"\n",
       "      repeatCount=\"indefinite\" />\n",
       "    <animate\n",
       "      attributeName=\"x\"\n",
       "      values=\"100;100;400\"\n",
       "      dur=\"3s\"\n",
       "      repeatCount=\"indefinite\" />\n",
       "  </rect>\n",
       "        <rect x=\"100\" y=\"307\" width=\"400\" height=\"43\">\n",
       "    <animate\n",
       "      attributeName=\"width\"\n",
       "      values=\"0;400;0\"\n",
       "      dur=\"4s\"\n",
       "      repeatCount=\"indefinite\" />\n",
       "      <animate\n",
       "      attributeName=\"x\"\n",
       "      values=\"100;100;500\"\n",
       "      dur=\"4s\"\n",
       "      repeatCount=\"indefinite\" />\n",
       "  </rect>\n",
       "        <g style=\"fill:transparent;stroke-width:8; stroke-linejoin:round\" rx=\"5\">\n",
       "            <g transform=\"translate(45 50) rotate(-45)\">\n",
       "                <circle r=\"33\" cx=\"0\" cy=\"0\" />\n",
       "                <rect x=\"-8\" y=\"32\" width=\"16\" height=\"30\" />\n",
       "            </g>\n",
       "\n",
       "            <g transform=\"translate(450 152)\">\n",
       "                <polyline points=\"-15,-20 -35,-20 -35,40 25,40 25,20\" />\n",
       "                <rect x=\"-15\" y=\"-40\" width=\"60\" height=\"60\" />\n",
       "            </g>\n",
       "\n",
       "            <g transform=\"translate(50 352)\">\n",
       "                <polygon points=\"-35,-5 0,-40 35,-5\" />\n",
       "                <polygon points=\"-35,10 0,45 35,10\" />\n",
       "            </g>\n",
       "\n",
       "            <g transform=\"translate(75 250)\">\n",
       "                <polyline points=\"-30,30 -60,0 -30,-30\" />\n",
       "                <polyline points=\"0,30 -30,0 0,-30\" />\n",
       "            </g>\n",
       "\n",
       "            <g transform=\"translate(425 250) rotate(180)\">\n",
       "                <polyline points=\"-30,30 -60,0 -30,-30\" />\n",
       "                <polyline points=\"0,30 -30,0 0,-30\" />\n",
       "            </g>\n",
       "        </g>\n",
       "    </g>\n",
       "</svg>\n",
       "</a>\n",
       "</div>\n",
       "<div>\n",
       "Loading ITables v2.1.4 from the internet...\n",
       "(need <a href=https://mwouts.github.io/itables/troubleshooting.html>help</a>?)</td>\n",
       "</div>\n",
       "</tr></tbody>\n",
       "\n",
       "</table>\n",
       "<link href=\"https://www.unpkg.com/dt_for_itables@2.0.11/dt_bundle.css\" rel=\"stylesheet\">\n",
       "<script type=\"module\">\n",
       "    import {DataTable, jQuery as $} from 'https://www.unpkg.com/dt_for_itables@2.0.11/dt_bundle.js';\n",
       "\n",
       "    document.querySelectorAll(\"#itables_02317112_30dd_4890_9d8e_877bbc91de66:not(.dataTable)\").forEach(table => {\n",
       "        // Define the table data\n",
       "        const data = [[0, \"Kimberly\", \"Beckstead\", 24, \"216-555-2549\", 24701, \"76062\", \"DC Comics Super Heroes\", \"Mighty Micros\", 2018, \"Robin vs. Bane\", 77.0, 9.99, \"http://images.brickset.com/sets/images/76062-1.jpg\", 1], [6, \"Bryanna\", \"Welsh\", 19, \"NaN\", 24797, \"75138\", \"Star Wars\", \"Episode V\", 2018, \"Hoth Attack\", 233.0, 24.99, \"http://images.brickset.com/sets/images/75138-1.jpg\", 1], [7, \"Bryanna\", \"Welsh\", 19, \"NaN\", 24701, \"76062\", \"DC Comics Super Heroes\", \"Mighty Micros\", 2018, \"Robin vs. Bane\", 77.0, 9.99, \"http://images.brickset.com/sets/images/76062-1.jpg\", 3], [10, \"Chase\", \"Fortenberry\", 19, \"205-555-3704\", 24707, \"10801\", \"Duplo\", \"NaN\", 2018, \"Baby Animals\", 13.0, 9.99, \"http://images.brickset.com/sets/images/10801-1.jpg\", 1], [11, \"Chase\", \"Fortenberry\", 19, \"205-555-3704\", 24713, \"10809\", \"Duplo\", \"NaN\", 2018, \"Police Patrol\", 15.0, 14.99, \"http://images.brickset.com/sets/images/10809-1.jpg\", 1], [12, \"Kevin\", \"Cruz\", 20, \"947-555-7946\", 24767, \"70335\", \"Nexo Knights\", \"Ultimate\", 2018, \"Ultimate Lavaria\", 69.0, 9.99, \"http://images.brickset.com/sets/images/70335-1.jpg\", 2], [40, \"Hector\", \"Collins\", 20, \"340-555-2508\", 24781, \"75116\", \"Star Wars\", \"Buildable Figures\", 2018, \"Finn\", 98.0, 24.99, \"http://images.brickset.com/sets/images/75116-1.jpg\", 1], [41, \"Hector\", \"Collins\", 20, \"340-555-2508\", 24723, \"41172\", \"Elves\", \"NaN\", 2018, \"The Water Dragon Adventure\", 212.0, 19.99, \"http://images.brickset.com/sets/images/41172-1.jpg\", 1], [42, \"Hector\", \"Collins\", 20, \"340-555-2508\", 24627, \"75098\", \"Star Wars\", \"Ultimate Collector Series\", 2018, \"Assault on Hoth\", 2144.0, 249.99, \"http://images.brickset.com/sets/images/75098-1.jpg\", 1], [52, \"Amanda\", \"Musick\", 24, \"878-555-7113\", 25916, \"76054\", \"DC Comics Super Heroes\", \"Batman\", 2018, \"Batman: Scarecrow Harvest of Fear\", 563.0, 59.99, \"http://images.brickset.com/sets/images/76054-1.jpg\", 2], [54, \"Shina\", \"Hegarty\", 22, \"868-555-1868\", 24737, \"41135\", \"Friends\", \"Pop Star\", 2018, \"Livi's Pop Star House\", 597.0, 49.99, \"http://images.brickset.com/sets/images/41135-1.jpg\", 3], [55, \"Shina\", \"Hegarty\", 22, \"868-555-1868\", 24706, \"41142\", \"Disney Princess\", \"Palace Pets\", 2018, \"Palace Pets Royal Castle\", 186.0, 19.99, \"http://images.brickset.com/sets/images/41142-1.jpg\", 3], [56, \"Shina\", \"Hegarty\", 22, \"868-555-1868\", 24664, \"21028\", \"Architecture\", \"Skylines\", 2018, \"New York City\", 598.0, 59.99, \"http://images.brickset.com/sets/images/21028-1.jpg\", 1], [57, \"Anthony\", \"Kiyotake\", 22, \"980-555-0099\", 25007, \"41568\", \"Mixels\", \"Series 8\", 2018, \"Lewt\", 62.0, 4.99, \"http://images.brickset.com/sets/images/41568-1.jpg\", 1], [58, \"Anthony\", \"Kiyotake\", 22, \"980-555-0099\", 25883, \"853568\", \"Gear\", \"Key Chains/City\", 2018, \"Prison Guard Key Chain\", NaN, 5.99, \"http://images.brickset.com/sets/images/853568-1.jpg\", 1], [61, \"Kayla\", \"Rush\", 25, \"281-555-9341\", 24896, \"31046\", \"Creator\", \"NaN\", 2018, \"Fast Car\", 222.0, 19.99, \"http://images.brickset.com/sets/images/31046-1.jpg\", 1], [62, \"Kayla\", \"Rush\", 25, \"281-555-9341\", 24750, \"76065\", \"Marvel Super Heroes\", \"Mighty Micros\", 2018, \"Captain America vs. Red Skull\", 95.0, 9.99, \"http://images.brickset.com/sets/images/76065-1.jpg\", 1], [63, \"Kayla\", \"Rush\", 25, \"281-555-9341\", 25662, \"75824\", \"The Angry Birds Movie\", \"NaN\", 2018, \"Pig City Teardown\", 386.0, 39.99, \"http://images.brickset.com/sets/images/75824-1.jpg\", 1], [67, \"Peggy\", \"Hiner\", 21, \"563-555-1011\", 24734, \"41119\", \"Friends\", \"NaN\", 2018, \"Heartlake Cupcake Cafe\", 439.0, 39.99, \"http://images.brickset.com/sets/images/41119-1.jpg\", 1], [79, \"Trevon\", \"Thanh\", 25, \"NaN\", 25612, \"21128\", \"Minecraft\", \"Minifig-scale\", 2018, \"The Village\", NaN, 199.99, \"NaN\", 1], [80, \"John'Dunae\", \"Higgins\", 19, \"813-555-5561\", 24744, \"76046\", \"DC Comics Super Heroes\", \"Batman v Superman: Dawn of Justice\", 2018, \"Heroes of Justice: Sky High Battle\", 517.0, 59.99, \"http://images.brickset.com/sets/images/76046-1.jpg\", 1], [87, \"Eric\", \"Benally\", 20, \"418-555-3696\", 24761, \"70316\", \"Nexo Knights\", \"NaN\", 2018, \"Jestro's Evil Mobile\", 658.0, 59.99, \"http://images.brickset.com/sets/images/70316-1.jpg\", 1], [88, \"Eric\", \"Benally\", 20, \"418-555-3696\", 25634, \"70319\", \"Nexo Knights\", \"NaN\", 2018, \"Macy's Thunder Mace\", 202.0, 19.99, \"http://images.brickset.com/sets/images/70319-1.jpg\", 1], [89, \"Eric\", \"Benally\", 20, \"418-555-3696\", 24900, \"41122\", \"Friends\", \"Adventure Camp\", 2018, \"Adventure Camp Tree House\", 726.0, 79.99, \"http://images.brickset.com/sets/images/41122-1.jpg\", 1], [92, \"Samantha\", \"Haberland\", 21, \"705-555-1457\", 25668, \"75828\", \"Ghostbusters\", \"Reboot\", 2018, \"Ghostbusters Ecto-1 & Ecto-2\", NaN, 59.99, \"http://images.brickset.com/sets/images/75828-1.jpg\", 1], [93, \"Samantha\", \"Haberland\", 21, \"705-555-1457\", 25644, \"71313\", \"Bionicle\", \"Reboot Villains\", 2018, \"Lava Beast\", 114.0, 14.99, \"NaN\", 1], [94, \"Samantha\", \"Haberland\", 21, \"705-555-1457\", 24764, \"70333\", \"Nexo Knights\", \"Ultimate\", 2018, \"Ultimate Robin\", 75.0, 9.99, \"http://images.brickset.com/sets/images/70333-1.jpg\", 1], [100, \"Tyrii\", \"Bloom\", 23, \"784-555-7128\", 24759, \"70313\", \"Nexo Knights\", \"NaN\", 2018, \"Moltor's Lava Smasher\", 187.0, 19.99, \"http://images.brickset.com/sets/images/70313-1.jpg\", 1], [101, \"Tyrii\", \"Bloom\", 23, \"784-555-7128\", 24735, \"41120\", \"Friends\", \"Adventure Camp\", 2018, \"Adventure Camp Archery\", 114.0, 9.99, \"http://images.brickset.com/sets/images/41120-1.jpg\", 1], [102, \"Tyrii\", \"Bloom\", 23, \"784-555-7128\", 24692, \"31044\", \"Creator\", \"NaN\", 2018, \"Park Animals\", 202.0, 14.99, \"http://images.brickset.com/sets/images/31044-1.jpg\", 1], [103, \"Tyrii\", \"Bloom\", 23, \"784-555-7128\", 24737, \"41135\", \"Friends\", \"Pop Star\", 2018, \"Livi's Pop Star House\", 597.0, 49.99, \"http://images.brickset.com/sets/images/41135-1.jpg\", 3], [112, \"Binh\", \"Skalla\", 23, \"NaN\", 24685, \"60118\", \"City\", \"Traffic\", 2018, \"Garbage Truck\", 248.0, 19.99, \"http://images.brickset.com/sets/images/60118-1.jpg\", 1], [113, \"Binh\", \"Skalla\", 23, \"NaN\", 24781, \"75116\", \"Star Wars\", \"Buildable Figures\", 2018, \"Finn\", 98.0, 24.99, \"http://images.brickset.com/sets/images/75116-1.jpg\", 1], [114, \"Binh\", \"Skalla\", 23, \"NaN\", 24736, \"41121\", \"Friends\", \"Adventure Camp\", 2018, \"Adventure Camp Rafting\", 320.0, 29.99, \"http://images.brickset.com/sets/images/41121-1.jpg\", 1], [126, \"David\", \"Cabral\", 19, \"415-555-8642\", 24957, \"71309\", \"Bionicle\", \"Toa\", 2018, \"Onua - Uniter of Earth\", 143.0, 19.99, \"http://images.brickset.com/sets/images/71309-1.jpg\", 2], [128, \"Manuel\", \"Wilkerson\", 23, \"441-555-3652\", 24725, \"41174\", \"Elves\", \"NaN\", 2018, \"The Starlight Inn\", 343.0, 29.99, \"http://images.brickset.com/sets/images/41174-1.jpg\", 1], [129, \"Manuel\", \"Wilkerson\", 23, \"441-555-3652\", 24751, \"76066\", \"Marvel Super Heroes\", \"Mighty Micros\", 2018, \"Hulk vs. Ultron\", 80.0, 9.99, \"http://images.brickset.com/sets/images/76066-1.jpg\", 1], [130, \"Manuel\", \"Wilkerson\", 23, \"441-555-3652\", 24768, \"70599\", \"Ninjago\", \"Skybound\", 2018, \"Cole's Dragon\", 98.0, 9.99, \"http://images.brickset.com/sets/images/70599-1.jpg\", 2], [145, \"Kaitlyn\", \"Degeer\", 24, \"316-555-7890\", 25887, \"853543\", \"Ninjago\", \"NaN\", 2018, \"Ninjago Party Set\", 70.0, 7.99, \"http://images.brickset.com/sets/images/853543-1.jpg\", 1], [146, \"Kaitlyn\", \"Degeer\", 24, \"316-555-7890\", 24765, \"70332\", \"Nexo Knights\", \"Ultimate\", 2018, \"Ultimate Aaron\", 82.0, 9.99, \"http://images.brickset.com/sets/images/70332-1.jpg\", 2], [147, \"Kaitlyn\", \"Degeer\", 24, \"316-555-7890\", 26035, \"41574\", \"Mixels\", \"Series 9\", 2018, \"Compax\", 66.0, 4.99, \"NaN\", 1], [148, \"Kaitlyn\", \"Degeer\", 24, \"316-555-7890\", 24994, \"10251\", \"Advanced Models\", \"Modular Buildings\", 2018, \"Brick Bank\", 2380.0, 169.99, \"http://images.brickset.com/sets/images/10251-1.jpg\", 2], [149, \"Matthew\", \"Sandoval\", 22, \"671-555-7044\", 25660, \"75822\", \"The Angry Birds Movie\", \"NaN\", 2018, \"Piggy Plane Attack\", 168.0, 19.99, \"http://images.brickset.com/sets/images/75822-1.jpg\", 1], [150, \"Matthew\", \"Sandoval\", 22, \"671-555-7044\", 25884, \"853571\", \"Gear\", \"Key Chains/Miscellaneous\", 2018, \"Hot Dog Guy Key Chain\", NaN, 5.99, \"http://images.brickset.com/sets/images/853571-1.jpg\", 1], [179, \"Sonny\", \"Smith\", 24, \"246-555-7913\", 24699, \"76053\", \"DC Comics Super Heroes\", \"Batman\", 2018, \"Gotham City Cycle Chase\", 224.0, 19.99, \"http://images.brickset.com/sets/images/76053-1.jpg\", 1], [183, \"Asia\", \"Salyer\", 24, \"508-555-0418\", 24751, \"76066\", \"Marvel Super Heroes\", \"Mighty Micros\", 2018, \"Hulk vs. Ultron\", 80.0, 9.99, \"http://images.brickset.com/sets/images/76066-1.jpg\", 3], [189, \"Demetri\", \"Do\", 21, \"541-555-1433\", 24665, \"21031\", \"Architecture\", \"NaN\", 2018, \"Burj Khalifa\", 333.0, 39.99, \"http://images.brickset.com/sets/images/21031-1.jpg\", 1], [190, \"Demetri\", \"Do\", 21, \"541-555-1433\", 25620, \"70588\", \"Ninjago\", \"Rise of the Villains\", 2018, \"Titanium Ninja Tumbler \", 342.0, 29.99, \"NaN\", 4], [191, \"Demetri\", \"Do\", 21, \"541-555-1433\", 24917, \"70314\", \"Nexo Knights\", \"NaN\", 2018, \"Beast Master's Chaos Chariot\", 314.0, 29.99, \"http://images.brickset.com/sets/images/70314-1.jpg\", 2], [192, \"Demetri\", \"Do\", 21, \"541-555-1433\", 24794, \"75135\", \"Star Wars\", \"Episode III\", 2018, \"Obi-Wan's Jedi Interceptor\", 215.0, 24.99, \"http://images.brickset.com/sets/images/75135-1.jpg\", 1], [193, \"Brittany\", \"Mclellan\", 25, \"210-555-0265\", 24662, \"21026\", \"Architecture\", \"Skylines\", 2018, \"Venice\", 212.0, 29.99, \"http://images.brickset.com/sets/images/21026-1.jpg\", 2], [194, \"Brittany\", \"Mclellan\", 25, \"210-555-0265\", 24717, \"10818\", \"Duplo\", \"NaN\", 2018, \"My First Truck\", 29.0, 19.99, \"http://images.brickset.com/sets/images/10818-1.jpg\", 1], [217, \"Ramon\", \"Walker-Reese\", 23, \"NaN\", 24796, \"75137\", \"Star Wars\", \"Episode V\", 2018, \"Carbon-Freezing Chamber\", 231.0, 24.99, \"http://images.brickset.com/sets/images/75137-1.jpg\", 1], [218, \"Ramon\", \"Walker-Reese\", 23, \"NaN\", 25633, \"70318\", \"Nexo Knights\", \"NaN\", 2018, \"The Glob Lobber\", 95.0, 9.99, \"http://images.brickset.com/sets/images/70318-1.jpg\", 1], [219, \"Brandon\", \"Lopez\", 21, \"606-555-3903\", 24713, \"10809\", \"Duplo\", \"NaN\", 2018, \"Police Patrol\", 15.0, 14.99, \"http://images.brickset.com/sets/images/10809-1.jpg\", 1], [220, \"Brandon\", \"Lopez\", 21, \"606-555-3903\", 24660, \"71241\", \"Dimensions\", \"Fun Pack\", 2018, \"Fun Pack: Slimer\", 33.0, 14.99, \"http://images.brickset.com/sets/images/71241-1.jpg\", 1], [221, \"Sagi\", \"Heredia\", 19, \"989-555-3671\", 24898, \"41113\", \"Friends\", \"Party\", 2018, \"Party Gift Shop\", 52.0, 4.99, \"http://images.brickset.com/sets/images/41113-1.jpg\", 3], [222, \"Sagi\", \"Heredia\", 19, \"989-555-3671\", 25640, \"70325\", \"Nexo Knights\", \"NaN\", 2018, \"Infernox captures the Queen\", 253.0, 24.99, \"http://images.brickset.com/sets/images/70325-1.jpg\", 1], [240, \"Kareena\", \"Hagar\", 23, \"678-555-3786\", 25663, \"75825\", \"The Angry Birds Movie\", \"NaN\", 2018, \"Piggy Pirate Ship\", 620.0, 59.99, \"http://images.brickset.com/sets/images/75825-1.jpg\", 1], [268, \"Darian\", \"Smith\", 24, \"830-555-6006\", 26036, \"41575\", \"Mixels\", \"Series 9\", 2018, \"Cobrax\", 64.0, 4.99, \"NaN\", 1], [271, \"Lady\", \"Brown\", 21, \"856-555-0798\", 24723, \"41172\", \"Elves\", \"NaN\", 2018, \"The Water Dragon Adventure\", 212.0, 19.99, \"http://images.brickset.com/sets/images/41172-1.jpg\", 1], [272, \"Lady\", \"Brown\", 21, \"856-555-0798\", 24666, \"71301\", \"Bionicle\", \"Companions\", 2018, \"Ketar - Creature of Stone\", 80.0, 9.99, \"http://images.brickset.com/sets/images/71301-1.jpg\", 1], [273, \"Lady\", \"Brown\", 21, \"856-555-0798\", 24733, \"41118\", \"Friends\", \"NaN\", 2018, \"Heartlake Supermarket\", 313.0, 29.99, \"http://images.brickset.com/sets/images/41118-1.jpg\", 1], [274, \"Lady\", \"Brown\", 21, \"856-555-0798\", 24758, \"70312\", \"Nexo Knights\", \"NaN\", 2018, \"Lance's Mecha Horse\", 237.0, 19.99, \"http://images.brickset.com/sets/images/70312-1.jpg\", 1], [275, \"Sarah\", \"Wagner\", 20, \"NaN\", 24898, \"41113\", \"Friends\", \"Party\", 2018, \"Party Gift Shop\", 52.0, 4.99, \"http://images.brickset.com/sets/images/41113-1.jpg\", 1], [276, \"Sarah\", \"Wagner\", 20, \"NaN\", 24671, \"71306\", \"Bionicle\", \"Toa\", 2018, \"Pohatu - Uniter of Stone\", 90.0, 14.99, \"http://images.brickset.com/sets/images/71306-1.jpg\", 1], [277, \"Sarah\", \"Wagner\", 20, \"NaN\", 26026, \"41179\", \"Elves\", \"NaN\", 2018, \"Queen Dragon's Rescue\", 833.0, 69.99, \"NaN\", 1], [278, \"Sarah\", \"Wagner\", 20, \"NaN\", 24720, \"10830\", \"Duplo\", \"NaN\", 2018, \"Minnie's Caf\\u00e9\", 27.0, 19.99, \"http://images.brickset.com/sets/images/10830-1.jpg\", 1], [279, \"Sarah\", \"Wagner\", 20, \"NaN\", 24725, \"41174\", \"Elves\", \"NaN\", 2018, \"The Starlight Inn\", 343.0, 29.99, \"http://images.brickset.com/sets/images/41174-1.jpg\", 1], [298, \"Krista\", \"Gaines\", 24, \"307-555-5115\", 24697, \"76044\", \"DC Comics Super Heroes\", \"Batman v Superman: Dawn of Justice\", 2018, \"Clash of the Heroes\", 92.0, 12.99, \"http://images.brickset.com/sets/images/76044-1.jpg\", 1], [299, \"Krista\", \"Gaines\", 24, \"307-555-5115\", 26024, \"41177\", \"Elves\", \"NaN\", 2018, \"The Precious Crystal Mine\", 273.0, 29.99, \"http://images.brickset.com/sets/images/41177-1.jpg\", 1], [300, \"Krista\", \"Gaines\", 24, \"307-555-5115\", 24702, \"76063\", \"DC Comics Super Heroes\", \"Mighty Micros\", 2018, \"The Flash vs. Captain Cold\", 88.0, 9.99, \"http://images.brickset.com/sets/images/76063-1.jpg\", 2], [301, \"Krista\", \"Gaines\", 24, \"307-555-5115\", 24684, \"60117\", \"City\", \"Traffic\", 2018, \"Van & Caravan\", 250.0, 19.99, \"http://images.brickset.com/sets/images/60117-1.jpg\", 2], [302, \"Krista\", \"Gaines\", 24, \"307-555-5115\", 24714, \"10814\", \"Duplo\", \"NaN\", 2018, \"Tow Truck\", 28.0, 19.99, \"http://images.brickset.com/sets/images/10814-1.jpg\", 1], [309, \"Abraham\", \"Medlock\", 23, \"754-555-6047\", 26034, \"41573\", \"Mixels\", \"Series 9\", 2018, \"Sweepz\", 61.0, 4.99, \"NaN\", 1], [310, \"Abraham\", \"Medlock\", 23, \"754-555-6047\", 24724, \"41173\", \"Elves\", \"NaN\", 2018, \"Elvendale School of Dragons\", 230.0, 19.99, \"http://images.brickset.com/sets/images/41173-1.jpg\", 2], [311, \"Abraham\", \"Medlock\", 23, \"754-555-6047\", 24783, \"75118\", \"Star Wars\", \"Buildable Figures\", 2018, \"Captain Phasma\", 82.0, 24.99, \"http://images.brickset.com/sets/images/75118-1.jpg\", 1], [312, \"Abraham\", \"Medlock\", 23, \"754-555-6047\", 24709, \"10803\", \"Duplo\", \"NaN\", 2018, \"Arctic\", 40.0, 29.99, \"http://images.brickset.com/sets/images/10803-1.jpg\", 3], [313, \"Abraham\", \"Medlock\", 23, \"754-555-6047\", 25009, \"41570\", \"Mixels\", \"Series 8\", 2018, \"Skrubz\", 68.0, 4.99, \"http://images.brickset.com/sets/images/41570-1.jpg\", 1], [322, \"Makenzie\", \"Pitts\", 25, \"NaN\", 24792, \"75134\", \"Star Wars\", \"Battlefront\", 2018, \"Galactic Empire Battle Pack\", 109.0, 12.99, \"http://images.brickset.com/sets/images/75134-1.jpg\", 1], [323, \"Makenzie\", \"Pitts\", 25, \"NaN\", 26037, \"41576\", \"Mixels\", \"Series 9\", 2018, \"Spinza\", 60.0, 4.99, \"NaN\", 2], [337, \"Meagan\", \"Burke\", 22, \"316-555-5143\", 24769, \"70600\", \"Ninjago\", \"Skybound\", 2018, \"Ninja Bike Chase\", 231.0, 19.99, \"http://images.brickset.com/sets/images/70600-1.jpg\", 1], [338, \"Meagan\", \"Burke\", 22, \"316-555-5143\", 24705, \"41141\", \"Disney Princess\", \"Palace Pets\", 2018, \"Pumpkin's Royal Carriage\", 79.0, 9.99, \"http://images.brickset.com/sets/images/41141-1.jpg\", 1], [339, \"Meagan\", \"Burke\", 22, \"316-555-5143\", 24668, \"71303\", \"Bionicle\", \"Companions\", 2018, \"Ikir - Creature of Fire\", 77.0, 9.99, \"http://images.brickset.com/sets/images/71303-1.jpg\", 1], [340, \"Meagan\", \"Burke\", 22, \"316-555-5143\", 25901, \"5004612\", \"Gear\", \"Watches/Clocks\", 2018, \"Lucy Wyldstyle Minifigure Link Watch\", NaN, 24.99, \"http://images.brickset.com/sets/images/5004612-1.jpg\", 1], [352, \"Shadae\", \"Chidel\", 20, \"406-555-0853\", 24661, \"71233\", \"Dimensions\", \"Fun Pack\", 2018, \"Fun Pack: Stay Puft\", 65.0, 14.99, \"http://images.brickset.com/sets/images/71233-1.jpg\", 2], [353, \"Shadae\", \"Chidel\", 20, \"406-555-0853\", 24705, \"41141\", \"Disney Princess\", \"Palace Pets\", 2018, \"Pumpkin's Royal Carriage\", 79.0, 9.99, \"http://images.brickset.com/sets/images/41141-1.jpg\", 1], [369, \"Justin\", \"Hiner\", 23, \"212-555-7274\", 24797, \"75138\", \"Star Wars\", \"Episode V\", 2018, \"Hoth Attack\", 233.0, 24.99, \"http://images.brickset.com/sets/images/75138-1.jpg\", 1], [370, \"Brianna\", \"Biery\", 20, \"443-555-5650\", 25656, \"10804\", \"Duplo\", \"NaN\", 2018, \"Jungle\", 86.0, 49.99, \"http://images.brickset.com/sets/images/10804-1.jpg\", 2], [371, \"Brianna\", \"Biery\", 20, \"443-555-5650\", 24898, \"41113\", \"Friends\", \"Party\", 2018, \"Party Gift Shop\", 52.0, 4.99, \"http://images.brickset.com/sets/images/41113-1.jpg\", 1], [374, \"Allison\", \"English\", 20, \"308-555-8064\", 24757, \"70311\", \"Nexo Knights\", \"NaN\", 2018, \"Chaos Catapult\", 93.0, 9.99, \"http://images.brickset.com/sets/images/70311-1.jpg\", 1], [386, \"Seth\", \"Foley\", 24, \"NaN\", 24903, \"41558\", \"Mixels\", \"Series 7\", 2018, \"Mixadel\", 63.0, 4.99, \"http://images.brickset.com/sets/images/41558-1.jpg\", 2], [387, \"Seth\", \"Foley\", 24, \"NaN\", 24750, \"76065\", \"Marvel Super Heroes\", \"Mighty Micros\", 2018, \"Captain America vs. Red Skull\", 95.0, 9.99, \"http://images.brickset.com/sets/images/76065-1.jpg\", 1], [388, \"Seth\", \"Foley\", 24, \"NaN\", 25875, \"853570\", \"City\", \"Police\", 2018, \"Police Accessory Set\", 26.0, 14.99, \"http://images.brickset.com/sets/images/853570-1.jpg\", 2], [389, \"Seth\", \"Foley\", 24, \"NaN\", 25594, \"71011\", \"Collectable Minifigures\", \"Series 15\", 2018, \"LEGO Minifigures - Series 15 - Sealed Box\", NaN, 3.99, \"http://images.brickset.com/sets/images/71011-18.jpg\", 1], [405, \"Alina\", \"Calerich\", 22, \"480-555-5897\", 24731, \"41116\", \"Friends\", \"NaN\", 2018, \"Olivia's Exploration Car\", 185.0, 14.99, \"http://images.brickset.com/sets/images/41116-1.jpg\", 1], [406, \"Alina\", \"Calerich\", 22, \"480-555-5897\", 24727, \"41176\", \"Elves\", \"NaN\", 2018, \"The Secret Market Place\", 691.0, 59.99, \"http://images.brickset.com/sets/images/41176-1.jpg\", 1], [407, \"Alina\", \"Calerich\", 22, \"480-555-5897\", 24915, \"60130\", \"City\", \"Police\", 2018, \"Prison Island\", 754.0, 89.99, \"http://images.brickset.com/sets/images/60130-1.jpg\", 1], [408, \"Alina\", \"Calerich\", 22, \"480-555-5897\", 25897, \"853551\", \"Gear\", \"Key Chains/Friends\", 2018, \"Olivia Key Chain\", NaN, 5.99, \"http://images.brickset.com/sets/images/853551-1.jpg\", 1], [409, \"Alina\", \"Calerich\", 22, \"480-555-5897\", 24673, \"71308\", \"Bionicle\", \"Toa\", 2018, \"Tahu - Uniter of Fire\", 132.0, 19.99, \"http://images.brickset.com/sets/images/71308-1.jpg\", 1], [467, \"Keith\", \"Atwood\", 25, \"NaN\", 24804, \"42048\", \"Technic\", \"NaN\", 2018, \"Race Kart\", 345.0, 29.99, \"http://images.brickset.com/sets/images/42048-1.jpg\", 1], [468, \"John\", \"Ellis\", 24, \"815-555-9436\", 26057, \"5005058\", \"Gear\", \"Video Games/Wii U\", 2018, \"Marvel Avengers Wii U Video Game\", NaN, 49.99, \"http://images.brickset.com/sets/images/5005058-1.jpg\", 1], [469, \"Tynecia\", \"Kramer\", 20, \"778-555-0036\", 24731, \"41116\", \"Friends\", \"NaN\", 2018, \"Olivia's Exploration Car\", 185.0, 14.99, \"http://images.brickset.com/sets/images/41116-1.jpg\", 1], [470, \"Tynecia\", \"Kramer\", 20, \"778-555-0036\", 24770, \"70602\", \"Ninjago\", \"Skybound\", 2018, \"Jay's Elemental Dragon\", 350.0, 29.99, \"http://images.brickset.com/sets/images/70602-1.jpg\", 1], [471, \"Tynecia\", \"Kramer\", 20, \"778-555-0036\", 25658, \"21305\", \"Ideas\", \"NaN\", 2018, \"Maze\", 769.0, 69.99, \"NaN\", 2], [489, \"Ryan\", \"Marquez\", 25, \"281-555-0811\", 24766, \"70334\", \"Nexo Knights\", \"Ultimate\", 2018, \"Ultimate Beast Master\", 65.0, 9.99, \"http://images.brickset.com/sets/images/70334-1.jpg\", 1], [490, \"Ryan\", \"Marquez\", 25, \"281-555-0811\", 25898, \"75145\", \"Star Wars\", \"Original Content\", 2018, \"Eclipse Fighter\", 363.0, 29.99, \"http://images.brickset.com/sets/images/75145-1.jpg\", 1], [491, \"Ryan\", \"Marquez\", 25, \"281-555-0811\", 24618, \"71238\", \"Dimensions\", \"Fun Pack\", 2018, \"Fun Pack: Cyberman\", 40.0, 14.99, \"http://images.brickset.com/sets/images/71238-1.jpg\", 1], [507, \"Alexandra\", \"Leinhart\", 24, \"551-555-8769\", 24736, \"41121\", \"Friends\", \"Adventure Camp\", 2018, \"Adventure Camp Rafting\", 320.0, 29.99, \"http://images.brickset.com/sets/images/41121-1.jpg\", 2], [508, \"Alexandra\", \"Leinhart\", 24, \"551-555-8769\", 24762, \"70330\", \"Nexo Knights\", \"Ultimate\", 2018, \"Ultimate Clay\", 72.0, 9.99, \"http://images.brickset.com/sets/images/70330-1.jpg\", 1], [509, \"Alexandra\", \"Leinhart\", 24, \"551-555-8769\", 25635, \"70320\", \"Nexo Knights\", \"NaN\", 2018, \"Aaron Fox's Aero-Striker V2\", 301.0, 29.99, \"http://images.brickset.com/sets/images/70320-1.jpg\", 2], [521, \"Jacob\", \"Scott\", 23, \"312-555-5114\", 24691, \"31043\", \"Creator\", \"NaN\", 2018, \"Chopper Transporter\", 124.0, 9.99, \"http://images.brickset.com/sets/images/31043-1.jpg\", 2], [522, \"Jacob\", \"Scott\", 23, \"312-555-5114\", 24672, \"71307\", \"Bionicle\", \"Toa\", 2018, \"Gali - Uniter of Water\", 87.0, 14.99, \"http://images.brickset.com/sets/images/71307-1.jpg\", 1], [526, \"Amanda\", \"Hunter\", 21, \"NaN\", 25655, \"10826\", \"Duplo\", \"Miles from Tomorrowland\", 2018, \"Miles' Stellosphere Hangar\", 44.0, 34.99, \"http://images.brickset.com/sets/images/10826-1.jpg\", 2], [527, \"Amanda\", \"Hunter\", 21, \"NaN\", 24666, \"71301\", \"Bionicle\", \"Companions\", 2018, \"Ketar - Creature of Stone\", 80.0, 9.99, \"http://images.brickset.com/sets/images/71301-1.jpg\", 1], [539, \"Lawrence\", \"Lewis\", 21, \"602-555-4393\", 24663, \"21027\", \"Architecture\", \"Skylines\", 2018, \"Berlin\", 289.0, 29.99, \"http://images.brickset.com/sets/images/21027-1.jpg\", 2], [570, \"Morgan\", \"Andreas\", 22, \"785-555-6517\", 25002, \"41563\", \"Mixels\", \"Series 8\", 2018, \"Splasho\", 67.0, 4.99, \"http://images.brickset.com/sets/images/41563-1.jpg\", 2], [571, \"Morgan\", \"Andreas\", 22, \"785-555-6517\", 24918, \"70317\", \"Nexo Knights\", \"NaN\", 2018, \"The Fortrex\", 1140.0, 99.99, \"http://images.brickset.com/sets/images/70317-1.jpg\", 1], [572, \"Morgan\", \"Andreas\", 22, \"785-555-6517\", 24675, \"60106\", \"City\", \"Fire\", 2018, \"Fire Starter Set\", 90.0, 9.99, \"http://images.brickset.com/sets/images/60106-1.jpg\", 1], [581, \"Tanner\", \"Dockstader\", 21, \"573-555-4274\", 24789, \"75130\", \"Star Wars\", \"MicroFighters\", 2018, \"AT-DP\", 76.0, 9.99, \"http://images.brickset.com/sets/images/75130-1.jpg\", 1], [582, \"Tanner\", \"Dockstader\", 21, \"573-555-4274\", 24690, \"31042\", \"Creator\", \"NaN\", 2018, \"Super Soarer\", 100.0, 9.99, \"http://images.brickset.com/sets/images/31042-1.jpg\", 2], [583, \"Tanner\", \"Dockstader\", 21, \"573-555-4274\", 25917, \"76058\", \"Marvel Super Heroes\", \"Ultimate Spider-Man\", 2018, \"Spider-Man: Ghost Rider Team-Up\", 217.0, 19.99, \"http://images.brickset.com/sets/images/76058-1.jpg\", 1], [584, \"Tanner\", \"Dockstader\", 21, \"573-555-4274\", 24692, \"31044\", \"Creator\", \"NaN\", 2018, \"Park Animals\", 202.0, 14.99, \"http://images.brickset.com/sets/images/31044-1.jpg\", 2], [590, \"Paige\", \"Ice\", 21, \"NaN\", 24682, \"60115\", \"City\", \"Traffic\", 2018, \"4 x 4 Off Roader\", 176.0, 19.99, \"http://images.brickset.com/sets/images/60115-1.jpg\", 1], [591, \"Paige\", \"Ice\", 21, \"NaN\", 26038, \"41577\", \"Mixels\", \"Series 9\", 2018, \"Mysto\", 64.0, 4.99, \"NaN\", 1], [592, \"Aiden\", \"Ganley\", 19, \"786-555-5067\", 25639, \"70324\", \"Nexo Knights\", \"NaN\", 2018, \"Merlok's Library 2.0\", 288.0, 24.99, \"http://images.brickset.com/sets/images/70324-1.jpg\", 1], [593, \"Aiden\", \"Ganley\", 19, \"786-555-5067\", 24756, \"70310\", \"Nexo Knights\", \"NaN\", 2018, \"Knighton Battle Blaster\", 76.0, 9.99, \"http://images.brickset.com/sets/images/70310-1.jpg\", 2], [608, \"Carolyn\", \"Quarry\", 23, \"567-555-7649\", 25627, \"70596\", \"Ninjago\", \"Rise of the Villains\", 2018, \"Samurai X Cave Chaos\", 1253.0, 119.99, \"NaN\", 2], [609, \"Carolyn\", \"Quarry\", 23, \"567-555-7649\", 24806, \"71311\", \"Bionicle\", \"Miscellaneous\", 2018, \"Kopaka and Melum - Unity set\", 171.0, 24.99, \"http://images.brickset.com/sets/images/71311-1.jpg\", 2]];\n",
       "\n",
       "        // Define the dt_args\n",
       "        let dt_args = {\"layout\": {\"topStart\": \"pageLength\", \"topEnd\": \"search\", \"bottomStart\": \"info\", \"bottomEnd\": \"paging\"}, \"order\": []};\n",
       "        dt_args[\"data\"] = data;\n",
       "\n",
       "        \n",
       "        new DataTable(table, dt_args);\n",
       "    });\n",
       "</script>\n"
      ],
      "text/plain": [
       "<IPython.core.display.HTML object>"
      ]
     },
     "metadata": {},
     "output_type": "display_data"
    }
   ],
   "source": [
    "mask19_25 = (DF['age']>= 19) & (DF['age']<= 25)\n",
    "DF19_25 = DF[mask19_25]\n",
    "show(DF19_25)"
   ]
  },
  {
   "cell_type": "code",
   "execution_count": 484,
   "id": "b6e6c1fb-2c99-4afa-80e7-c8fba4ac270b",
   "metadata": {},
   "outputs": [
    {
     "data": {
      "text/html": [
       "<table id=\"itables_59572544_5187_43a0_b902_32bb7450dfef\" class=\"display nowrap\" data-quarto-disable-processing=\"true\" style=\"table-layout:auto;width:auto;margin:auto;caption-side:bottom\">\n",
       "<thead>\n",
       "    <tr style=\"text-align: right;\">\n",
       "      <th></th>\n",
       "      <th>first_name</th>\n",
       "      <th>last_name</th>\n",
       "      <th>age</th>\n",
       "      <th>phone_number</th>\n",
       "      <th>set_id</th>\n",
       "      <th>number</th>\n",
       "      <th>theme</th>\n",
       "      <th>subtheme</th>\n",
       "      <th>year</th>\n",
       "      <th>name</th>\n",
       "      <th>pieces</th>\n",
       "      <th>us_price</th>\n",
       "      <th>image_url</th>\n",
       "      <th>quantity</th>\n",
       "    </tr>\n",
       "  </thead><tbody><tr>\n",
       "<td style=\"vertical-align:middle; text-align:left\">\n",
       "<div style=\"float:left; margin-right: 10px;\">\n",
       "<a href=https://mwouts.github.io/itables/><svg class=\"main-svg\" xmlns=\"http://www.w3.org/2000/svg\" xmlns:xlink=\"http://www.w3.org/1999/xlink\"\n",
       "width=\"64\" viewBox=\"0 0 500 400\" style=\"font-family: 'Droid Sans', sans-serif;\">\n",
       "    <g style=\"fill:#d9d7fc\">\n",
       "        <path d=\"M100,400H500V357H100Z\" />\n",
       "        <path d=\"M100,300H400V257H100Z\" />\n",
       "        <path d=\"M0,200H400V157H0Z\" />\n",
       "        <path d=\"M100,100H500V57H100Z\" />\n",
       "        <path d=\"M100,350H500V307H100Z\" />\n",
       "        <path d=\"M100,250H400V207H100Z\" />\n",
       "        <path d=\"M0,150H400V107H0Z\" />\n",
       "        <path d=\"M100,50H500V7H100Z\" />\n",
       "    </g>\n",
       "    <g style=\"fill:#1a1366;stroke:#1a1366;\">\n",
       "   <rect x=\"100\" y=\"7\" width=\"400\" height=\"43\">\n",
       "    <animate\n",
       "      attributeName=\"width\"\n",
       "      values=\"0;400;0\"\n",
       "      dur=\"5s\"\n",
       "      repeatCount=\"indefinite\" />\n",
       "      <animate\n",
       "      attributeName=\"x\"\n",
       "      values=\"100;100;500\"\n",
       "      dur=\"5s\"\n",
       "      repeatCount=\"indefinite\" />\n",
       "  </rect>\n",
       "        <rect x=\"0\" y=\"107\" width=\"400\" height=\"43\">\n",
       "    <animate\n",
       "      attributeName=\"width\"\n",
       "      values=\"0;400;0\"\n",
       "      dur=\"3.5s\"\n",
       "      repeatCount=\"indefinite\" />\n",
       "    <animate\n",
       "      attributeName=\"x\"\n",
       "      values=\"0;0;400\"\n",
       "      dur=\"3.5s\"\n",
       "      repeatCount=\"indefinite\" />\n",
       "  </rect>\n",
       "        <rect x=\"100\" y=\"207\" width=\"300\" height=\"43\">\n",
       "    <animate\n",
       "      attributeName=\"width\"\n",
       "      values=\"0;300;0\"\n",
       "      dur=\"3s\"\n",
       "      repeatCount=\"indefinite\" />\n",
       "    <animate\n",
       "      attributeName=\"x\"\n",
       "      values=\"100;100;400\"\n",
       "      dur=\"3s\"\n",
       "      repeatCount=\"indefinite\" />\n",
       "  </rect>\n",
       "        <rect x=\"100\" y=\"307\" width=\"400\" height=\"43\">\n",
       "    <animate\n",
       "      attributeName=\"width\"\n",
       "      values=\"0;400;0\"\n",
       "      dur=\"4s\"\n",
       "      repeatCount=\"indefinite\" />\n",
       "      <animate\n",
       "      attributeName=\"x\"\n",
       "      values=\"100;100;500\"\n",
       "      dur=\"4s\"\n",
       "      repeatCount=\"indefinite\" />\n",
       "  </rect>\n",
       "        <g style=\"fill:transparent;stroke-width:8; stroke-linejoin:round\" rx=\"5\">\n",
       "            <g transform=\"translate(45 50) rotate(-45)\">\n",
       "                <circle r=\"33\" cx=\"0\" cy=\"0\" />\n",
       "                <rect x=\"-8\" y=\"32\" width=\"16\" height=\"30\" />\n",
       "            </g>\n",
       "\n",
       "            <g transform=\"translate(450 152)\">\n",
       "                <polyline points=\"-15,-20 -35,-20 -35,40 25,40 25,20\" />\n",
       "                <rect x=\"-15\" y=\"-40\" width=\"60\" height=\"60\" />\n",
       "            </g>\n",
       "\n",
       "            <g transform=\"translate(50 352)\">\n",
       "                <polygon points=\"-35,-5 0,-40 35,-5\" />\n",
       "                <polygon points=\"-35,10 0,45 35,10\" />\n",
       "            </g>\n",
       "\n",
       "            <g transform=\"translate(75 250)\">\n",
       "                <polyline points=\"-30,30 -60,0 -30,-30\" />\n",
       "                <polyline points=\"0,30 -30,0 0,-30\" />\n",
       "            </g>\n",
       "\n",
       "            <g transform=\"translate(425 250) rotate(180)\">\n",
       "                <polyline points=\"-30,30 -60,0 -30,-30\" />\n",
       "                <polyline points=\"0,30 -30,0 0,-30\" />\n",
       "            </g>\n",
       "        </g>\n",
       "    </g>\n",
       "</svg>\n",
       "</a>\n",
       "</div>\n",
       "<div>\n",
       "Loading ITables v2.1.4 from the internet...\n",
       "(need <a href=https://mwouts.github.io/itables/troubleshooting.html>help</a>?)</td>\n",
       "</div>\n",
       "</tr></tbody>\n",
       "\n",
       "</table>\n",
       "<link href=\"https://www.unpkg.com/dt_for_itables@2.0.11/dt_bundle.css\" rel=\"stylesheet\">\n",
       "<script type=\"module\">\n",
       "    import {DataTable, jQuery as $} from 'https://www.unpkg.com/dt_for_itables@2.0.11/dt_bundle.js';\n",
       "\n",
       "    document.querySelectorAll(\"#itables_59572544_5187_43a0_b902_32bb7450dfef:not(.dataTable)\").forEach(table => {\n",
       "        // Define the table data\n",
       "        const data = [[1, \"Neel\", \"Garvin\", 35, \"819-555-3189\", 25626, \"70595\", \"Ninjago\", \"Rise of the Villains\", 2018, \"Ultra Stealth Raider\", 1093.0, 119.99, \"http://images.brickset.com/sets/images/70595-1.jpg\", 1], [2, \"Neel\", \"Garvin\", 35, \"819-555-3189\", 24665, \"21031\", \"Architecture\", \"NaN\", 2018, \"Burj Khalifa\", 333.0, 39.99, \"http://images.brickset.com/sets/images/21031-1.jpg\", 1], [27, \"Jacob\", \"Nzabanita\", 31, \"339-555-2572\", 24732, \"41117\", \"Friends\", \"Pop Star\", 2018, \"Pop Star TV Studio\", 194.0, 19.99, \"http://images.brickset.com/sets/images/41117-1.jpg\", 1], [28, \"Jacob\", \"Nzabanita\", 31, \"339-555-2572\", 24793, \"75133\", \"Star Wars\", \"Battlefront\", 2018, \"Rebel Alliance Battle Pack\", 101.0, 12.99, \"http://images.brickset.com/sets/images/75133-1.jpg\", 2], [29, \"Jacob\", \"Nzabanita\", 31, \"339-555-2572\", 24723, \"41172\", \"Elves\", \"NaN\", 2018, \"The Water Dragon Adventure\", 212.0, 19.99, \"http://images.brickset.com/sets/images/41172-1.jpg\", 1], [30, \"Jacob\", \"Nzabanita\", 31, \"339-555-2572\", 25920, \"75151\", \"Star Wars\", \"Episode III\", 2018, \"Clone Turbo Tank\", 903.0, 109.99, \"http://images.brickset.com/sets/images/75151-1.jpg\", 1], [49, \"Katherine\", \"Hogue\", 27, \"289-555-4928\", 25876, \"853555\", \"Gear\", \"Stationery\", 2018, \"Campsite Scrapbook\", NaN, 14.99, \"http://images.brickset.com/sets/images/853555-1.jpg\", 2], [50, \"Katherine\", \"Hogue\", 27, \"289-555-4928\", 25660, \"75822\", \"The Angry Birds Movie\", \"NaN\", 2018, \"Piggy Plane Attack\", 168.0, 19.99, \"http://images.brickset.com/sets/images/75822-1.jpg\", 1], [59, \"Connor\", \"Fourzan\", 32, \"805-555-3065\", 25886, \"853519\", \"Gear\", \"Playmats\", 2018, \"NK Playmat\", NaN, 14.99, \"http://images.brickset.com/sets/images/853519-1.jpg\", 1], [60, \"Connor\", \"Fourzan\", 32, \"805-555-3065\", 24789, \"75130\", \"Star Wars\", \"MicroFighters\", 2018, \"AT-DP\", 76.0, 9.99, \"http://images.brickset.com/sets/images/75130-1.jpg\", 1], [64, \"Lucas\", \"Montoya\", 34, \"616-555-2269\", 24901, \"41555\", \"Mixels\", \"Series 7\", 2018, \"Busto\", 69.0, 4.99, \"http://images.brickset.com/sets/images/41555-1.jpg\", 2], [65, \"Lucas\", \"Montoya\", 34, \"616-555-2269\", 24899, \"41114\", \"Friends\", \"Party\", 2018, \"Party Styling\", 54.0, 4.99, \"http://images.brickset.com/sets/images/41114-1.jpg\", 2], [66, \"Lucas\", \"Montoya\", 34, \"616-555-2269\", 24762, \"70330\", \"Nexo Knights\", \"Ultimate\", 2018, \"Ultimate Clay\", 72.0, 9.99, \"http://images.brickset.com/sets/images/70330-1.jpg\", 2], [68, \"Maya\", \"Wolfe\", 33, \"NaN\", 25881, \"853549\", \"Gear\", \"Key Chains/Friends\", 2018, \"Mia Key Chain\", NaN, 5.99, \"http://images.brickset.com/sets/images/853549-1.jpg\", 1], [75, \"Jake\", \"Montes Alvarez\", 30, \"603-555-6881\", 25005, \"41566\", \"Mixels\", \"Series 8\", 2018, \"Sharx\", 55.0, 4.99, \"http://images.brickset.com/sets/images/41566-1.jpg\", 1], [76, \"Jake\", \"Montes Alvarez\", 30, \"603-555-6881\", 24751, \"76066\", \"Marvel Super Heroes\", \"Mighty Micros\", 2018, \"Hulk vs. Ultron\", 80.0, 9.99, \"http://images.brickset.com/sets/images/76066-1.jpg\", 1], [77, \"Jake\", \"Montes Alvarez\", 30, \"603-555-6881\", 24704, \"41140\", \"Disney Princess\", \"Palace Pets\", 2018, \"Daisy's Beauty Salon\", 98.0, 9.99, \"http://images.brickset.com/sets/images/41140-1.jpg\", 2], [78, \"Jake\", \"Montes Alvarez\", 30, \"603-555-6881\", 25901, \"5004612\", \"Gear\", \"Watches/Clocks\", 2018, \"Lucy Wyldstyle Minifigure Link Watch\", NaN, 24.99, \"http://images.brickset.com/sets/images/5004612-1.jpg\", 3], [104, \"Austin\", \"Martinez\", 29, \"NaN\", 24769, \"70600\", \"Ninjago\", \"Skybound\", 2018, \"Ninja Bike Chase\", 231.0, 19.99, \"http://images.brickset.com/sets/images/70600-1.jpg\", 2], [118, \"Jacob\", \"Barron\", 27, \"319-555-6104\", 24680, \"60113\", \"City\", \"Traffic\", 2018, \"Rally Car\", 104.0, 9.99, \"http://images.brickset.com/sets/images/60113-1.jpg\", 1], [119, \"Jacob\", \"Barron\", 27, \"319-555-6104\", 24792, \"75134\", \"Star Wars\", \"Battlefront\", 2018, \"Galactic Empire Battle Pack\", 109.0, 12.99, \"http://images.brickset.com/sets/images/75134-1.jpg\", 2], [131, \"Dakota\", \"Klopp\", 33, \"970-555-9320\", 25660, \"75822\", \"The Angry Birds Movie\", \"NaN\", 2018, \"Piggy Plane Attack\", 168.0, 19.99, \"http://images.brickset.com/sets/images/75822-1.jpg\", 1], [132, \"Dakota\", \"Klopp\", 33, \"970-555-9320\", 24807, \"71235\", \"Dimensions\", \"Level Pack\", 2018, \"Level Pack: Midway Arcade\", 96.0, 29.99, \"http://images.brickset.com/sets/images/71235-1.jpg\", 2], [133, \"Dakota\", \"Klopp\", 33, \"970-555-9320\", 25006, \"41567\", \"Mixels\", \"Series 8\", 2018, \"Skulzy\", 66.0, 4.99, \"http://images.brickset.com/sets/images/41567-1.jpg\", 2], [136, \"Xavier\", \"Suazo\", 27, \"321-555-0605\", 24779, \"75114\", \"Star Wars\", \"Buildable Figures\", 2018, \"First Order Stormtrooper\", 81.0, 19.99, \"http://images.brickset.com/sets/images/75114-1.jpg\", 1], [137, \"Xavier\", \"Suazo\", 27, \"321-555-0605\", 24771, \"70603\", \"Ninjago\", \"Skybound\", 2018, \"Raid Zeppelin\", 294.0, 29.99, \"http://images.brickset.com/sets/images/70603-1.jpg\", 1], [138, \"Jaime\", \"Rideout\", 26, \"913-555-5139\", 25641, \"70326\", \"Nexo Knights\", \"NaN\", 2018, \"The Black Knight Mech\", 530.0, 39.99, \"NaN\", 2], [139, \"Jaime\", \"Rideout\", 26, \"913-555-5139\", 24717, \"10818\", \"Duplo\", \"NaN\", 2018, \"My First Truck\", 29.0, 19.99, \"http://images.brickset.com/sets/images/10818-1.jpg\", 2], [140, \"Jaime\", \"Rideout\", 26, \"913-555-5139\", 24899, \"41114\", \"Friends\", \"Party\", 2018, \"Party Styling\", 54.0, 4.99, \"http://images.brickset.com/sets/images/41114-1.jpg\", 2], [153, \"Reyes\", \"Wilson\", 33, \"605-555-2774\", 24903, \"41558\", \"Mixels\", \"Series 7\", 2018, \"Mixadel\", 63.0, 4.99, \"http://images.brickset.com/sets/images/41558-1.jpg\", 1], [154, \"Reyes\", \"Wilson\", 33, \"605-555-2774\", 24693, \"31045\", \"Creator\", \"NaN\", 2018, \"Ocean Explorer\", 213.0, 14.99, \"http://images.brickset.com/sets/images/31045-1.jpg\", 1], [155, \"Reyes\", \"Wilson\", 33, \"605-555-2774\", 24793, \"75133\", \"Star Wars\", \"Battlefront\", 2018, \"Rebel Alliance Battle Pack\", 101.0, 12.99, \"http://images.brickset.com/sets/images/75133-1.jpg\", 2], [156, \"Avery\", \"Leung\", 33, \"330-555-2699\", 24781, \"75116\", \"Star Wars\", \"Buildable Figures\", 2018, \"Finn\", 98.0, 24.99, \"http://images.brickset.com/sets/images/75116-1.jpg\", 1], [157, \"Avery\", \"Leung\", 33, \"330-555-2699\", 25876, \"853555\", \"Gear\", \"Stationery\", 2018, \"Campsite Scrapbook\", NaN, 14.99, \"http://images.brickset.com/sets/images/853555-1.jpg\", 1], [158, \"Michael\", \"Williams\", 31, \"936-555-2974\", 24988, \"40202\", \"Seasonal\", \"Easter\", 2018, \"Easter Chick\", 111.0, 9.99, \"NaN\", 1], [159, \"Michael\", \"Williams\", 31, \"936-555-2974\", 24672, \"71307\", \"Bionicle\", \"Toa\", 2018, \"Gali - Uniter of Water\", 87.0, 14.99, \"http://images.brickset.com/sets/images/71307-1.jpg\", 1], [160, \"Michael\", \"Williams\", 31, \"936-555-2974\", 24895, \"31041\", \"Creator\", \"NaN\", 2018, \"Construction Vehicles\", 64.0, 4.99, \"http://images.brickset.com/sets/images/31041-1.jpg\", 1], [161, \"Colleen\", \"Galley\", 31, \"710-555-8843\", 24705, \"41141\", \"Disney Princess\", \"Palace Pets\", 2018, \"Pumpkin's Royal Carriage\", 79.0, 9.99, \"http://images.brickset.com/sets/images/41141-1.jpg\", 2], [162, \"Colleen\", \"Galley\", 31, \"710-555-8843\", 24976, \"60105\", \"City\", \"Fire\", 2018, \"Fire ATV\", 64.0, 6.99, \"http://images.brickset.com/sets/images/60105-1.jpg\", 1], [163, \"Colleen\", \"Galley\", 31, \"710-555-8843\", 24956, \"71300\", \"Bionicle\", \"companions\", 2018, \"Uxar - Creature of Jungle\", 89.0, 9.99, \"http://images.brickset.com/sets/images/71300-1.jpg\", 1], [164, \"Brandilyn\", \"Robertson\", 27, \"724-555-5496\", 24703, \"41069\", \"Disney Princess\", \"Palace Pets\", 2018, \"Treasure's Day at the Pool\", 70.0, 5.99, \"http://images.brickset.com/sets/images/41069-1.jpg\", 1], [165, \"Brandilyn\", \"Robertson\", 27, \"724-555-5496\", 25886, \"853519\", \"Gear\", \"Playmats\", 2018, \"NK Playmat\", NaN, 14.99, \"http://images.brickset.com/sets/images/853519-1.jpg\", 3], [166, \"Brandilyn\", \"Robertson\", 27, \"724-555-5496\", 24704, \"41140\", \"Disney Princess\", \"Palace Pets\", 2018, \"Daisy's Beauty Salon\", 98.0, 9.99, \"http://images.brickset.com/sets/images/41140-1.jpg\", 1], [167, \"Brandilyn\", \"Robertson\", 27, \"724-555-5496\", 25635, \"70320\", \"Nexo Knights\", \"NaN\", 2018, \"Aaron Fox's Aero-Striker V2\", 301.0, 29.99, \"http://images.brickset.com/sets/images/70320-1.jpg\", 1], [168, \"Brandilyn\", \"Robertson\", 27, \"724-555-5496\", 24745, \"76047\", \"Marvel Super Heroes\", \"Captain America: Civil War\", 2018, \"Black Panther Pursuit\", 287.0, 29.99, \"http://images.brickset.com/sets/images/76047-1.jpg\", 2], [169, \"Son\", \"Saldanha\", 30, \"507-555-2278\", 25878, \"853505\", \"Gear\", \"Role-Play toys\", 2018, \"NK Sword Standard\", NaN, 9.99, \"http://images.brickset.com/sets/images/853505-1.jpg\", 2], [170, \"Son\", \"Saldanha\", 30, \"507-555-2278\", 24793, \"75133\", \"Star Wars\", \"Battlefront\", 2018, \"Rebel Alliance Battle Pack\", 101.0, 12.99, \"http://images.brickset.com/sets/images/75133-1.jpg\", 2], [177, \"Shylynn\", \"Seitz\", 28, \"205-555-7084\", 24756, \"70310\", \"Nexo Knights\", \"NaN\", 2018, \"Knighton Battle Blaster\", 76.0, 9.99, \"http://images.brickset.com/sets/images/70310-1.jpg\", 2], [178, \"Shylynn\", \"Seitz\", 28, \"205-555-7084\", 24679, \"60111\", \"City\", \"Fire\", 2018, \"Fire Utility Truck\", 368.0, 39.99, \"http://images.brickset.com/sets/images/60111-1.jpg\", 1], [184, \"Neil\", \"Gabel\", 30, \"508-555-5700\", 26056, \"5005057\", \"Gear\", \"Video Games/XBOX 360\", 2018, \"Marvel Avengers XBOX 360 Video Game\", NaN, 49.99, \"http://images.brickset.com/sets/images/5005057-1.jpg\", 2], [185, \"Neil\", \"Gabel\", 30, \"508-555-5700\", 26058, \"5005059\", \"Gear\", \"Video Games/PS3\", 2018, \"Marvel Avengers PS3 Video Game\", NaN, 49.99, \"http://images.brickset.com/sets/images/5005059-1.jpg\", 1], [186, \"Neil\", \"Gabel\", 30, \"508-555-5700\", 24672, \"71307\", \"Bionicle\", \"Toa\", 2018, \"Gali - Uniter of Water\", 87.0, 14.99, \"http://images.brickset.com/sets/images/71307-1.jpg\", 1], [195, \"Joseph\", \"Ross\", 33, \"254-555-7628\", 24794, \"75135\", \"Star Wars\", \"Episode III\", 2018, \"Obi-Wan's Jedi Interceptor\", 215.0, 24.99, \"http://images.brickset.com/sets/images/75135-1.jpg\", 4], [196, \"Joseph\", \"Ross\", 33, \"254-555-7628\", 24684, \"60117\", \"City\", \"Traffic\", 2018, \"Van & Caravan\", 250.0, 19.99, \"http://images.brickset.com/sets/images/60117-1.jpg\", 2], [197, \"Paige\", \"Wagner\", 35, \"860-555-1618\", 26038, \"41577\", \"Mixels\", \"Series 9\", 2018, \"Mysto\", 64.0, 4.99, \"NaN\", 1], [198, \"Paige\", \"Wagner\", 35, \"860-555-1618\", 24727, \"41176\", \"Elves\", \"NaN\", 2018, \"The Secret Market Place\", 691.0, 59.99, \"http://images.brickset.com/sets/images/41176-1.jpg\", 3], [199, \"Paige\", \"Wagner\", 35, \"860-555-1618\", 24957, \"71309\", \"Bionicle\", \"Toa\", 2018, \"Onua - Uniter of Earth\", 143.0, 19.99, \"http://images.brickset.com/sets/images/71309-1.jpg\", 1], [200, \"Paige\", \"Wagner\", 35, \"860-555-1618\", 24798, \"75140\", \"Star Wars\", \"The Force Awakens\", 2018, \"Resistance Troop Transporter\", 646.0, 69.99, \"http://images.brickset.com/sets/images/75140-1.jpg\", 1], [201, \"Daianaira\", \"Joseph\", 26, \"714-555-9762\", 25594, \"71011\", \"Collectable Minifigures\", \"Series 15\", 2018, \"LEGO Minifigures - Series 15 - Sealed Box\", NaN, 3.99, \"http://images.brickset.com/sets/images/71011-18.jpg\", 1], [202, \"Daianaira\", \"Joseph\", 26, \"714-555-9762\", 26058, \"5005059\", \"Gear\", \"Video Games/PS3\", 2018, \"Marvel Avengers PS3 Video Game\", NaN, 49.99, \"http://images.brickset.com/sets/images/5005059-1.jpg\", 1], [205, \"Amber\", \"Terwilliger\", 35, \"626-555-5321\", 24733, \"41118\", \"Friends\", \"NaN\", 2018, \"Heartlake Supermarket\", 313.0, 29.99, \"http://images.brickset.com/sets/images/41118-1.jpg\", 2], [206, \"Amber\", \"Terwilliger\", 35, \"626-555-5321\", 25611, \"21127\", \"Minecraft\", \"Minifig-scale\", 2018, \"The Fortress\", NaN, 109.99, \"http://images.brickset.com/sets/images/21127-1.jpg\", 1], [211, \"Nerea\", \"Feldman\", 28, \"423-555-9631\", 24805, \"42049\", \"Technic\", \"NaN\", 2018, \"Mine Loader\", 476.0, 49.99, \"http://images.brickset.com/sets/images/42049-1.jpg\", 2], [212, \"Nerea\", \"Feldman\", 28, \"423-555-9631\", 25921, \"75157\", \"Star Wars\", \"Rebels\", 2018, \"Captain Rex's AT-TE\", 972.0, 119.99, \"http://images.brickset.com/sets/images/75157-1.jpg\", 2], [213, \"Julianna\", \"Stephens\", 34, \"403-555-9991\", 24692, \"31044\", \"Creator\", \"NaN\", 2018, \"Park Animals\", 202.0, 14.99, \"http://images.brickset.com/sets/images/31044-1.jpg\", 1], [214, \"Julianna\", \"Stephens\", 34, \"403-555-9991\", 24797, \"75138\", \"Star Wars\", \"Episode V\", 2018, \"Hoth Attack\", 233.0, 24.99, \"http://images.brickset.com/sets/images/75138-1.jpg\", 1], [215, \"Katrina\", \"Clyman\", 32, \"604-555-3882\", 24689, \"60129\", \"City\", \"Police\", 2018, \"Police Patrol Boat\", 200.0, 49.99, \"http://images.brickset.com/sets/images/60129-1.jpg\", 1], [216, \"Katrina\", \"Clyman\", 32, \"604-555-3882\", 24663, \"21027\", \"Architecture\", \"Skylines\", 2018, \"Berlin\", 289.0, 29.99, \"http://images.brickset.com/sets/images/21027-1.jpg\", 1], [231, \"Jackson\", \"Roybal\", 26, \"NaN\", 26036, \"41575\", \"Mixels\", \"Series 9\", 2018, \"Cobrax\", 64.0, 4.99, \"NaN\", 1], [232, \"Jackson\", \"Roybal\", 26, \"NaN\", 24700, \"76061\", \"DC Comics Super Heroes\", \"Mighty Micros\", 2018, \"Batman vs. Catwoman\", 79.0, 9.99, \"http://images.brickset.com/sets/images/76061-1.jpg\", 1], [233, \"Jackson\", \"Roybal\", 26, \"NaN\", 24695, \"31048\", \"Creator\", \"NaN\", 2018, \"Lakeside Lodge\", 368.0, 29.99, \"http://images.brickset.com/sets/images/31048-1.jpg\", 1], [252, \"Elizabeth\", \"Kendrick\", 35, \"816-555-5138\", 25630, \"70337\", \"Nexo Knights\", \"Ultimate\", 2018, \"Ultimate Lance\", 75.0, 9.99, \"NaN\", 1], [253, \"Elizabeth\", \"Kendrick\", 35, \"816-555-5138\", 24735, \"41120\", \"Friends\", \"Adventure Camp\", 2018, \"Adventure Camp Archery\", 114.0, 9.99, \"http://images.brickset.com/sets/images/41120-1.jpg\", 1], [257, \"Abigayle\", \"Hosman\", 34, \"604-555-7100\", 24710, \"10806\", \"Duplo\", \"NaN\", 2018, \"Horses\", 20.0, 14.99, \"http://images.brickset.com/sets/images/10806-1.jpg\", 1], [258, \"Abigayle\", \"Hosman\", 34, \"604-555-7100\", 25630, \"70337\", \"Nexo Knights\", \"Ultimate\", 2018, \"Ultimate Lance\", 75.0, 9.99, \"NaN\", 1], [263, \"Austin\", \"Atencio\", 30, \"225-555-7391\", 25659, \"75821\", \"The Angry Birds Movie\", \"NaN\", 2018, \"Piggy Car Escape\", 74.0, 12.99, \"http://images.brickset.com/sets/images/75821-1.jpg\", 1], [264, \"Austin\", \"Atencio\", 30, \"225-555-7391\", 24804, \"42048\", \"Technic\", \"NaN\", 2018, \"Race Kart\", 345.0, 29.99, \"http://images.brickset.com/sets/images/42048-1.jpg\", 2], [265, \"Austin\", \"Atencio\", 30, \"225-555-7391\", 26041, \"41580\", \"Mixels\", \"Series 9\", 2018, \"Myke\", 63.0, 4.99, \"NaN\", 1], [266, \"Austin\", \"Atencio\", 30, \"225-555-7391\", 24704, \"41140\", \"Disney Princess\", \"Palace Pets\", 2018, \"Daisy's Beauty Salon\", 98.0, 9.99, \"http://images.brickset.com/sets/images/41140-1.jpg\", 1], [267, \"Brenden\", \"Trujillo\", 31, \"928-555-1076\", 25658, \"21305\", \"Ideas\", \"NaN\", 2018, \"Maze\", 769.0, 69.99, \"NaN\", 1], [269, \"Elizabeth\", \"Roemmich\", 32, \"502-555-4381\", 24994, \"10251\", \"Advanced Models\", \"Modular Buildings\", 2018, \"Brick Bank\", 2380.0, 169.99, \"http://images.brickset.com/sets/images/10251-1.jpg\", 1], [270, \"Elizabeth\", \"Roemmich\", 32, \"502-555-4381\", 25657, \"76051\", \"Marvel Super Heroes\", \"Captain America: Civil War\", 2018, \"Super Hero Airport Battle\", 807.0, 79.99, \"http://images.brickset.com/sets/images/76051-1.jpg\", 1], [289, \"Alejandre\", \"Baek\", 26, \"616-555-9268\", 24771, \"70603\", \"Ninjago\", \"Skybound\", 2018, \"Raid Zeppelin\", 294.0, 29.99, \"http://images.brickset.com/sets/images/70603-1.jpg\", 2], [303, \"Pa\", \"Strasser\", 26, \"830-555-7071\", 24770, \"70602\", \"Ninjago\", \"Skybound\", 2018, \"Jay's Elemental Dragon\", 350.0, 29.99, \"http://images.brickset.com/sets/images/70602-1.jpg\", 1], [304, \"Pa\", \"Strasser\", 26, \"830-555-7071\", 24795, \"75136\", \"Star Wars\", \"Episode IV\", 2018, \"Droid Escape Pod\", 197.0, 24.99, \"http://images.brickset.com/sets/images/75136-1.jpg\", 2], [308, \"George\", \"Guerra\", 35, \"NaN\", 24895, \"31041\", \"Creator\", \"NaN\", 2018, \"Construction Vehicles\", 64.0, 4.99, \"http://images.brickset.com/sets/images/31041-1.jpg\", 1], [341, \"Dakotah\", \"Baca\", 30, \"979-555-1121\", 25611, \"21127\", \"Minecraft\", \"Minifig-scale\", 2018, \"The Fortress\", NaN, 109.99, \"http://images.brickset.com/sets/images/21127-1.jpg\", 1], [342, \"Dakotah\", \"Baca\", 30, \"979-555-1121\", 24689, \"60129\", \"City\", \"Police\", 2018, \"Police Patrol Boat\", 200.0, 49.99, \"http://images.brickset.com/sets/images/60129-1.jpg\", 1], [348, \"Senay\", \"Hildreth\", 30, \"607-555-8247\", 24895, \"31041\", \"Creator\", \"NaN\", 2018, \"Construction Vehicles\", 64.0, 4.99, \"http://images.brickset.com/sets/images/31041-1.jpg\", 3], [349, \"Senay\", \"Hildreth\", 30, \"607-555-8247\", 24798, \"75140\", \"Star Wars\", \"The Force Awakens\", 2018, \"Resistance Troop Transporter\", 646.0, 69.99, \"http://images.brickset.com/sets/images/75140-1.jpg\", 2], [350, \"Senay\", \"Hildreth\", 30, \"607-555-8247\", 25642, \"70327\", \"Nexo Knights\", \"NaN\", 2018, \"The King's Mech\", 375.0, 29.99, \"http://images.brickset.com/sets/images/70327-1.jpg\", 1], [351, \"Senay\", \"Hildreth\", 30, \"607-555-8247\", 24957, \"71309\", \"Bionicle\", \"Toa\", 2018, \"Onua - Uniter of Earth\", 143.0, 19.99, \"http://images.brickset.com/sets/images/71309-1.jpg\", 2], [361, \"Holly\", \"Klingelsmith\", 33, \"NaN\", 25003, \"41564\", \"Mixels\", \"Series 8\", 2018, \"Aquad\", 70.0, 4.99, \"http://images.brickset.com/sets/images/41564-1.jpg\", 4], [362, \"Holly\", \"Klingelsmith\", 33, \"NaN\", 24906, \"41562\", \"Mixels\", \"Series 7\", 2018, \"Trumpsy\", 54.0, 4.99, \"http://images.brickset.com/sets/images/41562-1.jpg\", 1], [363, \"Mason\", \"Perez\", 32, \"403-555-2627\", 24718, \"10819\", \"Duplo\", \"NaN\", 2018, \"My First Garden\", 25.0, 19.99, \"http://images.brickset.com/sets/images/10819-1.jpg\", 3], [364, \"Mason\", \"Perez\", 32, \"403-555-2627\", 24903, \"41558\", \"Mixels\", \"Series 7\", 2018, \"Mixadel\", 63.0, 4.99, \"http://images.brickset.com/sets/images/41558-1.jpg\", 1], [367, \"Jordan\", \"O'Boyle\", 28, \"880-555-9695\", 24662, \"21026\", \"Architecture\", \"Skylines\", 2018, \"Venice\", 212.0, 29.99, \"http://images.brickset.com/sets/images/21026-1.jpg\", 1], [368, \"Jordan\", \"O'Boyle\", 28, \"880-555-9695\", 25635, \"70320\", \"Nexo Knights\", \"NaN\", 2018, \"Aaron Fox's Aero-Striker V2\", 301.0, 29.99, \"http://images.brickset.com/sets/images/70320-1.jpg\", 2], [382, \"Emilie\", \"Ellis\", 33, \"806-555-3409\", 25639, \"70324\", \"Nexo Knights\", \"NaN\", 2018, \"Merlok's Library 2.0\", 288.0, 24.99, \"http://images.brickset.com/sets/images/70324-1.jpg\", 1], [383, \"Emilie\", \"Ellis\", 33, \"806-555-3409\", 24760, \"70315\", \"Nexo Knights\", \"NaN\", 2018, \"Clay's Rumble Blade\", 367.0, 39.99, \"http://images.brickset.com/sets/images/70315-1.jpg\", 1], [384, \"Emilie\", \"Ellis\", 33, \"806-555-3409\", 24762, \"70330\", \"Nexo Knights\", \"Ultimate\", 2018, \"Ultimate Clay\", 72.0, 9.99, \"http://images.brickset.com/sets/images/70330-1.jpg\", 2], [385, \"Emilie\", \"Ellis\", 33, \"806-555-3409\", 25877, \"853506\", \"Gear\", \"Role-Play toys\", 2018, \"NK Shield Standard\", NaN, 12.99, \"http://images.brickset.com/sets/images/853506-1.jpg\", 1], [390, \"Sara\", \"Siegwarth\", 30, \"214-555-6861\", 24898, \"41113\", \"Friends\", \"Party\", 2018, \"Party Gift Shop\", 52.0, 4.99, \"http://images.brickset.com/sets/images/41113-1.jpg\", 1], [391, \"Sara\", \"Siegwarth\", 30, \"214-555-6861\", 25876, \"853555\", \"Gear\", \"Stationery\", 2018, \"Campsite Scrapbook\", NaN, 14.99, \"http://images.brickset.com/sets/images/853555-1.jpg\", 1], [392, \"Siria\", \"Vorwald\", 28, \"716-555-2704\", 24956, \"71300\", \"Bionicle\", \"companions\", 2018, \"Uxar - Creature of Jungle\", 89.0, 9.99, \"http://images.brickset.com/sets/images/71300-1.jpg\", 1], [393, \"Siria\", \"Vorwald\", 28, \"716-555-2704\", 24691, \"31043\", \"Creator\", \"NaN\", 2018, \"Chopper Transporter\", 124.0, 9.99, \"http://images.brickset.com/sets/images/31043-1.jpg\", 1], [400, \"Brianna\", \"Prisbrey\", 28, \"580-555-3606\", 24697, \"76044\", \"DC Comics Super Heroes\", \"Batman v Superman: Dawn of Justice\", 2018, \"Clash of the Heroes\", 92.0, 12.99, \"http://images.brickset.com/sets/images/76044-1.jpg\", 1], [401, \"Brianna\", \"Prisbrey\", 28, \"580-555-3606\", 25656, \"10804\", \"Duplo\", \"NaN\", 2018, \"Jungle\", 86.0, 49.99, \"http://images.brickset.com/sets/images/10804-1.jpg\", 1], [402, \"Brianna\", \"Prisbrey\", 28, \"580-555-3606\", 24551, \"71234\", \"Dimensions\", \"Fun Pack\", 2018, \"Fun Pack: Sensei Wu\", 58.0, 14.99, \"http://images.brickset.com/sets/images/71234-1.jpg\", 1], [410, \"Ursula\", \"Goyen\", 33, \"973-555-5517\", 24920, \"70605\", \"Ninjago\", \"Skybound\", 2018, \"Misfortune's Keep\", 754.0, 79.99, \"http://images.brickset.com/sets/images/70605-1.jpg\", 2], [411, \"Ursula\", \"Goyen\", 33, \"973-555-5517\", 25876, \"853555\", \"Gear\", \"Stationery\", 2018, \"Campsite Scrapbook\", NaN, 14.99, \"http://images.brickset.com/sets/images/853555-1.jpg\", 1], [412, \"Ursula\", \"Goyen\", 33, \"973-555-5517\", 25638, \"70323\", \"Nexo Knights\", \"NaN\", 2018, \"Jestro's Volcano Lair\", 1186.0, 119.99, \"http://images.brickset.com/sets/images/70323-1.jpg\", 1], [413, \"Ursula\", \"Goyen\", 33, \"973-555-5517\", 24722, \"41171\", \"Elves\", \"NaN\", 2018, \"Emily Jones & the Baby Wind Dragon\", 80.0, 9.99, \"http://images.brickset.com/sets/images/41171-1.jpg\", 1], [429, \"Alex\", \"Martin\", 32, \"612-555-6849\", 25664, \"75826\", \"The Angry Birds Movie\", \"NaN\", 2018, \"King Pig's Castle\", 859.0, 89.99, \"http://images.brickset.com/sets/images/75826-1.jpg\", 2], [430, \"Alex\", \"Martin\", 32, \"612-555-6849\", 25624, \"70593\", \"Ninjago\", \"Skybound\", 2018, \"The Green NRG Dragon\", 567.0, 49.99, \"http://images.brickset.com/sets/images/70593-1.jpg\", 1], [442, \"Dominic\", \"Mayo\", 34, \"936-555-0956\", 25887, \"853543\", \"Ninjago\", \"NaN\", 2018, \"Ninjago Party Set\", 70.0, 7.99, \"http://images.brickset.com/sets/images/853543-1.jpg\", 2], [446, \"Elyssa\", \"Nelson\", 26, \"815-555-4287\", 24703, \"41069\", \"Disney Princess\", \"Palace Pets\", 2018, \"Treasure's Day at the Pool\", 70.0, 5.99, \"http://images.brickset.com/sets/images/41069-1.jpg\", 1], [447, \"Elyssa\", \"Nelson\", 26, \"815-555-4287\", 24736, \"41121\", \"Friends\", \"Adventure Camp\", 2018, \"Adventure Camp Rafting\", 320.0, 29.99, \"http://images.brickset.com/sets/images/41121-1.jpg\", 1], [448, \"Francisco\", \"Smith\", 34, \"229-555-6673\", 24687, \"60127\", \"City\", \"Police\", 2018, \"Prison Island Starter Set\", 92.0, 9.99, \"http://images.brickset.com/sets/images/60127-1.jpg\", 1], [449, \"Francisco\", \"Smith\", 34, \"229-555-6673\", 24802, \"42046\", \"Technic\", \"NaN\", 2018, \"Getaway Racer\", 170.0, 19.99, \"http://images.brickset.com/sets/images/42046-1.jpg\", 1], [450, \"Saige\", \"Dugger\", 27, \"406-555-4946\", 24677, \"60108\", \"City\", \"Fire\", 2018, \"Fire Response Unit\", 257.0, 39.99, \"http://images.brickset.com/sets/images/60108-1.jpg\", 1], [451, \"Saige\", \"Dugger\", 27, \"406-555-4946\", 24715, \"10816\", \"Duplo\", \"NaN\", 2018, \"My First Cars and Trucks\", 36.0, 19.99, \"http://images.brickset.com/sets/images/10816-1.jpg\", 2], [452, \"Saige\", \"Dugger\", 27, \"406-555-4946\", 24722, \"41171\", \"Elves\", \"NaN\", 2018, \"Emily Jones & the Baby Wind Dragon\", 80.0, 9.99, \"http://images.brickset.com/sets/images/41171-1.jpg\", 1], [453, \"Saige\", \"Dugger\", 27, \"406-555-4946\", 25635, \"70320\", \"Nexo Knights\", \"NaN\", 2018, \"Aaron Fox's Aero-Striker V2\", 301.0, 29.99, \"http://images.brickset.com/sets/images/70320-1.jpg\", 1], [454, \"Saige\", \"Dugger\", 27, \"406-555-4946\", 24762, \"70330\", \"Nexo Knights\", \"Ultimate\", 2018, \"Ultimate Clay\", 72.0, 9.99, \"http://images.brickset.com/sets/images/70330-1.jpg\", 1], [461, \"Kaitlyn\", \"Engel\", 27, \"440-555-1127\", 24672, \"71307\", \"Bionicle\", \"Toa\", 2018, \"Gali - Uniter of Water\", 87.0, 14.99, \"http://images.brickset.com/sets/images/71307-1.jpg\", 3], [462, \"Kaitlyn\", \"Engel\", 27, \"440-555-1127\", 25010, \"41571\", \"Mixels\", \"Series 8\", 2018, \"Tuth\", 67.0, 4.99, \"http://images.brickset.com/sets/images/41571-1.jpg\", 2], [463, \"Kaitlyn\", \"Engel\", 27, \"440-555-1127\", 25896, \"853547\", \"Gear\", \"Key Chains/Friends\", 2018, \"Emma Key Chain\", NaN, 5.99, \"http://images.brickset.com/sets/images/853547-1.jpg\", 2], [464, \"Kaitlyn\", \"Engel\", 27, \"440-555-1127\", 25645, \"71314\", \"Bionicle\", \"Reboot Villains\", 2018, \"Storm Beast\", 109.0, 14.99, \"NaN\", 1], [465, \"Rachael\", \"Tilley\", 26, \"806-555-8594\", 24988, \"40202\", \"Seasonal\", \"Easter\", 2018, \"Easter Chick\", 111.0, 9.99, \"NaN\", 2], [466, \"Rachael\", \"Tilley\", 26, \"806-555-8594\", 26036, \"41575\", \"Mixels\", \"Series 9\", 2018, \"Cobrax\", 64.0, 4.99, \"NaN\", 1], [472, \"Jennifer\", \"Dana\", 26, \"956-555-9719\", 24691, \"31043\", \"Creator\", \"NaN\", 2018, \"Chopper Transporter\", 124.0, 9.99, \"http://images.brickset.com/sets/images/31043-1.jpg\", 2], [473, \"Jennifer\", \"Dana\", 26, \"956-555-9719\", 25597, \"75827\", \"Ghostbusters\", \"NaN\", 2018, \"Firehouse Headquarters \", 4634.0, 349.99, \"http://images.brickset.com/sets/images/75827-1.jpg\", 2], [478, \"Jacob\", \"Griffith\", 29, \"928-555-3406\", 25627, \"70596\", \"Ninjago\", \"Rise of the Villains\", 2018, \"Samurai X Cave Chaos\", 1253.0, 119.99, \"NaN\", 1], [479, \"Jacob\", \"Griffith\", 29, \"928-555-3406\", 25887, \"853543\", \"Ninjago\", \"NaN\", 2018, \"Ninjago Party Set\", 70.0, 7.99, \"http://images.brickset.com/sets/images/853543-1.jpg\", 2], [480, \"Jacob\", \"Griffith\", 29, \"928-555-3406\", 24716, \"10817\", \"Duplo\", \"NaN\", 2018, \"Creative Chest\", 70.0, 29.99, \"http://images.brickset.com/sets/images/10817-1.jpg\", 1], [481, \"Dustin\", \"Tennis\", 31, \"229-555-5837\", 24687, \"60127\", \"City\", \"Police\", 2018, \"Prison Island Starter Set\", 92.0, 9.99, \"http://images.brickset.com/sets/images/60127-1.jpg\", 1], [495, \"Jenny\", \"Tutone\", 35, \"919-867-5309\", 24729, \"41111\", \"Friends\", \"Party\", 2018, \"Party Train\", 109.0, 9.99, \"http://images.brickset.com/sets/images/41111-1.jpg\", 1], [496, \"Jenny\", \"Tutone\", 35, \"919-867-5309\", 24894, \"31040\", \"Creator\", \"NaN\", 2018, \"Desert Racers\", 65.0, 4.99, \"http://images.brickset.com/sets/images/31040-1.jpg\", 1], [497, \"Jenny\", \"Tutone\", 35, \"919-867-5309\", 24735, \"41120\", \"Friends\", \"Adventure Camp\", 2018, \"Adventure Camp Archery\", 114.0, 9.99, \"http://images.brickset.com/sets/images/41120-1.jpg\", 1], [512, \"Peyton\", \"Wiebe\", 29, \"281-555-8711\", 25612, \"21128\", \"Minecraft\", \"Minifig-scale\", 2018, \"The Village\", NaN, 199.99, \"NaN\", 1], [513, \"Peyton\", \"Wiebe\", 29, \"281-555-8711\", 25922, \"75149\", \"Star Wars\", \"The Force Awakens\", 2018, \"Resistance X-wing Fighter\", 740.0, 79.99, \"http://images.brickset.com/sets/images/75149-1.jpg\", 1], [514, \"Peyton\", \"Wiebe\", 29, \"281-555-8711\", 26024, \"41177\", \"Elves\", \"NaN\", 2018, \"The Precious Crystal Mine\", 273.0, 29.99, \"http://images.brickset.com/sets/images/41177-1.jpg\", 2], [516, \"Alex\", \"Ford\", 33, \"509-555-2531\", 24701, \"76062\", \"DC Comics Super Heroes\", \"Mighty Micros\", 2018, \"Robin vs. Bane\", 77.0, 9.99, \"http://images.brickset.com/sets/images/76062-1.jpg\", 1], [517, \"Audrey\", \"Eustace\", 26, \"NaN\", 24771, \"70603\", \"Ninjago\", \"Skybound\", 2018, \"Raid Zeppelin\", 294.0, 29.99, \"http://images.brickset.com/sets/images/70603-1.jpg\", 1], [518, \"Audrey\", \"Eustace\", 26, \"NaN\", 25877, \"853506\", \"Gear\", \"Role-Play toys\", 2018, \"NK Shield Standard\", NaN, 12.99, \"http://images.brickset.com/sets/images/853506-1.jpg\", 1], [519, \"Audrey\", \"Eustace\", 26, \"NaN\", 25641, \"70326\", \"Nexo Knights\", \"NaN\", 2018, \"The Black Knight Mech\", 530.0, 39.99, \"NaN\", 1], [520, \"Audrey\", \"Eustace\", 26, \"NaN\", 24749, \"76064\", \"Marvel Super Heroes\", \"Mighty Micros\", 2018, \"Spider-Man vs. Green Goblin\", 85.0, 9.99, \"http://images.brickset.com/sets/images/76064-1.jpg\", 1], [528, \"Alissa\", \"Lamsal\", 27, \"313-555-1678\", 24762, \"70330\", \"Nexo Knights\", \"Ultimate\", 2018, \"Ultimate Clay\", 72.0, 9.99, \"http://images.brickset.com/sets/images/70330-1.jpg\", 2], [529, \"Alissa\", \"Lamsal\", 27, \"313-555-1678\", 25640, \"70325\", \"Nexo Knights\", \"NaN\", 2018, \"Infernox captures the Queen\", 253.0, 24.99, \"http://images.brickset.com/sets/images/70325-1.jpg\", 3], [542, \"Megan\", \"Sweetman\", 30, \"567-555-4401\", 24957, \"71309\", \"Bionicle\", \"Toa\", 2018, \"Onua - Uniter of Earth\", 143.0, 19.99, \"http://images.brickset.com/sets/images/71309-1.jpg\", 1], [543, \"Megan\", \"Sweetman\", 30, \"567-555-4401\", 24959, \"75139\", \"Star Wars\", \"The Force Awakens\", 2018, \"Battle on Takodana\", 409.0, 59.99, \"http://images.brickset.com/sets/images/75139-1.jpg\", 2], [544, \"Megan\", \"Sweetman\", 30, \"567-555-4401\", 24986, \"30446\", \"DC Comics Super Heroes\", \"Batman v Superman: Dawn of Justice\", 2018, \"The Batmobile\", 63.0, 3.99, \"http://images.brickset.com/sets/images/30446-1.jpg\", 1], [545, \"Megan\", \"Sweetman\", 30, \"567-555-4401\", 24737, \"41135\", \"Friends\", \"Pop Star\", 2018, \"Livi's Pop Star House\", 597.0, 49.99, \"http://images.brickset.com/sets/images/41135-1.jpg\", 1], [557, \"Danait\", \"Mckinny\", 33, \"NaN\", 24919, \"70601\", \"Ninjago\", \"Skybound\", 2018, \"Sky Shark\", 221.0, 19.99, \"http://images.brickset.com/sets/images/70601-1.jpg\", 2], [558, \"Joseph\", \"Holub\", 33, \"732-555-8846\", 25877, \"853506\", \"Gear\", \"Role-Play toys\", 2018, \"NK Shield Standard\", NaN, 12.99, \"http://images.brickset.com/sets/images/853506-1.jpg\", 3], [559, \"Joseph\", \"Holub\", 33, \"732-555-8846\", 25007, \"41568\", \"Mixels\", \"Series 8\", 2018, \"Lewt\", 62.0, 4.99, \"http://images.brickset.com/sets/images/41568-1.jpg\", 1], [560, \"Joseph\", \"Holub\", 33, \"732-555-8846\", 25606, \"75148\", \"Star Wars\", \"The Force Awakens\", 2018, \"Encounter on Jakku\", 530.0, 59.99, \"http://images.brickset.com/sets/images/75148-1.jpg\", 1], [561, \"Joseph\", \"Holub\", 33, \"732-555-8846\", 24619, \"41560\", \"Mixels\", \"Series 7\", 2018, \"Jamzy\", 70.0, 4.99, \"http://images.brickset.com/sets/images/41560-1.jpg\", 1], [562, \"Joseph\", \"Holub\", 33, \"732-555-8846\", 24797, \"75138\", \"Star Wars\", \"Episode V\", 2018, \"Hoth Attack\", 233.0, 24.99, \"http://images.brickset.com/sets/images/75138-1.jpg\", 2], [568, \"Dominique\", \"Kifletsion\", 28, \"647-555-6291\", 24730, \"41115\", \"Friends\", \"NaN\", 2018, \"Emma's Creative Workshop\", 108.0, 9.99, \"http://images.brickset.com/sets/images/41115-1.jpg\", 2], [569, \"Dominique\", \"Kifletsion\", 28, \"647-555-6291\", 25917, \"76058\", \"Marvel Super Heroes\", \"Ultimate Spider-Man\", 2018, \"Spider-Man: Ghost Rider Team-Up\", 217.0, 19.99, \"http://images.brickset.com/sets/images/76058-1.jpg\", 3], [575, \"Katelynn\", \"Wardlaw\", 35, \"604-555-2142\", 24913, \"60112\", \"City\", \"Fire\", 2018, \"Fire Engine\", 376.0, 49.99, \"http://images.brickset.com/sets/images/60112-1.jpg\", 1], [576, \"Autriana\", \"Hess\", 26, \"616-555-0154\", 24681, \"60114\", \"City\", \"Harbour\", 2018, \"Race Boat\", 95.0, 9.99, \"http://images.brickset.com/sets/images/60114-1.jpg\", 1], [577, \"Autriana\", \"Hess\", 26, \"616-555-0154\", 24710, \"10806\", \"Duplo\", \"NaN\", 2018, \"Horses\", 20.0, 14.99, \"http://images.brickset.com/sets/images/10806-1.jpg\", 1], [578, \"Autriana\", \"Hess\", 26, \"616-555-0154\", 26025, \"41178\", \"Elves\", \"NaN\", 2018, \"The Dragon Sanctuary\", 585.0, 49.99, \"NaN\", 1], [579, \"Christy\", \"Larsen\", 26, \"910-555-9252\", 24903, \"41558\", \"Mixels\", \"Series 7\", 2018, \"Mixadel\", 63.0, 4.99, \"http://images.brickset.com/sets/images/41558-1.jpg\", 1], [580, \"Christy\", \"Larsen\", 26, \"910-555-9252\", 24735, \"41120\", \"Friends\", \"Adventure Camp\", 2018, \"Adventure Camp Archery\", 114.0, 9.99, \"http://images.brickset.com/sets/images/41120-1.jpg\", 1], [585, \"Trenidy\", \"Embrey\", 26, \"215-555-1034\", 25884, \"853571\", \"Gear\", \"Key Chains/Miscellaneous\", 2018, \"Hot Dog Guy Key Chain\", NaN, 5.99, \"http://images.brickset.com/sets/images/853571-1.jpg\", 2], [586, \"Trenidy\", \"Embrey\", 26, \"215-555-1034\", 24779, \"75114\", \"Star Wars\", \"Buildable Figures\", 2018, \"First Order Stormtrooper\", 81.0, 19.99, \"http://images.brickset.com/sets/images/75114-1.jpg\", 1], [587, \"Trenidy\", \"Embrey\", 26, \"215-555-1034\", 24791, \"75132\", \"Star Wars\", \"The Force Awakens\", 2018, \"First Order Battle Pack\", 88.0, 12.99, \"http://images.brickset.com/sets/images/75132-1.jpg\", 3], [588, \"Sean\", \"Graves-Ayers\", 34, \"949-555-1759\", 25641, \"70326\", \"Nexo Knights\", \"NaN\", 2018, \"The Black Knight Mech\", 530.0, 39.99, \"NaN\", 2], [589, \"Sean\", \"Graves-Ayers\", 34, \"949-555-1759\", 26035, \"41574\", \"Mixels\", \"Series 9\", 2018, \"Compax\", 66.0, 4.99, \"NaN\", 1], [600, \"Juana\", \"Geisert\", 35, \"701-555-8100\", 25919, \"75150\", \"Star Wars\", \"Rebels\", 2018, \"Vader's TIE Advanced vs. A-wing Fighter\", 702.0, 89.99, \"http://images.brickset.com/sets/images/75150-1.jpg\", 2], [601, \"Juana\", \"Geisert\", 35, \"701-555-8100\", 25644, \"71313\", \"Bionicle\", \"Reboot Villains\", 2018, \"Lava Beast\", 114.0, 14.99, \"NaN\", 1], [603, \"Benjamin\", \"Park\", 33, \"NaN\", 24785, \"75126\", \"Star Wars\", \"MicroFighters\", 2018, \"First Order Snowspeeder\", 91.0, 9.99, \"http://images.brickset.com/sets/images/75126-1.jpg\", 1], [604, \"Benjamin\", \"Park\", 33, \"NaN\", 25898, \"75145\", \"Star Wars\", \"Original Content\", 2018, \"Eclipse Fighter\", 363.0, 29.99, \"http://images.brickset.com/sets/images/75145-1.jpg\", 4], [605, \"Benjamin\", \"Park\", 33, \"NaN\", 25883, \"853568\", \"Gear\", \"Key Chains/City\", 2018, \"Prison Guard Key Chain\", NaN, 5.99, \"http://images.brickset.com/sets/images/853568-1.jpg\", 1], [606, \"Benjamin\", \"Park\", 33, \"NaN\", 24957, \"71309\", \"Bionicle\", \"Toa\", 2018, \"Onua - Uniter of Earth\", 143.0, 19.99, \"http://images.brickset.com/sets/images/71309-1.jpg\", 2], [607, \"Miles\", \"Hill\", 34, \"NaN\", 24758, \"70312\", \"Nexo Knights\", \"NaN\", 2018, \"Lance's Mecha Horse\", 237.0, 19.99, \"http://images.brickset.com/sets/images/70312-1.jpg\", 2], [610, \"Jennifer\", \"Reinert\", 29, \"402-555-0467\", 24660, \"71241\", \"Dimensions\", \"Fun Pack\", 2018, \"Fun Pack: Slimer\", 33.0, 14.99, \"http://images.brickset.com/sets/images/71241-1.jpg\", 3], [616, \"Spencer\", \"Morgan\", 28, \"784-555-3455\", 26041, \"41580\", \"Mixels\", \"Series 9\", 2018, \"Myke\", 63.0, 4.99, \"NaN\", 2], [617, \"Spencer\", \"Morgan\", 28, \"784-555-3455\", 26060, \"5005051\", \"Gear\", \"Digital Media\", 2018, \"Friends of Heartlake City Girlz 4 Life\", NaN, 19.99, \"NaN\", 1]];\n",
       "\n",
       "        // Define the dt_args\n",
       "        let dt_args = {\"layout\": {\"topStart\": \"pageLength\", \"topEnd\": \"search\", \"bottomStart\": \"info\", \"bottomEnd\": \"paging\"}, \"order\": []};\n",
       "        dt_args[\"data\"] = data;\n",
       "\n",
       "        \n",
       "        new DataTable(table, dt_args);\n",
       "    });\n",
       "</script>\n"
      ],
      "text/plain": [
       "<IPython.core.display.HTML object>"
      ]
     },
     "metadata": {},
     "output_type": "display_data"
    }
   ],
   "source": [
    "mask26_35 = (DF['age']>= 26) & (DF['age']<= 35)\n",
    "DF26_35 = DF[mask26_35]\n",
    "show(DF26_35)"
   ]
  },
  {
   "cell_type": "code",
   "execution_count": 485,
   "id": "c7980877-e8e7-445f-9956-396600188586",
   "metadata": {},
   "outputs": [
    {
     "data": {
      "text/html": [
       "<table id=\"itables_ac389f7d_8e66_4794_a935_09f44182991d\" class=\"display nowrap\" data-quarto-disable-processing=\"true\" style=\"table-layout:auto;width:auto;margin:auto;caption-side:bottom\">\n",
       "<thead>\n",
       "    <tr style=\"text-align: right;\">\n",
       "      <th></th>\n",
       "      <th>first_name</th>\n",
       "      <th>last_name</th>\n",
       "      <th>age</th>\n",
       "      <th>phone_number</th>\n",
       "      <th>set_id</th>\n",
       "      <th>number</th>\n",
       "      <th>theme</th>\n",
       "      <th>subtheme</th>\n",
       "      <th>year</th>\n",
       "      <th>name</th>\n",
       "      <th>pieces</th>\n",
       "      <th>us_price</th>\n",
       "      <th>image_url</th>\n",
       "      <th>quantity</th>\n",
       "    </tr>\n",
       "  </thead><tbody><tr>\n",
       "<td style=\"vertical-align:middle; text-align:left\">\n",
       "<div style=\"float:left; margin-right: 10px;\">\n",
       "<a href=https://mwouts.github.io/itables/><svg class=\"main-svg\" xmlns=\"http://www.w3.org/2000/svg\" xmlns:xlink=\"http://www.w3.org/1999/xlink\"\n",
       "width=\"64\" viewBox=\"0 0 500 400\" style=\"font-family: 'Droid Sans', sans-serif;\">\n",
       "    <g style=\"fill:#d9d7fc\">\n",
       "        <path d=\"M100,400H500V357H100Z\" />\n",
       "        <path d=\"M100,300H400V257H100Z\" />\n",
       "        <path d=\"M0,200H400V157H0Z\" />\n",
       "        <path d=\"M100,100H500V57H100Z\" />\n",
       "        <path d=\"M100,350H500V307H100Z\" />\n",
       "        <path d=\"M100,250H400V207H100Z\" />\n",
       "        <path d=\"M0,150H400V107H0Z\" />\n",
       "        <path d=\"M100,50H500V7H100Z\" />\n",
       "    </g>\n",
       "    <g style=\"fill:#1a1366;stroke:#1a1366;\">\n",
       "   <rect x=\"100\" y=\"7\" width=\"400\" height=\"43\">\n",
       "    <animate\n",
       "      attributeName=\"width\"\n",
       "      values=\"0;400;0\"\n",
       "      dur=\"5s\"\n",
       "      repeatCount=\"indefinite\" />\n",
       "      <animate\n",
       "      attributeName=\"x\"\n",
       "      values=\"100;100;500\"\n",
       "      dur=\"5s\"\n",
       "      repeatCount=\"indefinite\" />\n",
       "  </rect>\n",
       "        <rect x=\"0\" y=\"107\" width=\"400\" height=\"43\">\n",
       "    <animate\n",
       "      attributeName=\"width\"\n",
       "      values=\"0;400;0\"\n",
       "      dur=\"3.5s\"\n",
       "      repeatCount=\"indefinite\" />\n",
       "    <animate\n",
       "      attributeName=\"x\"\n",
       "      values=\"0;0;400\"\n",
       "      dur=\"3.5s\"\n",
       "      repeatCount=\"indefinite\" />\n",
       "  </rect>\n",
       "        <rect x=\"100\" y=\"207\" width=\"300\" height=\"43\">\n",
       "    <animate\n",
       "      attributeName=\"width\"\n",
       "      values=\"0;300;0\"\n",
       "      dur=\"3s\"\n",
       "      repeatCount=\"indefinite\" />\n",
       "    <animate\n",
       "      attributeName=\"x\"\n",
       "      values=\"100;100;400\"\n",
       "      dur=\"3s\"\n",
       "      repeatCount=\"indefinite\" />\n",
       "  </rect>\n",
       "        <rect x=\"100\" y=\"307\" width=\"400\" height=\"43\">\n",
       "    <animate\n",
       "      attributeName=\"width\"\n",
       "      values=\"0;400;0\"\n",
       "      dur=\"4s\"\n",
       "      repeatCount=\"indefinite\" />\n",
       "      <animate\n",
       "      attributeName=\"x\"\n",
       "      values=\"100;100;500\"\n",
       "      dur=\"4s\"\n",
       "      repeatCount=\"indefinite\" />\n",
       "  </rect>\n",
       "        <g style=\"fill:transparent;stroke-width:8; stroke-linejoin:round\" rx=\"5\">\n",
       "            <g transform=\"translate(45 50) rotate(-45)\">\n",
       "                <circle r=\"33\" cx=\"0\" cy=\"0\" />\n",
       "                <rect x=\"-8\" y=\"32\" width=\"16\" height=\"30\" />\n",
       "            </g>\n",
       "\n",
       "            <g transform=\"translate(450 152)\">\n",
       "                <polyline points=\"-15,-20 -35,-20 -35,40 25,40 25,20\" />\n",
       "                <rect x=\"-15\" y=\"-40\" width=\"60\" height=\"60\" />\n",
       "            </g>\n",
       "\n",
       "            <g transform=\"translate(50 352)\">\n",
       "                <polygon points=\"-35,-5 0,-40 35,-5\" />\n",
       "                <polygon points=\"-35,10 0,45 35,10\" />\n",
       "            </g>\n",
       "\n",
       "            <g transform=\"translate(75 250)\">\n",
       "                <polyline points=\"-30,30 -60,0 -30,-30\" />\n",
       "                <polyline points=\"0,30 -30,0 0,-30\" />\n",
       "            </g>\n",
       "\n",
       "            <g transform=\"translate(425 250) rotate(180)\">\n",
       "                <polyline points=\"-30,30 -60,0 -30,-30\" />\n",
       "                <polyline points=\"0,30 -30,0 0,-30\" />\n",
       "            </g>\n",
       "        </g>\n",
       "    </g>\n",
       "</svg>\n",
       "</a>\n",
       "</div>\n",
       "<div>\n",
       "Loading ITables v2.1.4 from the internet...\n",
       "(need <a href=https://mwouts.github.io/itables/troubleshooting.html>help</a>?)</td>\n",
       "</div>\n",
       "</tr></tbody>\n",
       "\n",
       "</table>\n",
       "<link href=\"https://www.unpkg.com/dt_for_itables@2.0.11/dt_bundle.css\" rel=\"stylesheet\">\n",
       "<script type=\"module\">\n",
       "    import {DataTable, jQuery as $} from 'https://www.unpkg.com/dt_for_itables@2.0.11/dt_bundle.js';\n",
       "\n",
       "    document.querySelectorAll(\"#itables_ac389f7d_8e66_4794_a935_09f44182991d:not(.dataTable)\").forEach(table => {\n",
       "        // Define the table data\n",
       "        const data = [[3, \"Chelsea\", \"Bouchard\", 41, \"NaN\", 24695, \"31048\", \"Creator\", \"NaN\", 2018, \"Lakeside Lodge\", 368.0, 29.99, \"http://images.brickset.com/sets/images/31048-1.jpg\", 1], [4, \"Chelsea\", \"Bouchard\", 41, \"NaN\", 25626, \"70595\", \"Ninjago\", \"Rise of the Villains\", 2018, \"Ultra Stealth Raider\", 1093.0, 119.99, \"http://images.brickset.com/sets/images/70595-1.jpg\", 1], [5, \"Chelsea\", \"Bouchard\", 41, \"NaN\", 24721, \"10831\", \"Duplo\", \"NaN\", 2018, \"My First Caterpillar\", 19.0, 9.99, \"http://images.brickset.com/sets/images/10831-1.jpg\", 1], [8, \"Caleb\", \"Garcia-Wideman\", 37, \"907-555-9236\", 24730, \"41115\", \"Friends\", \"NaN\", 2018, \"Emma's Creative Workshop\", 108.0, 9.99, \"http://images.brickset.com/sets/images/41115-1.jpg\", 1], [9, \"Caleb\", \"Garcia-Wideman\", 37, \"907-555-9236\", 25611, \"21127\", \"Minecraft\", \"Minifig-scale\", 2018, \"The Fortress\", NaN, 109.99, \"http://images.brickset.com/sets/images/21127-1.jpg\", 2], [13, \"Connor\", \"Brown\", 36, \"516-555-4310\", 24548, \"71230\", \"Dimensions\", \"Fun Pack\", 2018, \"Fun Pack: Doc Brown\", 69.0, 14.99, \"http://images.brickset.com/sets/images/71230-1.jpg\", 1], [14, \"Connor\", \"Brown\", 36, \"516-555-4310\", 24913, \"60112\", \"City\", \"Fire\", 2018, \"Fire Engine\", 376.0, 49.99, \"http://images.brickset.com/sets/images/60112-1.jpg\", 1], [15, \"Connor\", \"Brown\", 36, \"516-555-4310\", 26034, \"41573\", \"Mixels\", \"Series 9\", 2018, \"Sweepz\", 61.0, 4.99, \"NaN\", 1], [16, \"Toni\", \"Borison\", 40, \"284-555-4560\", 25626, \"70595\", \"Ninjago\", \"Rise of the Villains\", 2018, \"Ultra Stealth Raider\", 1093.0, 119.99, \"http://images.brickset.com/sets/images/70595-1.jpg\", 1], [17, \"Toni\", \"Borison\", 40, \"284-555-4560\", 24994, \"10251\", \"Advanced Models\", \"Modular Buildings\", 2018, \"Brick Bank\", 2380.0, 169.99, \"http://images.brickset.com/sets/images/10251-1.jpg\", 1], [18, \"Daniel\", \"Hurst\", 44, \"251-555-0845\", 24903, \"41558\", \"Mixels\", \"Series 7\", 2018, \"Mixadel\", 63.0, 4.99, \"http://images.brickset.com/sets/images/41558-1.jpg\", 1], [19, \"Daniel\", \"Hurst\", 44, \"251-555-0845\", 24695, \"31048\", \"Creator\", \"NaN\", 2018, \"Lakeside Lodge\", 368.0, 29.99, \"http://images.brickset.com/sets/images/31048-1.jpg\", 1], [20, \"Judith\", \"Webb\", 39, \"917-555-7417\", 26058, \"5005059\", \"Gear\", \"Video Games/PS3\", 2018, \"Marvel Avengers PS3 Video Game\", NaN, 49.99, \"http://images.brickset.com/sets/images/5005059-1.jpg\", 2], [21, \"Nicholas\", \"Belfageoua\", 46, \"606-555-4814\", 25881, \"853549\", \"Gear\", \"Key Chains/Friends\", 2018, \"Mia Key Chain\", NaN, 5.99, \"http://images.brickset.com/sets/images/853549-1.jpg\", 1], [22, \"Nicholas\", \"Belfageoua\", 46, \"606-555-4814\", 25642, \"70327\", \"Nexo Knights\", \"NaN\", 2018, \"The King's Mech\", 375.0, 29.99, \"http://images.brickset.com/sets/images/70327-1.jpg\", 1], [23, \"Amanda\", \"Tronnier\", 45, \"317-555-7477\", 24959, \"75139\", \"Star Wars\", \"The Force Awakens\", 2018, \"Battle on Takodana\", 409.0, 59.99, \"http://images.brickset.com/sets/images/75139-1.jpg\", 1], [24, \"Amanda\", \"Tronnier\", 45, \"317-555-7477\", 25887, \"853543\", \"Ninjago\", \"NaN\", 2018, \"Ninjago Party Set\", 70.0, 7.99, \"http://images.brickset.com/sets/images/853543-1.jpg\", 2], [25, \"Amanda\", \"Tronnier\", 45, \"317-555-7477\", 24685, \"60118\", \"City\", \"Traffic\", 2018, \"Garbage Truck\", 248.0, 19.99, \"http://images.brickset.com/sets/images/60118-1.jpg\", 1], [26, \"Amanda\", \"Tronnier\", 45, \"317-555-7477\", 25901, \"5004612\", \"Gear\", \"Watches/Clocks\", 2018, \"Lucy Wyldstyle Minifigure Link Watch\", NaN, 24.99, \"http://images.brickset.com/sets/images/5004612-1.jpg\", 1], [34, \"Erik\", \"Brownrigg\", 44, \"NaN\", 25621, \"70589\", \"Ninjago\", \"Rise of the Villains\", 2018, \"Rock Roader\", 406.0, 39.99, \"http://images.brickset.com/sets/images/70589-1.jpg\", 1], [35, \"Jackson\", \"Martinez\", 43, \"250-555-1732\", 24669, \"71304\", \"Bionicle\", \"Companions\", 2018, \"Terak - Creature of Earth\", 74.0, 9.99, \"http://images.brickset.com/sets/images/71304-1.jpg\", 1], [36, \"Jackson\", \"Martinez\", 43, \"250-555-1732\", 24904, \"41559\", \"Mixels\", \"Series 7\", 2018, \"Paladum\", 64.0, 4.99, \"http://images.brickset.com/sets/images/41559-1.jpg\", 2], [37, \"Jackson\", \"Martinez\", 43, \"250-555-1732\", 24665, \"21031\", \"Architecture\", \"NaN\", 2018, \"Burj Khalifa\", 333.0, 39.99, \"http://images.brickset.com/sets/images/21031-1.jpg\", 3], [43, \"Mckenzie\", \"Cherry\", 37, \"336-555-9269\", 25878, \"853505\", \"Gear\", \"Role-Play toys\", 2018, \"NK Sword Standard\", NaN, 9.99, \"http://images.brickset.com/sets/images/853505-1.jpg\", 1], [46, \"Rebecca\", \"Duval\", 48, \"908-555-4029\", 24899, \"41114\", \"Friends\", \"Party\", 2018, \"Party Styling\", 54.0, 4.99, \"http://images.brickset.com/sets/images/41114-1.jpg\", 2], [47, \"Rebecca\", \"Duval\", 48, \"908-555-4029\", 26034, \"41573\", \"Mixels\", \"Series 9\", 2018, \"Sweepz\", 61.0, 4.99, \"NaN\", 1], [48, \"Rebecca\", \"Duval\", 48, \"908-555-4029\", 24664, \"21028\", \"Architecture\", \"Skylines\", 2018, \"New York City\", 598.0, 59.99, \"http://images.brickset.com/sets/images/21028-1.jpg\", 2], [51, \"Adoria\", \"Hammond\", 40, \"712-555-6781\", 24720, \"10830\", \"Duplo\", \"NaN\", 2018, \"Minnie's Caf\\u00e9\", 27.0, 19.99, \"http://images.brickset.com/sets/images/10830-1.jpg\", 1], [53, \"Cecilia\", \"Mauro\", 50, \"NaN\", 25921, \"75157\", \"Star Wars\", \"Rebels\", 2018, \"Captain Rex's AT-TE\", 972.0, 119.99, \"http://images.brickset.com/sets/images/75157-1.jpg\", 3], [81, \"Tysen\", \"Banda-Chavez\", 43, \"NaN\", 26059, \"5005060\", \"Gear\", \"Video Games/3DS\", 2018, \"Marvel Avengers Nintendo 3DS Video Game\", NaN, 29.99, \"http://images.brickset.com/sets/images/5005060-1.jpg\", 2], [82, \"Tysen\", \"Banda-Chavez\", 43, \"NaN\", 25003, \"41564\", \"Mixels\", \"Series 8\", 2018, \"Aquad\", 70.0, 4.99, \"http://images.brickset.com/sets/images/41564-1.jpg\", 1], [83, \"Tysen\", \"Banda-Chavez\", 43, \"NaN\", 24677, \"60108\", \"City\", \"Fire\", 2018, \"Fire Response Unit\", 257.0, 39.99, \"http://images.brickset.com/sets/images/60108-1.jpg\", 2], [90, \"Carson\", \"Aragon\", 38, \"NaN\", 25634, \"70319\", \"Nexo Knights\", \"NaN\", 2018, \"Macy's Thunder Mace\", 202.0, 19.99, \"http://images.brickset.com/sets/images/70319-1.jpg\", 1], [91, \"Carson\", \"Aragon\", 38, \"NaN\", 25910, \"30347\", \"City\", \"Fire\", 2018, \"Fire Car\", 53.0, 3.99, \"http://images.brickset.com/sets/images/30347-1.jpg\", 1], [95, \"Cameron\", \"Rodriguez\", 48, \"325-555-1926\", 25879, \"853534\", \"Gear\", \"Key Chains/Ninjago\", 2018, \"Airjitzu Jay Key Chain\", NaN, 5.99, \"http://images.brickset.com/sets/images/853534-1.jpg\", 1], [96, \"Cameron\", \"Rodriguez\", 48, \"325-555-1926\", 25910, \"30347\", \"City\", \"Fire\", 2018, \"Fire Car\", 53.0, 3.99, \"http://images.brickset.com/sets/images/30347-1.jpg\", 1], [97, \"Connor\", \"Padilla\", 36, \"441-555-6534\", 24674, \"71310\", \"Bionicle\", \"Reboot Villains\", 2018, \"Umarak the Hunter\", 172.0, 19.99, \"http://images.brickset.com/sets/images/71310-1.jpg\", 2], [98, \"Connor\", \"Padilla\", 36, \"441-555-6534\", 24902, \"41556\", \"Mixels\", \"Series 7\", 2018, \"Tiketz\", 62.0, 4.99, \"http://images.brickset.com/sets/images/41556-1.jpg\", 1], [99, \"Connor\", \"Padilla\", 36, \"441-555-6534\", 24797, \"75138\", \"Star Wars\", \"Episode V\", 2018, \"Hoth Attack\", 233.0, 24.99, \"http://images.brickset.com/sets/images/75138-1.jpg\", 1], [105, \"Caroline\", \"Holstein\", 38, \"318-555-7894\", 24798, \"75140\", \"Star Wars\", \"The Force Awakens\", 2018, \"Resistance Troop Transporter\", 646.0, 69.99, \"http://images.brickset.com/sets/images/75140-1.jpg\", 1], [106, \"Caroline\", \"Holstein\", 38, \"318-555-7894\", 24763, \"70331\", \"Nexo Knights\", \"Ultimate\", 2018, \"Ultimate Macy\", 101.0, 9.99, \"http://images.brickset.com/sets/images/70331-1.jpg\", 1], [107, \"Caroline\", \"Holstein\", 38, \"318-555-7894\", 24678, \"60109\", \"City\", \"Fire\", 2018, \"Fire Boat\", 412.0, 79.99, \"http://images.brickset.com/sets/images/60109-1.jpg\", 1], [108, \"Caroline\", \"Holstein\", 38, \"318-555-7894\", 24959, \"75139\", \"Star Wars\", \"The Force Awakens\", 2018, \"Battle on Takodana\", 409.0, 59.99, \"http://images.brickset.com/sets/images/75139-1.jpg\", 1], [109, \"Caroline\", \"Holstein\", 38, \"318-555-7894\", 24699, \"76053\", \"DC Comics Super Heroes\", \"Batman\", 2018, \"Gotham City Cycle Chase\", 224.0, 19.99, \"http://images.brickset.com/sets/images/76053-1.jpg\", 3], [120, \"Madeline\", \"Castor\", 39, \"450-555-9877\", 25006, \"41567\", \"Mixels\", \"Series 8\", 2018, \"Skulzy\", 66.0, 4.99, \"http://images.brickset.com/sets/images/41567-1.jpg\", 1], [121, \"Madeline\", \"Castor\", 39, \"450-555-9877\", 25969, \"76059\", \"Marvel Super Heroes\", \"Ultimate Spider-Man\", 2018, \"Spider-Man: Doc Ock's Tentacle Trap\", 446.0, 39.99, \"http://images.brickset.com/sets/images/76059-1.jpg\", 1], [122, \"Madeline\", \"Castor\", 39, \"450-555-9877\", 26025, \"41178\", \"Elves\", \"NaN\", 2018, \"The Dragon Sanctuary\", 585.0, 49.99, \"NaN\", 1], [123, \"Trevor\", \"Perez\", 39, \"878-555-5155\", 24730, \"41115\", \"Friends\", \"NaN\", 2018, \"Emma's Creative Workshop\", 108.0, 9.99, \"http://images.brickset.com/sets/images/41115-1.jpg\", 1], [124, \"Trevor\", \"Perez\", 39, \"878-555-5155\", 24746, \"76048\", \"Marvel Super Heroes\", \"Avengers Assemble\", 2018, \"Iron Skull Sub Attack\", 335.0, 29.99, \"http://images.brickset.com/sets/images/76048-1.jpg\", 1], [125, \"Trevor\", \"Perez\", 39, \"878-555-5155\", 24703, \"41069\", \"Disney Princess\", \"Palace Pets\", 2018, \"Treasure's Day at the Pool\", 70.0, 5.99, \"http://images.brickset.com/sets/images/41069-1.jpg\", 1], [127, \"Adam\", \"Albornoz\", 36, \"418-555-2486\", 24907, \"42050\", \"Technic\", \"NaN\", 2018, \"Drag Racer\", 647.0, 79.99, \"http://images.brickset.com/sets/images/42050-1.jpg\", 1], [141, \"Tj\", \"Aguon\", 47, \"862-555-5629\", 24737, \"41135\", \"Friends\", \"Pop Star\", 2018, \"Livi's Pop Star House\", 597.0, 49.99, \"http://images.brickset.com/sets/images/41135-1.jpg\", 1], [142, \"Tj\", \"Aguon\", 47, \"862-555-5629\", 24894, \"31040\", \"Creator\", \"NaN\", 2018, \"Desert Racers\", 65.0, 4.99, \"http://images.brickset.com/sets/images/31040-1.jpg\", 1], [143, \"Tj\", \"Aguon\", 47, \"862-555-5629\", 24720, \"10830\", \"Duplo\", \"NaN\", 2018, \"Minnie's Caf\\u00e9\", 27.0, 19.99, \"http://images.brickset.com/sets/images/10830-1.jpg\", 1], [144, \"Taylor\", \"Allen\", 41, \"760-555-8123\", 25923, \"75147\", \"Star Wars\", \"Original Content\", 2018, \"Star Scavenger\", 558.0, 49.99, \"http://images.brickset.com/sets/images/75147-1.jpg\", 2], [171, \"Katherine\", \"Beck\", 45, \"209-555-7105\", 24994, \"10251\", \"Advanced Models\", \"Modular Buildings\", 2018, \"Brick Bank\", 2380.0, 169.99, \"http://images.brickset.com/sets/images/10251-1.jpg\", 1], [172, \"Katherine\", \"Beck\", 45, \"209-555-7105\", 24959, \"75139\", \"Star Wars\", \"The Force Awakens\", 2018, \"Battle on Takodana\", 409.0, 59.99, \"http://images.brickset.com/sets/images/75139-1.jpg\", 1], [173, \"Katherine\", \"Beck\", 45, \"209-555-7105\", 24758, \"70312\", \"Nexo Knights\", \"NaN\", 2018, \"Lance's Mecha Horse\", 237.0, 19.99, \"http://images.brickset.com/sets/images/70312-1.jpg\", 2], [174, \"Katherine\", \"Beck\", 45, \"209-555-7105\", 26025, \"41178\", \"Elves\", \"NaN\", 2018, \"The Dragon Sanctuary\", 585.0, 49.99, \"NaN\", 1], [175, \"Beemnet\", \"Masters\", 41, \"902-555-8429\", 24678, \"60109\", \"City\", \"Fire\", 2018, \"Fire Boat\", 412.0, 79.99, \"http://images.brickset.com/sets/images/60109-1.jpg\", 1], [176, \"Beemnet\", \"Masters\", 41, \"902-555-8429\", 24794, \"75135\", \"Star Wars\", \"Episode III\", 2018, \"Obi-Wan's Jedi Interceptor\", 215.0, 24.99, \"http://images.brickset.com/sets/images/75135-1.jpg\", 1], [203, \"Sean\", \"Cordova\", 43, \"881-555-7280\", 25004, \"41565\", \"Mixels\", \"Series 8\", 2018, \"Hydro\", 70.0, 4.99, \"http://images.brickset.com/sets/images/41565-1.jpg\", 5], [204, \"Sean\", \"Cordova\", 43, \"881-555-7280\", 25656, \"10804\", \"Duplo\", \"NaN\", 2018, \"Jungle\", 86.0, 49.99, \"http://images.brickset.com/sets/images/10804-1.jpg\", 1], [207, \"Katie\", \"Evering\", 37, \"882-555-7296\", 24659, \"71228\", \"Dimensions\", \"Level Pack\", 2018, \"Level Pack: Ghostbusters\", 115.0, 29.99, \"http://images.brickset.com/sets/images/71228-1.jpg\", 1], [208, \"Katie\", \"Evering\", 37, \"882-555-7296\", 26040, \"41579\", \"Mixels\", \"Series 9\", 2018, \"Camsta\", 62.0, 4.99, \"NaN\", 2], [209, \"Katie\", \"Evering\", 37, \"882-555-7296\", 25659, \"75821\", \"The Angry Birds Movie\", \"NaN\", 2018, \"Piggy Car Escape\", 74.0, 12.99, \"http://images.brickset.com/sets/images/75821-1.jpg\", 2], [210, \"Katie\", \"Evering\", 37, \"882-555-7296\", 24765, \"70332\", \"Nexo Knights\", \"Ultimate\", 2018, \"Ultimate Aaron\", 82.0, 9.99, \"http://images.brickset.com/sets/images/70332-1.jpg\", 2], [226, \"Melissa\", \"Holmberg\", 36, \"NaN\", 24791, \"75132\", \"Star Wars\", \"The Force Awakens\", 2018, \"First Order Battle Pack\", 88.0, 12.99, \"http://images.brickset.com/sets/images/75132-1.jpg\", 1], [227, \"Cody\", \"Gonzales\", 44, \"973-555-3236\", 24908, \"42052\", \"Technic\", \"NaN\", 2018, \"Heavy Lift Helicopter\", 1042.0, 139.99, \"http://images.brickset.com/sets/images/42052-1.jpg\", 1], [228, \"Cody\", \"Gonzales\", 44, \"973-555-3236\", 25922, \"75149\", \"Star Wars\", \"The Force Awakens\", 2018, \"Resistance X-wing Fighter\", 740.0, 79.99, \"http://images.brickset.com/sets/images/75149-1.jpg\", 3], [229, \"Jessie\", \"Barron\", 37, \"918-555-7552\", 24696, \"31050\", \"Creator\", \"NaN\", 2018, \"Corner Deli\", 467.0, 39.99, \"http://images.brickset.com/sets/images/31050-1.jpg\", 1], [230, \"Jessie\", \"Barron\", 37, \"918-555-7552\", 24730, \"41115\", \"Friends\", \"NaN\", 2018, \"Emma's Creative Workshop\", 108.0, 9.99, \"http://images.brickset.com/sets/images/41115-1.jpg\", 1], [234, \"Kelsey\", \"Schiffner\", 37, \"510-555-5847\", 24919, \"70601\", \"Ninjago\", \"Skybound\", 2018, \"Sky Shark\", 221.0, 19.99, \"http://images.brickset.com/sets/images/70601-1.jpg\", 2], [235, \"Kelsey\", \"Schiffner\", 37, \"510-555-5847\", 24756, \"70310\", \"Nexo Knights\", \"NaN\", 2018, \"Knighton Battle Blaster\", 76.0, 9.99, \"http://images.brickset.com/sets/images/70310-1.jpg\", 1], [236, \"Kalynne\", \"Kerth\", 46, \"361-555-5328\", 24976, \"60105\", \"City\", \"Fire\", 2018, \"Fire ATV\", 64.0, 6.99, \"http://images.brickset.com/sets/images/60105-1.jpg\", 1], [237, \"Kalynne\", \"Kerth\", 46, \"361-555-5328\", 25641, \"70326\", \"Nexo Knights\", \"NaN\", 2018, \"The Black Knight Mech\", 530.0, 39.99, \"NaN\", 1], [238, \"John Jay\", \"Griego\", 50, \"710-555-8921\", 24552, \"71229\", \"Dimensions\", \"Team Pack\", 2018, \"Team Pack: Joker and Harley Quinn\", 92.0, 24.99, \"http://images.brickset.com/sets/images/71229-1.jpg\", 2], [239, \"John Jay\", \"Griego\", 50, \"710-555-8921\", 24795, \"75136\", \"Star Wars\", \"Episode IV\", 2018, \"Droid Escape Pod\", 197.0, 24.99, \"http://images.brickset.com/sets/images/75136-1.jpg\", 1], [241, \"Celia\", \"Foley\", 42, \"NaN\", 24670, \"71305\", \"Bionicle\", \"Toa\", 2018, \"Lewa - Uniter of Jungle\", 79.0, 14.99, \"http://images.brickset.com/sets/images/71305-1.jpg\", 1], [242, \"Celia\", \"Foley\", 42, \"NaN\", 24734, \"41119\", \"Friends\", \"NaN\", 2018, \"Heartlake Cupcake Cafe\", 439.0, 39.99, \"http://images.brickset.com/sets/images/41119-1.jpg\", 1], [243, \"Celia\", \"Foley\", 42, \"NaN\", 25645, \"71314\", \"Bionicle\", \"Reboot Villains\", 2018, \"Storm Beast\", 109.0, 14.99, \"NaN\", 3], [244, \"Celia\", \"Foley\", 42, \"NaN\", 25605, \"75146\", \"Star Wars\", \"Seasonal\", 2018, \"Star Wars Advent Calendar\", 282.0, 39.99, \"http://images.brickset.com/sets/images/75146-1.jpg\", 2], [245, \"Celia\", \"Foley\", 42, \"NaN\", 25612, \"21128\", \"Minecraft\", \"Minifig-scale\", 2018, \"The Village\", NaN, 199.99, \"NaN\", 1], [246, \"Alyssa\", \"Gorrell\", 38, \"867-555-7840\", 24683, \"60116\", \"City\", \"Medical\", 2018, \"Ambulance Plane\", 183.0, 19.99, \"http://images.brickset.com/sets/images/60116-1.jpg\", 2], [247, \"Alyssa\", \"Gorrell\", 38, \"867-555-7840\", 25880, \"853548\", \"Gear\", \"Key Chains/Friends\", 2018, \"Andrea Key Chain\", NaN, 5.99, \"http://images.brickset.com/sets/images/853548-1.jpg\", 1], [248, \"Alyssa\", \"Gorrell\", 38, \"867-555-7840\", 24659, \"71228\", \"Dimensions\", \"Level Pack\", 2018, \"Level Pack: Ghostbusters\", 115.0, 29.99, \"http://images.brickset.com/sets/images/71228-1.jpg\", 1], [249, \"Tian\", \"Nelson\", 38, \"205-555-7773\", 25634, \"70319\", \"Nexo Knights\", \"NaN\", 2018, \"Macy's Thunder Mace\", 202.0, 19.99, \"http://images.brickset.com/sets/images/70319-1.jpg\", 4], [250, \"Tian\", \"Nelson\", 38, \"205-555-7773\", 25647, \"71316\", \"Bionicle\", \"Reboot Villains\", 2018, \"Umarak the Destroyer\", 191.0, 24.99, \"NaN\", 1], [251, \"Tian\", \"Nelson\", 38, \"205-555-7773\", 26060, \"5005051\", \"Gear\", \"Digital Media\", 2018, \"Friends of Heartlake City Girlz 4 Life\", NaN, 19.99, \"NaN\", 1], [255, \"Sofia\", \"Szloboda\", 46, \"602-555-2267\", 24906, \"41562\", \"Mixels\", \"Series 7\", 2018, \"Trumpsy\", 54.0, 4.99, \"http://images.brickset.com/sets/images/41562-1.jpg\", 2], [256, \"Sofia\", \"Szloboda\", 46, \"602-555-2267\", 24704, \"41140\", \"Disney Princess\", \"Palace Pets\", 2018, \"Daisy's Beauty Salon\", 98.0, 9.99, \"http://images.brickset.com/sets/images/41140-1.jpg\", 2], [259, \"Joseph\", \"Brown\", 50, \"801-555-2112\", 24704, \"41140\", \"Disney Princess\", \"Palace Pets\", 2018, \"Daisy's Beauty Salon\", 98.0, 9.99, \"http://images.brickset.com/sets/images/41140-1.jpg\", 1], [260, \"Joseph\", \"Brown\", 50, \"801-555-2112\", 25851, \"B0189OU0JY\", \"Gear\", \"Digital media\", 2018, \"LEGO Star Wars: Droid Tales\", NaN, 19.99, \"http://images.brickset.com/sets/images/B0189OU0JY-1.jpg\", 1], [261, \"Joseph\", \"Brown\", 50, \"801-555-2112\", 25910, \"30347\", \"City\", \"Fire\", 2018, \"Fire Car\", 53.0, 3.99, \"http://images.brickset.com/sets/images/30347-1.jpg\", 2], [262, \"Joseph\", \"Brown\", 50, \"801-555-2112\", 25657, \"76051\", \"Marvel Super Heroes\", \"Captain America: Civil War\", 2018, \"Super Hero Airport Battle\", 807.0, 79.99, \"http://images.brickset.com/sets/images/76051-1.jpg\", 2], [280, \"Spencer\", \"Pasillas\", 44, \"865-555-3503\", 24625, \"41066\", \"Disney Princess\", \"Frozen\", 2018, \"Anna & Kristoff's Sleigh Adventure\", 174.0, 29.99, \"http://images.brickset.com/sets/images/41066-1.jpg\", 1], [281, \"Spencer\", \"Pasillas\", 44, \"865-555-3503\", 24716, \"10817\", \"Duplo\", \"NaN\", 2018, \"Creative Chest\", 70.0, 29.99, \"http://images.brickset.com/sets/images/10817-1.jpg\", 1], [282, \"Spencer\", \"Pasillas\", 44, \"865-555-3503\", 24891, \"10815\", \"Duplo\", \"NaN\", 2018, \"My First Rocket\", 18.0, 9.99, \"http://images.brickset.com/sets/images/10815-1.jpg\", 1], [283, \"Spencer\", \"Pasillas\", 44, \"865-555-3503\", 24756, \"70310\", \"Nexo Knights\", \"NaN\", 2018, \"Knighton Battle Blaster\", 76.0, 9.99, \"http://images.brickset.com/sets/images/70310-1.jpg\", 1], [290, \"Billlie\", \"Benson\", 50, \"940-555-2729\", 24719, \"10829\", \"Duplo\", \"Mickey Mouse Clubhouse\", 2018, \"Mickey's Workshop\", 18.0, 19.99, \"http://images.brickset.com/sets/images/10829-1.jpg\", 1], [291, \"Billlie\", \"Benson\", 50, \"940-555-2729\", 25879, \"853534\", \"Gear\", \"Key Chains/Ninjago\", 2018, \"Airjitzu Jay Key Chain\", NaN, 5.99, \"http://images.brickset.com/sets/images/853534-1.jpg\", 1], [292, \"Marisa\", \"Beck\", 37, \"580-555-3417\", 25622, \"70591\", \"Ninjago\", \"Skybound\", 2018, \"Kryptarium Prison Breakout\", 207.0, 19.99, \"http://images.brickset.com/sets/images/70591-1.jpg\", 1], [293, \"Marisa\", \"Beck\", 37, \"580-555-3417\", 25917, \"76058\", \"Marvel Super Heroes\", \"Ultimate Spider-Man\", 2018, \"Spider-Man: Ghost Rider Team-Up\", 217.0, 19.99, \"http://images.brickset.com/sets/images/76058-1.jpg\", 1], [294, \"Marisa\", \"Beck\", 37, \"580-555-3417\", 24896, \"31046\", \"Creator\", \"NaN\", 2018, \"Fast Car\", 222.0, 19.99, \"http://images.brickset.com/sets/images/31046-1.jpg\", 2], [295, \"Marisa\", \"Beck\", 37, \"580-555-3417\", 24692, \"31044\", \"Creator\", \"NaN\", 2018, \"Park Animals\", 202.0, 14.99, \"http://images.brickset.com/sets/images/31044-1.jpg\", 2], [296, \"Cartrell\", \"Park\", 49, \"816-555-5191\", 24726, \"41175\", \"Elves\", \"NaN\", 2018, \"Fire Dragon's Lava Cave\", 441.0, 39.99, \"http://images.brickset.com/sets/images/41175-1.jpg\", 1], [297, \"Cartrell\", \"Park\", 49, \"816-555-5191\", 24807, \"71235\", \"Dimensions\", \"Level Pack\", 2018, \"Level Pack: Midway Arcade\", 96.0, 29.99, \"http://images.brickset.com/sets/images/71235-1.jpg\", 1], [305, \"Jessy\", \"Lopez-Itomura\", 43, \"613-555-4443\", 25878, \"853505\", \"Gear\", \"Role-Play toys\", 2018, \"NK Sword Standard\", NaN, 9.99, \"http://images.brickset.com/sets/images/853505-1.jpg\", 2], [306, \"Jessy\", \"Lopez-Itomura\", 43, \"613-555-4443\", 24676, \"60107\", \"City\", \"Fire\", 2018, \"Fire Ladder Truck\", 214.0, 24.99, \"http://images.brickset.com/sets/images/60107-1.jpg\", 1], [307, \"Jessy\", \"Lopez-Itomura\", 43, \"613-555-4443\", 24748, \"76050\", \"Marvel Super Heroes\", \"Captain America: Civil War\", 2018, \"Crossbones' Hazard Heist\", 179.0, 19.99, \"http://images.brickset.com/sets/images/76050-1.jpg\", 3], [317, \"Joshua\", \"Dillard\", 41, \"734-555-7042\", 25877, \"853506\", \"Gear\", \"Role-Play toys\", 2018, \"NK Shield Standard\", NaN, 12.99, \"http://images.brickset.com/sets/images/853506-1.jpg\", 1], [318, \"Joshua\", \"Dillard\", 41, \"734-555-7042\", 24767, \"70335\", \"Nexo Knights\", \"Ultimate\", 2018, \"Ultimate Lavaria\", 69.0, 9.99, \"http://images.brickset.com/sets/images/70335-1.jpg\", 1], [319, \"Annabelle\", \"Lindegren\", 36, \"662-555-9880\", 25647, \"71316\", \"Bionicle\", \"Reboot Villains\", 2018, \"Umarak the Destroyer\", 191.0, 24.99, \"NaN\", 1], [320, \"Annabelle\", \"Lindegren\", 36, \"662-555-9880\", 24986, \"30446\", \"DC Comics Super Heroes\", \"Batman v Superman: Dawn of Justice\", 2018, \"The Batmobile\", 63.0, 3.99, \"http://images.brickset.com/sets/images/30446-1.jpg\", 2], [321, \"Gabrielle\", \"Mccumiskey\", 37, \"441-555-2199\", 24915, \"60130\", \"City\", \"Police\", 2018, \"Prison Island\", 754.0, 89.99, \"http://images.brickset.com/sets/images/60130-1.jpg\", 2], [324, \"Ramses\", \"Ackah Yensu\", 38, \"909-555-0851\", 25879, \"853534\", \"Gear\", \"Key Chains/Ninjago\", 2018, \"Airjitzu Jay Key Chain\", NaN, 5.99, \"http://images.brickset.com/sets/images/853534-1.jpg\", 1], [325, \"Ramses\", \"Ackah Yensu\", 38, \"909-555-0851\", 24791, \"75132\", \"Star Wars\", \"The Force Awakens\", 2018, \"First Order Battle Pack\", 88.0, 12.99, \"http://images.brickset.com/sets/images/75132-1.jpg\", 1], [326, \"Ramses\", \"Ackah Yensu\", 38, \"909-555-0851\", 24916, \"60131\", \"City\", \"Police\", 2018, \"Crooks Island\", 244.0, 29.99, \"http://images.brickset.com/sets/images/60131-1.jpg\", 1], [327, \"Ramses\", \"Ackah Yensu\", 38, \"909-555-0851\", 24719, \"10829\", \"Duplo\", \"Mickey Mouse Clubhouse\", 2018, \"Mickey's Workshop\", 18.0, 19.99, \"http://images.brickset.com/sets/images/10829-1.jpg\", 2], [328, \"Ramses\", \"Ackah Yensu\", 38, \"909-555-0851\", 24796, \"75137\", \"Star Wars\", \"Episode V\", 2018, \"Carbon-Freezing Chamber\", 231.0, 24.99, \"http://images.brickset.com/sets/images/75137-1.jpg\", 2], [329, \"Christian\", \"Ortiviz Madrid\", 41, \"434-555-8176\", 24781, \"75116\", \"Star Wars\", \"Buildable Figures\", 2018, \"Finn\", 98.0, 24.99, \"http://images.brickset.com/sets/images/75116-1.jpg\", 3], [330, \"Christian\", \"Ortiviz Madrid\", 41, \"434-555-8176\", 25630, \"70337\", \"Nexo Knights\", \"Ultimate\", 2018, \"Ultimate Lance\", 75.0, 9.99, \"NaN\", 1], [331, \"Christian\", \"Ortiviz Madrid\", 41, \"434-555-8176\", 24729, \"41111\", \"Friends\", \"Party\", 2018, \"Party Train\", 109.0, 9.99, \"http://images.brickset.com/sets/images/41111-1.jpg\", 1], [332, \"Christian\", \"Ortiviz Madrid\", 41, \"434-555-8176\", 24766, \"70334\", \"Nexo Knights\", \"Ultimate\", 2018, \"Ultimate Beast Master\", 65.0, 9.99, \"http://images.brickset.com/sets/images/70334-1.jpg\", 2], [343, \"Elaine\", \"Richa\", 37, \"246-555-8048\", 24759, \"70313\", \"Nexo Knights\", \"NaN\", 2018, \"Moltor's Lava Smasher\", 187.0, 19.99, \"http://images.brickset.com/sets/images/70313-1.jpg\", 2], [344, \"Chisa\", \"Pomeroy\", 39, \"617-555-1805\", 24788, \"75129\", \"Star Wars\", \"MicroFighters\", 2018, \"Wookiee Gunship\", 84.0, 9.99, \"http://images.brickset.com/sets/images/75129-1.jpg\", 1], [345, \"Chisa\", \"Pomeroy\", 39, \"617-555-1805\", 25901, \"5004612\", \"Gear\", \"Watches/Clocks\", 2018, \"Lucy Wyldstyle Minifigure Link Watch\", NaN, 24.99, \"http://images.brickset.com/sets/images/5004612-1.jpg\", 2], [346, \"Trevor\", \"Calderon-Nava\", 47, \"778-555-6609\", 24746, \"76048\", \"Marvel Super Heroes\", \"Avengers Assemble\", 2018, \"Iron Skull Sub Attack\", 335.0, 29.99, \"http://images.brickset.com/sets/images/76048-1.jpg\", 3], [347, \"Trevor\", \"Calderon-Nava\", 47, \"778-555-6609\", 24727, \"41176\", \"Elves\", \"NaN\", 2018, \"The Secret Market Place\", 691.0, 59.99, \"http://images.brickset.com/sets/images/41176-1.jpg\", 1], [354, \"Vanessa\", \"Mantey\", 42, \"NaN\", 24621, \"41557\", \"Mixels\", \"Series 7\", 2018, \"Camillot\", 64.0, 4.99, \"http://images.brickset.com/sets/images/41557-1.jpg\", 1], [355, \"Vanessa\", \"Mantey\", 42, \"NaN\", 24696, \"31050\", \"Creator\", \"NaN\", 2018, \"Corner Deli\", 467.0, 39.99, \"http://images.brickset.com/sets/images/31050-1.jpg\", 2], [356, \"Vanessa\", \"Mantey\", 42, \"NaN\", 24747, \"76049\", \"Marvel Super Heroes\", \"Avengers Assemble\", 2018, \"Avenjet Space Mission\", 523.0, 59.99, \"http://images.brickset.com/sets/images/76049-1.jpg\", 1], [357, \"Vanessa\", \"Mantey\", 42, \"NaN\", 24728, \"41110\", \"Friends\", \"Party\", 2018, \"Birthday Party\", 191.0, 19.99, \"http://images.brickset.com/sets/images/41110-1.jpg\", 1], [358, \"Mitchell\", \"Olivo\", 41, \"345-555-9053\", 26037, \"41576\", \"Mixels\", \"Series 9\", 2018, \"Spinza\", 60.0, 4.99, \"NaN\", 1], [359, \"Mitchell\", \"Olivo\", 41, \"345-555-9053\", 25918, \"76055\", \"DC Comics Super Heroes\", \"Batman\", 2018, \"Batman: Killer Croc Sewer Smash\", 759.0, 79.99, \"http://images.brickset.com/sets/images/76055-1.jpg\", 1], [375, \"Isabel\", \"Garrison\", 38, \"561-555-4014\", 25876, \"853555\", \"Gear\", \"Stationery\", 2018, \"Campsite Scrapbook\", NaN, 14.99, \"http://images.brickset.com/sets/images/853555-1.jpg\", 1], [376, \"Isabel\", \"Garrison\", 38, \"561-555-4014\", 24756, \"70310\", \"Nexo Knights\", \"NaN\", 2018, \"Knighton Battle Blaster\", 76.0, 9.99, \"http://images.brickset.com/sets/images/70310-1.jpg\", 1], [377, \"Isabel\", \"Garrison\", 38, \"561-555-4014\", 24725, \"41174\", \"Elves\", \"NaN\", 2018, \"The Starlight Inn\", 343.0, 29.99, \"http://images.brickset.com/sets/images/41174-1.jpg\", 1], [378, \"Rachelle\", \"Henderson\", 50, \"636-555-3458\", 25009, \"41570\", \"Mixels\", \"Series 8\", 2018, \"Skrubz\", 68.0, 4.99, \"http://images.brickset.com/sets/images/41570-1.jpg\", 1], [379, \"Eden\", \"Morgan\", 47, \"882-555-5047\", 24712, \"10808\", \"Duplo\", \"NaN\", 2018, \"Little Plane\", 13.0, 9.99, \"http://images.brickset.com/sets/images/10808-1.jpg\", 2], [380, \"Eden\", \"Morgan\", 47, \"882-555-5047\", 25612, \"21128\", \"Minecraft\", \"Minifig-scale\", 2018, \"The Village\", NaN, 199.99, \"NaN\", 1], [381, \"Eden\", \"Morgan\", 47, \"882-555-5047\", 24675, \"60106\", \"City\", \"Fire\", 2018, \"Fire Starter Set\", 90.0, 9.99, \"http://images.brickset.com/sets/images/60106-1.jpg\", 2], [394, \"Blake\", \"Serota\", 44, \"952-555-3416\", 26058, \"5005059\", \"Gear\", \"Video Games/PS3\", 2018, \"Marvel Avengers PS3 Video Game\", NaN, 49.99, \"http://images.brickset.com/sets/images/5005059-1.jpg\", 1], [395, \"Blake\", \"Serota\", 44, \"952-555-3416\", 24785, \"75126\", \"Star Wars\", \"MicroFighters\", 2018, \"First Order Snowspeeder\", 91.0, 9.99, \"http://images.brickset.com/sets/images/75126-1.jpg\", 1], [396, \"Blake\", \"Serota\", 44, \"952-555-3416\", 25885, \"853572\", \"Gear\", \"Key Chains/Miscellaneous\", 2018, \"Bumble Bee Key Chain\", NaN, 5.99, \"http://images.brickset.com/sets/images/853572-1.jpg\", 1], [397, \"Lavie\", \"Faulkner\", 41, \"718-555-0575\", 25647, \"71316\", \"Bionicle\", \"Reboot Villains\", 2018, \"Umarak the Destroyer\", 191.0, 24.99, \"NaN\", 2], [398, \"Lavie\", \"Faulkner\", 41, \"718-555-0575\", 25662, \"75824\", \"The Angry Birds Movie\", \"NaN\", 2018, \"Pig City Teardown\", 386.0, 39.99, \"http://images.brickset.com/sets/images/75824-1.jpg\", 1], [399, \"Lavie\", \"Faulkner\", 41, \"718-555-0575\", 25623, \"70592\", \"Ninjago\", \"Rise of the Villains\", 2018, \"Salvage M.E.C.\", 439.0, 39.99, \"http://images.brickset.com/sets/images/70592-1.jpg\", 1], [403, \"Da Som\", \"Roskam\", 36, \"441-555-9959\", 24764, \"70333\", \"Nexo Knights\", \"Ultimate\", 2018, \"Ultimate Robin\", 75.0, 9.99, \"http://images.brickset.com/sets/images/70333-1.jpg\", 1], [404, \"Da Som\", \"Roskam\", 36, \"441-555-9959\", 25875, \"853570\", \"City\", \"Police\", 2018, \"Police Accessory Set\", 26.0, 14.99, \"http://images.brickset.com/sets/images/853570-1.jpg\", 1], [417, \"Jackson\", \"Dominguez\", 40, \"NaN\", 24759, \"70313\", \"Nexo Knights\", \"NaN\", 2018, \"Moltor's Lava Smasher\", 187.0, 19.99, \"http://images.brickset.com/sets/images/70313-1.jpg\", 2], [418, \"Jackson\", \"Dominguez\", 40, \"NaN\", 25611, \"21127\", \"Minecraft\", \"Minifig-scale\", 2018, \"The Fortress\", NaN, 109.99, \"http://images.brickset.com/sets/images/21127-1.jpg\", 1], [419, \"Jackson\", \"Dominguez\", 40, \"NaN\", 25008, \"41569\", \"Mixels\", \"Series 8\", 2018, \"Surgeo\", 63.0, 4.99, \"http://images.brickset.com/sets/images/41569-1.jpg\", 2], [420, \"Jackson\", \"Dominguez\", 40, \"NaN\", 24733, \"41118\", \"Friends\", \"NaN\", 2018, \"Heartlake Supermarket\", 313.0, 29.99, \"http://images.brickset.com/sets/images/41118-1.jpg\", 1], [421, \"Jackson\", \"Dominguez\", 40, \"NaN\", 25632, \"70339\", \"Nexo Knights\", \"Ultimate\", 2018, \"Ultimate Flama\", 67.0, 9.99, \"NaN\", 3], [422, \"Jackson\", \"Dominguez\", 40, \"NaN\", 26034, \"41573\", \"Mixels\", \"Series 9\", 2018, \"Sweepz\", 61.0, 4.99, \"NaN\", 1], [423, \"Jackson\", \"Dominguez\", 40, \"NaN\", 25885, \"853572\", \"Gear\", \"Key Chains/Miscellaneous\", 2018, \"Bumble Bee Key Chain\", NaN, 5.99, \"http://images.brickset.com/sets/images/853572-1.jpg\", 2], [424, \"India\", \"Rudy\", 39, \"NaN\", 24709, \"10803\", \"Duplo\", \"NaN\", 2018, \"Arctic\", 40.0, 29.99, \"http://images.brickset.com/sets/images/10803-1.jpg\", 1], [425, \"India\", \"Rudy\", 39, \"NaN\", 25004, \"41565\", \"Mixels\", \"Series 8\", 2018, \"Hydro\", 70.0, 4.99, \"http://images.brickset.com/sets/images/41565-1.jpg\", 2], [426, \"India\", \"Rudy\", 39, \"NaN\", 24659, \"71228\", \"Dimensions\", \"Level Pack\", 2018, \"Level Pack: Ghostbusters\", 115.0, 29.99, \"http://images.brickset.com/sets/images/71228-1.jpg\", 1], [427, \"India\", \"Rudy\", 39, \"NaN\", 25636, \"70321\", \"Nexo Knights\", \"NaN\", 2018, \"General Magmar's Siege Machine of Doom\", 516.0, 49.99, \"http://images.brickset.com/sets/images/70321-1.jpg\", 2], [428, \"India\", \"Rudy\", 39, \"NaN\", 24790, \"75131\", \"Star Wars\", \"The Force Awakens\", 2018, \"Resistance Trooper Battle Pack\", 112.0, 12.99, \"http://images.brickset.com/sets/images/75131-1.jpg\", 1], [431, \"Carolane\", \"Levosky\", 37, \"732-555-0913\", 25876, \"853555\", \"Gear\", \"Stationery\", 2018, \"Campsite Scrapbook\", NaN, 14.99, \"http://images.brickset.com/sets/images/853555-1.jpg\", 4], [432, \"Carolane\", \"Levosky\", 37, \"732-555-0913\", 26041, \"41580\", \"Mixels\", \"Series 9\", 2018, \"Myke\", 63.0, 4.99, \"NaN\", 1], [433, \"Carolane\", \"Levosky\", 37, \"732-555-0913\", 24797, \"75138\", \"Star Wars\", \"Episode V\", 2018, \"Hoth Attack\", 233.0, 24.99, \"http://images.brickset.com/sets/images/75138-1.jpg\", 2], [434, \"Tristin\", \"Marcy\", 39, \"NaN\", 25010, \"41571\", \"Mixels\", \"Series 8\", 2018, \"Tuth\", 67.0, 4.99, \"http://images.brickset.com/sets/images/41571-1.jpg\", 1], [435, \"Tristin\", \"Marcy\", 39, \"NaN\", 24760, \"70315\", \"Nexo Knights\", \"NaN\", 2018, \"Clay's Rumble Blade\", 367.0, 39.99, \"http://images.brickset.com/sets/images/70315-1.jpg\", 2], [436, \"Tristin\", \"Marcy\", 39, \"NaN\", 24800, \"42044\", \"Technic\", \"NaN\", 2018, \"Display Team Jet\", 113.0, 12.99, \"http://images.brickset.com/sets/images/42044-1.jpg\", 1], [437, \"Tristin\", \"Marcy\", 39, \"NaN\", 24986, \"30446\", \"DC Comics Super Heroes\", \"Batman v Superman: Dawn of Justice\", 2018, \"The Batmobile\", 63.0, 3.99, \"http://images.brickset.com/sets/images/30446-1.jpg\", 1], [438, \"Tristin\", \"Marcy\", 39, \"NaN\", 26057, \"5005058\", \"Gear\", \"Video Games/Wii U\", 2018, \"Marvel Avengers Wii U Video Game\", NaN, 49.99, \"http://images.brickset.com/sets/images/5005058-1.jpg\", 3], [474, \"Gabriel\", \"Dysart\", 49, \"858-555-0076\", 25637, \"70322\", \"Nexo Knights\", \"NaN\", 2018, \"Axl's Tower Carrier\", 670.0, 69.99, \"http://images.brickset.com/sets/images/70322-1.jpg\", 2], [475, \"Gabriel\", \"Dysart\", 49, \"858-555-0076\", 24697, \"76044\", \"DC Comics Super Heroes\", \"Batman v Superman: Dawn of Justice\", 2018, \"Clash of the Heroes\", 92.0, 12.99, \"http://images.brickset.com/sets/images/76044-1.jpg\", 3], [482, \"Melanie\", \"Rollert\", 43, \"NaN\", 25668, \"75828\", \"Ghostbusters\", \"Reboot\", 2018, \"Ghostbusters Ecto-1 & Ecto-2\", NaN, 59.99, \"http://images.brickset.com/sets/images/75828-1.jpg\", 2], [483, \"Melanie\", \"Rollert\", 43, \"NaN\", 26026, \"41179\", \"Elves\", \"NaN\", 2018, \"Queen Dragon's Rescue\", 833.0, 69.99, \"NaN\", 3], [484, \"Robert\", \"Buse\", 38, \"712-555-9533\", 24794, \"75135\", \"Star Wars\", \"Episode III\", 2018, \"Obi-Wan's Jedi Interceptor\", 215.0, 24.99, \"http://images.brickset.com/sets/images/75135-1.jpg\", 2], [485, \"Robert\", \"Buse\", 38, \"712-555-9533\", 24784, \"75125\", \"Star Wars\", \"MicroFighters\", 2018, \"Resistance X-wing Fighter\", 87.0, 9.99, \"http://images.brickset.com/sets/images/75125-1.jpg\", 1], [486, \"Robert\", \"Buse\", 38, \"712-555-9533\", 24733, \"41118\", \"Friends\", \"NaN\", 2018, \"Heartlake Supermarket\", 313.0, 29.99, \"http://images.brickset.com/sets/images/41118-1.jpg\", 2], [498, \"Josie\", \"Paley\", 38, \"807-555-3971\", 25876, \"853555\", \"Gear\", \"Stationery\", 2018, \"Campsite Scrapbook\", NaN, 14.99, \"http://images.brickset.com/sets/images/853555-1.jpg\", 1], [499, \"Josie\", \"Paley\", 38, \"807-555-3971\", 24796, \"75137\", \"Star Wars\", \"Episode V\", 2018, \"Carbon-Freezing Chamber\", 231.0, 24.99, \"http://images.brickset.com/sets/images/75137-1.jpg\", 2], [500, \"Josie\", \"Paley\", 38, \"807-555-3971\", 24781, \"75116\", \"Star Wars\", \"Buildable Figures\", 2018, \"Finn\", 98.0, 24.99, \"http://images.brickset.com/sets/images/75116-1.jpg\", 3], [501, \"Josie\", \"Paley\", 38, \"807-555-3971\", 26034, \"41573\", \"Mixels\", \"Series 9\", 2018, \"Sweepz\", 61.0, 4.99, \"NaN\", 1], [502, \"Josie\", \"Paley\", 38, \"807-555-3971\", 24788, \"75129\", \"Star Wars\", \"MicroFighters\", 2018, \"Wookiee Gunship\", 84.0, 9.99, \"http://images.brickset.com/sets/images/75129-1.jpg\", 1], [503, \"Josie\", \"Paley\", 38, \"807-555-3971\", 24904, \"41559\", \"Mixels\", \"Series 7\", 2018, \"Paladum\", 64.0, 4.99, \"http://images.brickset.com/sets/images/41559-1.jpg\", 2], [504, \"Christina\", \"Williams\", 39, \"541-555-5085\", 24670, \"71305\", \"Bionicle\", \"Toa\", 2018, \"Lewa - Uniter of Jungle\", 79.0, 14.99, \"http://images.brickset.com/sets/images/71305-1.jpg\", 2], [505, \"Christina\", \"Williams\", 39, \"541-555-5085\", 24995, \"10702\", \"Classic\", \"NaN\", 2018, \"Creative Building Set\", 583.0, 29.99, \"http://images.brickset.com/sets/images/10702-1.jpg\", 1], [506, \"Christina\", \"Williams\", 39, \"541-555-5085\", 24758, \"70312\", \"Nexo Knights\", \"NaN\", 2018, \"Lance's Mecha Horse\", 237.0, 19.99, \"http://images.brickset.com/sets/images/70312-1.jpg\", 1], [510, \"Delmi\", \"Spedding\", 40, \"758-555-3948\", 24679, \"60111\", \"City\", \"Fire\", 2018, \"Fire Utility Truck\", 368.0, 39.99, \"http://images.brickset.com/sets/images/60111-1.jpg\", 2], [511, \"Delmi\", \"Spedding\", 40, \"758-555-3948\", 24735, \"41120\", \"Friends\", \"Adventure Camp\", 2018, \"Adventure Camp Archery\", 114.0, 9.99, \"http://images.brickset.com/sets/images/41120-1.jpg\", 1], [515, \"Gunnar\", \"Nickless\", 36, \"915-555-5334\", 24678, \"60109\", \"City\", \"Fire\", 2018, \"Fire Boat\", 412.0, 79.99, \"http://images.brickset.com/sets/images/60109-1.jpg\", 1], [530, \"Melissa\", \"Prael\", 41, \"819-555-1361\", 24919, \"70601\", \"Ninjago\", \"Skybound\", 2018, \"Sky Shark\", 221.0, 19.99, \"http://images.brickset.com/sets/images/70601-1.jpg\", 1], [531, \"Melissa\", \"Prael\", 41, \"819-555-1361\", 25006, \"41567\", \"Mixels\", \"Series 8\", 2018, \"Skulzy\", 66.0, 4.99, \"http://images.brickset.com/sets/images/41567-1.jpg\", 1], [532, \"Melissa\", \"Prael\", 41, \"819-555-1361\", 24804, \"42048\", \"Technic\", \"NaN\", 2018, \"Race Kart\", 345.0, 29.99, \"http://images.brickset.com/sets/images/42048-1.jpg\", 1], [533, \"Audrey\", \"Baker\", 40, \"386-555-0465\", 25916, \"76054\", \"DC Comics Super Heroes\", \"Batman\", 2018, \"Batman: Scarecrow Harvest of Fear\", 563.0, 59.99, \"http://images.brickset.com/sets/images/76054-1.jpg\", 1], [534, \"Audrey\", \"Baker\", 40, \"386-555-0465\", 25660, \"75822\", \"The Angry Birds Movie\", \"NaN\", 2018, \"Piggy Plane Attack\", 168.0, 19.99, \"http://images.brickset.com/sets/images/75822-1.jpg\", 1], [535, \"Audrey\", \"Baker\", 40, \"386-555-0465\", 24803, \"42047\", \"Technic\", \"NaN\", 2018, \"Police Interceptor\", 185.0, 19.99, \"http://images.brickset.com/sets/images/42047-1.jpg\", 1], [536, \"Audrey\", \"Baker\", 40, \"386-555-0465\", 24691, \"31043\", \"Creator\", \"NaN\", 2018, \"Chopper Transporter\", 124.0, 9.99, \"http://images.brickset.com/sets/images/31043-1.jpg\", 1], [548, \"John\", \"Leavell\", 39, \"843-555-8490\", 24786, \"75127\", \"Star Wars\", \"MicroFighters\", 2018, \"The Ghost\", 104.0, 9.99, \"http://images.brickset.com/sets/images/75127-1.jpg\", 1], [549, \"John\", \"Leavell\", 39, \"843-555-8490\", 25656, \"10804\", \"Duplo\", \"NaN\", 2018, \"Jungle\", 86.0, 49.99, \"http://images.brickset.com/sets/images/10804-1.jpg\", 1], [550, \"John\", \"Leavell\", 39, \"843-555-8490\", 25624, \"70593\", \"Ninjago\", \"Skybound\", 2018, \"The Green NRG Dragon\", 567.0, 49.99, \"http://images.brickset.com/sets/images/70593-1.jpg\", 1], [551, \"John\", \"Leavell\", 39, \"843-555-8490\", 24551, \"71234\", \"Dimensions\", \"Fun Pack\", 2018, \"Fun Pack: Sensei Wu\", 58.0, 14.99, \"http://images.brickset.com/sets/images/71234-1.jpg\", 1], [554, \"Nadia\", \"Romero\", 37, \"702-555-1158\", 24672, \"71307\", \"Bionicle\", \"Toa\", 2018, \"Gali - Uniter of Water\", 87.0, 14.99, \"http://images.brickset.com/sets/images/71307-1.jpg\", 1], [555, \"Nadia\", \"Romero\", 37, \"702-555-1158\", 24986, \"30446\", \"DC Comics Super Heroes\", \"Batman v Superman: Dawn of Justice\", 2018, \"The Batmobile\", 63.0, 3.99, \"http://images.brickset.com/sets/images/30446-1.jpg\", 1], [556, \"Sarah\", \"Harris\", 44, \"787-555-1308\", 25624, \"70593\", \"Ninjago\", \"Skybound\", 2018, \"The Green NRG Dragon\", 567.0, 49.99, \"http://images.brickset.com/sets/images/70593-1.jpg\", 1], [563, \"Elias\", \"Garrett\", 50, \"832-555-9165\", 24915, \"60130\", \"City\", \"Police\", 2018, \"Prison Island\", 754.0, 89.99, \"http://images.brickset.com/sets/images/60130-1.jpg\", 3], [564, \"Elias\", \"Garrett\", 50, \"832-555-9165\", 25898, \"75145\", \"Star Wars\", \"Original Content\", 2018, \"Eclipse Fighter\", 363.0, 29.99, \"http://images.brickset.com/sets/images/75145-1.jpg\", 1], [565, \"Elias\", \"Garrett\", 50, \"832-555-9165\", 24725, \"41174\", \"Elves\", \"NaN\", 2018, \"The Starlight Inn\", 343.0, 29.99, \"http://images.brickset.com/sets/images/41174-1.jpg\", 1], [566, \"Isaac\", \"Younger\", 42, \"345-555-2861\", 25662, \"75824\", \"The Angry Birds Movie\", \"NaN\", 2018, \"Pig City Teardown\", 386.0, 39.99, \"http://images.brickset.com/sets/images/75824-1.jpg\", 1], [567, \"Isaac\", \"Younger\", 42, \"345-555-2861\", 24686, \"60119\", \"City\", \"Harbour\", 2018, \"Ferry\", 301.0, 29.99, \"http://images.brickset.com/sets/images/60119-1.jpg\", 1], [573, \"Kelly\", \"Wilson\", 36, \"419-555-4451\", 24694, \"31047\", \"Creator\", \"NaN\", 2018, \"Propeller Plane\", 230.0, 19.99, \"http://images.brickset.com/sets/images/31047-1.jpg\", 1], [574, \"Adam\", \"Mehdinia\", 36, \"520-555-0348\", 25883, \"853568\", \"Gear\", \"Key Chains/City\", 2018, \"Prison Guard Key Chain\", NaN, 5.99, \"http://images.brickset.com/sets/images/853568-1.jpg\", 2], [597, \"Payton\", \"Milsap\", 42, \"NaN\", 24669, \"71304\", \"Bionicle\", \"Companions\", 2018, \"Terak - Creature of Earth\", 74.0, 9.99, \"http://images.brickset.com/sets/images/71304-1.jpg\", 1], [598, \"Payton\", \"Milsap\", 42, \"NaN\", 24702, \"76063\", \"DC Comics Super Heroes\", \"Mighty Micros\", 2018, \"The Flash vs. Captain Cold\", 88.0, 9.99, \"http://images.brickset.com/sets/images/76063-1.jpg\", 3], [599, \"Payton\", \"Milsap\", 42, \"NaN\", 24678, \"60109\", \"City\", \"Fire\", 2018, \"Fire Boat\", 412.0, 79.99, \"http://images.brickset.com/sets/images/60109-1.jpg\", 2], [602, \"Stephanie\", \"Harrison\", 42, \"NaN\", 24736, \"41121\", \"Friends\", \"Adventure Camp\", 2018, \"Adventure Camp Rafting\", 320.0, 29.99, \"http://images.brickset.com/sets/images/41121-1.jpg\", 1], [618, \"Amelia\", \"Hageman\", 40, \"336-555-1950\", 24702, \"76063\", \"DC Comics Super Heroes\", \"Mighty Micros\", 2018, \"The Flash vs. Captain Cold\", 88.0, 9.99, \"http://images.brickset.com/sets/images/76063-1.jpg\", 2], [619, \"Amelia\", \"Hageman\", 40, \"336-555-1950\", 24720, \"10830\", \"Duplo\", \"NaN\", 2018, \"Minnie's Caf\\u00e9\", 27.0, 19.99, \"http://images.brickset.com/sets/images/10830-1.jpg\", 4]];\n",
       "\n",
       "        // Define the dt_args\n",
       "        let dt_args = {\"layout\": {\"topStart\": \"pageLength\", \"topEnd\": \"search\", \"bottomStart\": \"info\", \"bottomEnd\": \"paging\"}, \"order\": []};\n",
       "        dt_args[\"data\"] = data;\n",
       "\n",
       "        \n",
       "        new DataTable(table, dt_args);\n",
       "    });\n",
       "</script>\n"
      ],
      "text/plain": [
       "<IPython.core.display.HTML object>"
      ]
     },
     "metadata": {},
     "output_type": "display_data"
    }
   ],
   "source": [
    "mask36_50 = (DF['age']>= 36) & (DF['age']<= 50)\n",
    "DF36_50 = DF[mask36_50]\n",
    "show(DF36_50)"
   ]
  },
  {
   "cell_type": "code",
   "execution_count": 486,
   "id": "815370da-7763-4ef8-9a01-68dd66904333",
   "metadata": {},
   "outputs": [
    {
     "data": {
      "text/html": [
       "<table id=\"itables_23a12d64_2cae_4ec9_80ce_2dc769aecf71\" class=\"display nowrap\" data-quarto-disable-processing=\"true\" style=\"table-layout:auto;width:auto;margin:auto;caption-side:bottom\">\n",
       "<thead>\n",
       "    <tr style=\"text-align: right;\">\n",
       "      <th></th>\n",
       "      <th>first_name</th>\n",
       "      <th>last_name</th>\n",
       "      <th>age</th>\n",
       "      <th>phone_number</th>\n",
       "      <th>set_id</th>\n",
       "      <th>number</th>\n",
       "      <th>theme</th>\n",
       "      <th>subtheme</th>\n",
       "      <th>year</th>\n",
       "      <th>name</th>\n",
       "      <th>pieces</th>\n",
       "      <th>us_price</th>\n",
       "      <th>image_url</th>\n",
       "      <th>quantity</th>\n",
       "    </tr>\n",
       "  </thead><tbody><tr>\n",
       "<td style=\"vertical-align:middle; text-align:left\">\n",
       "<div style=\"float:left; margin-right: 10px;\">\n",
       "<a href=https://mwouts.github.io/itables/><svg class=\"main-svg\" xmlns=\"http://www.w3.org/2000/svg\" xmlns:xlink=\"http://www.w3.org/1999/xlink\"\n",
       "width=\"64\" viewBox=\"0 0 500 400\" style=\"font-family: 'Droid Sans', sans-serif;\">\n",
       "    <g style=\"fill:#d9d7fc\">\n",
       "        <path d=\"M100,400H500V357H100Z\" />\n",
       "        <path d=\"M100,300H400V257H100Z\" />\n",
       "        <path d=\"M0,200H400V157H0Z\" />\n",
       "        <path d=\"M100,100H500V57H100Z\" />\n",
       "        <path d=\"M100,350H500V307H100Z\" />\n",
       "        <path d=\"M100,250H400V207H100Z\" />\n",
       "        <path d=\"M0,150H400V107H0Z\" />\n",
       "        <path d=\"M100,50H500V7H100Z\" />\n",
       "    </g>\n",
       "    <g style=\"fill:#1a1366;stroke:#1a1366;\">\n",
       "   <rect x=\"100\" y=\"7\" width=\"400\" height=\"43\">\n",
       "    <animate\n",
       "      attributeName=\"width\"\n",
       "      values=\"0;400;0\"\n",
       "      dur=\"5s\"\n",
       "      repeatCount=\"indefinite\" />\n",
       "      <animate\n",
       "      attributeName=\"x\"\n",
       "      values=\"100;100;500\"\n",
       "      dur=\"5s\"\n",
       "      repeatCount=\"indefinite\" />\n",
       "  </rect>\n",
       "        <rect x=\"0\" y=\"107\" width=\"400\" height=\"43\">\n",
       "    <animate\n",
       "      attributeName=\"width\"\n",
       "      values=\"0;400;0\"\n",
       "      dur=\"3.5s\"\n",
       "      repeatCount=\"indefinite\" />\n",
       "    <animate\n",
       "      attributeName=\"x\"\n",
       "      values=\"0;0;400\"\n",
       "      dur=\"3.5s\"\n",
       "      repeatCount=\"indefinite\" />\n",
       "  </rect>\n",
       "        <rect x=\"100\" y=\"207\" width=\"300\" height=\"43\">\n",
       "    <animate\n",
       "      attributeName=\"width\"\n",
       "      values=\"0;300;0\"\n",
       "      dur=\"3s\"\n",
       "      repeatCount=\"indefinite\" />\n",
       "    <animate\n",
       "      attributeName=\"x\"\n",
       "      values=\"100;100;400\"\n",
       "      dur=\"3s\"\n",
       "      repeatCount=\"indefinite\" />\n",
       "  </rect>\n",
       "        <rect x=\"100\" y=\"307\" width=\"400\" height=\"43\">\n",
       "    <animate\n",
       "      attributeName=\"width\"\n",
       "      values=\"0;400;0\"\n",
       "      dur=\"4s\"\n",
       "      repeatCount=\"indefinite\" />\n",
       "      <animate\n",
       "      attributeName=\"x\"\n",
       "      values=\"100;100;500\"\n",
       "      dur=\"4s\"\n",
       "      repeatCount=\"indefinite\" />\n",
       "  </rect>\n",
       "        <g style=\"fill:transparent;stroke-width:8; stroke-linejoin:round\" rx=\"5\">\n",
       "            <g transform=\"translate(45 50) rotate(-45)\">\n",
       "                <circle r=\"33\" cx=\"0\" cy=\"0\" />\n",
       "                <rect x=\"-8\" y=\"32\" width=\"16\" height=\"30\" />\n",
       "            </g>\n",
       "\n",
       "            <g transform=\"translate(450 152)\">\n",
       "                <polyline points=\"-15,-20 -35,-20 -35,40 25,40 25,20\" />\n",
       "                <rect x=\"-15\" y=\"-40\" width=\"60\" height=\"60\" />\n",
       "            </g>\n",
       "\n",
       "            <g transform=\"translate(50 352)\">\n",
       "                <polygon points=\"-35,-5 0,-40 35,-5\" />\n",
       "                <polygon points=\"-35,10 0,45 35,10\" />\n",
       "            </g>\n",
       "\n",
       "            <g transform=\"translate(75 250)\">\n",
       "                <polyline points=\"-30,30 -60,0 -30,-30\" />\n",
       "                <polyline points=\"0,30 -30,0 0,-30\" />\n",
       "            </g>\n",
       "\n",
       "            <g transform=\"translate(425 250) rotate(180)\">\n",
       "                <polyline points=\"-30,30 -60,0 -30,-30\" />\n",
       "                <polyline points=\"0,30 -30,0 0,-30\" />\n",
       "            </g>\n",
       "        </g>\n",
       "    </g>\n",
       "</svg>\n",
       "</a>\n",
       "</div>\n",
       "<div>\n",
       "Loading ITables v2.1.4 from the internet...\n",
       "(need <a href=https://mwouts.github.io/itables/troubleshooting.html>help</a>?)</td>\n",
       "</div>\n",
       "</tr></tbody>\n",
       "\n",
       "</table>\n",
       "<link href=\"https://www.unpkg.com/dt_for_itables@2.0.11/dt_bundle.css\" rel=\"stylesheet\">\n",
       "<script type=\"module\">\n",
       "    import {DataTable, jQuery as $} from 'https://www.unpkg.com/dt_for_itables@2.0.11/dt_bundle.js';\n",
       "\n",
       "    document.querySelectorAll(\"#itables_23a12d64_2cae_4ec9_80ce_2dc769aecf71:not(.dataTable)\").forEach(table => {\n",
       "        // Define the table data\n",
       "        const data = [[31, \"Hannah\", \"Drews Stunkel\", 55, \"339-555-6320\", 25628, \"70590\", \"Ninjago\", \"NaN\", 2018, \"Airjitzu Battle Grounds\", 666.0, 59.99, \"NaN\", 1], [32, \"Hannah\", \"Drews Stunkel\", 55, \"339-555-6320\", 25624, \"70593\", \"Ninjago\", \"Skybound\", 2018, \"The Green NRG Dragon\", 567.0, 49.99, \"http://images.brickset.com/sets/images/70593-1.jpg\", 3], [33, \"Hannah\", \"Drews Stunkel\", 55, \"339-555-6320\", 24734, \"41119\", \"Friends\", \"NaN\", 2018, \"Heartlake Cupcake Cafe\", 439.0, 39.99, \"http://images.brickset.com/sets/images/41119-1.jpg\", 1], [38, \"Riley\", \"Ott\", 51, \"517-555-2093\", 24785, \"75126\", \"Star Wars\", \"MicroFighters\", 2018, \"First Order Snowspeeder\", 91.0, 9.99, \"http://images.brickset.com/sets/images/75126-1.jpg\", 2], [39, \"Riley\", \"Ott\", 51, \"517-555-2093\", 24772, \"70604\", \"Ninjago\", \"Skybound\", 2018, \"Tiger Widow Island\", 450.0, 49.99, \"http://images.brickset.com/sets/images/70604-1.jpg\", 1], [69, \"Keno\", \"Graves\", 51, \"209-555-6030\", 25898, \"75145\", \"Star Wars\", \"Original Content\", 2018, \"Eclipse Fighter\", 363.0, 29.99, \"http://images.brickset.com/sets/images/75145-1.jpg\", 1], [84, \"Janay\", \"Gienapp\", 63, \"774-555-2102\", 25612, \"21128\", \"Minecraft\", \"Minifig-scale\", 2018, \"The Village\", NaN, 199.99, \"NaN\", 1], [85, \"Janay\", \"Gienapp\", 63, \"774-555-2102\", 24704, \"41140\", \"Disney Princess\", \"Palace Pets\", 2018, \"Daisy's Beauty Salon\", 98.0, 9.99, \"http://images.brickset.com/sets/images/41140-1.jpg\", 1], [86, \"Janay\", \"Gienapp\", 63, \"774-555-2102\", 25893, \"30349\", \"City\", \"NaN\", 2018, \"Sports Car\", 47.0, 3.99, \"http://images.brickset.com/sets/images/30349-1.jpg\", 1], [110, \"Joshua\", \"Long\", 55, \"469-555-6245\", 26056, \"5005057\", \"Gear\", \"Video Games/XBOX 360\", 2018, \"Marvel Avengers XBOX 360 Video Game\", NaN, 49.99, \"http://images.brickset.com/sets/images/5005057-1.jpg\", 1], [111, \"Joshua\", \"Long\", 55, \"469-555-6245\", 26057, \"5005058\", \"Gear\", \"Video Games/Wii U\", 2018, \"Marvel Avengers Wii U Video Game\", NaN, 49.99, \"http://images.brickset.com/sets/images/5005058-1.jpg\", 1], [115, \"Nicholas\", \"Scott\", 57, \"418-555-1075\", 24758, \"70312\", \"Nexo Knights\", \"NaN\", 2018, \"Lance's Mecha Horse\", 237.0, 19.99, \"http://images.brickset.com/sets/images/70312-1.jpg\", 1], [116, \"Nicholas\", \"Scott\", 57, \"418-555-1075\", 25881, \"853549\", \"Gear\", \"Key Chains/Friends\", 2018, \"Mia Key Chain\", NaN, 5.99, \"http://images.brickset.com/sets/images/853549-1.jpg\", 1], [117, \"Nicholas\", \"Scott\", 57, \"418-555-1075\", 25885, \"853572\", \"Gear\", \"Key Chains/Miscellaneous\", 2018, \"Bumble Bee Key Chain\", NaN, 5.99, \"http://images.brickset.com/sets/images/853572-1.jpg\", 2], [134, \"Aleksandr\", \"Gurrola\", 61, \"508-555-9403\", 25910, \"30347\", \"City\", \"Fire\", 2018, \"Fire Car\", 53.0, 3.99, \"http://images.brickset.com/sets/images/30347-1.jpg\", 1], [135, \"Michael\", \"Hernandez Muniz\", 62, \"NaN\", 24745, \"76047\", \"Marvel Super Heroes\", \"Captain America: Civil War\", 2018, \"Black Panther Pursuit\", 287.0, 29.99, \"http://images.brickset.com/sets/images/76047-1.jpg\", 2], [151, \"Jordan\", \"West\", 56, \"810-555-1608\", 24898, \"41113\", \"Friends\", \"Party\", 2018, \"Party Gift Shop\", 52.0, 4.99, \"http://images.brickset.com/sets/images/41113-1.jpg\", 1], [152, \"Jordan\", \"West\", 56, \"810-555-1608\", 24711, \"10807\", \"Duplo\", \"NaN\", 2018, \"Horse Trailer\", 15.0, 19.99, \"http://images.brickset.com/sets/images/10807-1.jpg\", 1], [180, \"Joshua\", \"Reyes\", 53, \"251-555-5985\", 25605, \"75146\", \"Star Wars\", \"Seasonal\", 2018, \"Star Wars Advent Calendar\", 282.0, 39.99, \"http://images.brickset.com/sets/images/75146-1.jpg\", 2], [181, \"Joshua\", \"Reyes\", 53, \"251-555-5985\", 24780, \"75115\", \"Star Wars\", \"Buildable Figures\", 2018, \"Poe Dameron\", 102.0, 24.99, \"http://images.brickset.com/sets/images/75115-1.jpg\", 3], [182, \"Joshua\", \"Reyes\", 53, \"251-555-5985\", 24618, \"71238\", \"Dimensions\", \"Fun Pack\", 2018, \"Fun Pack: Cyberman\", 40.0, 14.99, \"http://images.brickset.com/sets/images/71238-1.jpg\", 1], [254, \"Van\", \"Rapp\", 51, \"413-555-0987\", 25632, \"70339\", \"Nexo Knights\", \"Ultimate\", 2018, \"Ultimate Flama\", 67.0, 9.99, \"NaN\", 2], [314, \"Mario\", \"Synn\", 59, \"519-555-9924\", 25879, \"853534\", \"Gear\", \"Key Chains/Ninjago\", 2018, \"Airjitzu Jay Key Chain\", NaN, 5.99, \"http://images.brickset.com/sets/images/853534-1.jpg\", 1], [315, \"Mario\", \"Synn\", 59, \"519-555-9924\", 25887, \"853543\", \"Ninjago\", \"NaN\", 2018, \"Ninjago Party Set\", 70.0, 7.99, \"http://images.brickset.com/sets/images/853543-1.jpg\", 3], [316, \"Mario\", \"Synn\", 59, \"519-555-9924\", 24905, \"41561\", \"Mixels\", \"Series 7\", 2018, \"Tapsy\", 57.0, 4.99, \"http://images.brickset.com/sets/images/41561-1.jpg\", 2], [333, \"Jeffrey\", \"Cervantes\", 61, \"859-555-4454\", 24919, \"70601\", \"Ninjago\", \"Skybound\", 2018, \"Sky Shark\", 221.0, 19.99, \"http://images.brickset.com/sets/images/70601-1.jpg\", 1], [334, \"Jeffrey\", \"Cervantes\", 61, \"859-555-4454\", 24784, \"75125\", \"Star Wars\", \"MicroFighters\", 2018, \"Resistance X-wing Fighter\", 87.0, 9.99, \"http://images.brickset.com/sets/images/75125-1.jpg\", 1], [335, \"Jeffrey\", \"Cervantes\", 61, \"859-555-4454\", 24733, \"41118\", \"Friends\", \"NaN\", 2018, \"Heartlake Supermarket\", 313.0, 29.99, \"http://images.brickset.com/sets/images/41118-1.jpg\", 1], [336, \"Jeffrey\", \"Cervantes\", 61, \"859-555-4454\", 24689, \"60129\", \"City\", \"Police\", 2018, \"Police Patrol Boat\", 200.0, 49.99, \"http://images.brickset.com/sets/images/60129-1.jpg\", 1], [360, \"Hanibal\", \"Vera\", 54, \"206-555-3697\", 24783, \"75118\", \"Star Wars\", \"Buildable Figures\", 2018, \"Captain Phasma\", 82.0, 24.99, \"http://images.brickset.com/sets/images/75118-1.jpg\", 2], [365, \"Jose\", \"Downing\", 53, \"415-555-4797\", 25923, \"75147\", \"Star Wars\", \"Original Content\", 2018, \"Star Scavenger\", 558.0, 49.99, \"http://images.brickset.com/sets/images/75147-1.jpg\", 1], [366, \"Jose\", \"Downing\", 53, \"415-555-4797\", 24666, \"71301\", \"Bionicle\", \"Companions\", 2018, \"Ketar - Creature of Stone\", 80.0, 9.99, \"http://images.brickset.com/sets/images/71301-1.jpg\", 1], [372, \"Sergey\", \"Lapp\", 56, \"802-555-5261\", 24709, \"10803\", \"Duplo\", \"NaN\", 2018, \"Arctic\", 40.0, 29.99, \"http://images.brickset.com/sets/images/10803-1.jpg\", 1], [373, \"Sergey\", \"Lapp\", 56, \"802-555-5261\", 25923, \"75147\", \"Star Wars\", \"Original Content\", 2018, \"Star Scavenger\", 558.0, 49.99, \"http://images.brickset.com/sets/images/75147-1.jpg\", 1], [414, \"Ashley\", \"Bletcher\", 61, \"567-555-1984\", 24905, \"41561\", \"Mixels\", \"Series 7\", 2018, \"Tapsy\", 57.0, 4.99, \"http://images.brickset.com/sets/images/41561-1.jpg\", 2], [415, \"Ashley\", \"Bletcher\", 61, \"567-555-1984\", 24709, \"10803\", \"Duplo\", \"NaN\", 2018, \"Arctic\", 40.0, 29.99, \"http://images.brickset.com/sets/images/10803-1.jpg\", 1], [416, \"Ashley\", \"Bletcher\", 61, \"567-555-1984\", 24697, \"76044\", \"DC Comics Super Heroes\", \"Batman v Superman: Dawn of Justice\", 2018, \"Clash of the Heroes\", 92.0, 12.99, \"http://images.brickset.com/sets/images/76044-1.jpg\", 2], [455, \"Taylor\", \"Bruder\", 56, \"409-555-7986\", 24718, \"10819\", \"Duplo\", \"NaN\", 2018, \"My First Garden\", 25.0, 19.99, \"http://images.brickset.com/sets/images/10819-1.jpg\", 2], [456, \"Taylor\", \"Bruder\", 56, \"409-555-7986\", 24793, \"75133\", \"Star Wars\", \"Battlefront\", 2018, \"Rebel Alliance Battle Pack\", 101.0, 12.99, \"http://images.brickset.com/sets/images/75133-1.jpg\", 2], [457, \"Keyana\", \"Lafay\", 52, \"786-555-6090\", 25594, \"71011\", \"Collectable Minifigures\", \"Series 15\", 2018, \"LEGO Minifigures - Series 15 - Sealed Box\", NaN, 3.99, \"http://images.brickset.com/sets/images/71011-18.jpg\", 1], [458, \"Keyana\", \"Lafay\", 52, \"786-555-6090\", 24663, \"21027\", \"Architecture\", \"Skylines\", 2018, \"Berlin\", 289.0, 29.99, \"http://images.brickset.com/sets/images/21027-1.jpg\", 1], [459, \"Keyana\", \"Lafay\", 52, \"786-555-6090\", 24919, \"70601\", \"Ninjago\", \"Skybound\", 2018, \"Sky Shark\", 221.0, 19.99, \"http://images.brickset.com/sets/images/70601-1.jpg\", 1], [460, \"Keyana\", \"Lafay\", 52, \"786-555-6090\", 26037, \"41576\", \"Mixels\", \"Series 9\", 2018, \"Spinza\", 60.0, 4.99, \"NaN\", 2], [487, \"Jessa\", \"Stites\", 51, \"NaN\", 24618, \"71238\", \"Dimensions\", \"Fun Pack\", 2018, \"Fun Pack: Cyberman\", 40.0, 14.99, \"http://images.brickset.com/sets/images/71238-1.jpg\", 1], [488, \"Jessa\", \"Stites\", 51, \"NaN\", 24762, \"70330\", \"Nexo Knights\", \"Ultimate\", 2018, \"Ultimate Clay\", 72.0, 9.99, \"http://images.brickset.com/sets/images/70330-1.jpg\", 1], [492, \"Orion\", \"Gates\", 54, \"214-555-0029\", 24769, \"70600\", \"Ninjago\", \"Skybound\", 2018, \"Ninja Bike Chase\", 231.0, 19.99, \"http://images.brickset.com/sets/images/70600-1.jpg\", 4], [493, \"Orion\", \"Gates\", 54, \"214-555-0029\", 25623, \"70592\", \"Ninjago\", \"Rise of the Villains\", 2018, \"Salvage M.E.C.\", 439.0, 39.99, \"http://images.brickset.com/sets/images/70592-1.jpg\", 2], [494, \"Orion\", \"Gates\", 54, \"214-555-0029\", 25624, \"70593\", \"Ninjago\", \"Skybound\", 2018, \"The Green NRG Dragon\", 567.0, 49.99, \"http://images.brickset.com/sets/images/70593-1.jpg\", 1], [523, \"Daniel\", \"Griffey\", 68, \"479-555-3648\", 25631, \"70338\", \"Nexo Knights\", \"Ultimate\", 2018, \"Ultimate General Magmar\", 64.0, 9.99, \"NaN\", 1], [524, \"Daniel\", \"Griffey\", 68, \"479-555-3648\", 24733, \"41118\", \"Friends\", \"NaN\", 2018, \"Heartlake Supermarket\", 313.0, 29.99, \"http://images.brickset.com/sets/images/41118-1.jpg\", 2], [525, \"Daniel\", \"Griffey\", 68, \"479-555-3648\", 24619, \"41560\", \"Mixels\", \"Series 7\", 2018, \"Jamzy\", 70.0, 4.99, \"http://images.brickset.com/sets/images/41560-1.jpg\", 4], [537, \"Ean\", \"Kruse\", 53, \"740-555-8273\", 24918, \"70317\", \"Nexo Knights\", \"NaN\", 2018, \"The Fortrex\", 1140.0, 99.99, \"http://images.brickset.com/sets/images/70317-1.jpg\", 1], [538, \"Ean\", \"Kruse\", 53, \"740-555-8273\", 24898, \"41113\", \"Friends\", \"Party\", 2018, \"Party Gift Shop\", 52.0, 4.99, \"http://images.brickset.com/sets/images/41113-1.jpg\", 1], [540, \"Shelby\", \"Siekmeier\", 56, \"210-555-8934\", 24907, \"42050\", \"Technic\", \"NaN\", 2018, \"Drag Racer\", 647.0, 79.99, \"http://images.brickset.com/sets/images/42050-1.jpg\", 1], [541, \"Shelby\", \"Siekmeier\", 56, \"210-555-8934\", 26058, \"5005059\", \"Gear\", \"Video Games/PS3\", 2018, \"Marvel Avengers PS3 Video Game\", NaN, 49.99, \"http://images.brickset.com/sets/images/5005059-1.jpg\", 1], [546, \"Dylan\", \"Scott\", 53, \"813-555-0271\", 25884, \"853571\", \"Gear\", \"Key Chains/Miscellaneous\", 2018, \"Hot Dog Guy Key Chain\", NaN, 5.99, \"http://images.brickset.com/sets/images/853571-1.jpg\", 1], [547, \"Dylan\", \"Scott\", 53, \"813-555-0271\", 24683, \"60116\", \"City\", \"Medical\", 2018, \"Ambulance Plane\", 183.0, 19.99, \"http://images.brickset.com/sets/images/60116-1.jpg\", 1], [552, \"Angel\", \"Payne\", 62, \"NaN\", 25605, \"75146\", \"Star Wars\", \"Seasonal\", 2018, \"Star Wars Advent Calendar\", 282.0, 39.99, \"http://images.brickset.com/sets/images/75146-1.jpg\", 4], [553, \"Angel\", \"Payne\", 62, \"NaN\", 24793, \"75133\", \"Star Wars\", \"Battlefront\", 2018, \"Rebel Alliance Battle Pack\", 101.0, 12.99, \"http://images.brickset.com/sets/images/75133-1.jpg\", 1], [594, \"Dustin\", \"Vanvuuren\", 51, \"812-555-1009\", 24709, \"10803\", \"Duplo\", \"NaN\", 2018, \"Arctic\", 40.0, 29.99, \"http://images.brickset.com/sets/images/10803-1.jpg\", 2], [595, \"Dustin\", \"Vanvuuren\", 51, \"812-555-1009\", 24807, \"71235\", \"Dimensions\", \"Level Pack\", 2018, \"Level Pack: Midway Arcade\", 96.0, 29.99, \"http://images.brickset.com/sets/images/71235-1.jpg\", 1], [596, \"Dustin\", \"Vanvuuren\", 51, \"812-555-1009\", 25920, \"75151\", \"Star Wars\", \"Episode III\", 2018, \"Clone Turbo Tank\", 903.0, 109.99, \"http://images.brickset.com/sets/images/75151-1.jpg\", 1]];\n",
       "\n",
       "        // Define the dt_args\n",
       "        let dt_args = {\"layout\": {\"topStart\": \"pageLength\", \"topEnd\": \"search\", \"bottomStart\": \"info\", \"bottomEnd\": \"paging\"}, \"order\": []};\n",
       "        dt_args[\"data\"] = data;\n",
       "\n",
       "        \n",
       "        new DataTable(table, dt_args);\n",
       "    });\n",
       "</script>\n"
      ],
      "text/plain": [
       "<IPython.core.display.HTML object>"
      ]
     },
     "metadata": {},
     "output_type": "display_data"
    }
   ],
   "source": [
    "mask51 = (DF['age']>= 51)\n",
    "DF51 = DF[mask51]\n",
    "show(DF51)"
   ]
  },
  {
   "cell_type": "code",
   "execution_count": 487,
   "id": "cd4398ed-12a3-4e60-abf8-3100c98bec5f",
   "metadata": {},
   "outputs": [
    {
     "data": {
      "text/plain": [
       "(30, 14)"
      ]
     },
     "execution_count": 487,
     "metadata": {},
     "output_type": "execute_result"
    }
   ],
   "source": [
    "DFunder18.shape"
   ]
  },
  {
   "cell_type": "code",
   "execution_count": 488,
   "id": "db1af66c-4910-4e17-b70c-4cc646cb9dab",
   "metadata": {},
   "outputs": [
    {
     "data": {
      "text/plain": [
       "(129, 14)"
      ]
     },
     "execution_count": 488,
     "metadata": {},
     "output_type": "execute_result"
    }
   ],
   "source": [
    "DF19_25.shape"
   ]
  },
  {
   "cell_type": "code",
   "execution_count": 489,
   "id": "4b094836-c36b-475d-9b1f-e9ddee6ea268",
   "metadata": {},
   "outputs": [
    {
     "data": {
      "text/plain": [
       "(183, 14)"
      ]
     },
     "execution_count": 489,
     "metadata": {},
     "output_type": "execute_result"
    }
   ],
   "source": [
    "DF26_35.shape"
   ]
  },
  {
   "cell_type": "code",
   "execution_count": 490,
   "id": "4c53025e-f53f-4702-a9a8-0a8a7e5e2e5a",
   "metadata": {},
   "outputs": [
    {
     "data": {
      "text/plain": [
       "(216, 14)"
      ]
     },
     "execution_count": 490,
     "metadata": {},
     "output_type": "execute_result"
    }
   ],
   "source": [
    "DF36_50.shape"
   ]
  },
  {
   "cell_type": "code",
   "execution_count": 491,
   "id": "2e1fe71f-5148-4e7f-9f91-b6d2353b336a",
   "metadata": {},
   "outputs": [
    {
     "data": {
      "text/plain": [
       "(62, 14)"
      ]
     },
     "execution_count": 491,
     "metadata": {},
     "output_type": "execute_result"
    }
   ],
   "source": [
    "DF51.shape"
   ]
  },
  {
   "cell_type": "markdown",
   "id": "f047330c-0d99-4381-86df-1a9738d99d02",
   "metadata": {},
   "source": [
    "6. Which age group has purchased the highest number of Lego sets.\n",
    "\n",
    "Ages 36-50 purchased the highest number of Lego sets (216 purchases)"
   ]
  },
  {
   "cell_type": "code",
   "execution_count": 493,
   "id": "c793a271-2de2-4e2a-9a14-f2a12a04ad42",
   "metadata": {},
   "outputs": [
    {
     "data": {
      "text/plain": [
       "641.7"
      ]
     },
     "execution_count": 493,
     "metadata": {},
     "output_type": "execute_result"
    }
   ],
   "source": [
    "DFunder18['us_price'].sum()"
   ]
  },
  {
   "cell_type": "code",
   "execution_count": 494,
   "id": "a0764577-8818-4740-a4e2-430fecf61d76",
   "metadata": {},
   "outputs": [
    {
     "data": {
      "text/plain": [
       "3629.710000000001"
      ]
     },
     "execution_count": 494,
     "metadata": {},
     "output_type": "execute_result"
    }
   ],
   "source": [
    "DF19_25['us_price'].sum()"
   ]
  },
  {
   "cell_type": "code",
   "execution_count": 495,
   "id": "14a67ad3-9347-4283-9f6d-488b96511452",
   "metadata": {},
   "outputs": [
    {
     "data": {
      "text/plain": [
       "5260.169999999998"
      ]
     },
     "execution_count": 495,
     "metadata": {},
     "output_type": "execute_result"
    }
   ],
   "source": [
    "DF26_35['us_price'].sum()"
   ]
  },
  {
   "cell_type": "code",
   "execution_count": 496,
   "id": "df40cfd1-b09e-4fbc-8830-445e3b98b25d",
   "metadata": {},
   "outputs": [
    {
     "data": {
      "text/plain": [
       "6641.84"
      ]
     },
     "execution_count": 496,
     "metadata": {},
     "output_type": "execute_result"
    }
   ],
   "source": [
    "DF36_50['us_price'].sum()"
   ]
  },
  {
   "cell_type": "code",
   "execution_count": 497,
   "id": "acf2b11c-7ff8-475e-a4fe-1e3ccf200809",
   "metadata": {},
   "outputs": [
    {
     "data": {
      "text/plain": [
       "1832.38"
      ]
     },
     "execution_count": 497,
     "metadata": {},
     "output_type": "execute_result"
    }
   ],
   "source": [
    "DF51['us_price'].sum()"
   ]
  },
  {
   "cell_type": "markdown",
   "id": "5e1e827a-ff92-448e-93e6-b992e29d2050",
   "metadata": {},
   "source": [
    "7. Which age group has spent the most money on Legos?\n",
    "\n",
    "Ages 36-50 spent the most money on Legos ($6641.84 in total)"
   ]
  },
  {
   "cell_type": "code",
   "execution_count": 499,
   "id": "76bd0f08-69b3-4ae2-8741-4772d53e6552",
   "metadata": {},
   "outputs": [
    {
     "data": {
      "text/html": [
       "<div>\n",
       "<style scoped>\n",
       "    .dataframe tbody tr th:only-of-type {\n",
       "        vertical-align: middle;\n",
       "    }\n",
       "\n",
       "    .dataframe tbody tr th {\n",
       "        vertical-align: top;\n",
       "    }\n",
       "\n",
       "    .dataframe thead th {\n",
       "        text-align: right;\n",
       "    }\n",
       "</style>\n",
       "<table border=\"1\" class=\"dataframe\">\n",
       "  <thead>\n",
       "    <tr style=\"text-align: right;\">\n",
       "      <th></th>\n",
       "      <th>theme</th>\n",
       "      <th>us_price</th>\n",
       "    </tr>\n",
       "    <tr>\n",
       "      <th>theme</th>\n",
       "      <th></th>\n",
       "      <th></th>\n",
       "    </tr>\n",
       "  </thead>\n",
       "  <tbody>\n",
       "    <tr>\n",
       "      <th>Advanced Models</th>\n",
       "      <td>Advanced ModelsAdvanced ModelsAdvanced ModelsA...</td>\n",
       "      <td>679.96</td>\n",
       "    </tr>\n",
       "    <tr>\n",
       "      <th>Architecture</th>\n",
       "      <td>ArchitectureArchitectureArchitectureArchitectu...</td>\n",
       "      <td>389.90</td>\n",
       "    </tr>\n",
       "    <tr>\n",
       "      <th>Bionicle</th>\n",
       "      <td>BionicleBionicleBionicleBionicleBionicleBionic...</td>\n",
       "      <td>549.66</td>\n",
       "    </tr>\n",
       "    <tr>\n",
       "      <th>City</th>\n",
       "      <td>CityCityCityCityCityCityCityCityCityCityCityCi...</td>\n",
       "      <td>1476.55</td>\n",
       "    </tr>\n",
       "    <tr>\n",
       "      <th>Classic</th>\n",
       "      <td>Classic</td>\n",
       "      <td>29.99</td>\n",
       "    </tr>\n",
       "    <tr>\n",
       "      <th>Collectable Minifigures</th>\n",
       "      <td>Collectable MinifiguresCollectable Minifigures...</td>\n",
       "      <td>11.97</td>\n",
       "    </tr>\n",
       "    <tr>\n",
       "      <th>Creator</th>\n",
       "      <td>CreatorCreatorCreatorCreatorCreatorCreatorCrea...</td>\n",
       "      <td>409.75</td>\n",
       "    </tr>\n",
       "    <tr>\n",
       "      <th>DC Comics Super Heroes</th>\n",
       "      <td>DC Comics Super HeroesDC Comics Super HeroesDC...</td>\n",
       "      <td>450.78</td>\n",
       "    </tr>\n",
       "    <tr>\n",
       "      <th>Dimensions</th>\n",
       "      <td>DimensionsDimensionsDimensionsDimensionsDimens...</td>\n",
       "      <td>369.82</td>\n",
       "    </tr>\n",
       "    <tr>\n",
       "      <th>Disney Princess</th>\n",
       "      <td>Disney PrincessDisney PrincessDisney PrincessD...</td>\n",
       "      <td>167.85</td>\n",
       "    </tr>\n",
       "    <tr>\n",
       "      <th>Duplo</th>\n",
       "      <td>DuploDuploDuploDuploDuploDuploDuploDuploDuploD...</td>\n",
       "      <td>854.65</td>\n",
       "    </tr>\n",
       "    <tr>\n",
       "      <th>Elves</th>\n",
       "      <td>ElvesElvesElvesElvesElvesElvesElvesElvesElvesE...</td>\n",
       "      <td>809.78</td>\n",
       "    </tr>\n",
       "    <tr>\n",
       "      <th>Friends</th>\n",
       "      <td>FriendsFriendsFriendsFriendsFriendsFriendsFrie...</td>\n",
       "      <td>924.58</td>\n",
       "    </tr>\n",
       "    <tr>\n",
       "      <th>Gear</th>\n",
       "      <td>GearGearGearGearGearGearGearGearGearGearGearGe...</td>\n",
       "      <td>1056.45</td>\n",
       "    </tr>\n",
       "    <tr>\n",
       "      <th>Ghostbusters</th>\n",
       "      <td>GhostbustersGhostbustersGhostbusters</td>\n",
       "      <td>469.97</td>\n",
       "    </tr>\n",
       "    <tr>\n",
       "      <th>Ideas</th>\n",
       "      <td>IdeasIdeas</td>\n",
       "      <td>139.98</td>\n",
       "    </tr>\n",
       "    <tr>\n",
       "      <th>Marvel Super Heroes</th>\n",
       "      <td>Marvel Super HeroesMarvel Super HeroesMarvel S...</td>\n",
       "      <td>539.81</td>\n",
       "    </tr>\n",
       "    <tr>\n",
       "      <th>Minecraft</th>\n",
       "      <td>MinecraftMinecraftMinecraftMinecraftMinecraftM...</td>\n",
       "      <td>1439.91</td>\n",
       "    </tr>\n",
       "    <tr>\n",
       "      <th>Mixels</th>\n",
       "      <td>MixelsMixelsMixelsMixelsMixelsMixelsMixelsMixe...</td>\n",
       "      <td>274.45</td>\n",
       "    </tr>\n",
       "    <tr>\n",
       "      <th>Nexo Knights</th>\n",
       "      <td>Nexo KnightsNexo KnightsNexo KnightsNexo Knigh...</td>\n",
       "      <td>1569.36</td>\n",
       "    </tr>\n",
       "    <tr>\n",
       "      <th>Ninjago</th>\n",
       "      <td>NinjagoNinjagoNinjagoNinjagoNinjagoNinjagoNinj...</td>\n",
       "      <td>1649.62</td>\n",
       "    </tr>\n",
       "    <tr>\n",
       "      <th>Seasonal</th>\n",
       "      <td>SeasonalSeasonalSeasonal</td>\n",
       "      <td>29.97</td>\n",
       "    </tr>\n",
       "    <tr>\n",
       "      <th>Star Wars</th>\n",
       "      <td>Star WarsStar WarsStar WarsStar WarsStar WarsS...</td>\n",
       "      <td>2842.25</td>\n",
       "    </tr>\n",
       "    <tr>\n",
       "      <th>Technic</th>\n",
       "      <td>TechnicTechnicTechnicTechnicTechnicTechnicTech...</td>\n",
       "      <td>492.90</td>\n",
       "    </tr>\n",
       "    <tr>\n",
       "      <th>The Angry Birds Movie</th>\n",
       "      <td>The Angry Birds MovieThe Angry Birds MovieThe ...</td>\n",
       "      <td>375.89</td>\n",
       "    </tr>\n",
       "  </tbody>\n",
       "</table>\n",
       "</div>"
      ],
      "text/plain": [
       "                                                                     theme  \\\n",
       "theme                                                                        \n",
       "Advanced Models          Advanced ModelsAdvanced ModelsAdvanced ModelsA...   \n",
       "Architecture             ArchitectureArchitectureArchitectureArchitectu...   \n",
       "Bionicle                 BionicleBionicleBionicleBionicleBionicleBionic...   \n",
       "City                     CityCityCityCityCityCityCityCityCityCityCityCi...   \n",
       "Classic                                                            Classic   \n",
       "Collectable Minifigures  Collectable MinifiguresCollectable Minifigures...   \n",
       "Creator                  CreatorCreatorCreatorCreatorCreatorCreatorCrea...   \n",
       "DC Comics Super Heroes   DC Comics Super HeroesDC Comics Super HeroesDC...   \n",
       "Dimensions               DimensionsDimensionsDimensionsDimensionsDimens...   \n",
       "Disney Princess          Disney PrincessDisney PrincessDisney PrincessD...   \n",
       "Duplo                    DuploDuploDuploDuploDuploDuploDuploDuploDuploD...   \n",
       "Elves                    ElvesElvesElvesElvesElvesElvesElvesElvesElvesE...   \n",
       "Friends                  FriendsFriendsFriendsFriendsFriendsFriendsFrie...   \n",
       "Gear                     GearGearGearGearGearGearGearGearGearGearGearGe...   \n",
       "Ghostbusters                          GhostbustersGhostbustersGhostbusters   \n",
       "Ideas                                                           IdeasIdeas   \n",
       "Marvel Super Heroes      Marvel Super HeroesMarvel Super HeroesMarvel S...   \n",
       "Minecraft                MinecraftMinecraftMinecraftMinecraftMinecraftM...   \n",
       "Mixels                   MixelsMixelsMixelsMixelsMixelsMixelsMixelsMixe...   \n",
       "Nexo Knights             Nexo KnightsNexo KnightsNexo KnightsNexo Knigh...   \n",
       "Ninjago                  NinjagoNinjagoNinjagoNinjagoNinjagoNinjagoNinj...   \n",
       "Seasonal                                          SeasonalSeasonalSeasonal   \n",
       "Star Wars                Star WarsStar WarsStar WarsStar WarsStar WarsS...   \n",
       "Technic                  TechnicTechnicTechnicTechnicTechnicTechnicTech...   \n",
       "The Angry Birds Movie    The Angry Birds MovieThe Angry Birds MovieThe ...   \n",
       "\n",
       "                         us_price  \n",
       "theme                              \n",
       "Advanced Models            679.96  \n",
       "Architecture               389.90  \n",
       "Bionicle                   549.66  \n",
       "City                      1476.55  \n",
       "Classic                     29.99  \n",
       "Collectable Minifigures     11.97  \n",
       "Creator                    409.75  \n",
       "DC Comics Super Heroes     450.78  \n",
       "Dimensions                 369.82  \n",
       "Disney Princess            167.85  \n",
       "Duplo                      854.65  \n",
       "Elves                      809.78  \n",
       "Friends                    924.58  \n",
       "Gear                      1056.45  \n",
       "Ghostbusters               469.97  \n",
       "Ideas                      139.98  \n",
       "Marvel Super Heroes        539.81  \n",
       "Minecraft                 1439.91  \n",
       "Mixels                     274.45  \n",
       "Nexo Knights              1569.36  \n",
       "Ninjago                   1649.62  \n",
       "Seasonal                    29.97  \n",
       "Star Wars                 2842.25  \n",
       "Technic                    492.90  \n",
       "The Angry Birds Movie      375.89  "
      ]
     },
     "execution_count": 499,
     "metadata": {},
     "output_type": "execute_result"
    }
   ],
   "source": [
    "my_columns = ['theme','us_price']\n",
    "DF.groupby(by=['theme'])[my_columns].sum()"
   ]
  },
  {
   "cell_type": "markdown",
   "id": "757b076a-da41-4167-8120-c6d42fbfdae8",
   "metadata": {},
   "source": [
    "8. Which Lego theme has made the most money for Lego? HINT: Simpler than #5, just use a groupby()\n",
    "\n",
    "Star Wars made the most money for Lego."
   ]
  },
  {
   "cell_type": "markdown",
   "id": "3985df58-2fad-4893-923b-cd88c3aa3932",
   "metadata": {},
   "source": [
    "9. Which area code has spent the most money on Legos? In the US the area code is the first 3 digits of a phone number. HINT: You will need to split the phone number and get just the first three. You decided what to do about reporting the NaNs."
   ]
  },
  {
   "cell_type": "code",
   "execution_count": 502,
   "id": "e0f84754-22e4-4ec4-a5a4-8c2d74a8da28",
   "metadata": {},
   "outputs": [
    {
     "data": {
      "text/html": [
       "<table id=\"itables_258cf91a_6ed4_4833_b0d1_0c06f6ca08c6\" class=\"display nowrap\" data-quarto-disable-processing=\"true\" style=\"table-layout:auto;width:auto;margin:auto;caption-side:bottom\">\n",
       "<thead>\n",
       "    <tr style=\"text-align: right;\">\n",
       "      \n",
       "      <th>first_name</th>\n",
       "      <th>last_name</th>\n",
       "      <th>age</th>\n",
       "      <th>phone_number</th>\n",
       "      <th>set_id</th>\n",
       "      <th>number</th>\n",
       "      <th>theme</th>\n",
       "      <th>subtheme</th>\n",
       "      <th>year</th>\n",
       "      <th>name</th>\n",
       "      <th>pieces</th>\n",
       "      <th>us_price</th>\n",
       "      <th>image_url</th>\n",
       "      <th>quantity</th>\n",
       "    </tr>\n",
       "  </thead><tbody><tr>\n",
       "<td style=\"vertical-align:middle; text-align:left\">\n",
       "<div style=\"float:left; margin-right: 10px;\">\n",
       "<a href=https://mwouts.github.io/itables/><svg class=\"main-svg\" xmlns=\"http://www.w3.org/2000/svg\" xmlns:xlink=\"http://www.w3.org/1999/xlink\"\n",
       "width=\"64\" viewBox=\"0 0 500 400\" style=\"font-family: 'Droid Sans', sans-serif;\">\n",
       "    <g style=\"fill:#d9d7fc\">\n",
       "        <path d=\"M100,400H500V357H100Z\" />\n",
       "        <path d=\"M100,300H400V257H100Z\" />\n",
       "        <path d=\"M0,200H400V157H0Z\" />\n",
       "        <path d=\"M100,100H500V57H100Z\" />\n",
       "        <path d=\"M100,350H500V307H100Z\" />\n",
       "        <path d=\"M100,250H400V207H100Z\" />\n",
       "        <path d=\"M0,150H400V107H0Z\" />\n",
       "        <path d=\"M100,50H500V7H100Z\" />\n",
       "    </g>\n",
       "    <g style=\"fill:#1a1366;stroke:#1a1366;\">\n",
       "   <rect x=\"100\" y=\"7\" width=\"400\" height=\"43\">\n",
       "    <animate\n",
       "      attributeName=\"width\"\n",
       "      values=\"0;400;0\"\n",
       "      dur=\"5s\"\n",
       "      repeatCount=\"indefinite\" />\n",
       "      <animate\n",
       "      attributeName=\"x\"\n",
       "      values=\"100;100;500\"\n",
       "      dur=\"5s\"\n",
       "      repeatCount=\"indefinite\" />\n",
       "  </rect>\n",
       "        <rect x=\"0\" y=\"107\" width=\"400\" height=\"43\">\n",
       "    <animate\n",
       "      attributeName=\"width\"\n",
       "      values=\"0;400;0\"\n",
       "      dur=\"3.5s\"\n",
       "      repeatCount=\"indefinite\" />\n",
       "    <animate\n",
       "      attributeName=\"x\"\n",
       "      values=\"0;0;400\"\n",
       "      dur=\"3.5s\"\n",
       "      repeatCount=\"indefinite\" />\n",
       "  </rect>\n",
       "        <rect x=\"100\" y=\"207\" width=\"300\" height=\"43\">\n",
       "    <animate\n",
       "      attributeName=\"width\"\n",
       "      values=\"0;300;0\"\n",
       "      dur=\"3s\"\n",
       "      repeatCount=\"indefinite\" />\n",
       "    <animate\n",
       "      attributeName=\"x\"\n",
       "      values=\"100;100;400\"\n",
       "      dur=\"3s\"\n",
       "      repeatCount=\"indefinite\" />\n",
       "  </rect>\n",
       "        <rect x=\"100\" y=\"307\" width=\"400\" height=\"43\">\n",
       "    <animate\n",
       "      attributeName=\"width\"\n",
       "      values=\"0;400;0\"\n",
       "      dur=\"4s\"\n",
       "      repeatCount=\"indefinite\" />\n",
       "      <animate\n",
       "      attributeName=\"x\"\n",
       "      values=\"100;100;500\"\n",
       "      dur=\"4s\"\n",
       "      repeatCount=\"indefinite\" />\n",
       "  </rect>\n",
       "        <g style=\"fill:transparent;stroke-width:8; stroke-linejoin:round\" rx=\"5\">\n",
       "            <g transform=\"translate(45 50) rotate(-45)\">\n",
       "                <circle r=\"33\" cx=\"0\" cy=\"0\" />\n",
       "                <rect x=\"-8\" y=\"32\" width=\"16\" height=\"30\" />\n",
       "            </g>\n",
       "\n",
       "            <g transform=\"translate(450 152)\">\n",
       "                <polyline points=\"-15,-20 -35,-20 -35,40 25,40 25,20\" />\n",
       "                <rect x=\"-15\" y=\"-40\" width=\"60\" height=\"60\" />\n",
       "            </g>\n",
       "\n",
       "            <g transform=\"translate(50 352)\">\n",
       "                <polygon points=\"-35,-5 0,-40 35,-5\" />\n",
       "                <polygon points=\"-35,10 0,45 35,10\" />\n",
       "            </g>\n",
       "\n",
       "            <g transform=\"translate(75 250)\">\n",
       "                <polyline points=\"-30,30 -60,0 -30,-30\" />\n",
       "                <polyline points=\"0,30 -30,0 0,-30\" />\n",
       "            </g>\n",
       "\n",
       "            <g transform=\"translate(425 250) rotate(180)\">\n",
       "                <polyline points=\"-30,30 -60,0 -30,-30\" />\n",
       "                <polyline points=\"0,30 -30,0 0,-30\" />\n",
       "            </g>\n",
       "        </g>\n",
       "    </g>\n",
       "</svg>\n",
       "</a>\n",
       "</div>\n",
       "<div>\n",
       "Loading ITables v2.1.4 from the internet...\n",
       "(need <a href=https://mwouts.github.io/itables/troubleshooting.html>help</a>?)</td>\n",
       "</div>\n",
       "</tr></tbody>\n",
       "\n",
       "</table>\n",
       "<link href=\"https://www.unpkg.com/dt_for_itables@2.0.11/dt_bundle.css\" rel=\"stylesheet\">\n",
       "<script type=\"module\">\n",
       "    import {DataTable, jQuery as $} from 'https://www.unpkg.com/dt_for_itables@2.0.11/dt_bundle.js';\n",
       "\n",
       "    document.querySelectorAll(\"#itables_258cf91a_6ed4_4833_b0d1_0c06f6ca08c6:not(.dataTable)\").forEach(table => {\n",
       "        // Define the table data\n",
       "        const data = [[\"Kimberly\", \"Beckstead\", 24, \"216-555-2549\", 24701, \"76062\", \"DC Comics Super Heroes\", \"Mighty Micros\", 2018, \"Robin vs. Bane\", 77.0, 9.99, \"http://images.brickset.com/sets/images/76062-1.jpg\", 1], [\"Neel\", \"Garvin\", 35, \"819-555-3189\", 25626, \"70595\", \"Ninjago\", \"Rise of the Villains\", 2018, \"Ultra Stealth Raider\", 1093.0, 119.99, \"http://images.brickset.com/sets/images/70595-1.jpg\", 1], [\"Neel\", \"Garvin\", 35, \"819-555-3189\", 24665, \"21031\", \"Architecture\", \"NaN\", 2018, \"Burj Khalifa\", 333.0, 39.99, \"http://images.brickset.com/sets/images/21031-1.jpg\", 1], [\"Chelsea\", \"Bouchard\", 41, \"NaN\", 24695, \"31048\", \"Creator\", \"NaN\", 2018, \"Lakeside Lodge\", 368.0, 29.99, \"http://images.brickset.com/sets/images/31048-1.jpg\", 1], [\"Chelsea\", \"Bouchard\", 41, \"NaN\", 25626, \"70595\", \"Ninjago\", \"Rise of the Villains\", 2018, \"Ultra Stealth Raider\", 1093.0, 119.99, \"http://images.brickset.com/sets/images/70595-1.jpg\", 1], [\"Chelsea\", \"Bouchard\", 41, \"NaN\", 24721, \"10831\", \"Duplo\", \"NaN\", 2018, \"My First Caterpillar\", 19.0, 9.99, \"http://images.brickset.com/sets/images/10831-1.jpg\", 1], [\"Bryanna\", \"Welsh\", 19, \"NaN\", 24797, \"75138\", \"Star Wars\", \"Episode V\", 2018, \"Hoth Attack\", 233.0, 24.99, \"http://images.brickset.com/sets/images/75138-1.jpg\", 1], [\"Bryanna\", \"Welsh\", 19, \"NaN\", 24701, \"76062\", \"DC Comics Super Heroes\", \"Mighty Micros\", 2018, \"Robin vs. Bane\", 77.0, 9.99, \"http://images.brickset.com/sets/images/76062-1.jpg\", 3], [\"Caleb\", \"Garcia-Wideman\", 37, \"907-555-9236\", 24730, \"41115\", \"Friends\", \"NaN\", 2018, \"Emma's Creative Workshop\", 108.0, 9.99, \"http://images.brickset.com/sets/images/41115-1.jpg\", 1], [\"Caleb\", \"Garcia-Wideman\", 37, \"907-555-9236\", 25611, \"21127\", \"Minecraft\", \"Minifig-scale\", 2018, \"The Fortress\", NaN, 109.99, \"http://images.brickset.com/sets/images/21127-1.jpg\", 2], [\"Chase\", \"Fortenberry\", 19, \"205-555-3704\", 24707, \"10801\", \"Duplo\", \"NaN\", 2018, \"Baby Animals\", 13.0, 9.99, \"http://images.brickset.com/sets/images/10801-1.jpg\", 1], [\"Chase\", \"Fortenberry\", 19, \"205-555-3704\", 24713, \"10809\", \"Duplo\", \"NaN\", 2018, \"Police Patrol\", 15.0, 14.99, \"http://images.brickset.com/sets/images/10809-1.jpg\", 1], [\"Kevin\", \"Cruz\", 20, \"947-555-7946\", 24767, \"70335\", \"Nexo Knights\", \"Ultimate\", 2018, \"Ultimate Lavaria\", 69.0, 9.99, \"http://images.brickset.com/sets/images/70335-1.jpg\", 2], [\"Connor\", \"Brown\", 36, \"516-555-4310\", 24548, \"71230\", \"Dimensions\", \"Fun Pack\", 2018, \"Fun Pack: Doc Brown\", 69.0, 14.99, \"http://images.brickset.com/sets/images/71230-1.jpg\", 1], [\"Connor\", \"Brown\", 36, \"516-555-4310\", 24913, \"60112\", \"City\", \"Fire\", 2018, \"Fire Engine\", 376.0, 49.99, \"http://images.brickset.com/sets/images/60112-1.jpg\", 1], [\"Connor\", \"Brown\", 36, \"516-555-4310\", 26034, \"41573\", \"Mixels\", \"Series 9\", 2018, \"Sweepz\", 61.0, 4.99, \"NaN\", 1], [\"Toni\", \"Borison\", 40, \"284-555-4560\", 25626, \"70595\", \"Ninjago\", \"Rise of the Villains\", 2018, \"Ultra Stealth Raider\", 1093.0, 119.99, \"http://images.brickset.com/sets/images/70595-1.jpg\", 1], [\"Toni\", \"Borison\", 40, \"284-555-4560\", 24994, \"10251\", \"Advanced Models\", \"Modular Buildings\", 2018, \"Brick Bank\", 2380.0, 169.99, \"http://images.brickset.com/sets/images/10251-1.jpg\", 1], [\"Daniel\", \"Hurst\", 44, \"251-555-0845\", 24903, \"41558\", \"Mixels\", \"Series 7\", 2018, \"Mixadel\", 63.0, 4.99, \"http://images.brickset.com/sets/images/41558-1.jpg\", 1], [\"Daniel\", \"Hurst\", 44, \"251-555-0845\", 24695, \"31048\", \"Creator\", \"NaN\", 2018, \"Lakeside Lodge\", 368.0, 29.99, \"http://images.brickset.com/sets/images/31048-1.jpg\", 1], [\"Judith\", \"Webb\", 39, \"917-555-7417\", 26058, \"5005059\", \"Gear\", \"Video Games/PS3\", 2018, \"Marvel Avengers PS3 Video Game\", NaN, 49.99, \"http://images.brickset.com/sets/images/5005059-1.jpg\", 2], [\"Nicholas\", \"Belfageoua\", 46, \"606-555-4814\", 25881, \"853549\", \"Gear\", \"Key Chains/Friends\", 2018, \"Mia Key Chain\", NaN, 5.99, \"http://images.brickset.com/sets/images/853549-1.jpg\", 1], [\"Nicholas\", \"Belfageoua\", 46, \"606-555-4814\", 25642, \"70327\", \"Nexo Knights\", \"NaN\", 2018, \"The King's Mech\", 375.0, 29.99, \"http://images.brickset.com/sets/images/70327-1.jpg\", 1], [\"Amanda\", \"Tronnier\", 45, \"317-555-7477\", 24959, \"75139\", \"Star Wars\", \"The Force Awakens\", 2018, \"Battle on Takodana\", 409.0, 59.99, \"http://images.brickset.com/sets/images/75139-1.jpg\", 1], [\"Amanda\", \"Tronnier\", 45, \"317-555-7477\", 25887, \"853543\", \"Ninjago\", \"NaN\", 2018, \"Ninjago Party Set\", 70.0, 7.99, \"http://images.brickset.com/sets/images/853543-1.jpg\", 2], [\"Amanda\", \"Tronnier\", 45, \"317-555-7477\", 24685, \"60118\", \"City\", \"Traffic\", 2018, \"Garbage Truck\", 248.0, 19.99, \"http://images.brickset.com/sets/images/60118-1.jpg\", 1], [\"Amanda\", \"Tronnier\", 45, \"317-555-7477\", 25901, \"5004612\", \"Gear\", \"Watches/Clocks\", 2018, \"Lucy Wyldstyle Minifigure Link Watch\", NaN, 24.99, \"http://images.brickset.com/sets/images/5004612-1.jpg\", 1], [\"Jacob\", \"Nzabanita\", 31, \"339-555-2572\", 24732, \"41117\", \"Friends\", \"Pop Star\", 2018, \"Pop Star TV Studio\", 194.0, 19.99, \"http://images.brickset.com/sets/images/41117-1.jpg\", 1], [\"Jacob\", \"Nzabanita\", 31, \"339-555-2572\", 24793, \"75133\", \"Star Wars\", \"Battlefront\", 2018, \"Rebel Alliance Battle Pack\", 101.0, 12.99, \"http://images.brickset.com/sets/images/75133-1.jpg\", 2], [\"Jacob\", \"Nzabanita\", 31, \"339-555-2572\", 24723, \"41172\", \"Elves\", \"NaN\", 2018, \"The Water Dragon Adventure\", 212.0, 19.99, \"http://images.brickset.com/sets/images/41172-1.jpg\", 1], [\"Jacob\", \"Nzabanita\", 31, \"339-555-2572\", 25920, \"75151\", \"Star Wars\", \"Episode III\", 2018, \"Clone Turbo Tank\", 903.0, 109.99, \"http://images.brickset.com/sets/images/75151-1.jpg\", 1], [\"Hannah\", \"Drews Stunkel\", 55, \"339-555-6320\", 25628, \"70590\", \"Ninjago\", \"NaN\", 2018, \"Airjitzu Battle Grounds\", 666.0, 59.99, \"NaN\", 1], [\"Hannah\", \"Drews Stunkel\", 55, \"339-555-6320\", 25624, \"70593\", \"Ninjago\", \"Skybound\", 2018, \"The Green NRG Dragon\", 567.0, 49.99, \"http://images.brickset.com/sets/images/70593-1.jpg\", 3], [\"Hannah\", \"Drews Stunkel\", 55, \"339-555-6320\", 24734, \"41119\", \"Friends\", \"NaN\", 2018, \"Heartlake Cupcake Cafe\", 439.0, 39.99, \"http://images.brickset.com/sets/images/41119-1.jpg\", 1], [\"Erik\", \"Brownrigg\", 44, \"NaN\", 25621, \"70589\", \"Ninjago\", \"Rise of the Villains\", 2018, \"Rock Roader\", 406.0, 39.99, \"http://images.brickset.com/sets/images/70589-1.jpg\", 1], [\"Jackson\", \"Martinez\", 43, \"250-555-1732\", 24669, \"71304\", \"Bionicle\", \"Companions\", 2018, \"Terak - Creature of Earth\", 74.0, 9.99, \"http://images.brickset.com/sets/images/71304-1.jpg\", 1], [\"Jackson\", \"Martinez\", 43, \"250-555-1732\", 24904, \"41559\", \"Mixels\", \"Series 7\", 2018, \"Paladum\", 64.0, 4.99, \"http://images.brickset.com/sets/images/41559-1.jpg\", 2], [\"Jackson\", \"Martinez\", 43, \"250-555-1732\", 24665, \"21031\", \"Architecture\", \"NaN\", 2018, \"Burj Khalifa\", 333.0, 39.99, \"http://images.brickset.com/sets/images/21031-1.jpg\", 3], [\"Riley\", \"Ott\", 51, \"517-555-2093\", 24785, \"75126\", \"Star Wars\", \"MicroFighters\", 2018, \"First Order Snowspeeder\", 91.0, 9.99, \"http://images.brickset.com/sets/images/75126-1.jpg\", 2], [\"Riley\", \"Ott\", 51, \"517-555-2093\", 24772, \"70604\", \"Ninjago\", \"Skybound\", 2018, \"Tiger Widow Island\", 450.0, 49.99, \"http://images.brickset.com/sets/images/70604-1.jpg\", 1], [\"Hector\", \"Collins\", 20, \"340-555-2508\", 24781, \"75116\", \"Star Wars\", \"Buildable Figures\", 2018, \"Finn\", 98.0, 24.99, \"http://images.brickset.com/sets/images/75116-1.jpg\", 1], [\"Hector\", \"Collins\", 20, \"340-555-2508\", 24723, \"41172\", \"Elves\", \"NaN\", 2018, \"The Water Dragon Adventure\", 212.0, 19.99, \"http://images.brickset.com/sets/images/41172-1.jpg\", 1], [\"Hector\", \"Collins\", 20, \"340-555-2508\", 24627, \"75098\", \"Star Wars\", \"Ultimate Collector Series\", 2018, \"Assault on Hoth\", 2144.0, 249.99, \"http://images.brickset.com/sets/images/75098-1.jpg\", 1], [\"Mckenzie\", \"Cherry\", 37, \"336-555-9269\", 25878, \"853505\", \"Gear\", \"Role-Play toys\", 2018, \"NK Sword Standard\", NaN, 9.99, \"http://images.brickset.com/sets/images/853505-1.jpg\", 1], [\"Michelle\", \"Uguccioni\", 17, \"NaN\", 24756, \"70310\", \"Nexo Knights\", \"NaN\", 2018, \"Knighton Battle Blaster\", 76.0, 9.99, \"http://images.brickset.com/sets/images/70310-1.jpg\", 1], [\"Michelle\", \"Uguccioni\", 17, \"NaN\", 24896, \"31046\", \"Creator\", \"NaN\", 2018, \"Fast Car\", 222.0, 19.99, \"http://images.brickset.com/sets/images/31046-1.jpg\", 1], [\"Rebecca\", \"Duval\", 48, \"908-555-4029\", 24899, \"41114\", \"Friends\", \"Party\", 2018, \"Party Styling\", 54.0, 4.99, \"http://images.brickset.com/sets/images/41114-1.jpg\", 2], [\"Rebecca\", \"Duval\", 48, \"908-555-4029\", 26034, \"41573\", \"Mixels\", \"Series 9\", 2018, \"Sweepz\", 61.0, 4.99, \"NaN\", 1], [\"Rebecca\", \"Duval\", 48, \"908-555-4029\", 24664, \"21028\", \"Architecture\", \"Skylines\", 2018, \"New York City\", 598.0, 59.99, \"http://images.brickset.com/sets/images/21028-1.jpg\", 2], [\"Katherine\", \"Hogue\", 27, \"289-555-4928\", 25876, \"853555\", \"Gear\", \"Stationery\", 2018, \"Campsite Scrapbook\", NaN, 14.99, \"http://images.brickset.com/sets/images/853555-1.jpg\", 2], [\"Katherine\", \"Hogue\", 27, \"289-555-4928\", 25660, \"75822\", \"The Angry Birds Movie\", \"NaN\", 2018, \"Piggy Plane Attack\", 168.0, 19.99, \"http://images.brickset.com/sets/images/75822-1.jpg\", 1], [\"Adoria\", \"Hammond\", 40, \"712-555-6781\", 24720, \"10830\", \"Duplo\", \"NaN\", 2018, \"Minnie's Caf\\u00e9\", 27.0, 19.99, \"http://images.brickset.com/sets/images/10830-1.jpg\", 1], [\"Amanda\", \"Musick\", 24, \"878-555-7113\", 25916, \"76054\", \"DC Comics Super Heroes\", \"Batman\", 2018, \"Batman: Scarecrow Harvest of Fear\", 563.0, 59.99, \"http://images.brickset.com/sets/images/76054-1.jpg\", 2], [\"Cecilia\", \"Mauro\", 50, \"NaN\", 25921, \"75157\", \"Star Wars\", \"Rebels\", 2018, \"Captain Rex's AT-TE\", 972.0, 119.99, \"http://images.brickset.com/sets/images/75157-1.jpg\", 3], [\"Shina\", \"Hegarty\", 22, \"868-555-1868\", 24737, \"41135\", \"Friends\", \"Pop Star\", 2018, \"Livi's Pop Star House\", 597.0, 49.99, \"http://images.brickset.com/sets/images/41135-1.jpg\", 3], [\"Shina\", \"Hegarty\", 22, \"868-555-1868\", 24706, \"41142\", \"Disney Princess\", \"Palace Pets\", 2018, \"Palace Pets Royal Castle\", 186.0, 19.99, \"http://images.brickset.com/sets/images/41142-1.jpg\", 3], [\"Shina\", \"Hegarty\", 22, \"868-555-1868\", 24664, \"21028\", \"Architecture\", \"Skylines\", 2018, \"New York City\", 598.0, 59.99, \"http://images.brickset.com/sets/images/21028-1.jpg\", 1], [\"Anthony\", \"Kiyotake\", 22, \"980-555-0099\", 25007, \"41568\", \"Mixels\", \"Series 8\", 2018, \"Lewt\", 62.0, 4.99, \"http://images.brickset.com/sets/images/41568-1.jpg\", 1], [\"Anthony\", \"Kiyotake\", 22, \"980-555-0099\", 25883, \"853568\", \"Gear\", \"Key Chains/City\", 2018, \"Prison Guard Key Chain\", NaN, 5.99, \"http://images.brickset.com/sets/images/853568-1.jpg\", 1], [\"Connor\", \"Fourzan\", 32, \"805-555-3065\", 25886, \"853519\", \"Gear\", \"Playmats\", 2018, \"NK Playmat\", NaN, 14.99, \"http://images.brickset.com/sets/images/853519-1.jpg\", 1], [\"Connor\", \"Fourzan\", 32, \"805-555-3065\", 24789, \"75130\", \"Star Wars\", \"MicroFighters\", 2018, \"AT-DP\", 76.0, 9.99, \"http://images.brickset.com/sets/images/75130-1.jpg\", 1], [\"Kayla\", \"Rush\", 25, \"281-555-9341\", 24896, \"31046\", \"Creator\", \"NaN\", 2018, \"Fast Car\", 222.0, 19.99, \"http://images.brickset.com/sets/images/31046-1.jpg\", 1], [\"Kayla\", \"Rush\", 25, \"281-555-9341\", 24750, \"76065\", \"Marvel Super Heroes\", \"Mighty Micros\", 2018, \"Captain America vs. Red Skull\", 95.0, 9.99, \"http://images.brickset.com/sets/images/76065-1.jpg\", 1], [\"Kayla\", \"Rush\", 25, \"281-555-9341\", 25662, \"75824\", \"The Angry Birds Movie\", \"NaN\", 2018, \"Pig City Teardown\", 386.0, 39.99, \"http://images.brickset.com/sets/images/75824-1.jpg\", 1], [\"Lucas\", \"Montoya\", 34, \"616-555-2269\", 24901, \"41555\", \"Mixels\", \"Series 7\", 2018, \"Busto\", 69.0, 4.99, \"http://images.brickset.com/sets/images/41555-1.jpg\", 2], [\"Lucas\", \"Montoya\", 34, \"616-555-2269\", 24899, \"41114\", \"Friends\", \"Party\", 2018, \"Party Styling\", 54.0, 4.99, \"http://images.brickset.com/sets/images/41114-1.jpg\", 2], [\"Lucas\", \"Montoya\", 34, \"616-555-2269\", 24762, \"70330\", \"Nexo Knights\", \"Ultimate\", 2018, \"Ultimate Clay\", 72.0, 9.99, \"http://images.brickset.com/sets/images/70330-1.jpg\", 2], [\"Peggy\", \"Hiner\", 21, \"563-555-1011\", 24734, \"41119\", \"Friends\", \"NaN\", 2018, \"Heartlake Cupcake Cafe\", 439.0, 39.99, \"http://images.brickset.com/sets/images/41119-1.jpg\", 1], [\"Maya\", \"Wolfe\", 33, \"NaN\", 25881, \"853549\", \"Gear\", \"Key Chains/Friends\", 2018, \"Mia Key Chain\", NaN, 5.99, \"http://images.brickset.com/sets/images/853549-1.jpg\", 1], [\"Keno\", \"Graves\", 51, \"209-555-6030\", 25898, \"75145\", \"Star Wars\", \"Original Content\", 2018, \"Eclipse Fighter\", 363.0, 29.99, \"http://images.brickset.com/sets/images/75145-1.jpg\", 1], [\"Lucas\", \"Jimenez-Dominguez\", 18, \"712-555-0459\", 24691, \"31043\", \"Creator\", \"NaN\", 2018, \"Chopper Transporter\", 124.0, 9.99, \"http://images.brickset.com/sets/images/31043-1.jpg\", 2], [\"Lucas\", \"Jimenez-Dominguez\", 18, \"712-555-0459\", 26034, \"41573\", \"Mixels\", \"Series 9\", 2018, \"Sweepz\", 61.0, 4.99, \"NaN\", 1], [\"Lucas\", \"Jimenez-Dominguez\", 18, \"712-555-0459\", 24704, \"41140\", \"Disney Princess\", \"Palace Pets\", 2018, \"Daisy's Beauty Salon\", 98.0, 9.99, \"http://images.brickset.com/sets/images/41140-1.jpg\", 1], [\"Lucas\", \"Jimenez-Dominguez\", 18, \"712-555-0459\", 24903, \"41558\", \"Mixels\", \"Series 7\", 2018, \"Mixadel\", 63.0, 4.99, \"http://images.brickset.com/sets/images/41558-1.jpg\", 2], [\"Lucas\", \"Jimenez-Dominguez\", 18, \"712-555-0459\", 26033, \"41572\", \"Mixels\", \"Series 9\", 2018, \"Gobbol\", 62.0, 4.99, \"NaN\", 1], [\"Jake\", \"Montes Alvarez\", 30, \"603-555-6881\", 25005, \"41566\", \"Mixels\", \"Series 8\", 2018, \"Sharx\", 55.0, 4.99, \"http://images.brickset.com/sets/images/41566-1.jpg\", 1], [\"Jake\", \"Montes Alvarez\", 30, \"603-555-6881\", 24751, \"76066\", \"Marvel Super Heroes\", \"Mighty Micros\", 2018, \"Hulk vs. Ultron\", 80.0, 9.99, \"http://images.brickset.com/sets/images/76066-1.jpg\", 1], [\"Jake\", \"Montes Alvarez\", 30, \"603-555-6881\", 24704, \"41140\", \"Disney Princess\", \"Palace Pets\", 2018, \"Daisy's Beauty Salon\", 98.0, 9.99, \"http://images.brickset.com/sets/images/41140-1.jpg\", 2], [\"Jake\", \"Montes Alvarez\", 30, \"603-555-6881\", 25901, \"5004612\", \"Gear\", \"Watches/Clocks\", 2018, \"Lucy Wyldstyle Minifigure Link Watch\", NaN, 24.99, \"http://images.brickset.com/sets/images/5004612-1.jpg\", 3], [\"Trevon\", \"Thanh\", 25, \"NaN\", 25612, \"21128\", \"Minecraft\", \"Minifig-scale\", 2018, \"The Village\", NaN, 199.99, \"NaN\", 1], [\"John'Dunae\", \"Higgins\", 19, \"813-555-5561\", 24744, \"76046\", \"DC Comics Super Heroes\", \"Batman v Superman: Dawn of Justice\", 2018, \"Heroes of Justice: Sky High Battle\", 517.0, 59.99, \"http://images.brickset.com/sets/images/76046-1.jpg\", 1], [\"Tysen\", \"Banda-Chavez\", 43, \"NaN\", 26059, \"5005060\", \"Gear\", \"Video Games/3DS\", 2018, \"Marvel Avengers Nintendo 3DS Video Game\", NaN, 29.99, \"http://images.brickset.com/sets/images/5005060-1.jpg\", 2], [\"Tysen\", \"Banda-Chavez\", 43, \"NaN\", 25003, \"41564\", \"Mixels\", \"Series 8\", 2018, \"Aquad\", 70.0, 4.99, \"http://images.brickset.com/sets/images/41564-1.jpg\", 1], [\"Tysen\", \"Banda-Chavez\", 43, \"NaN\", 24677, \"60108\", \"City\", \"Fire\", 2018, \"Fire Response Unit\", 257.0, 39.99, \"http://images.brickset.com/sets/images/60108-1.jpg\", 2], [\"Janay\", \"Gienapp\", 63, \"774-555-2102\", 25612, \"21128\", \"Minecraft\", \"Minifig-scale\", 2018, \"The Village\", NaN, 199.99, \"NaN\", 1], [\"Janay\", \"Gienapp\", 63, \"774-555-2102\", 24704, \"41140\", \"Disney Princess\", \"Palace Pets\", 2018, \"Daisy's Beauty Salon\", 98.0, 9.99, \"http://images.brickset.com/sets/images/41140-1.jpg\", 1], [\"Janay\", \"Gienapp\", 63, \"774-555-2102\", 25893, \"30349\", \"City\", \"NaN\", 2018, \"Sports Car\", 47.0, 3.99, \"http://images.brickset.com/sets/images/30349-1.jpg\", 1], [\"Eric\", \"Benally\", 20, \"418-555-3696\", 24761, \"70316\", \"Nexo Knights\", \"NaN\", 2018, \"Jestro's Evil Mobile\", 658.0, 59.99, \"http://images.brickset.com/sets/images/70316-1.jpg\", 1], [\"Eric\", \"Benally\", 20, \"418-555-3696\", 25634, \"70319\", \"Nexo Knights\", \"NaN\", 2018, \"Macy's Thunder Mace\", 202.0, 19.99, \"http://images.brickset.com/sets/images/70319-1.jpg\", 1], [\"Eric\", \"Benally\", 20, \"418-555-3696\", 24900, \"41122\", \"Friends\", \"Adventure Camp\", 2018, \"Adventure Camp Tree House\", 726.0, 79.99, \"http://images.brickset.com/sets/images/41122-1.jpg\", 1], [\"Carson\", \"Aragon\", 38, \"NaN\", 25634, \"70319\", \"Nexo Knights\", \"NaN\", 2018, \"Macy's Thunder Mace\", 202.0, 19.99, \"http://images.brickset.com/sets/images/70319-1.jpg\", 1], [\"Carson\", \"Aragon\", 38, \"NaN\", 25910, \"30347\", \"City\", \"Fire\", 2018, \"Fire Car\", 53.0, 3.99, \"http://images.brickset.com/sets/images/30347-1.jpg\", 1], [\"Samantha\", \"Haberland\", 21, \"705-555-1457\", 25668, \"75828\", \"Ghostbusters\", \"Reboot\", 2018, \"Ghostbusters Ecto-1 & Ecto-2\", NaN, 59.99, \"http://images.brickset.com/sets/images/75828-1.jpg\", 1], [\"Samantha\", \"Haberland\", 21, \"705-555-1457\", 25644, \"71313\", \"Bionicle\", \"Reboot Villains\", 2018, \"Lava Beast\", 114.0, 14.99, \"NaN\", 1], [\"Samantha\", \"Haberland\", 21, \"705-555-1457\", 24764, \"70333\", \"Nexo Knights\", \"Ultimate\", 2018, \"Ultimate Robin\", 75.0, 9.99, \"http://images.brickset.com/sets/images/70333-1.jpg\", 1], [\"Cameron\", \"Rodriguez\", 48, \"325-555-1926\", 25879, \"853534\", \"Gear\", \"Key Chains/Ninjago\", 2018, \"Airjitzu Jay Key Chain\", NaN, 5.99, \"http://images.brickset.com/sets/images/853534-1.jpg\", 1], [\"Cameron\", \"Rodriguez\", 48, \"325-555-1926\", 25910, \"30347\", \"City\", \"Fire\", 2018, \"Fire Car\", 53.0, 3.99, \"http://images.brickset.com/sets/images/30347-1.jpg\", 1], [\"Connor\", \"Padilla\", 36, \"441-555-6534\", 24674, \"71310\", \"Bionicle\", \"Reboot Villains\", 2018, \"Umarak the Hunter\", 172.0, 19.99, \"http://images.brickset.com/sets/images/71310-1.jpg\", 2], [\"Connor\", \"Padilla\", 36, \"441-555-6534\", 24902, \"41556\", \"Mixels\", \"Series 7\", 2018, \"Tiketz\", 62.0, 4.99, \"http://images.brickset.com/sets/images/41556-1.jpg\", 1], [\"Connor\", \"Padilla\", 36, \"441-555-6534\", 24797, \"75138\", \"Star Wars\", \"Episode V\", 2018, \"Hoth Attack\", 233.0, 24.99, \"http://images.brickset.com/sets/images/75138-1.jpg\", 1], [\"Tyrii\", \"Bloom\", 23, \"784-555-7128\", 24759, \"70313\", \"Nexo Knights\", \"NaN\", 2018, \"Moltor's Lava Smasher\", 187.0, 19.99, \"http://images.brickset.com/sets/images/70313-1.jpg\", 1], [\"Tyrii\", \"Bloom\", 23, \"784-555-7128\", 24735, \"41120\", \"Friends\", \"Adventure Camp\", 2018, \"Adventure Camp Archery\", 114.0, 9.99, \"http://images.brickset.com/sets/images/41120-1.jpg\", 1], [\"Tyrii\", \"Bloom\", 23, \"784-555-7128\", 24692, \"31044\", \"Creator\", \"NaN\", 2018, \"Park Animals\", 202.0, 14.99, \"http://images.brickset.com/sets/images/31044-1.jpg\", 1], [\"Tyrii\", \"Bloom\", 23, \"784-555-7128\", 24737, \"41135\", \"Friends\", \"Pop Star\", 2018, \"Livi's Pop Star House\", 597.0, 49.99, \"http://images.brickset.com/sets/images/41135-1.jpg\", 3], [\"Austin\", \"Martinez\", 29, \"NaN\", 24769, \"70600\", \"Ninjago\", \"Skybound\", 2018, \"Ninja Bike Chase\", 231.0, 19.99, \"http://images.brickset.com/sets/images/70600-1.jpg\", 2], [\"Caroline\", \"Holstein\", 38, \"318-555-7894\", 24798, \"75140\", \"Star Wars\", \"The Force Awakens\", 2018, \"Resistance Troop Transporter\", 646.0, 69.99, \"http://images.brickset.com/sets/images/75140-1.jpg\", 1], [\"Caroline\", \"Holstein\", 38, \"318-555-7894\", 24763, \"70331\", \"Nexo Knights\", \"Ultimate\", 2018, \"Ultimate Macy\", 101.0, 9.99, \"http://images.brickset.com/sets/images/70331-1.jpg\", 1], [\"Caroline\", \"Holstein\", 38, \"318-555-7894\", 24678, \"60109\", \"City\", \"Fire\", 2018, \"Fire Boat\", 412.0, 79.99, \"http://images.brickset.com/sets/images/60109-1.jpg\", 1], [\"Caroline\", \"Holstein\", 38, \"318-555-7894\", 24959, \"75139\", \"Star Wars\", \"The Force Awakens\", 2018, \"Battle on Takodana\", 409.0, 59.99, \"http://images.brickset.com/sets/images/75139-1.jpg\", 1], [\"Caroline\", \"Holstein\", 38, \"318-555-7894\", 24699, \"76053\", \"DC Comics Super Heroes\", \"Batman\", 2018, \"Gotham City Cycle Chase\", 224.0, 19.99, \"http://images.brickset.com/sets/images/76053-1.jpg\", 3], [\"Joshua\", \"Long\", 55, \"469-555-6245\", 26056, \"5005057\", \"Gear\", \"Video Games/XBOX 360\", 2018, \"Marvel Avengers XBOX 360 Video Game\", NaN, 49.99, \"http://images.brickset.com/sets/images/5005057-1.jpg\", 1], [\"Joshua\", \"Long\", 55, \"469-555-6245\", 26057, \"5005058\", \"Gear\", \"Video Games/Wii U\", 2018, \"Marvel Avengers Wii U Video Game\", NaN, 49.99, \"http://images.brickset.com/sets/images/5005058-1.jpg\", 1], [\"Binh\", \"Skalla\", 23, \"NaN\", 24685, \"60118\", \"City\", \"Traffic\", 2018, \"Garbage Truck\", 248.0, 19.99, \"http://images.brickset.com/sets/images/60118-1.jpg\", 1], [\"Binh\", \"Skalla\", 23, \"NaN\", 24781, \"75116\", \"Star Wars\", \"Buildable Figures\", 2018, \"Finn\", 98.0, 24.99, \"http://images.brickset.com/sets/images/75116-1.jpg\", 1], [\"Binh\", \"Skalla\", 23, \"NaN\", 24736, \"41121\", \"Friends\", \"Adventure Camp\", 2018, \"Adventure Camp Rafting\", 320.0, 29.99, \"http://images.brickset.com/sets/images/41121-1.jpg\", 1], [\"Nicholas\", \"Scott\", 57, \"418-555-1075\", 24758, \"70312\", \"Nexo Knights\", \"NaN\", 2018, \"Lance's Mecha Horse\", 237.0, 19.99, \"http://images.brickset.com/sets/images/70312-1.jpg\", 1], [\"Nicholas\", \"Scott\", 57, \"418-555-1075\", 25881, \"853549\", \"Gear\", \"Key Chains/Friends\", 2018, \"Mia Key Chain\", NaN, 5.99, \"http://images.brickset.com/sets/images/853549-1.jpg\", 1], [\"Nicholas\", \"Scott\", 57, \"418-555-1075\", 25885, \"853572\", \"Gear\", \"Key Chains/Miscellaneous\", 2018, \"Bumble Bee Key Chain\", NaN, 5.99, \"http://images.brickset.com/sets/images/853572-1.jpg\", 2], [\"Jacob\", \"Barron\", 27, \"319-555-6104\", 24680, \"60113\", \"City\", \"Traffic\", 2018, \"Rally Car\", 104.0, 9.99, \"http://images.brickset.com/sets/images/60113-1.jpg\", 1], [\"Jacob\", \"Barron\", 27, \"319-555-6104\", 24792, \"75134\", \"Star Wars\", \"Battlefront\", 2018, \"Galactic Empire Battle Pack\", 109.0, 12.99, \"http://images.brickset.com/sets/images/75134-1.jpg\", 2], [\"Madeline\", \"Castor\", 39, \"450-555-9877\", 25006, \"41567\", \"Mixels\", \"Series 8\", 2018, \"Skulzy\", 66.0, 4.99, \"http://images.brickset.com/sets/images/41567-1.jpg\", 1], [\"Madeline\", \"Castor\", 39, \"450-555-9877\", 25969, \"76059\", \"Marvel Super Heroes\", \"Ultimate Spider-Man\", 2018, \"Spider-Man: Doc Ock's Tentacle Trap\", 446.0, 39.99, \"http://images.brickset.com/sets/images/76059-1.jpg\", 1], [\"Madeline\", \"Castor\", 39, \"450-555-9877\", 26025, \"41178\", \"Elves\", \"NaN\", 2018, \"The Dragon Sanctuary\", 585.0, 49.99, \"NaN\", 1], [\"Trevor\", \"Perez\", 39, \"878-555-5155\", 24730, \"41115\", \"Friends\", \"NaN\", 2018, \"Emma's Creative Workshop\", 108.0, 9.99, \"http://images.brickset.com/sets/images/41115-1.jpg\", 1], [\"Trevor\", \"Perez\", 39, \"878-555-5155\", 24746, \"76048\", \"Marvel Super Heroes\", \"Avengers Assemble\", 2018, \"Iron Skull Sub Attack\", 335.0, 29.99, \"http://images.brickset.com/sets/images/76048-1.jpg\", 1], [\"Trevor\", \"Perez\", 39, \"878-555-5155\", 24703, \"41069\", \"Disney Princess\", \"Palace Pets\", 2018, \"Treasure's Day at the Pool\", 70.0, 5.99, \"http://images.brickset.com/sets/images/41069-1.jpg\", 1], [\"David\", \"Cabral\", 19, \"415-555-8642\", 24957, \"71309\", \"Bionicle\", \"Toa\", 2018, \"Onua - Uniter of Earth\", 143.0, 19.99, \"http://images.brickset.com/sets/images/71309-1.jpg\", 2], [\"Adam\", \"Albornoz\", 36, \"418-555-2486\", 24907, \"42050\", \"Technic\", \"NaN\", 2018, \"Drag Racer\", 647.0, 79.99, \"http://images.brickset.com/sets/images/42050-1.jpg\", 1], [\"Manuel\", \"Wilkerson\", 23, \"441-555-3652\", 24725, \"41174\", \"Elves\", \"NaN\", 2018, \"The Starlight Inn\", 343.0, 29.99, \"http://images.brickset.com/sets/images/41174-1.jpg\", 1], [\"Manuel\", \"Wilkerson\", 23, \"441-555-3652\", 24751, \"76066\", \"Marvel Super Heroes\", \"Mighty Micros\", 2018, \"Hulk vs. Ultron\", 80.0, 9.99, \"http://images.brickset.com/sets/images/76066-1.jpg\", 1], [\"Manuel\", \"Wilkerson\", 23, \"441-555-3652\", 24768, \"70599\", \"Ninjago\", \"Skybound\", 2018, \"Cole's Dragon\", 98.0, 9.99, \"http://images.brickset.com/sets/images/70599-1.jpg\", 2], [\"Dakota\", \"Klopp\", 33, \"970-555-9320\", 25660, \"75822\", \"The Angry Birds Movie\", \"NaN\", 2018, \"Piggy Plane Attack\", 168.0, 19.99, \"http://images.brickset.com/sets/images/75822-1.jpg\", 1], [\"Dakota\", \"Klopp\", 33, \"970-555-9320\", 24807, \"71235\", \"Dimensions\", \"Level Pack\", 2018, \"Level Pack: Midway Arcade\", 96.0, 29.99, \"http://images.brickset.com/sets/images/71235-1.jpg\", 2], [\"Dakota\", \"Klopp\", 33, \"970-555-9320\", 25006, \"41567\", \"Mixels\", \"Series 8\", 2018, \"Skulzy\", 66.0, 4.99, \"http://images.brickset.com/sets/images/41567-1.jpg\", 2], [\"Aleksandr\", \"Gurrola\", 61, \"508-555-9403\", 25910, \"30347\", \"City\", \"Fire\", 2018, \"Fire Car\", 53.0, 3.99, \"http://images.brickset.com/sets/images/30347-1.jpg\", 1], [\"Michael\", \"Hernandez Muniz\", 62, \"NaN\", 24745, \"76047\", \"Marvel Super Heroes\", \"Captain America: Civil War\", 2018, \"Black Panther Pursuit\", 287.0, 29.99, \"http://images.brickset.com/sets/images/76047-1.jpg\", 2], [\"Xavier\", \"Suazo\", 27, \"321-555-0605\", 24779, \"75114\", \"Star Wars\", \"Buildable Figures\", 2018, \"First Order Stormtrooper\", 81.0, 19.99, \"http://images.brickset.com/sets/images/75114-1.jpg\", 1], [\"Xavier\", \"Suazo\", 27, \"321-555-0605\", 24771, \"70603\", \"Ninjago\", \"Skybound\", 2018, \"Raid Zeppelin\", 294.0, 29.99, \"http://images.brickset.com/sets/images/70603-1.jpg\", 1], [\"Jaime\", \"Rideout\", 26, \"913-555-5139\", 25641, \"70326\", \"Nexo Knights\", \"NaN\", 2018, \"The Black Knight Mech\", 530.0, 39.99, \"NaN\", 2], [\"Jaime\", \"Rideout\", 26, \"913-555-5139\", 24717, \"10818\", \"Duplo\", \"NaN\", 2018, \"My First Truck\", 29.0, 19.99, \"http://images.brickset.com/sets/images/10818-1.jpg\", 2], [\"Jaime\", \"Rideout\", 26, \"913-555-5139\", 24899, \"41114\", \"Friends\", \"Party\", 2018, \"Party Styling\", 54.0, 4.99, \"http://images.brickset.com/sets/images/41114-1.jpg\", 2], [\"Tj\", \"Aguon\", 47, \"862-555-5629\", 24737, \"41135\", \"Friends\", \"Pop Star\", 2018, \"Livi's Pop Star House\", 597.0, 49.99, \"http://images.brickset.com/sets/images/41135-1.jpg\", 1], [\"Tj\", \"Aguon\", 47, \"862-555-5629\", 24894, \"31040\", \"Creator\", \"NaN\", 2018, \"Desert Racers\", 65.0, 4.99, \"http://images.brickset.com/sets/images/31040-1.jpg\", 1], [\"Tj\", \"Aguon\", 47, \"862-555-5629\", 24720, \"10830\", \"Duplo\", \"NaN\", 2018, \"Minnie's Caf\\u00e9\", 27.0, 19.99, \"http://images.brickset.com/sets/images/10830-1.jpg\", 1], [\"Taylor\", \"Allen\", 41, \"760-555-8123\", 25923, \"75147\", \"Star Wars\", \"Original Content\", 2018, \"Star Scavenger\", 558.0, 49.99, \"http://images.brickset.com/sets/images/75147-1.jpg\", 2], [\"Kaitlyn\", \"Degeer\", 24, \"316-555-7890\", 25887, \"853543\", \"Ninjago\", \"NaN\", 2018, \"Ninjago Party Set\", 70.0, 7.99, \"http://images.brickset.com/sets/images/853543-1.jpg\", 1], [\"Kaitlyn\", \"Degeer\", 24, \"316-555-7890\", 24765, \"70332\", \"Nexo Knights\", \"Ultimate\", 2018, \"Ultimate Aaron\", 82.0, 9.99, \"http://images.brickset.com/sets/images/70332-1.jpg\", 2], [\"Kaitlyn\", \"Degeer\", 24, \"316-555-7890\", 26035, \"41574\", \"Mixels\", \"Series 9\", 2018, \"Compax\", 66.0, 4.99, \"NaN\", 1], [\"Kaitlyn\", \"Degeer\", 24, \"316-555-7890\", 24994, \"10251\", \"Advanced Models\", \"Modular Buildings\", 2018, \"Brick Bank\", 2380.0, 169.99, \"http://images.brickset.com/sets/images/10251-1.jpg\", 2], [\"Matthew\", \"Sandoval\", 22, \"671-555-7044\", 25660, \"75822\", \"The Angry Birds Movie\", \"NaN\", 2018, \"Piggy Plane Attack\", 168.0, 19.99, \"http://images.brickset.com/sets/images/75822-1.jpg\", 1], [\"Matthew\", \"Sandoval\", 22, \"671-555-7044\", 25884, \"853571\", \"Gear\", \"Key Chains/Miscellaneous\", 2018, \"Hot Dog Guy Key Chain\", NaN, 5.99, \"http://images.brickset.com/sets/images/853571-1.jpg\", 1], [\"Jordan\", \"West\", 56, \"810-555-1608\", 24898, \"41113\", \"Friends\", \"Party\", 2018, \"Party Gift Shop\", 52.0, 4.99, \"http://images.brickset.com/sets/images/41113-1.jpg\", 1], [\"Jordan\", \"West\", 56, \"810-555-1608\", 24711, \"10807\", \"Duplo\", \"NaN\", 2018, \"Horse Trailer\", 15.0, 19.99, \"http://images.brickset.com/sets/images/10807-1.jpg\", 1], [\"Reyes\", \"Wilson\", 33, \"605-555-2774\", 24903, \"41558\", \"Mixels\", \"Series 7\", 2018, \"Mixadel\", 63.0, 4.99, \"http://images.brickset.com/sets/images/41558-1.jpg\", 1], [\"Reyes\", \"Wilson\", 33, \"605-555-2774\", 24693, \"31045\", \"Creator\", \"NaN\", 2018, \"Ocean Explorer\", 213.0, 14.99, \"http://images.brickset.com/sets/images/31045-1.jpg\", 1], [\"Reyes\", \"Wilson\", 33, \"605-555-2774\", 24793, \"75133\", \"Star Wars\", \"Battlefront\", 2018, \"Rebel Alliance Battle Pack\", 101.0, 12.99, \"http://images.brickset.com/sets/images/75133-1.jpg\", 2], [\"Avery\", \"Leung\", 33, \"330-555-2699\", 24781, \"75116\", \"Star Wars\", \"Buildable Figures\", 2018, \"Finn\", 98.0, 24.99, \"http://images.brickset.com/sets/images/75116-1.jpg\", 1], [\"Avery\", \"Leung\", 33, \"330-555-2699\", 25876, \"853555\", \"Gear\", \"Stationery\", 2018, \"Campsite Scrapbook\", NaN, 14.99, \"http://images.brickset.com/sets/images/853555-1.jpg\", 1], [\"Michael\", \"Williams\", 31, \"936-555-2974\", 24988, \"40202\", \"Seasonal\", \"Easter\", 2018, \"Easter Chick\", 111.0, 9.99, \"NaN\", 1], [\"Michael\", \"Williams\", 31, \"936-555-2974\", 24672, \"71307\", \"Bionicle\", \"Toa\", 2018, \"Gali - Uniter of Water\", 87.0, 14.99, \"http://images.brickset.com/sets/images/71307-1.jpg\", 1], [\"Michael\", \"Williams\", 31, \"936-555-2974\", 24895, \"31041\", \"Creator\", \"NaN\", 2018, \"Construction Vehicles\", 64.0, 4.99, \"http://images.brickset.com/sets/images/31041-1.jpg\", 1], [\"Colleen\", \"Galley\", 31, \"710-555-8843\", 24705, \"41141\", \"Disney Princess\", \"Palace Pets\", 2018, \"Pumpkin's Royal Carriage\", 79.0, 9.99, \"http://images.brickset.com/sets/images/41141-1.jpg\", 2], [\"Colleen\", \"Galley\", 31, \"710-555-8843\", 24976, \"60105\", \"City\", \"Fire\", 2018, \"Fire ATV\", 64.0, 6.99, \"http://images.brickset.com/sets/images/60105-1.jpg\", 1], [\"Colleen\", \"Galley\", 31, \"710-555-8843\", 24956, \"71300\", \"Bionicle\", \"companions\", 2018, \"Uxar - Creature of Jungle\", 89.0, 9.99, \"http://images.brickset.com/sets/images/71300-1.jpg\", 1], [\"Brandilyn\", \"Robertson\", 27, \"724-555-5496\", 24703, \"41069\", \"Disney Princess\", \"Palace Pets\", 2018, \"Treasure's Day at the Pool\", 70.0, 5.99, \"http://images.brickset.com/sets/images/41069-1.jpg\", 1], [\"Brandilyn\", \"Robertson\", 27, \"724-555-5496\", 25886, \"853519\", \"Gear\", \"Playmats\", 2018, \"NK Playmat\", NaN, 14.99, \"http://images.brickset.com/sets/images/853519-1.jpg\", 3], [\"Brandilyn\", \"Robertson\", 27, \"724-555-5496\", 24704, \"41140\", \"Disney Princess\", \"Palace Pets\", 2018, \"Daisy's Beauty Salon\", 98.0, 9.99, \"http://images.brickset.com/sets/images/41140-1.jpg\", 1], [\"Brandilyn\", \"Robertson\", 27, \"724-555-5496\", 25635, \"70320\", \"Nexo Knights\", \"NaN\", 2018, \"Aaron Fox's Aero-Striker V2\", 301.0, 29.99, \"http://images.brickset.com/sets/images/70320-1.jpg\", 1], [\"Brandilyn\", \"Robertson\", 27, \"724-555-5496\", 24745, \"76047\", \"Marvel Super Heroes\", \"Captain America: Civil War\", 2018, \"Black Panther Pursuit\", 287.0, 29.99, \"http://images.brickset.com/sets/images/76047-1.jpg\", 2], [\"Son\", \"Saldanha\", 30, \"507-555-2278\", 25878, \"853505\", \"Gear\", \"Role-Play toys\", 2018, \"NK Sword Standard\", NaN, 9.99, \"http://images.brickset.com/sets/images/853505-1.jpg\", 2], [\"Son\", \"Saldanha\", 30, \"507-555-2278\", 24793, \"75133\", \"Star Wars\", \"Battlefront\", 2018, \"Rebel Alliance Battle Pack\", 101.0, 12.99, \"http://images.brickset.com/sets/images/75133-1.jpg\", 2], [\"Katherine\", \"Beck\", 45, \"209-555-7105\", 24994, \"10251\", \"Advanced Models\", \"Modular Buildings\", 2018, \"Brick Bank\", 2380.0, 169.99, \"http://images.brickset.com/sets/images/10251-1.jpg\", 1], [\"Katherine\", \"Beck\", 45, \"209-555-7105\", 24959, \"75139\", \"Star Wars\", \"The Force Awakens\", 2018, \"Battle on Takodana\", 409.0, 59.99, \"http://images.brickset.com/sets/images/75139-1.jpg\", 1], [\"Katherine\", \"Beck\", 45, \"209-555-7105\", 24758, \"70312\", \"Nexo Knights\", \"NaN\", 2018, \"Lance's Mecha Horse\", 237.0, 19.99, \"http://images.brickset.com/sets/images/70312-1.jpg\", 2], [\"Katherine\", \"Beck\", 45, \"209-555-7105\", 26025, \"41178\", \"Elves\", \"NaN\", 2018, \"The Dragon Sanctuary\", 585.0, 49.99, \"NaN\", 1], [\"Beemnet\", \"Masters\", 41, \"902-555-8429\", 24678, \"60109\", \"City\", \"Fire\", 2018, \"Fire Boat\", 412.0, 79.99, \"http://images.brickset.com/sets/images/60109-1.jpg\", 1], [\"Beemnet\", \"Masters\", 41, \"902-555-8429\", 24794, \"75135\", \"Star Wars\", \"Episode III\", 2018, \"Obi-Wan's Jedi Interceptor\", 215.0, 24.99, \"http://images.brickset.com/sets/images/75135-1.jpg\", 1], [\"Shylynn\", \"Seitz\", 28, \"205-555-7084\", 24756, \"70310\", \"Nexo Knights\", \"NaN\", 2018, \"Knighton Battle Blaster\", 76.0, 9.99, \"http://images.brickset.com/sets/images/70310-1.jpg\", 2], [\"Shylynn\", \"Seitz\", 28, \"205-555-7084\", 24679, \"60111\", \"City\", \"Fire\", 2018, \"Fire Utility Truck\", 368.0, 39.99, \"http://images.brickset.com/sets/images/60111-1.jpg\", 1], [\"Sonny\", \"Smith\", 24, \"246-555-7913\", 24699, \"76053\", \"DC Comics Super Heroes\", \"Batman\", 2018, \"Gotham City Cycle Chase\", 224.0, 19.99, \"http://images.brickset.com/sets/images/76053-1.jpg\", 1], [\"Joshua\", \"Reyes\", 53, \"251-555-5985\", 25605, \"75146\", \"Star Wars\", \"Seasonal\", 2018, \"Star Wars Advent Calendar\", 282.0, 39.99, \"http://images.brickset.com/sets/images/75146-1.jpg\", 2], [\"Joshua\", \"Reyes\", 53, \"251-555-5985\", 24780, \"75115\", \"Star Wars\", \"Buildable Figures\", 2018, \"Poe Dameron\", 102.0, 24.99, \"http://images.brickset.com/sets/images/75115-1.jpg\", 3], [\"Joshua\", \"Reyes\", 53, \"251-555-5985\", 24618, \"71238\", \"Dimensions\", \"Fun Pack\", 2018, \"Fun Pack: Cyberman\", 40.0, 14.99, \"http://images.brickset.com/sets/images/71238-1.jpg\", 1], [\"Asia\", \"Salyer\", 24, \"508-555-0418\", 24751, \"76066\", \"Marvel Super Heroes\", \"Mighty Micros\", 2018, \"Hulk vs. Ultron\", 80.0, 9.99, \"http://images.brickset.com/sets/images/76066-1.jpg\", 3], [\"Neil\", \"Gabel\", 30, \"508-555-5700\", 26056, \"5005057\", \"Gear\", \"Video Games/XBOX 360\", 2018, \"Marvel Avengers XBOX 360 Video Game\", NaN, 49.99, \"http://images.brickset.com/sets/images/5005057-1.jpg\", 2], [\"Neil\", \"Gabel\", 30, \"508-555-5700\", 26058, \"5005059\", \"Gear\", \"Video Games/PS3\", 2018, \"Marvel Avengers PS3 Video Game\", NaN, 49.99, \"http://images.brickset.com/sets/images/5005059-1.jpg\", 1], [\"Neil\", \"Gabel\", 30, \"508-555-5700\", 24672, \"71307\", \"Bionicle\", \"Toa\", 2018, \"Gali - Uniter of Water\", 87.0, 14.99, \"http://images.brickset.com/sets/images/71307-1.jpg\", 1], [\"Chayanne\", \"Williams\", 17, \"869-555-6681\", 24678, \"60109\", \"City\", \"Fire\", 2018, \"Fire Boat\", 412.0, 79.99, \"http://images.brickset.com/sets/images/60109-1.jpg\", 2], [\"Chayanne\", \"Williams\", 17, \"869-555-6681\", 24697, \"76044\", \"DC Comics Super Heroes\", \"Batman v Superman: Dawn of Justice\", 2018, \"Clash of the Heroes\", 92.0, 12.99, \"http://images.brickset.com/sets/images/76044-1.jpg\", 1], [\"Demetri\", \"Do\", 21, \"541-555-1433\", 24665, \"21031\", \"Architecture\", \"NaN\", 2018, \"Burj Khalifa\", 333.0, 39.99, \"http://images.brickset.com/sets/images/21031-1.jpg\", 1], [\"Demetri\", \"Do\", 21, \"541-555-1433\", 25620, \"70588\", \"Ninjago\", \"Rise of the Villains\", 2018, \"Titanium Ninja Tumbler \", 342.0, 29.99, \"NaN\", 4], [\"Demetri\", \"Do\", 21, \"541-555-1433\", 24917, \"70314\", \"Nexo Knights\", \"NaN\", 2018, \"Beast Master's Chaos Chariot\", 314.0, 29.99, \"http://images.brickset.com/sets/images/70314-1.jpg\", 2], [\"Demetri\", \"Do\", 21, \"541-555-1433\", 24794, \"75135\", \"Star Wars\", \"Episode III\", 2018, \"Obi-Wan's Jedi Interceptor\", 215.0, 24.99, \"http://images.brickset.com/sets/images/75135-1.jpg\", 1], [\"Brittany\", \"Mclellan\", 25, \"210-555-0265\", 24662, \"21026\", \"Architecture\", \"Skylines\", 2018, \"Venice\", 212.0, 29.99, \"http://images.brickset.com/sets/images/21026-1.jpg\", 2], [\"Brittany\", \"Mclellan\", 25, \"210-555-0265\", 24717, \"10818\", \"Duplo\", \"NaN\", 2018, \"My First Truck\", 29.0, 19.99, \"http://images.brickset.com/sets/images/10818-1.jpg\", 1], [\"Joseph\", \"Ross\", 33, \"254-555-7628\", 24794, \"75135\", \"Star Wars\", \"Episode III\", 2018, \"Obi-Wan's Jedi Interceptor\", 215.0, 24.99, \"http://images.brickset.com/sets/images/75135-1.jpg\", 4], [\"Joseph\", \"Ross\", 33, \"254-555-7628\", 24684, \"60117\", \"City\", \"Traffic\", 2018, \"Van & Caravan\", 250.0, 19.99, \"http://images.brickset.com/sets/images/60117-1.jpg\", 2], [\"Paige\", \"Wagner\", 35, \"860-555-1618\", 26038, \"41577\", \"Mixels\", \"Series 9\", 2018, \"Mysto\", 64.0, 4.99, \"NaN\", 1], [\"Paige\", \"Wagner\", 35, \"860-555-1618\", 24727, \"41176\", \"Elves\", \"NaN\", 2018, \"The Secret Market Place\", 691.0, 59.99, \"http://images.brickset.com/sets/images/41176-1.jpg\", 3], [\"Paige\", \"Wagner\", 35, \"860-555-1618\", 24957, \"71309\", \"Bionicle\", \"Toa\", 2018, \"Onua - Uniter of Earth\", 143.0, 19.99, \"http://images.brickset.com/sets/images/71309-1.jpg\", 1], [\"Paige\", \"Wagner\", 35, \"860-555-1618\", 24798, \"75140\", \"Star Wars\", \"The Force Awakens\", 2018, \"Resistance Troop Transporter\", 646.0, 69.99, \"http://images.brickset.com/sets/images/75140-1.jpg\", 1], [\"Daianaira\", \"Joseph\", 26, \"714-555-9762\", 25594, \"71011\", \"Collectable Minifigures\", \"Series 15\", 2018, \"LEGO Minifigures - Series 15 - Sealed Box\", NaN, 3.99, \"http://images.brickset.com/sets/images/71011-18.jpg\", 1], [\"Daianaira\", \"Joseph\", 26, \"714-555-9762\", 26058, \"5005059\", \"Gear\", \"Video Games/PS3\", 2018, \"Marvel Avengers PS3 Video Game\", NaN, 49.99, \"http://images.brickset.com/sets/images/5005059-1.jpg\", 1], [\"Sean\", \"Cordova\", 43, \"881-555-7280\", 25004, \"41565\", \"Mixels\", \"Series 8\", 2018, \"Hydro\", 70.0, 4.99, \"http://images.brickset.com/sets/images/41565-1.jpg\", 5], [\"Sean\", \"Cordova\", 43, \"881-555-7280\", 25656, \"10804\", \"Duplo\", \"NaN\", 2018, \"Jungle\", 86.0, 49.99, \"http://images.brickset.com/sets/images/10804-1.jpg\", 1], [\"Amber\", \"Terwilliger\", 35, \"626-555-5321\", 24733, \"41118\", \"Friends\", \"NaN\", 2018, \"Heartlake Supermarket\", 313.0, 29.99, \"http://images.brickset.com/sets/images/41118-1.jpg\", 2], [\"Amber\", \"Terwilliger\", 35, \"626-555-5321\", 25611, \"21127\", \"Minecraft\", \"Minifig-scale\", 2018, \"The Fortress\", NaN, 109.99, \"http://images.brickset.com/sets/images/21127-1.jpg\", 1], [\"Katie\", \"Evering\", 37, \"882-555-7296\", 24659, \"71228\", \"Dimensions\", \"Level Pack\", 2018, \"Level Pack: Ghostbusters\", 115.0, 29.99, \"http://images.brickset.com/sets/images/71228-1.jpg\", 1], [\"Katie\", \"Evering\", 37, \"882-555-7296\", 26040, \"41579\", \"Mixels\", \"Series 9\", 2018, \"Camsta\", 62.0, 4.99, \"NaN\", 2], [\"Katie\", \"Evering\", 37, \"882-555-7296\", 25659, \"75821\", \"The Angry Birds Movie\", \"NaN\", 2018, \"Piggy Car Escape\", 74.0, 12.99, \"http://images.brickset.com/sets/images/75821-1.jpg\", 2], [\"Katie\", \"Evering\", 37, \"882-555-7296\", 24765, \"70332\", \"Nexo Knights\", \"Ultimate\", 2018, \"Ultimate Aaron\", 82.0, 9.99, \"http://images.brickset.com/sets/images/70332-1.jpg\", 2], [\"Nerea\", \"Feldman\", 28, \"423-555-9631\", 24805, \"42049\", \"Technic\", \"NaN\", 2018, \"Mine Loader\", 476.0, 49.99, \"http://images.brickset.com/sets/images/42049-1.jpg\", 2], [\"Nerea\", \"Feldman\", 28, \"423-555-9631\", 25921, \"75157\", \"Star Wars\", \"Rebels\", 2018, \"Captain Rex's AT-TE\", 972.0, 119.99, \"http://images.brickset.com/sets/images/75157-1.jpg\", 2], [\"Julianna\", \"Stephens\", 34, \"403-555-9991\", 24692, \"31044\", \"Creator\", \"NaN\", 2018, \"Park Animals\", 202.0, 14.99, \"http://images.brickset.com/sets/images/31044-1.jpg\", 1], [\"Julianna\", \"Stephens\", 34, \"403-555-9991\", 24797, \"75138\", \"Star Wars\", \"Episode V\", 2018, \"Hoth Attack\", 233.0, 24.99, \"http://images.brickset.com/sets/images/75138-1.jpg\", 1], [\"Katrina\", \"Clyman\", 32, \"604-555-3882\", 24689, \"60129\", \"City\", \"Police\", 2018, \"Police Patrol Boat\", 200.0, 49.99, \"http://images.brickset.com/sets/images/60129-1.jpg\", 1], [\"Katrina\", \"Clyman\", 32, \"604-555-3882\", 24663, \"21027\", \"Architecture\", \"Skylines\", 2018, \"Berlin\", 289.0, 29.99, \"http://images.brickset.com/sets/images/21027-1.jpg\", 1], [\"Ramon\", \"Walker-Reese\", 23, \"NaN\", 24796, \"75137\", \"Star Wars\", \"Episode V\", 2018, \"Carbon-Freezing Chamber\", 231.0, 24.99, \"http://images.brickset.com/sets/images/75137-1.jpg\", 1], [\"Ramon\", \"Walker-Reese\", 23, \"NaN\", 25633, \"70318\", \"Nexo Knights\", \"NaN\", 2018, \"The Glob Lobber\", 95.0, 9.99, \"http://images.brickset.com/sets/images/70318-1.jpg\", 1], [\"Brandon\", \"Lopez\", 21, \"606-555-3903\", 24713, \"10809\", \"Duplo\", \"NaN\", 2018, \"Police Patrol\", 15.0, 14.99, \"http://images.brickset.com/sets/images/10809-1.jpg\", 1], [\"Brandon\", \"Lopez\", 21, \"606-555-3903\", 24660, \"71241\", \"Dimensions\", \"Fun Pack\", 2018, \"Fun Pack: Slimer\", 33.0, 14.99, \"http://images.brickset.com/sets/images/71241-1.jpg\", 1], [\"Sagi\", \"Heredia\", 19, \"989-555-3671\", 24898, \"41113\", \"Friends\", \"Party\", 2018, \"Party Gift Shop\", 52.0, 4.99, \"http://images.brickset.com/sets/images/41113-1.jpg\", 3], [\"Sagi\", \"Heredia\", 19, \"989-555-3671\", 25640, \"70325\", \"Nexo Knights\", \"NaN\", 2018, \"Infernox captures the Queen\", 253.0, 24.99, \"http://images.brickset.com/sets/images/70325-1.jpg\", 1], [\"Michael\", \"Cruz\", 17, \"361-555-8212\", 24723, \"41172\", \"Elves\", \"NaN\", 2018, \"The Water Dragon Adventure\", 212.0, 19.99, \"http://images.brickset.com/sets/images/41172-1.jpg\", 1], [\"Michael\", \"Cruz\", 17, \"361-555-8212\", 24618, \"71238\", \"Dimensions\", \"Fun Pack\", 2018, \"Fun Pack: Cyberman\", 40.0, 14.99, \"http://images.brickset.com/sets/images/71238-1.jpg\", 1], [\"Michael\", \"Cruz\", 17, \"361-555-8212\", 24920, \"70605\", \"Ninjago\", \"Skybound\", 2018, \"Misfortune's Keep\", 754.0, 79.99, \"http://images.brickset.com/sets/images/70605-1.jpg\", 1], [\"Melissa\", \"Holmberg\", 36, \"NaN\", 24791, \"75132\", \"Star Wars\", \"The Force Awakens\", 2018, \"First Order Battle Pack\", 88.0, 12.99, \"http://images.brickset.com/sets/images/75132-1.jpg\", 1], [\"Cody\", \"Gonzales\", 44, \"973-555-3236\", 24908, \"42052\", \"Technic\", \"NaN\", 2018, \"Heavy Lift Helicopter\", 1042.0, 139.99, \"http://images.brickset.com/sets/images/42052-1.jpg\", 1], [\"Cody\", \"Gonzales\", 44, \"973-555-3236\", 25922, \"75149\", \"Star Wars\", \"The Force Awakens\", 2018, \"Resistance X-wing Fighter\", 740.0, 79.99, \"http://images.brickset.com/sets/images/75149-1.jpg\", 3], [\"Jessie\", \"Barron\", 37, \"918-555-7552\", 24696, \"31050\", \"Creator\", \"NaN\", 2018, \"Corner Deli\", 467.0, 39.99, \"http://images.brickset.com/sets/images/31050-1.jpg\", 1], [\"Jessie\", \"Barron\", 37, \"918-555-7552\", 24730, \"41115\", \"Friends\", \"NaN\", 2018, \"Emma's Creative Workshop\", 108.0, 9.99, \"http://images.brickset.com/sets/images/41115-1.jpg\", 1], [\"Jackson\", \"Roybal\", 26, \"NaN\", 26036, \"41575\", \"Mixels\", \"Series 9\", 2018, \"Cobrax\", 64.0, 4.99, \"NaN\", 1], [\"Jackson\", \"Roybal\", 26, \"NaN\", 24700, \"76061\", \"DC Comics Super Heroes\", \"Mighty Micros\", 2018, \"Batman vs. Catwoman\", 79.0, 9.99, \"http://images.brickset.com/sets/images/76061-1.jpg\", 1], [\"Jackson\", \"Roybal\", 26, \"NaN\", 24695, \"31048\", \"Creator\", \"NaN\", 2018, \"Lakeside Lodge\", 368.0, 29.99, \"http://images.brickset.com/sets/images/31048-1.jpg\", 1], [\"Kelsey\", \"Schiffner\", 37, \"510-555-5847\", 24919, \"70601\", \"Ninjago\", \"Skybound\", 2018, \"Sky Shark\", 221.0, 19.99, \"http://images.brickset.com/sets/images/70601-1.jpg\", 2], [\"Kelsey\", \"Schiffner\", 37, \"510-555-5847\", 24756, \"70310\", \"Nexo Knights\", \"NaN\", 2018, \"Knighton Battle Blaster\", 76.0, 9.99, \"http://images.brickset.com/sets/images/70310-1.jpg\", 1], [\"Kalynne\", \"Kerth\", 46, \"361-555-5328\", 24976, \"60105\", \"City\", \"Fire\", 2018, \"Fire ATV\", 64.0, 6.99, \"http://images.brickset.com/sets/images/60105-1.jpg\", 1], [\"Kalynne\", \"Kerth\", 46, \"361-555-5328\", 25641, \"70326\", \"Nexo Knights\", \"NaN\", 2018, \"The Black Knight Mech\", 530.0, 39.99, \"NaN\", 1], [\"John Jay\", \"Griego\", 50, \"710-555-8921\", 24552, \"71229\", \"Dimensions\", \"Team Pack\", 2018, \"Team Pack: Joker and Harley Quinn\", 92.0, 24.99, \"http://images.brickset.com/sets/images/71229-1.jpg\", 2], [\"John Jay\", \"Griego\", 50, \"710-555-8921\", 24795, \"75136\", \"Star Wars\", \"Episode IV\", 2018, \"Droid Escape Pod\", 197.0, 24.99, \"http://images.brickset.com/sets/images/75136-1.jpg\", 1], [\"Kareena\", \"Hagar\", 23, \"678-555-3786\", 25663, \"75825\", \"The Angry Birds Movie\", \"NaN\", 2018, \"Piggy Pirate Ship\", 620.0, 59.99, \"http://images.brickset.com/sets/images/75825-1.jpg\", 1], [\"Celia\", \"Foley\", 42, \"NaN\", 24670, \"71305\", \"Bionicle\", \"Toa\", 2018, \"Lewa - Uniter of Jungle\", 79.0, 14.99, \"http://images.brickset.com/sets/images/71305-1.jpg\", 1], [\"Celia\", \"Foley\", 42, \"NaN\", 24734, \"41119\", \"Friends\", \"NaN\", 2018, \"Heartlake Cupcake Cafe\", 439.0, 39.99, \"http://images.brickset.com/sets/images/41119-1.jpg\", 1], [\"Celia\", \"Foley\", 42, \"NaN\", 25645, \"71314\", \"Bionicle\", \"Reboot Villains\", 2018, \"Storm Beast\", 109.0, 14.99, \"NaN\", 3], [\"Celia\", \"Foley\", 42, \"NaN\", 25605, \"75146\", \"Star Wars\", \"Seasonal\", 2018, \"Star Wars Advent Calendar\", 282.0, 39.99, \"http://images.brickset.com/sets/images/75146-1.jpg\", 2], [\"Celia\", \"Foley\", 42, \"NaN\", 25612, \"21128\", \"Minecraft\", \"Minifig-scale\", 2018, \"The Village\", NaN, 199.99, \"NaN\", 1], [\"Alyssa\", \"Gorrell\", 38, \"867-555-7840\", 24683, \"60116\", \"City\", \"Medical\", 2018, \"Ambulance Plane\", 183.0, 19.99, \"http://images.brickset.com/sets/images/60116-1.jpg\", 2], [\"Alyssa\", \"Gorrell\", 38, \"867-555-7840\", 25880, \"853548\", \"Gear\", \"Key Chains/Friends\", 2018, \"Andrea Key Chain\", NaN, 5.99, \"http://images.brickset.com/sets/images/853548-1.jpg\", 1], [\"Alyssa\", \"Gorrell\", 38, \"867-555-7840\", 24659, \"71228\", \"Dimensions\", \"Level Pack\", 2018, \"Level Pack: Ghostbusters\", 115.0, 29.99, \"http://images.brickset.com/sets/images/71228-1.jpg\", 1], [\"Tian\", \"Nelson\", 38, \"205-555-7773\", 25634, \"70319\", \"Nexo Knights\", \"NaN\", 2018, \"Macy's Thunder Mace\", 202.0, 19.99, \"http://images.brickset.com/sets/images/70319-1.jpg\", 4], [\"Tian\", \"Nelson\", 38, \"205-555-7773\", 25647, \"71316\", \"Bionicle\", \"Reboot Villains\", 2018, \"Umarak the Destroyer\", 191.0, 24.99, \"NaN\", 1], [\"Tian\", \"Nelson\", 38, \"205-555-7773\", 26060, \"5005051\", \"Gear\", \"Digital Media\", 2018, \"Friends of Heartlake City Girlz 4 Life\", NaN, 19.99, \"NaN\", 1], [\"Elizabeth\", \"Kendrick\", 35, \"816-555-5138\", 25630, \"70337\", \"Nexo Knights\", \"Ultimate\", 2018, \"Ultimate Lance\", 75.0, 9.99, \"NaN\", 1], [\"Elizabeth\", \"Kendrick\", 35, \"816-555-5138\", 24735, \"41120\", \"Friends\", \"Adventure Camp\", 2018, \"Adventure Camp Archery\", 114.0, 9.99, \"http://images.brickset.com/sets/images/41120-1.jpg\", 1], [\"Van\", \"Rapp\", 51, \"413-555-0987\", 25632, \"70339\", \"Nexo Knights\", \"Ultimate\", 2018, \"Ultimate Flama\", 67.0, 9.99, \"NaN\", 2], [\"Sofia\", \"Szloboda\", 46, \"602-555-2267\", 24906, \"41562\", \"Mixels\", \"Series 7\", 2018, \"Trumpsy\", 54.0, 4.99, \"http://images.brickset.com/sets/images/41562-1.jpg\", 2], [\"Sofia\", \"Szloboda\", 46, \"602-555-2267\", 24704, \"41140\", \"Disney Princess\", \"Palace Pets\", 2018, \"Daisy's Beauty Salon\", 98.0, 9.99, \"http://images.brickset.com/sets/images/41140-1.jpg\", 2], [\"Abigayle\", \"Hosman\", 34, \"604-555-7100\", 24710, \"10806\", \"Duplo\", \"NaN\", 2018, \"Horses\", 20.0, 14.99, \"http://images.brickset.com/sets/images/10806-1.jpg\", 1], [\"Abigayle\", \"Hosman\", 34, \"604-555-7100\", 25630, \"70337\", \"Nexo Knights\", \"Ultimate\", 2018, \"Ultimate Lance\", 75.0, 9.99, \"NaN\", 1], [\"Joseph\", \"Brown\", 50, \"801-555-2112\", 24704, \"41140\", \"Disney Princess\", \"Palace Pets\", 2018, \"Daisy's Beauty Salon\", 98.0, 9.99, \"http://images.brickset.com/sets/images/41140-1.jpg\", 1], [\"Joseph\", \"Brown\", 50, \"801-555-2112\", 25851, \"B0189OU0JY\", \"Gear\", \"Digital media\", 2018, \"LEGO Star Wars: Droid Tales\", NaN, 19.99, \"http://images.brickset.com/sets/images/B0189OU0JY-1.jpg\", 1], [\"Joseph\", \"Brown\", 50, \"801-555-2112\", 25910, \"30347\", \"City\", \"Fire\", 2018, \"Fire Car\", 53.0, 3.99, \"http://images.brickset.com/sets/images/30347-1.jpg\", 2], [\"Joseph\", \"Brown\", 50, \"801-555-2112\", 25657, \"76051\", \"Marvel Super Heroes\", \"Captain America: Civil War\", 2018, \"Super Hero Airport Battle\", 807.0, 79.99, \"http://images.brickset.com/sets/images/76051-1.jpg\", 2], [\"Austin\", \"Atencio\", 30, \"225-555-7391\", 25659, \"75821\", \"The Angry Birds Movie\", \"NaN\", 2018, \"Piggy Car Escape\", 74.0, 12.99, \"http://images.brickset.com/sets/images/75821-1.jpg\", 1], [\"Austin\", \"Atencio\", 30, \"225-555-7391\", 24804, \"42048\", \"Technic\", \"NaN\", 2018, \"Race Kart\", 345.0, 29.99, \"http://images.brickset.com/sets/images/42048-1.jpg\", 2], [\"Austin\", \"Atencio\", 30, \"225-555-7391\", 26041, \"41580\", \"Mixels\", \"Series 9\", 2018, \"Myke\", 63.0, 4.99, \"NaN\", 1], [\"Austin\", \"Atencio\", 30, \"225-555-7391\", 24704, \"41140\", \"Disney Princess\", \"Palace Pets\", 2018, \"Daisy's Beauty Salon\", 98.0, 9.99, \"http://images.brickset.com/sets/images/41140-1.jpg\", 1], [\"Brenden\", \"Trujillo\", 31, \"928-555-1076\", 25658, \"21305\", \"Ideas\", \"NaN\", 2018, \"Maze\", 769.0, 69.99, \"NaN\", 1], [\"Darian\", \"Smith\", 24, \"830-555-6006\", 26036, \"41575\", \"Mixels\", \"Series 9\", 2018, \"Cobrax\", 64.0, 4.99, \"NaN\", 1], [\"Elizabeth\", \"Roemmich\", 32, \"502-555-4381\", 24994, \"10251\", \"Advanced Models\", \"Modular Buildings\", 2018, \"Brick Bank\", 2380.0, 169.99, \"http://images.brickset.com/sets/images/10251-1.jpg\", 1], [\"Elizabeth\", \"Roemmich\", 32, \"502-555-4381\", 25657, \"76051\", \"Marvel Super Heroes\", \"Captain America: Civil War\", 2018, \"Super Hero Airport Battle\", 807.0, 79.99, \"http://images.brickset.com/sets/images/76051-1.jpg\", 1], [\"Lady\", \"Brown\", 21, \"856-555-0798\", 24723, \"41172\", \"Elves\", \"NaN\", 2018, \"The Water Dragon Adventure\", 212.0, 19.99, \"http://images.brickset.com/sets/images/41172-1.jpg\", 1], [\"Lady\", \"Brown\", 21, \"856-555-0798\", 24666, \"71301\", \"Bionicle\", \"Companions\", 2018, \"Ketar - Creature of Stone\", 80.0, 9.99, \"http://images.brickset.com/sets/images/71301-1.jpg\", 1], [\"Lady\", \"Brown\", 21, \"856-555-0798\", 24733, \"41118\", \"Friends\", \"NaN\", 2018, \"Heartlake Supermarket\", 313.0, 29.99, \"http://images.brickset.com/sets/images/41118-1.jpg\", 1], [\"Lady\", \"Brown\", 21, \"856-555-0798\", 24758, \"70312\", \"Nexo Knights\", \"NaN\", 2018, \"Lance's Mecha Horse\", 237.0, 19.99, \"http://images.brickset.com/sets/images/70312-1.jpg\", 1], [\"Sarah\", \"Wagner\", 20, \"NaN\", 24898, \"41113\", \"Friends\", \"Party\", 2018, \"Party Gift Shop\", 52.0, 4.99, \"http://images.brickset.com/sets/images/41113-1.jpg\", 1], [\"Sarah\", \"Wagner\", 20, \"NaN\", 24671, \"71306\", \"Bionicle\", \"Toa\", 2018, \"Pohatu - Uniter of Stone\", 90.0, 14.99, \"http://images.brickset.com/sets/images/71306-1.jpg\", 1], [\"Sarah\", \"Wagner\", 20, \"NaN\", 26026, \"41179\", \"Elves\", \"NaN\", 2018, \"Queen Dragon's Rescue\", 833.0, 69.99, \"NaN\", 1], [\"Sarah\", \"Wagner\", 20, \"NaN\", 24720, \"10830\", \"Duplo\", \"NaN\", 2018, \"Minnie's Caf\\u00e9\", 27.0, 19.99, \"http://images.brickset.com/sets/images/10830-1.jpg\", 1], [\"Sarah\", \"Wagner\", 20, \"NaN\", 24725, \"41174\", \"Elves\", \"NaN\", 2018, \"The Starlight Inn\", 343.0, 29.99, \"http://images.brickset.com/sets/images/41174-1.jpg\", 1], [\"Spencer\", \"Pasillas\", 44, \"865-555-3503\", 24625, \"41066\", \"Disney Princess\", \"Frozen\", 2018, \"Anna & Kristoff's Sleigh Adventure\", 174.0, 29.99, \"http://images.brickset.com/sets/images/41066-1.jpg\", 1], [\"Spencer\", \"Pasillas\", 44, \"865-555-3503\", 24716, \"10817\", \"Duplo\", \"NaN\", 2018, \"Creative Chest\", 70.0, 29.99, \"http://images.brickset.com/sets/images/10817-1.jpg\", 1], [\"Spencer\", \"Pasillas\", 44, \"865-555-3503\", 24891, \"10815\", \"Duplo\", \"NaN\", 2018, \"My First Rocket\", 18.0, 9.99, \"http://images.brickset.com/sets/images/10815-1.jpg\", 1], [\"Spencer\", \"Pasillas\", 44, \"865-555-3503\", 24756, \"70310\", \"Nexo Knights\", \"NaN\", 2018, \"Knighton Battle Blaster\", 76.0, 9.99, \"http://images.brickset.com/sets/images/70310-1.jpg\", 1], [\"Steven\", \"Washington\", 16, \"336-555-1433\", 25910, \"30347\", \"City\", \"Fire\", 2018, \"Fire Car\", 53.0, 3.99, \"http://images.brickset.com/sets/images/30347-1.jpg\", 1], [\"Steven\", \"Washington\", 16, \"336-555-1433\", 25893, \"30349\", \"City\", \"NaN\", 2018, \"Sports Car\", 47.0, 3.99, \"http://images.brickset.com/sets/images/30349-1.jpg\", 5], [\"Serena\", \"Bartkowiak\", 16, \"305-555-2377\", 24806, \"71311\", \"Bionicle\", \"Miscellaneous\", 2018, \"Kopaka and Melum - Unity set\", 171.0, 24.99, \"http://images.brickset.com/sets/images/71311-1.jpg\", 2], [\"Serena\", \"Bartkowiak\", 16, \"305-555-2377\", 24778, \"75113\", \"Star Wars\", \"Buildable Figures\", 2018, \"Rey\", 84.0, 19.99, \"http://images.brickset.com/sets/images/75113-1.jpg\", 1], [\"Serena\", \"Bartkowiak\", 16, \"305-555-2377\", 24987, \"40201\", \"Seasonal\", \"Valentine's Day\", 2018, \"Valentine's Cupid Dog\", 150.0, 9.99, \"http://images.brickset.com/sets/images/40201-1.jpg\", 1], [\"Alejandre\", \"Baek\", 26, \"616-555-9268\", 24771, \"70603\", \"Ninjago\", \"Skybound\", 2018, \"Raid Zeppelin\", 294.0, 29.99, \"http://images.brickset.com/sets/images/70603-1.jpg\", 2], [\"Billlie\", \"Benson\", 50, \"940-555-2729\", 24719, \"10829\", \"Duplo\", \"Mickey Mouse Clubhouse\", 2018, \"Mickey's Workshop\", 18.0, 19.99, \"http://images.brickset.com/sets/images/10829-1.jpg\", 1], [\"Billlie\", \"Benson\", 50, \"940-555-2729\", 25879, \"853534\", \"Gear\", \"Key Chains/Ninjago\", 2018, \"Airjitzu Jay Key Chain\", NaN, 5.99, \"http://images.brickset.com/sets/images/853534-1.jpg\", 1], [\"Marisa\", \"Beck\", 37, \"580-555-3417\", 25622, \"70591\", \"Ninjago\", \"Skybound\", 2018, \"Kryptarium Prison Breakout\", 207.0, 19.99, \"http://images.brickset.com/sets/images/70591-1.jpg\", 1], [\"Ramses\", \"Ackah Yensu\", 38, \"909-555-0851\", 24796, \"75137\", \"Star Wars\", \"Episode V\", 2018, \"Carbon-Freezing Chamber\", 231.0, 24.99, \"http://images.brickset.com/sets/images/75137-1.jpg\", 2], [\"Christian\", \"Ortiviz Madrid\", 41, \"434-555-8176\", 24781, \"75116\", \"Star Wars\", \"Buildable Figures\", 2018, \"Finn\", 98.0, 24.99, \"http://images.brickset.com/sets/images/75116-1.jpg\", 3], [\"Christian\", \"Ortiviz Madrid\", 41, \"434-555-8176\", 25630, \"70337\", \"Nexo Knights\", \"Ultimate\", 2018, \"Ultimate Lance\", 75.0, 9.99, \"NaN\", 1], [\"Christian\", \"Ortiviz Madrid\", 41, \"434-555-8176\", 24729, \"41111\", \"Friends\", \"Party\", 2018, \"Party Train\", 109.0, 9.99, \"http://images.brickset.com/sets/images/41111-1.jpg\", 1], [\"Christian\", \"Ortiviz Madrid\", 41, \"434-555-8176\", 24766, \"70334\", \"Nexo Knights\", \"Ultimate\", 2018, \"Ultimate Beast Master\", 65.0, 9.99, \"http://images.brickset.com/sets/images/70334-1.jpg\", 2], [\"Jeffrey\", \"Cervantes\", 61, \"859-555-4454\", 24919, \"70601\", \"Ninjago\", \"Skybound\", 2018, \"Sky Shark\", 221.0, 19.99, \"http://images.brickset.com/sets/images/70601-1.jpg\", 1], [\"Jeffrey\", \"Cervantes\", 61, \"859-555-4454\", 24784, \"75125\", \"Star Wars\", \"MicroFighters\", 2018, \"Resistance X-wing Fighter\", 87.0, 9.99, \"http://images.brickset.com/sets/images/75125-1.jpg\", 1], [\"Jeffrey\", \"Cervantes\", 61, \"859-555-4454\", 24733, \"41118\", \"Friends\", \"NaN\", 2018, \"Heartlake Supermarket\", 313.0, 29.99, \"http://images.brickset.com/sets/images/41118-1.jpg\", 1], [\"Jeffrey\", \"Cervantes\", 61, \"859-555-4454\", 24689, \"60129\", \"City\", \"Police\", 2018, \"Police Patrol Boat\", 200.0, 49.99, \"http://images.brickset.com/sets/images/60129-1.jpg\", 1], [\"Meagan\", \"Burke\", 22, \"316-555-5143\", 24769, \"70600\", \"Ninjago\", \"Skybound\", 2018, \"Ninja Bike Chase\", 231.0, 19.99, \"http://images.brickset.com/sets/images/70600-1.jpg\", 1], [\"Meagan\", \"Burke\", 22, \"316-555-5143\", 24705, \"41141\", \"Disney Princess\", \"Palace Pets\", 2018, \"Pumpkin's Royal Carriage\", 79.0, 9.99, \"http://images.brickset.com/sets/images/41141-1.jpg\", 1], [\"Meagan\", \"Burke\", 22, \"316-555-5143\", 24668, \"71303\", \"Bionicle\", \"Companions\", 2018, \"Ikir - Creature of Fire\", 77.0, 9.99, \"http://images.brickset.com/sets/images/71303-1.jpg\", 1], [\"Meagan\", \"Burke\", 22, \"316-555-5143\", 25901, \"5004612\", \"Gear\", \"Watches/Clocks\", 2018, \"Lucy Wyldstyle Minifigure Link Watch\", NaN, 24.99, \"http://images.brickset.com/sets/images/5004612-1.jpg\", 1], [\"Dakotah\", \"Baca\", 30, \"979-555-1121\", 25611, \"21127\", \"Minecraft\", \"Minifig-scale\", 2018, \"The Fortress\", NaN, 109.99, \"http://images.brickset.com/sets/images/21127-1.jpg\", 1], [\"Dakotah\", \"Baca\", 30, \"979-555-1121\", 24689, \"60129\", \"City\", \"Police\", 2018, \"Police Patrol Boat\", 200.0, 49.99, \"http://images.brickset.com/sets/images/60129-1.jpg\", 1], [\"Elaine\", \"Richa\", 37, \"246-555-8048\", 24759, \"70313\", \"Nexo Knights\", \"NaN\", 2018, \"Moltor's Lava Smasher\", 187.0, 19.99, \"http://images.brickset.com/sets/images/70313-1.jpg\", 2], [\"Chisa\", \"Pomeroy\", 39, \"617-555-1805\", 24788, \"75129\", \"Star Wars\", \"MicroFighters\", 2018, \"Wookiee Gunship\", 84.0, 9.99, \"http://images.brickset.com/sets/images/75129-1.jpg\", 1], [\"Chisa\", \"Pomeroy\", 39, \"617-555-1805\", 25901, \"5004612\", \"Gear\", \"Watches/Clocks\", 2018, \"Lucy Wyldstyle Minifigure Link Watch\", NaN, 24.99, \"http://images.brickset.com/sets/images/5004612-1.jpg\", 2], [\"Trevor\", \"Calderon-Nava\", 47, \"778-555-6609\", 24746, \"76048\", \"Marvel Super Heroes\", \"Avengers Assemble\", 2018, \"Iron Skull Sub Attack\", 335.0, 29.99, \"http://images.brickset.com/sets/images/76048-1.jpg\", 3], [\"Trevor\", \"Calderon-Nava\", 47, \"778-555-6609\", 24727, \"41176\", \"Elves\", \"NaN\", 2018, \"The Secret Market Place\", 691.0, 59.99, \"http://images.brickset.com/sets/images/41176-1.jpg\", 1], [\"Senay\", \"Hildreth\", 30, \"607-555-8247\", 24895, \"31041\", \"Creator\", \"NaN\", 2018, \"Construction Vehicles\", 64.0, 4.99, \"http://images.brickset.com/sets/images/31041-1.jpg\", 3], [\"Senay\", \"Hildreth\", 30, \"607-555-8247\", 24798, \"75140\", \"Star Wars\", \"The Force Awakens\", 2018, \"Resistance Troop Transporter\", 646.0, 69.99, \"http://images.brickset.com/sets/images/75140-1.jpg\", 2], [\"Senay\", \"Hildreth\", 30, \"607-555-8247\", 25642, \"70327\", \"Nexo Knights\", \"NaN\", 2018, \"The King's Mech\", 375.0, 29.99, \"http://images.brickset.com/sets/images/70327-1.jpg\", 1], [\"Senay\", \"Hildreth\", 30, \"607-555-8247\", 24957, \"71309\", \"Bionicle\", \"Toa\", 2018, \"Onua - Uniter of Earth\", 143.0, 19.99, \"http://images.brickset.com/sets/images/71309-1.jpg\", 2], [\"Shadae\", \"Chidel\", 20, \"406-555-0853\", 24661, \"71233\", \"Dimensions\", \"Fun Pack\", 2018, \"Fun Pack: Stay Puft\", 65.0, 14.99, \"http://images.brickset.com/sets/images/71233-1.jpg\", 2], [\"Shadae\", \"Chidel\", 20, \"406-555-0853\", 24705, \"41141\", \"Disney Princess\", \"Palace Pets\", 2018, \"Pumpkin's Royal Carriage\", 79.0, 9.99, \"http://images.brickset.com/sets/images/41141-1.jpg\", 1], [\"Vanessa\", \"Mantey\", 42, \"NaN\", 24621, \"41557\", \"Mixels\", \"Series 7\", 2018, \"Camillot\", 64.0, 4.99, \"http://images.brickset.com/sets/images/41557-1.jpg\", 1], [\"Vanessa\", \"Mantey\", 42, \"NaN\", 24696, \"31050\", \"Creator\", \"NaN\", 2018, \"Corner Deli\", 467.0, 39.99, \"http://images.brickset.com/sets/images/31050-1.jpg\", 2], [\"Vanessa\", \"Mantey\", 42, \"NaN\", 24747, \"76049\", \"Marvel Super Heroes\", \"Avengers Assemble\", 2018, \"Avenjet Space Mission\", 523.0, 59.99, \"http://images.brickset.com/sets/images/76049-1.jpg\", 1], [\"Vanessa\", \"Mantey\", 42, \"NaN\", 24728, \"41110\", \"Friends\", \"Party\", 2018, \"Birthday Party\", 191.0, 19.99, \"http://images.brickset.com/sets/images/41110-1.jpg\", 1], [\"Mitchell\", \"Olivo\", 41, \"345-555-9053\", 26037, \"41576\", \"Mixels\", \"Series 9\", 2018, \"Spinza\", 60.0, 4.99, \"NaN\", 1], [\"Mitchell\", \"Olivo\", 41, \"345-555-9053\", 25918, \"76055\", \"DC Comics Super Heroes\", \"Batman\", 2018, \"Batman: Killer Croc Sewer Smash\", 759.0, 79.99, \"http://images.brickset.com/sets/images/76055-1.jpg\", 1], [\"Hanibal\", \"Vera\", 54, \"206-555-3697\", 24783, \"75118\", \"Star Wars\", \"Buildable Figures\", 2018, \"Captain Phasma\", 82.0, 24.99, \"http://images.brickset.com/sets/images/75118-1.jpg\", 2], [\"Holly\", \"Klingelsmith\", 33, \"NaN\", 25003, \"41564\", \"Mixels\", \"Series 8\", 2018, \"Aquad\", 70.0, 4.99, \"http://images.brickset.com/sets/images/41564-1.jpg\", 4], [\"Holly\", \"Klingelsmith\", 33, \"NaN\", 24906, \"41562\", \"Mixels\", \"Series 7\", 2018, \"Trumpsy\", 54.0, 4.99, \"http://images.brickset.com/sets/images/41562-1.jpg\", 1], [\"Mason\", \"Perez\", 32, \"403-555-2627\", 24718, \"10819\", \"Duplo\", \"NaN\", 2018, \"My First Garden\", 25.0, 19.99, \"http://images.brickset.com/sets/images/10819-1.jpg\", 3], [\"Mason\", \"Perez\", 32, \"403-555-2627\", 24903, \"41558\", \"Mixels\", \"Series 7\", 2018, \"Mixadel\", 63.0, 4.99, \"http://images.brickset.com/sets/images/41558-1.jpg\", 1], [\"Jose\", \"Downing\", 53, \"415-555-4797\", 25923, \"75147\", \"Star Wars\", \"Original Content\", 2018, \"Star Scavenger\", 558.0, 49.99, \"http://images.brickset.com/sets/images/75147-1.jpg\", 1], [\"Jose\", \"Downing\", 53, \"415-555-4797\", 24666, \"71301\", \"Bionicle\", \"Companions\", 2018, \"Ketar - Creature of Stone\", 80.0, 9.99, \"http://images.brickset.com/sets/images/71301-1.jpg\", 1], [\"Jordan\", \"O'Boyle\", 28, \"880-555-9695\", 24662, \"21026\", \"Architecture\", \"Skylines\", 2018, \"Venice\", 212.0, 29.99, \"http://images.brickset.com/sets/images/21026-1.jpg\", 1], [\"Jordan\", \"O'Boyle\", 28, \"880-555-9695\", 25635, \"70320\", \"Nexo Knights\", \"NaN\", 2018, \"Aaron Fox's Aero-Striker V2\", 301.0, 29.99, \"http://images.brickset.com/sets/images/70320-1.jpg\", 2], [\"Justin\", \"Hiner\", 23, \"212-555-7274\", 24797, \"75138\", \"Star Wars\", \"Episode V\", 2018, \"Hoth Attack\", 233.0, 24.99, \"http://images.brickset.com/sets/images/75138-1.jpg\", 1], [\"Brianna\", \"Biery\", 20, \"443-555-5650\", 25656, \"10804\", \"Duplo\", \"NaN\", 2018, \"Jungle\", 86.0, 49.99, \"http://images.brickset.com/sets/images/10804-1.jpg\", 2], [\"Brianna\", \"Biery\", 20, \"443-555-5650\", 24898, \"41113\", \"Friends\", \"Party\", 2018, \"Party Gift Shop\", 52.0, 4.99, \"http://images.brickset.com/sets/images/41113-1.jpg\", 1], [\"Sergey\", \"Lapp\", 56, \"802-555-5261\", 24709, \"10803\", \"Duplo\", \"NaN\", 2018, \"Arctic\", 40.0, 29.99, \"http://images.brickset.com/sets/images/10803-1.jpg\", 1], [\"Sergey\", \"Lapp\", 56, \"802-555-5261\", 25923, \"75147\", \"Star Wars\", \"Original Content\", 2018, \"Star Scavenger\", 558.0, 49.99, \"http://images.brickset.com/sets/images/75147-1.jpg\", 1], [\"Allison\", \"English\", 20, \"308-555-8064\", 24757, \"70311\", \"Nexo Knights\", \"NaN\", 2018, \"Chaos Catapult\", 93.0, 9.99, \"http://images.brickset.com/sets/images/70311-1.jpg\", 1], [\"Isabel\", \"Garrison\", 38, \"561-555-4014\", 25876, \"853555\", \"Gear\", \"Stationery\", 2018, \"Campsite Scrapbook\", NaN, 14.99, \"http://images.brickset.com/sets/images/853555-1.jpg\", 1], [\"Isabel\", \"Garrison\", 38, \"561-555-4014\", 24756, \"70310\", \"Nexo Knights\", \"NaN\", 2018, \"Knighton Battle Blaster\", 76.0, 9.99, \"http://images.brickset.com/sets/images/70310-1.jpg\", 1], [\"Isabel\", \"Garrison\", 38, \"561-555-4014\", 24725, \"41174\", \"Elves\", \"NaN\", 2018, \"The Starlight Inn\", 343.0, 29.99, \"http://images.brickset.com/sets/images/41174-1.jpg\", 1], [\"Rachelle\", \"Henderson\", 50, \"636-555-3458\", 25009, \"41570\", \"Mixels\", \"Series 8\", 2018, \"Skrubz\", 68.0, 4.99, \"http://images.brickset.com/sets/images/41570-1.jpg\", 1], [\"Eden\", \"Morgan\", 47, \"882-555-5047\", 24712, \"10808\", \"Duplo\", \"NaN\", 2018, \"Little Plane\", 13.0, 9.99, \"http://images.brickset.com/sets/images/10808-1.jpg\", 2], [\"Eden\", \"Morgan\", 47, \"882-555-5047\", 25612, \"21128\", \"Minecraft\", \"Minifig-scale\", 2018, \"The Village\", NaN, 199.99, \"NaN\", 1], [\"Eden\", \"Morgan\", 47, \"882-555-5047\", 24675, \"60106\", \"City\", \"Fire\", 2018, \"Fire Starter Set\", 90.0, 9.99, \"http://images.brickset.com/sets/images/60106-1.jpg\", 2], [\"Emilie\", \"Ellis\", 33, \"806-555-3409\", 25639, \"70324\", \"Nexo Knights\", \"NaN\", 2018, \"Merlok's Library 2.0\", 288.0, 24.99, \"http://images.brickset.com/sets/images/70324-1.jpg\", 1], [\"Emilie\", \"Ellis\", 33, \"806-555-3409\", 24760, \"70315\", \"Nexo Knights\", \"NaN\", 2018, \"Clay's Rumble Blade\", 367.0, 39.99, \"http://images.brickset.com/sets/images/70315-1.jpg\", 1], [\"Emilie\", \"Ellis\", 33, \"806-555-3409\", 24762, \"70330\", \"Nexo Knights\", \"Ultimate\", 2018, \"Ultimate Clay\", 72.0, 9.99, \"http://images.brickset.com/sets/images/70330-1.jpg\", 2], [\"Emilie\", \"Ellis\", 33, \"806-555-3409\", 25877, \"853506\", \"Gear\", \"Role-Play toys\", 2018, \"NK Shield Standard\", NaN, 12.99, \"http://images.brickset.com/sets/images/853506-1.jpg\", 1], [\"Seth\", \"Foley\", 24, \"NaN\", 24903, \"41558\", \"Mixels\", \"Series 7\", 2018, \"Mixadel\", 63.0, 4.99, \"http://images.brickset.com/sets/images/41558-1.jpg\", 2], [\"Seth\", \"Foley\", 24, \"NaN\", 24750, \"76065\", \"Marvel Super Heroes\", \"Mighty Micros\", 2018, \"Captain America vs. Red Skull\", 95.0, 9.99, \"http://images.brickset.com/sets/images/76065-1.jpg\", 1], [\"Seth\", \"Foley\", 24, \"NaN\", 25875, \"853570\", \"City\", \"Police\", 2018, \"Police Accessory Set\", 26.0, 14.99, \"http://images.brickset.com/sets/images/853570-1.jpg\", 2], [\"Seth\", \"Foley\", 24, \"NaN\", 25594, \"71011\", \"Collectable Minifigures\", \"Series 15\", 2018, \"LEGO Minifigures - Series 15 - Sealed Box\", NaN, 3.99, \"http://images.brickset.com/sets/images/71011-18.jpg\", 1], [\"Sara\", \"Siegwarth\", 30, \"214-555-6861\", 24898, \"41113\", \"Friends\", \"Party\", 2018, \"Party Gift Shop\", 52.0, 4.99, \"http://images.brickset.com/sets/images/41113-1.jpg\", 1], [\"Sara\", \"Siegwarth\", 30, \"214-555-6861\", 25876, \"853555\", \"Gear\", \"Stationery\", 2018, \"Campsite Scrapbook\", NaN, 14.99, \"http://images.brickset.com/sets/images/853555-1.jpg\", 1], [\"Siria\", \"Vorwald\", 28, \"716-555-2704\", 24956, \"71300\", \"Bionicle\", \"companions\", 2018, \"Uxar - Creature of Jungle\", 89.0, 9.99, \"http://images.brickset.com/sets/images/71300-1.jpg\", 1], [\"Siria\", \"Vorwald\", 28, \"716-555-2704\", 24691, \"31043\", \"Creator\", \"NaN\", 2018, \"Chopper Transporter\", 124.0, 9.99, \"http://images.brickset.com/sets/images/31043-1.jpg\", 1], [\"Blake\", \"Serota\", 44, \"952-555-3416\", 26058, \"5005059\", \"Gear\", \"Video Games/PS3\", 2018, \"Marvel Avengers PS3 Video Game\", NaN, 49.99, \"http://images.brickset.com/sets/images/5005059-1.jpg\", 1], [\"Blake\", \"Serota\", 44, \"952-555-3416\", 24785, \"75126\", \"Star Wars\", \"MicroFighters\", 2018, \"First Order Snowspeeder\", 91.0, 9.99, \"http://images.brickset.com/sets/images/75126-1.jpg\", 1], [\"Blake\", \"Serota\", 44, \"952-555-3416\", 25885, \"853572\", \"Gear\", \"Key Chains/Miscellaneous\", 2018, \"Bumble Bee Key Chain\", NaN, 5.99, \"http://images.brickset.com/sets/images/853572-1.jpg\", 1], [\"Lavie\", \"Faulkner\", 41, \"718-555-0575\", 25647, \"71316\", \"Bionicle\", \"Reboot Villains\", 2018, \"Umarak the Destroyer\", 191.0, 24.99, \"NaN\", 2], [\"Lavie\", \"Faulkner\", 41, \"718-555-0575\", 25662, \"75824\", \"The Angry Birds Movie\", \"NaN\", 2018, \"Pig City Teardown\", 386.0, 39.99, \"http://images.brickset.com/sets/images/75824-1.jpg\", 1], [\"Lavie\", \"Faulkner\", 41, \"718-555-0575\", 25623, \"70592\", \"Ninjago\", \"Rise of the Villains\", 2018, \"Salvage M.E.C.\", 439.0, 39.99, \"http://images.brickset.com/sets/images/70592-1.jpg\", 1], [\"Brianna\", \"Prisbrey\", 28, \"580-555-3606\", 24697, \"76044\", \"DC Comics Super Heroes\", \"Batman v Superman: Dawn of Justice\", 2018, \"Clash of the Heroes\", 92.0, 12.99, \"http://images.brickset.com/sets/images/76044-1.jpg\", 1], [\"Brianna\", \"Prisbrey\", 28, \"580-555-3606\", 25656, \"10804\", \"Duplo\", \"NaN\", 2018, \"Jungle\", 86.0, 49.99, \"http://images.brickset.com/sets/images/10804-1.jpg\", 1], [\"Brianna\", \"Prisbrey\", 28, \"580-555-3606\", 24551, \"71234\", \"Dimensions\", \"Fun Pack\", 2018, \"Fun Pack: Sensei Wu\", 58.0, 14.99, \"http://images.brickset.com/sets/images/71234-1.jpg\", 1], [\"Da Som\", \"Roskam\", 36, \"441-555-9959\", 24764, \"70333\", \"Nexo Knights\", \"Ultimate\", 2018, \"Ultimate Robin\", 75.0, 9.99, \"http://images.brickset.com/sets/images/70333-1.jpg\", 1], [\"Da Som\", \"Roskam\", 36, \"441-555-9959\", 25875, \"853570\", \"City\", \"Police\", 2018, \"Police Accessory Set\", 26.0, 14.99, \"http://images.brickset.com/sets/images/853570-1.jpg\", 1], [\"Alina\", \"Calerich\", 22, \"480-555-5897\", 24731, \"41116\", \"Friends\", \"NaN\", 2018, \"Olivia's Exploration Car\", 185.0, 14.99, \"http://images.brickset.com/sets/images/41116-1.jpg\", 1], [\"Alina\", \"Calerich\", 22, \"480-555-5897\", 24727, \"41176\", \"Elves\", \"NaN\", 2018, \"The Secret Market Place\", 691.0, 59.99, \"http://images.brickset.com/sets/images/41176-1.jpg\", 1], [\"Alina\", \"Calerich\", 22, \"480-555-5897\", 24915, \"60130\", \"City\", \"Police\", 2018, \"Prison Island\", 754.0, 89.99, \"http://images.brickset.com/sets/images/60130-1.jpg\", 1], [\"Alina\", \"Calerich\", 22, \"480-555-5897\", 25897, \"853551\", \"Gear\", \"Key Chains/Friends\", 2018, \"Olivia Key Chain\", NaN, 5.99, \"http://images.brickset.com/sets/images/853551-1.jpg\", 1], [\"Alina\", \"Calerich\", 22, \"480-555-5897\", 24673, \"71308\", \"Bionicle\", \"Toa\", 2018, \"Tahu - Uniter of Fire\", 132.0, 19.99, \"http://images.brickset.com/sets/images/71308-1.jpg\", 1], [\"Ursula\", \"Goyen\", 33, \"973-555-5517\", 24920, \"70605\", \"Ninjago\", \"Skybound\", 2018, \"Misfortune's Keep\", 754.0, 79.99, \"http://images.brickset.com/sets/images/70605-1.jpg\", 2], [\"Ursula\", \"Goyen\", 33, \"973-555-5517\", 25876, \"853555\", \"Gear\", \"Stationery\", 2018, \"Campsite Scrapbook\", NaN, 14.99, \"http://images.brickset.com/sets/images/853555-1.jpg\", 1], [\"Ursula\", \"Goyen\", 33, \"973-555-5517\", 25638, \"70323\", \"Nexo Knights\", \"NaN\", 2018, \"Jestro's Volcano Lair\", 1186.0, 119.99, \"http://images.brickset.com/sets/images/70323-1.jpg\", 1], [\"Ursula\", \"Goyen\", 33, \"973-555-5517\", 24722, \"41171\", \"Elves\", \"NaN\", 2018, \"Emily Jones & the Baby Wind Dragon\", 80.0, 9.99, \"http://images.brickset.com/sets/images/41171-1.jpg\", 1], [\"Ashley\", \"Bletcher\", 61, \"567-555-1984\", 24905, \"41561\", \"Mixels\", \"Series 7\", 2018, \"Tapsy\", 57.0, 4.99, \"http://images.brickset.com/sets/images/41561-1.jpg\", 2], [\"Ashley\", \"Bletcher\", 61, \"567-555-1984\", 24709, \"10803\", \"Duplo\", \"NaN\", 2018, \"Arctic\", 40.0, 29.99, \"http://images.brickset.com/sets/images/10803-1.jpg\", 1], [\"Ashley\", \"Bletcher\", 61, \"567-555-1984\", 24697, \"76044\", \"DC Comics Super Heroes\", \"Batman v Superman: Dawn of Justice\", 2018, \"Clash of the Heroes\", 92.0, 12.99, \"http://images.brickset.com/sets/images/76044-1.jpg\", 2], [\"Jackson\", \"Dominguez\", 40, \"NaN\", 24759, \"70313\", \"Nexo Knights\", \"NaN\", 2018, \"Moltor's Lava Smasher\", 187.0, 19.99, \"http://images.brickset.com/sets/images/70313-1.jpg\", 2], [\"Jackson\", \"Dominguez\", 40, \"NaN\", 25611, \"21127\", \"Minecraft\", \"Minifig-scale\", 2018, \"The Fortress\", NaN, 109.99, \"http://images.brickset.com/sets/images/21127-1.jpg\", 1], [\"Jackson\", \"Dominguez\", 40, \"NaN\", 25008, \"41569\", \"Mixels\", \"Series 8\", 2018, \"Surgeo\", 63.0, 4.99, \"http://images.brickset.com/sets/images/41569-1.jpg\", 2], [\"Jackson\", \"Dominguez\", 40, \"NaN\", 24733, \"41118\", \"Friends\", \"NaN\", 2018, \"Heartlake Supermarket\", 313.0, 29.99, \"http://images.brickset.com/sets/images/41118-1.jpg\", 1], [\"Jackson\", \"Dominguez\", 40, \"NaN\", 25632, \"70339\", \"Nexo Knights\", \"Ultimate\", 2018, \"Ultimate Flama\", 67.0, 9.99, \"NaN\", 3], [\"Jackson\", \"Dominguez\", 40, \"NaN\", 26034, \"41573\", \"Mixels\", \"Series 9\", 2018, \"Sweepz\", 61.0, 4.99, \"NaN\", 1], [\"Jackson\", \"Dominguez\", 40, \"NaN\", 25885, \"853572\", \"Gear\", \"Key Chains/Miscellaneous\", 2018, \"Bumble Bee Key Chain\", NaN, 5.99, \"http://images.brickset.com/sets/images/853572-1.jpg\", 2], [\"India\", \"Rudy\", 39, \"NaN\", 24709, \"10803\", \"Duplo\", \"NaN\", 2018, \"Arctic\", 40.0, 29.99, \"http://images.brickset.com/sets/images/10803-1.jpg\", 1], [\"India\", \"Rudy\", 39, \"NaN\", 25004, \"41565\", \"Mixels\", \"Series 8\", 2018, \"Hydro\", 70.0, 4.99, \"http://images.brickset.com/sets/images/41565-1.jpg\", 2], [\"India\", \"Rudy\", 39, \"NaN\", 24659, \"71228\", \"Dimensions\", \"Level Pack\", 2018, \"Level Pack: Ghostbusters\", 115.0, 29.99, \"http://images.brickset.com/sets/images/71228-1.jpg\", 1], [\"India\", \"Rudy\", 39, \"NaN\", 25636, \"70321\", \"Nexo Knights\", \"NaN\", 2018, \"General Magmar's Siege Machine of Doom\", 516.0, 49.99, \"http://images.brickset.com/sets/images/70321-1.jpg\", 2], [\"India\", \"Rudy\", 39, \"NaN\", 24790, \"75131\", \"Star Wars\", \"The Force Awakens\", 2018, \"Resistance Trooper Battle Pack\", 112.0, 12.99, \"http://images.brickset.com/sets/images/75131-1.jpg\", 1], [\"Alex\", \"Martin\", 32, \"612-555-6849\", 25664, \"75826\", \"The Angry Birds Movie\", \"NaN\", 2018, \"King Pig's Castle\", 859.0, 89.99, \"http://images.brickset.com/sets/images/75826-1.jpg\", 2], [\"Alex\", \"Martin\", 32, \"612-555-6849\", 25624, \"70593\", \"Ninjago\", \"Skybound\", 2018, \"The Green NRG Dragon\", 567.0, 49.99, \"http://images.brickset.com/sets/images/70593-1.jpg\", 1], [\"Carolane\", \"Levosky\", 37, \"732-555-0913\", 25876, \"853555\", \"Gear\", \"Stationery\", 2018, \"Campsite Scrapbook\", NaN, 14.99, \"http://images.brickset.com/sets/images/853555-1.jpg\", 4], [\"Carolane\", \"Levosky\", 37, \"732-555-0913\", 26041, \"41580\", \"Mixels\", \"Series 9\", 2018, \"Myke\", 63.0, 4.99, \"NaN\", 1], [\"Carolane\", \"Levosky\", 37, \"732-555-0913\", 24797, \"75138\", \"Star Wars\", \"Episode V\", 2018, \"Hoth Attack\", 233.0, 24.99, \"http://images.brickset.com/sets/images/75138-1.jpg\", 2], [\"Tristin\", \"Marcy\", 39, \"NaN\", 25010, \"41571\", \"Mixels\", \"Series 8\", 2018, \"Tuth\", 67.0, 4.99, \"http://images.brickset.com/sets/images/41571-1.jpg\", 1], [\"Tristin\", \"Marcy\", 39, \"NaN\", 24760, \"70315\", \"Nexo Knights\", \"NaN\", 2018, \"Clay's Rumble Blade\", 367.0, 39.99, \"http://images.brickset.com/sets/images/70315-1.jpg\", 2], [\"Tristin\", \"Marcy\", 39, \"NaN\", 24800, \"42044\", \"Technic\", \"NaN\", 2018, \"Display Team Jet\", 113.0, 12.99, \"http://images.brickset.com/sets/images/42044-1.jpg\", 1], [\"Tristin\", \"Marcy\", 39, \"NaN\", 24986, \"30446\", \"DC Comics Super Heroes\", \"Batman v Superman: Dawn of Justice\", 2018, \"The Batmobile\", 63.0, 3.99, \"http://images.brickset.com/sets/images/30446-1.jpg\", 1], [\"Tristin\", \"Marcy\", 39, \"NaN\", 26057, \"5005058\", \"Gear\", \"Video Games/Wii U\", 2018, \"Marvel Avengers Wii U Video Game\", NaN, 49.99, \"http://images.brickset.com/sets/images/5005058-1.jpg\", 3], [\"Aaron\", \"Bruner\", 18, \"914-555-5003\", 24679, \"60111\", \"City\", \"Fire\", 2018, \"Fire Utility Truck\", 368.0, 39.99, \"http://images.brickset.com/sets/images/60111-1.jpg\", 4], [\"Aaron\", \"Bruner\", 18, \"914-555-5003\", 24956, \"71300\", \"Bionicle\", \"companions\", 2018, \"Uxar - Creature of Jungle\", 89.0, 9.99, \"http://images.brickset.com/sets/images/71300-1.jpg\", 1], [\"Aaron\", \"Bruner\", 18, \"914-555-5003\", 24796, \"75137\", \"Star Wars\", \"Episode V\", 2018, \"Carbon-Freezing Chamber\", 231.0, 24.99, \"http://images.brickset.com/sets/images/75137-1.jpg\", 2], [\"Dominic\", \"Mayo\", 34, \"936-555-0956\", 25887, \"853543\", \"Ninjago\", \"NaN\", 2018, \"Ninjago Party Set\", 70.0, 7.99, \"http://images.brickset.com/sets/images/853543-1.jpg\", 2], [\"Michael\", \"Donner\", 18, \"432-555-3069\", 24660, \"71241\", \"Dimensions\", \"Fun Pack\", 2018, \"Fun Pack: Slimer\", 33.0, 14.99, \"http://images.brickset.com/sets/images/71241-1.jpg\", 2], [\"Michael\", \"Donner\", 18, \"432-555-3069\", 24709, \"10803\", \"Duplo\", \"NaN\", 2018, \"Arctic\", 40.0, 29.99, \"http://images.brickset.com/sets/images/10803-1.jpg\", 1], [\"Michael\", \"Donner\", 18, \"432-555-3069\", 26059, \"5005060\", \"Gear\", \"Video Games/3DS\", 2018, \"Marvel Avengers Nintendo 3DS Video Game\", NaN, 29.99, \"http://images.brickset.com/sets/images/5005060-1.jpg\", 1], [\"Elyssa\", \"Nelson\", 26, \"815-555-4287\", 24703, \"41069\", \"Disney Princess\", \"Palace Pets\", 2018, \"Treasure's Day at the Pool\", 70.0, 5.99, \"http://images.brickset.com/sets/images/41069-1.jpg\", 1], [\"Elyssa\", \"Nelson\", 26, \"815-555-4287\", 24736, \"41121\", \"Friends\", \"Adventure Camp\", 2018, \"Adventure Camp Rafting\", 320.0, 29.99, \"http://images.brickset.com/sets/images/41121-1.jpg\", 1], [\"Francisco\", \"Smith\", 34, \"229-555-6673\", 24687, \"60127\", \"City\", \"Police\", 2018, \"Prison Island Starter Set\", 92.0, 9.99, \"http://images.brickset.com/sets/images/60127-1.jpg\", 1], [\"Francisco\", \"Smith\", 34, \"229-555-6673\", 24802, \"42046\", \"Technic\", \"NaN\", 2018, \"Getaway Racer\", 170.0, 19.99, \"http://images.brickset.com/sets/images/42046-1.jpg\", 1], [\"Saige\", \"Dugger\", 27, \"406-555-4946\", 24677, \"60108\", \"City\", \"Fire\", 2018, \"Fire Response Unit\", 257.0, 39.99, \"http://images.brickset.com/sets/images/60108-1.jpg\", 1], [\"Saige\", \"Dugger\", 27, \"406-555-4946\", 24715, \"10816\", \"Duplo\", \"NaN\", 2018, \"My First Cars and Trucks\", 36.0, 19.99, \"http://images.brickset.com/sets/images/10816-1.jpg\", 2], [\"Saige\", \"Dugger\", 27, \"406-555-4946\", 24722, \"41171\", \"Elves\", \"NaN\", 2018, \"Emily Jones & the Baby Wind Dragon\", 80.0, 9.99, \"http://images.brickset.com/sets/images/41171-1.jpg\", 1], [\"Saige\", \"Dugger\", 27, \"406-555-4946\", 25635, \"70320\", \"Nexo Knights\", \"NaN\", 2018, \"Aaron Fox's Aero-Striker V2\", 301.0, 29.99, \"http://images.brickset.com/sets/images/70320-1.jpg\", 1], [\"Saige\", \"Dugger\", 27, \"406-555-4946\", 24762, \"70330\", \"Nexo Knights\", \"Ultimate\", 2018, \"Ultimate Clay\", 72.0, 9.99, \"http://images.brickset.com/sets/images/70330-1.jpg\", 1], [\"Taylor\", \"Bruder\", 56, \"409-555-7986\", 24718, \"10819\", \"Duplo\", \"NaN\", 2018, \"My First Garden\", 25.0, 19.99, \"http://images.brickset.com/sets/images/10819-1.jpg\", 2], [\"Taylor\", \"Bruder\", 56, \"409-555-7986\", 24793, \"75133\", \"Star Wars\", \"Battlefront\", 2018, \"Rebel Alliance Battle Pack\", 101.0, 12.99, \"http://images.brickset.com/sets/images/75133-1.jpg\", 2], [\"Keyana\", \"Lafay\", 52, \"786-555-6090\", 25594, \"71011\", \"Collectable Minifigures\", \"Series 15\", 2018, \"LEGO Minifigures - Series 15 - Sealed Box\", NaN, 3.99, \"http://images.brickset.com/sets/images/71011-18.jpg\", 1], [\"Keyana\", \"Lafay\", 52, \"786-555-6090\", 24663, \"21027\", \"Architecture\", \"Skylines\", 2018, \"Berlin\", 289.0, 29.99, \"http://images.brickset.com/sets/images/21027-1.jpg\", 1], [\"Keyana\", \"Lafay\", 52, \"786-555-6090\", 24919, \"70601\", \"Ninjago\", \"Skybound\", 2018, \"Sky Shark\", 221.0, 19.99, \"http://images.brickset.com/sets/images/70601-1.jpg\", 1], [\"Keyana\", \"Lafay\", 52, \"786-555-6090\", 26037, \"41576\", \"Mixels\", \"Series 9\", 2018, \"Spinza\", 60.0, 4.99, \"NaN\", 2], [\"Kaitlyn\", \"Engel\", 27, \"440-555-1127\", 24672, \"71307\", \"Bionicle\", \"Toa\", 2018, \"Gali - Uniter of Water\", 87.0, 14.99, \"http://images.brickset.com/sets/images/71307-1.jpg\", 3], [\"Kaitlyn\", \"Engel\", 27, \"440-555-1127\", 25010, \"41571\", \"Mixels\", \"Series 8\", 2018, \"Tuth\", 67.0, 4.99, \"http://images.brickset.com/sets/images/41571-1.jpg\", 2], [\"Kaitlyn\", \"Engel\", 27, \"440-555-1127\", 25896, \"853547\", \"Gear\", \"Key Chains/Friends\", 2018, \"Emma Key Chain\", NaN, 5.99, \"http://images.brickset.com/sets/images/853547-1.jpg\", 2], [\"Kaitlyn\", \"Engel\", 27, \"440-555-1127\", 25645, \"71314\", \"Bionicle\", \"Reboot Villains\", 2018, \"Storm Beast\", 109.0, 14.99, \"NaN\", 1], [\"Rachael\", \"Tilley\", 26, \"806-555-8594\", 24988, \"40202\", \"Seasonal\", \"Easter\", 2018, \"Easter Chick\", 111.0, 9.99, \"NaN\", 2], [\"Rachael\", \"Tilley\", 26, \"806-555-8594\", 26036, \"41575\", \"Mixels\", \"Series 9\", 2018, \"Cobrax\", 64.0, 4.99, \"NaN\", 1], [\"Keith\", \"Atwood\", 25, \"NaN\", 24804, \"42048\", \"Technic\", \"NaN\", 2018, \"Race Kart\", 345.0, 29.99, \"http://images.brickset.com/sets/images/42048-1.jpg\", 1], [\"John\", \"Ellis\", 24, \"815-555-9436\", 26057, \"5005058\", \"Gear\", \"Video Games/Wii U\", 2018, \"Marvel Avengers Wii U Video Game\", NaN, 49.99, \"http://images.brickset.com/sets/images/5005058-1.jpg\", 1], [\"Tynecia\", \"Kramer\", 20, \"778-555-0036\", 24731, \"41116\", \"Friends\", \"NaN\", 2018, \"Olivia's Exploration Car\", 185.0, 14.99, \"http://images.brickset.com/sets/images/41116-1.jpg\", 1], [\"Tynecia\", \"Kramer\", 20, \"778-555-0036\", 24770, \"70602\", \"Ninjago\", \"Skybound\", 2018, \"Jay's Elemental Dragon\", 350.0, 29.99, \"http://images.brickset.com/sets/images/70602-1.jpg\", 1], [\"Tynecia\", \"Kramer\", 20, \"778-555-0036\", 25658, \"21305\", \"Ideas\", \"NaN\", 2018, \"Maze\", 769.0, 69.99, \"NaN\", 2], [\"Jennifer\", \"Dana\", 26, \"956-555-9719\", 24691, \"31043\", \"Creator\", \"NaN\", 2018, \"Chopper Transporter\", 124.0, 9.99, \"http://images.brickset.com/sets/images/31043-1.jpg\", 2], [\"Jennifer\", \"Dana\", 26, \"956-555-9719\", 25597, \"75827\", \"Ghostbusters\", \"NaN\", 2018, \"Firehouse Headquarters \", 4634.0, 349.99, \"http://images.brickset.com/sets/images/75827-1.jpg\", 2], [\"Gabriel\", \"Dysart\", 49, \"858-555-0076\", 25637, \"70322\", \"Nexo Knights\", \"NaN\", 2018, \"Axl's Tower Carrier\", 670.0, 69.99, \"http://images.brickset.com/sets/images/70322-1.jpg\", 2], [\"Gabriel\", \"Dysart\", 49, \"858-555-0076\", 24697, \"76044\", \"DC Comics Super Heroes\", \"Batman v Superman: Dawn of Justice\", 2018, \"Clash of the Heroes\", 92.0, 12.99, \"http://images.brickset.com/sets/images/76044-1.jpg\", 3], [\"Dylan\", \"Mcgrath\", 18, \"229-555-1970\", 24748, \"76050\", \"Marvel Super Heroes\", \"Captain America: Civil War\", 2018, \"Crossbones' Hazard Heist\", 179.0, 19.99, \"http://images.brickset.com/sets/images/76050-1.jpg\", 1], [\"Dylan\", \"Mcgrath\", 18, \"229-555-1970\", 25645, \"71314\", \"Bionicle\", \"Reboot Villains\", 2018, \"Storm Beast\", 109.0, 14.99, \"NaN\", 1], [\"Jacob\", \"Griffith\", 29, \"928-555-3406\", 25627, \"70596\", \"Ninjago\", \"Rise of the Villains\", 2018, \"Samurai X Cave Chaos\", 1253.0, 119.99, \"NaN\", 1], [\"Jacob\", \"Griffith\", 29, \"928-555-3406\", 25887, \"853543\", \"Ninjago\", \"NaN\", 2018, \"Ninjago Party Set\", 70.0, 7.99, \"http://images.brickset.com/sets/images/853543-1.jpg\", 2], [\"Jacob\", \"Griffith\", 29, \"928-555-3406\", 24716, \"10817\", \"Duplo\", \"NaN\", 2018, \"Creative Chest\", 70.0, 29.99, \"http://images.brickset.com/sets/images/10817-1.jpg\", 1], [\"Dustin\", \"Tennis\", 31, \"229-555-5837\", 24687, \"60127\", \"City\", \"Police\", 2018, \"Prison Island Starter Set\", 92.0, 9.99, \"http://images.brickset.com/sets/images/60127-1.jpg\", 1], [\"Melanie\", \"Rollert\", 43, \"NaN\", 25668, \"75828\", \"Ghostbusters\", \"Reboot\", 2018, \"Ghostbusters Ecto-1 & Ecto-2\", NaN, 59.99, \"http://images.brickset.com/sets/images/75828-1.jpg\", 2], [\"Melanie\", \"Rollert\", 43, \"NaN\", 26026, \"41179\", \"Elves\", \"NaN\", 2018, \"Queen Dragon's Rescue\", 833.0, 69.99, \"NaN\", 3], [\"Robert\", \"Buse\", 38, \"712-555-9533\", 24794, \"75135\", \"Star Wars\", \"Episode III\", 2018, \"Obi-Wan's Jedi Interceptor\", 215.0, 24.99, \"http://images.brickset.com/sets/images/75135-1.jpg\", 2], [\"Robert\", \"Buse\", 38, \"712-555-9533\", 24784, \"75125\", \"Star Wars\", \"MicroFighters\", 2018, \"Resistance X-wing Fighter\", 87.0, 9.99, \"http://images.brickset.com/sets/images/75125-1.jpg\", 1], [\"Robert\", \"Buse\", 38, \"712-555-9533\", 24733, \"41118\", \"Friends\", \"NaN\", 2018, \"Heartlake Supermarket\", 313.0, 29.99, \"http://images.brickset.com/sets/images/41118-1.jpg\", 2], [\"Jessa\", \"Stites\", 51, \"NaN\", 24618, \"71238\", \"Dimensions\", \"Fun Pack\", 2018, \"Fun Pack: Cyberman\", 40.0, 14.99, \"http://images.brickset.com/sets/images/71238-1.jpg\", 1], [\"Jessa\", \"Stites\", 51, \"NaN\", 24762, \"70330\", \"Nexo Knights\", \"Ultimate\", 2018, \"Ultimate Clay\", 72.0, 9.99, \"http://images.brickset.com/sets/images/70330-1.jpg\", 1], [\"Ryan\", \"Marquez\", 25, \"281-555-0811\", 24766, \"70334\", \"Nexo Knights\", \"Ultimate\", 2018, \"Ultimate Beast Master\", 65.0, 9.99, \"http://images.brickset.com/sets/images/70334-1.jpg\", 1], [\"Ryan\", \"Marquez\", 25, \"281-555-0811\", 25898, \"75145\", \"Star Wars\", \"Original Content\", 2018, \"Eclipse Fighter\", 363.0, 29.99, \"http://images.brickset.com/sets/images/75145-1.jpg\", 1], [\"Ryan\", \"Marquez\", 25, \"281-555-0811\", 24618, \"71238\", \"Dimensions\", \"Fun Pack\", 2018, \"Fun Pack: Cyberman\", 40.0, 14.99, \"http://images.brickset.com/sets/images/71238-1.jpg\", 1], [\"Orion\", \"Gates\", 54, \"214-555-0029\", 24769, \"70600\", \"Ninjago\", \"Skybound\", 2018, \"Ninja Bike Chase\", 231.0, 19.99, \"http://images.brickset.com/sets/images/70600-1.jpg\", 4], [\"Orion\", \"Gates\", 54, \"214-555-0029\", 25623, \"70592\", \"Ninjago\", \"Rise of the Villains\", 2018, \"Salvage M.E.C.\", 439.0, 39.99, \"http://images.brickset.com/sets/images/70592-1.jpg\", 2], [\"Orion\", \"Gates\", 54, \"214-555-0029\", 25624, \"70593\", \"Ninjago\", \"Skybound\", 2018, \"The Green NRG Dragon\", 567.0, 49.99, \"http://images.brickset.com/sets/images/70593-1.jpg\", 1], [\"Jenny\", \"Tutone\", 35, \"919-867-5309\", 24729, \"41111\", \"Friends\", \"Party\", 2018, \"Party Train\", 109.0, 9.99, \"http://images.brickset.com/sets/images/41111-1.jpg\", 1], [\"Jenny\", \"Tutone\", 35, \"919-867-5309\", 24894, \"31040\", \"Creator\", \"NaN\", 2018, \"Desert Racers\", 65.0, 4.99, \"http://images.brickset.com/sets/images/31040-1.jpg\", 1], [\"Jenny\", \"Tutone\", 35, \"919-867-5309\", 24735, \"41120\", \"Friends\", \"Adventure Camp\", 2018, \"Adventure Camp Archery\", 114.0, 9.99, \"http://images.brickset.com/sets/images/41120-1.jpg\", 1], [\"Josie\", \"Paley\", 38, \"807-555-3971\", 25876, \"853555\", \"Gear\", \"Stationery\", 2018, \"Campsite Scrapbook\", NaN, 14.99, \"http://images.brickset.com/sets/images/853555-1.jpg\", 1], [\"Josie\", \"Paley\", 38, \"807-555-3971\", 24796, \"75137\", \"Star Wars\", \"Episode V\", 2018, \"Carbon-Freezing Chamber\", 231.0, 24.99, \"http://images.brickset.com/sets/images/75137-1.jpg\", 2], [\"Josie\", \"Paley\", 38, \"807-555-3971\", 24781, \"75116\", \"Star Wars\", \"Buildable Figures\", 2018, \"Finn\", 98.0, 24.99, \"http://images.brickset.com/sets/images/75116-1.jpg\", 3], [\"Josie\", \"Paley\", 38, \"807-555-3971\", 26034, \"41573\", \"Mixels\", \"Series 9\", 2018, \"Sweepz\", 61.0, 4.99, \"NaN\", 1], [\"Josie\", \"Paley\", 38, \"807-555-3971\", 24788, \"75129\", \"Star Wars\", \"MicroFighters\", 2018, \"Wookiee Gunship\", 84.0, 9.99, \"http://images.brickset.com/sets/images/75129-1.jpg\", 1], [\"Josie\", \"Paley\", 38, \"807-555-3971\", 24904, \"41559\", \"Mixels\", \"Series 7\", 2018, \"Paladum\", 64.0, 4.99, \"http://images.brickset.com/sets/images/41559-1.jpg\", 2], [\"Christina\", \"Williams\", 39, \"541-555-5085\", 24670, \"71305\", \"Bionicle\", \"Toa\", 2018, \"Lewa - Uniter of Jungle\", 79.0, 14.99, \"http://images.brickset.com/sets/images/71305-1.jpg\", 2], [\"Christina\", \"Williams\", 39, \"541-555-5085\", 24995, \"10702\", \"Classic\", \"NaN\", 2018, \"Creative Building Set\", 583.0, 29.99, \"http://images.brickset.com/sets/images/10702-1.jpg\", 1], [\"Christina\", \"Williams\", 39, \"541-555-5085\", 24758, \"70312\", \"Nexo Knights\", \"NaN\", 2018, \"Lance's Mecha Horse\", 237.0, 19.99, \"http://images.brickset.com/sets/images/70312-1.jpg\", 1], [\"Alexandra\", \"Leinhart\", 24, \"551-555-8769\", 24736, \"41121\", \"Friends\", \"Adventure Camp\", 2018, \"Adventure Camp Rafting\", 320.0, 29.99, \"http://images.brickset.com/sets/images/41121-1.jpg\", 2], [\"Alexandra\", \"Leinhart\", 24, \"551-555-8769\", 24762, \"70330\", \"Nexo Knights\", \"Ultimate\", 2018, \"Ultimate Clay\", 72.0, 9.99, \"http://images.brickset.com/sets/images/70330-1.jpg\", 1], [\"Alexandra\", \"Leinhart\", 24, \"551-555-8769\", 25635, \"70320\", \"Nexo Knights\", \"NaN\", 2018, \"Aaron Fox's Aero-Striker V2\", 301.0, 29.99, \"http://images.brickset.com/sets/images/70320-1.jpg\", 2], [\"Delmi\", \"Spedding\", 40, \"758-555-3948\", 24679, \"60111\", \"City\", \"Fire\", 2018, \"Fire Utility Truck\", 368.0, 39.99, \"http://images.brickset.com/sets/images/60111-1.jpg\", 2], [\"Delmi\", \"Spedding\", 40, \"758-555-3948\", 24735, \"41120\", \"Friends\", \"Adventure Camp\", 2018, \"Adventure Camp Archery\", 114.0, 9.99, \"http://images.brickset.com/sets/images/41120-1.jpg\", 1], [\"Peyton\", \"Wiebe\", 29, \"281-555-8711\", 25612, \"21128\", \"Minecraft\", \"Minifig-scale\", 2018, \"The Village\", NaN, 199.99, \"NaN\", 1], [\"Peyton\", \"Wiebe\", 29, \"281-555-8711\", 25922, \"75149\", \"Star Wars\", \"The Force Awakens\", 2018, \"Resistance X-wing Fighter\", 740.0, 79.99, \"http://images.brickset.com/sets/images/75149-1.jpg\", 1], [\"Peyton\", \"Wiebe\", 29, \"281-555-8711\", 26024, \"41177\", \"Elves\", \"NaN\", 2018, \"The Precious Crystal Mine\", 273.0, 29.99, \"http://images.brickset.com/sets/images/41177-1.jpg\", 2], [\"Gunnar\", \"Nickless\", 36, \"915-555-5334\", 24678, \"60109\", \"City\", \"Fire\", 2018, \"Fire Boat\", 412.0, 79.99, \"http://images.brickset.com/sets/images/60109-1.jpg\", 1], [\"Alex\", \"Ford\", 33, \"509-555-2531\", 24701, \"76062\", \"DC Comics Super Heroes\", \"Mighty Micros\", 2018, \"Robin vs. Bane\", 77.0, 9.99, \"http://images.brickset.com/sets/images/76062-1.jpg\", 1], [\"Audrey\", \"Eustace\", 26, \"NaN\", 24771, \"70603\", \"Ninjago\", \"Skybound\", 2018, \"Raid Zeppelin\", 294.0, 29.99, \"http://images.brickset.com/sets/images/70603-1.jpg\", 1], [\"Audrey\", \"Eustace\", 26, \"NaN\", 25877, \"853506\", \"Gear\", \"Role-Play toys\", 2018, \"NK Shield Standard\", NaN, 12.99, \"http://images.brickset.com/sets/images/853506-1.jpg\", 1], [\"Audrey\", \"Eustace\", 26, \"NaN\", 25641, \"70326\", \"Nexo Knights\", \"NaN\", 2018, \"The Black Knight Mech\", 530.0, 39.99, \"NaN\", 1], [\"Audrey\", \"Eustace\", 26, \"NaN\", 24749, \"76064\", \"Marvel Super Heroes\", \"Mighty Micros\", 2018, \"Spider-Man vs. Green Goblin\", 85.0, 9.99, \"http://images.brickset.com/sets/images/76064-1.jpg\", 1], [\"Jacob\", \"Scott\", 23, \"312-555-5114\", 24691, \"31043\", \"Creator\", \"NaN\", 2018, \"Chopper Transporter\", 124.0, 9.99, \"http://images.brickset.com/sets/images/31043-1.jpg\", 2], [\"Jacob\", \"Scott\", 23, \"312-555-5114\", 24672, \"71307\", \"Bionicle\", \"Toa\", 2018, \"Gali - Uniter of Water\", 87.0, 14.99, \"http://images.brickset.com/sets/images/71307-1.jpg\", 1], [\"Daniel\", \"Griffey\", 68, \"479-555-3648\", 25631, \"70338\", \"Nexo Knights\", \"Ultimate\", 2018, \"Ultimate General Magmar\", 64.0, 9.99, \"NaN\", 1], [\"Daniel\", \"Griffey\", 68, \"479-555-3648\", 24733, \"41118\", \"Friends\", \"NaN\", 2018, \"Heartlake Supermarket\", 313.0, 29.99, \"http://images.brickset.com/sets/images/41118-1.jpg\", 2], [\"Daniel\", \"Griffey\", 68, \"479-555-3648\", 24619, \"41560\", \"Mixels\", \"Series 7\", 2018, \"Jamzy\", 70.0, 4.99, \"http://images.brickset.com/sets/images/41560-1.jpg\", 4], [\"Amanda\", \"Hunter\", 21, \"NaN\", 25655, \"10826\", \"Duplo\", \"Miles from Tomorrowland\", 2018, \"Miles' Stellosphere Hangar\", 44.0, 34.99, \"http://images.brickset.com/sets/images/10826-1.jpg\", 2], [\"Amanda\", \"Hunter\", 21, \"NaN\", 24666, \"71301\", \"Bionicle\", \"Companions\", 2018, \"Ketar - Creature of Stone\", 80.0, 9.99, \"http://images.brickset.com/sets/images/71301-1.jpg\", 1], [\"Alissa\", \"Lamsal\", 27, \"313-555-1678\", 24762, \"70330\", \"Nexo Knights\", \"Ultimate\", 2018, \"Ultimate Clay\", 72.0, 9.99, \"http://images.brickset.com/sets/images/70330-1.jpg\", 2], [\"Alissa\", \"Lamsal\", 27, \"313-555-1678\", 25640, \"70325\", \"Nexo Knights\", \"NaN\", 2018, \"Infernox captures the Queen\", 253.0, 24.99, \"http://images.brickset.com/sets/images/70325-1.jpg\", 3], [\"Melissa\", \"Prael\", 41, \"819-555-1361\", 24919, \"70601\", \"Ninjago\", \"Skybound\", 2018, \"Sky Shark\", 221.0, 19.99, \"http://images.brickset.com/sets/images/70601-1.jpg\", 1], [\"Melissa\", \"Prael\", 41, \"819-555-1361\", 25006, \"41567\", \"Mixels\", \"Series 8\", 2018, \"Skulzy\", 66.0, 4.99, \"http://images.brickset.com/sets/images/41567-1.jpg\", 1], [\"Melissa\", \"Prael\", 41, \"819-555-1361\", 24804, \"42048\", \"Technic\", \"NaN\", 2018, \"Race Kart\", 345.0, 29.99, \"http://images.brickset.com/sets/images/42048-1.jpg\", 1], [\"Audrey\", \"Baker\", 40, \"386-555-0465\", 25916, \"76054\", \"DC Comics Super Heroes\", \"Batman\", 2018, \"Batman: Scarecrow Harvest of Fear\", 563.0, 59.99, \"http://images.brickset.com/sets/images/76054-1.jpg\", 1], [\"Audrey\", \"Baker\", 40, \"386-555-0465\", 25660, \"75822\", \"The Angry Birds Movie\", \"NaN\", 2018, \"Piggy Plane Attack\", 168.0, 19.99, \"http://images.brickset.com/sets/images/75822-1.jpg\", 1], [\"Audrey\", \"Baker\", 40, \"386-555-0465\", 24803, \"42047\", \"Technic\", \"NaN\", 2018, \"Police Interceptor\", 185.0, 19.99, \"http://images.brickset.com/sets/images/42047-1.jpg\", 1], [\"Audrey\", \"Baker\", 40, \"386-555-0465\", 24691, \"31043\", \"Creator\", \"NaN\", 2018, \"Chopper Transporter\", 124.0, 9.99, \"http://images.brickset.com/sets/images/31043-1.jpg\", 1], [\"Ean\", \"Kruse\", 53, \"740-555-8273\", 24918, \"70317\", \"Nexo Knights\", \"NaN\", 2018, \"The Fortrex\", 1140.0, 99.99, \"http://images.brickset.com/sets/images/70317-1.jpg\", 1], [\"Ean\", \"Kruse\", 53, \"740-555-8273\", 24898, \"41113\", \"Friends\", \"Party\", 2018, \"Party Gift Shop\", 52.0, 4.99, \"http://images.brickset.com/sets/images/41113-1.jpg\", 1], [\"Lawrence\", \"Lewis\", 21, \"602-555-4393\", 24663, \"21027\", \"Architecture\", \"Skylines\", 2018, \"Berlin\", 289.0, 29.99, \"http://images.brickset.com/sets/images/21027-1.jpg\", 2], [\"Shelby\", \"Siekmeier\", 56, \"210-555-8934\", 24907, \"42050\", \"Technic\", \"NaN\", 2018, \"Drag Racer\", 647.0, 79.99, \"http://images.brickset.com/sets/images/42050-1.jpg\", 1], [\"Shelby\", \"Siekmeier\", 56, \"210-555-8934\", 26058, \"5005059\", \"Gear\", \"Video Games/PS3\", 2018, \"Marvel Avengers PS3 Video Game\", NaN, 49.99, \"http://images.brickset.com/sets/images/5005059-1.jpg\", 1], [\"Megan\", \"Sweetman\", 30, \"567-555-4401\", 24957, \"71309\", \"Bionicle\", \"Toa\", 2018, \"Onua - Uniter of Earth\", 143.0, 19.99, \"http://images.brickset.com/sets/images/71309-1.jpg\", 1], [\"Megan\", \"Sweetman\", 30, \"567-555-4401\", 24959, \"75139\", \"Star Wars\", \"The Force Awakens\", 2018, \"Battle on Takodana\", 409.0, 59.99, \"http://images.brickset.com/sets/images/75139-1.jpg\", 2], [\"Megan\", \"Sweetman\", 30, \"567-555-4401\", 24986, \"30446\", \"DC Comics Super Heroes\", \"Batman v Superman: Dawn of Justice\", 2018, \"The Batmobile\", 63.0, 3.99, \"http://images.brickset.com/sets/images/30446-1.jpg\", 1], [\"Megan\", \"Sweetman\", 30, \"567-555-4401\", 24737, \"41135\", \"Friends\", \"Pop Star\", 2018, \"Livi's Pop Star House\", 597.0, 49.99, \"http://images.brickset.com/sets/images/41135-1.jpg\", 1], [\"Dylan\", \"Scott\", 53, \"813-555-0271\", 25884, \"853571\", \"Gear\", \"Key Chains/Miscellaneous\", 2018, \"Hot Dog Guy Key Chain\", NaN, 5.99, \"http://images.brickset.com/sets/images/853571-1.jpg\", 1], [\"Dylan\", \"Scott\", 53, \"813-555-0271\", 24683, \"60116\", \"City\", \"Medical\", 2018, \"Ambulance Plane\", 183.0, 19.99, \"http://images.brickset.com/sets/images/60116-1.jpg\", 1], [\"John\", \"Leavell\", 39, \"843-555-8490\", 24786, \"75127\", \"Star Wars\", \"MicroFighters\", 2018, \"The Ghost\", 104.0, 9.99, \"http://images.brickset.com/sets/images/75127-1.jpg\", 1], [\"John\", \"Leavell\", 39, \"843-555-8490\", 25656, \"10804\", \"Duplo\", \"NaN\", 2018, \"Jungle\", 86.0, 49.99, \"http://images.brickset.com/sets/images/10804-1.jpg\", 1], [\"John\", \"Leavell\", 39, \"843-555-8490\", 25624, \"70593\", \"Ninjago\", \"Skybound\", 2018, \"The Green NRG Dragon\", 567.0, 49.99, \"http://images.brickset.com/sets/images/70593-1.jpg\", 1], [\"John\", \"Leavell\", 39, \"843-555-8490\", 24551, \"71234\", \"Dimensions\", \"Fun Pack\", 2018, \"Fun Pack: Sensei Wu\", 58.0, 14.99, \"http://images.brickset.com/sets/images/71234-1.jpg\", 1], [\"Angel\", \"Payne\", 62, \"NaN\", 25605, \"75146\", \"Star Wars\", \"Seasonal\", 2018, \"Star Wars Advent Calendar\", 282.0, 39.99, \"http://images.brickset.com/sets/images/75146-1.jpg\", 4], [\"Angel\", \"Payne\", 62, \"NaN\", 24793, \"75133\", \"Star Wars\", \"Battlefront\", 2018, \"Rebel Alliance Battle Pack\", 101.0, 12.99, \"http://images.brickset.com/sets/images/75133-1.jpg\", 1], [\"Nadia\", \"Romero\", 37, \"702-555-1158\", 24672, \"71307\", \"Bionicle\", \"Toa\", 2018, \"Gali - Uniter of Water\", 87.0, 14.99, \"http://images.brickset.com/sets/images/71307-1.jpg\", 1], [\"Nadia\", \"Romero\", 37, \"702-555-1158\", 24986, \"30446\", \"DC Comics Super Heroes\", \"Batman v Superman: Dawn of Justice\", 2018, \"The Batmobile\", 63.0, 3.99, \"http://images.brickset.com/sets/images/30446-1.jpg\", 1], [\"Sarah\", \"Harris\", 44, \"787-555-1308\", 25624, \"70593\", \"Ninjago\", \"Skybound\", 2018, \"The Green NRG Dragon\", 567.0, 49.99, \"http://images.brickset.com/sets/images/70593-1.jpg\", 1], [\"Danait\", \"Mckinny\", 33, \"NaN\", 24919, \"70601\", \"Ninjago\", \"Skybound\", 2018, \"Sky Shark\", 221.0, 19.99, \"http://images.brickset.com/sets/images/70601-1.jpg\", 2], [\"Joseph\", \"Holub\", 33, \"732-555-8846\", 25877, \"853506\", \"Gear\", \"Role-Play toys\", 2018, \"NK Shield Standard\", NaN, 12.99, \"http://images.brickset.com/sets/images/853506-1.jpg\", 3], [\"Joseph\", \"Holub\", 33, \"732-555-8846\", 25007, \"41568\", \"Mixels\", \"Series 8\", 2018, \"Lewt\", 62.0, 4.99, \"http://images.brickset.com/sets/images/41568-1.jpg\", 1], [\"Joseph\", \"Holub\", 33, \"732-555-8846\", 25606, \"75148\", \"Star Wars\", \"The Force Awakens\", 2018, \"Encounter on Jakku\", 530.0, 59.99, \"http://images.brickset.com/sets/images/75148-1.jpg\", 1], [\"Joseph\", \"Holub\", 33, \"732-555-8846\", 24619, \"41560\", \"Mixels\", \"Series 7\", 2018, \"Jamzy\", 70.0, 4.99, \"http://images.brickset.com/sets/images/41560-1.jpg\", 1], [\"Joseph\", \"Holub\", 33, \"732-555-8846\", 24797, \"75138\", \"Star Wars\", \"Episode V\", 2018, \"Hoth Attack\", 233.0, 24.99, \"http://images.brickset.com/sets/images/75138-1.jpg\", 2], [\"Elias\", \"Garrett\", 50, \"832-555-9165\", 24915, \"60130\", \"City\", \"Police\", 2018, \"Prison Island\", 754.0, 89.99, \"http://images.brickset.com/sets/images/60130-1.jpg\", 3], [\"Elias\", \"Garrett\", 50, \"832-555-9165\", 25898, \"75145\", \"Star Wars\", \"Original Content\", 2018, \"Eclipse Fighter\", 363.0, 29.99, \"http://images.brickset.com/sets/images/75145-1.jpg\", 1], [\"Elias\", \"Garrett\", 50, \"832-555-9165\", 24725, \"41174\", \"Elves\", \"NaN\", 2018, \"The Starlight Inn\", 343.0, 29.99, \"http://images.brickset.com/sets/images/41174-1.jpg\", 1], [\"Isaac\", \"Younger\", 42, \"345-555-2861\", 25662, \"75824\", \"The Angry Birds Movie\", \"NaN\", 2018, \"Pig City Teardown\", 386.0, 39.99, \"http://images.brickset.com/sets/images/75824-1.jpg\", 1], [\"Isaac\", \"Younger\", 42, \"345-555-2861\", 24686, \"60119\", \"City\", \"Harbour\", 2018, \"Ferry\", 301.0, 29.99, \"http://images.brickset.com/sets/images/60119-1.jpg\", 1], [\"Dominique\", \"Kifletsion\", 28, \"647-555-6291\", 24730, \"41115\", \"Friends\", \"NaN\", 2018, \"Emma's Creative Workshop\", 108.0, 9.99, \"http://images.brickset.com/sets/images/41115-1.jpg\", 2], [\"Dominique\", \"Kifletsion\", 28, \"647-555-6291\", 25917, \"76058\", \"Marvel Super Heroes\", \"Ultimate Spider-Man\", 2018, \"Spider-Man: Ghost Rider Team-Up\", 217.0, 19.99, \"http://images.brickset.com/sets/images/76058-1.jpg\", 3], [\"Morgan\", \"Andreas\", 22, \"785-555-6517\", 25002, \"41563\", \"Mixels\", \"Series 8\", 2018, \"Splasho\", 67.0, 4.99, \"http://images.brickset.com/sets/images/41563-1.jpg\", 2], [\"Morgan\", \"Andreas\", 22, \"785-555-6517\", 24918, \"70317\", \"Nexo Knights\", \"NaN\", 2018, \"The Fortrex\", 1140.0, 99.99, \"http://images.brickset.com/sets/images/70317-1.jpg\", 1], [\"Morgan\", \"Andreas\", 22, \"785-555-6517\", 24675, \"60106\", \"City\", \"Fire\", 2018, \"Fire Starter Set\", 90.0, 9.99, \"http://images.brickset.com/sets/images/60106-1.jpg\", 1], [\"Kelly\", \"Wilson\", 36, \"419-555-4451\", 24694, \"31047\", \"Creator\", \"NaN\", 2018, \"Propeller Plane\", 230.0, 19.99, \"http://images.brickset.com/sets/images/31047-1.jpg\", 1], [\"Adam\", \"Mehdinia\", 36, \"520-555-0348\", 25883, \"853568\", \"Gear\", \"Key Chains/City\", 2018, \"Prison Guard Key Chain\", NaN, 5.99, \"http://images.brickset.com/sets/images/853568-1.jpg\", 2], [\"Katelynn\", \"Wardlaw\", 35, \"604-555-2142\", 24913, \"60112\", \"City\", \"Fire\", 2018, \"Fire Engine\", 376.0, 49.99, \"http://images.brickset.com/sets/images/60112-1.jpg\", 1], [\"Autriana\", \"Hess\", 26, \"616-555-0154\", 24681, \"60114\", \"City\", \"Harbour\", 2018, \"Race Boat\", 95.0, 9.99, \"http://images.brickset.com/sets/images/60114-1.jpg\", 1], [\"Autriana\", \"Hess\", 26, \"616-555-0154\", 24710, \"10806\", \"Duplo\", \"NaN\", 2018, \"Horses\", 20.0, 14.99, \"http://images.brickset.com/sets/images/10806-1.jpg\", 1], [\"Autriana\", \"Hess\", 26, \"616-555-0154\", 26025, \"41178\", \"Elves\", \"NaN\", 2018, \"The Dragon Sanctuary\", 585.0, 49.99, \"NaN\", 1], [\"Christy\", \"Larsen\", 26, \"910-555-9252\", 24903, \"41558\", \"Mixels\", \"Series 7\", 2018, \"Mixadel\", 63.0, 4.99, \"http://images.brickset.com/sets/images/41558-1.jpg\", 1], [\"Christy\", \"Larsen\", 26, \"910-555-9252\", 24735, \"41120\", \"Friends\", \"Adventure Camp\", 2018, \"Adventure Camp Archery\", 114.0, 9.99, \"http://images.brickset.com/sets/images/41120-1.jpg\", 1], [\"Tanner\", \"Dockstader\", 21, \"573-555-4274\", 24789, \"75130\", \"Star Wars\", \"MicroFighters\", 2018, \"AT-DP\", 76.0, 9.99, \"http://images.brickset.com/sets/images/75130-1.jpg\", 1], [\"Tanner\", \"Dockstader\", 21, \"573-555-4274\", 24690, \"31042\", \"Creator\", \"NaN\", 2018, \"Super Soarer\", 100.0, 9.99, \"http://images.brickset.com/sets/images/31042-1.jpg\", 2], [\"Tanner\", \"Dockstader\", 21, \"573-555-4274\", 25917, \"76058\", \"Marvel Super Heroes\", \"Ultimate Spider-Man\", 2018, \"Spider-Man: Ghost Rider Team-Up\", 217.0, 19.99, \"http://images.brickset.com/sets/images/76058-1.jpg\", 1], [\"Tanner\", \"Dockstader\", 21, \"573-555-4274\", 24692, \"31044\", \"Creator\", \"NaN\", 2018, \"Park Animals\", 202.0, 14.99, \"http://images.brickset.com/sets/images/31044-1.jpg\", 2], [\"Trenidy\", \"Embrey\", 26, \"215-555-1034\", 25884, \"853571\", \"Gear\", \"Key Chains/Miscellaneous\", 2018, \"Hot Dog Guy Key Chain\", NaN, 5.99, \"http://images.brickset.com/sets/images/853571-1.jpg\", 2], [\"Trenidy\", \"Embrey\", 26, \"215-555-1034\", 24779, \"75114\", \"Star Wars\", \"Buildable Figures\", 2018, \"First Order Stormtrooper\", 81.0, 19.99, \"http://images.brickset.com/sets/images/75114-1.jpg\", 1], [\"Trenidy\", \"Embrey\", 26, \"215-555-1034\", 24791, \"75132\", \"Star Wars\", \"The Force Awakens\", 2018, \"First Order Battle Pack\", 88.0, 12.99, \"http://images.brickset.com/sets/images/75132-1.jpg\", 3], [\"Sean\", \"Graves-Ayers\", 34, \"949-555-1759\", 25641, \"70326\", \"Nexo Knights\", \"NaN\", 2018, \"The Black Knight Mech\", 530.0, 39.99, \"NaN\", 2], [\"Sean\", \"Graves-Ayers\", 34, \"949-555-1759\", 26035, \"41574\", \"Mixels\", \"Series 9\", 2018, \"Compax\", 66.0, 4.99, \"NaN\", 1], [\"Paige\", \"Ice\", 21, \"NaN\", 24682, \"60115\", \"City\", \"Traffic\", 2018, \"4 x 4 Off Roader\", 176.0, 19.99, \"http://images.brickset.com/sets/images/60115-1.jpg\", 1], [\"Paige\", \"Ice\", 21, \"NaN\", 26038, \"41577\", \"Mixels\", \"Series 9\", 2018, \"Mysto\", 64.0, 4.99, \"NaN\", 1], [\"Aiden\", \"Ganley\", 19, \"786-555-5067\", 25639, \"70324\", \"Nexo Knights\", \"NaN\", 2018, \"Merlok's Library 2.0\", 288.0, 24.99, \"http://images.brickset.com/sets/images/70324-1.jpg\", 1], [\"Aiden\", \"Ganley\", 19, \"786-555-5067\", 24756, \"70310\", \"Nexo Knights\", \"NaN\", 2018, \"Knighton Battle Blaster\", 76.0, 9.99, \"http://images.brickset.com/sets/images/70310-1.jpg\", 2], [\"Dustin\", \"Vanvuuren\", 51, \"812-555-1009\", 24709, \"10803\", \"Duplo\", \"NaN\", 2018, \"Arctic\", 40.0, 29.99, \"http://images.brickset.com/sets/images/10803-1.jpg\", 2], [\"Dustin\", \"Vanvuuren\", 51, \"812-555-1009\", 24807, \"71235\", \"Dimensions\", \"Level Pack\", 2018, \"Level Pack: Midway Arcade\", 96.0, 29.99, \"http://images.brickset.com/sets/images/71235-1.jpg\", 1], [\"Dustin\", \"Vanvuuren\", 51, \"812-555-1009\", 25920, \"75151\", \"Star Wars\", \"Episode III\", 2018, \"Clone Turbo Tank\", 903.0, 109.99, \"http://images.brickset.com/sets/images/75151-1.jpg\", 1], [\"Payton\", \"Milsap\", 42, \"NaN\", 24669, \"71304\", \"Bionicle\", \"Companions\", 2018, \"Terak - Creature of Earth\", 74.0, 9.99, \"http://images.brickset.com/sets/images/71304-1.jpg\", 1], [\"Payton\", \"Milsap\", 42, \"NaN\", 24702, \"76063\", \"DC Comics Super Heroes\", \"Mighty Micros\", 2018, \"The Flash vs. Captain Cold\", 88.0, 9.99, \"http://images.brickset.com/sets/images/76063-1.jpg\", 3], [\"Payton\", \"Milsap\", 42, \"NaN\", 24678, \"60109\", \"City\", \"Fire\", 2018, \"Fire Boat\", 412.0, 79.99, \"http://images.brickset.com/sets/images/60109-1.jpg\", 2], [\"Juana\", \"Geisert\", 35, \"701-555-8100\", 25919, \"75150\", \"Star Wars\", \"Rebels\", 2018, \"Vader's TIE Advanced vs. A-wing Fighter\", 702.0, 89.99, \"http://images.brickset.com/sets/images/75150-1.jpg\", 2], [\"Juana\", \"Geisert\", 35, \"701-555-8100\", 25644, \"71313\", \"Bionicle\", \"Reboot Villains\", 2018, \"Lava Beast\", 114.0, 14.99, \"NaN\", 1], [\"Stephanie\", \"Harrison\", 42, \"NaN\", 24736, \"41121\", \"Friends\", \"Adventure Camp\", 2018, \"Adventure Camp Rafting\", 320.0, 29.99, \"http://images.brickset.com/sets/images/41121-1.jpg\", 1], [\"Benjamin\", \"Park\", 33, \"NaN\", 24785, \"75126\", \"Star Wars\", \"MicroFighters\", 2018, \"First Order Snowspeeder\", 91.0, 9.99, \"http://images.brickset.com/sets/images/75126-1.jpg\", 1], [\"Benjamin\", \"Park\", 33, \"NaN\", 25898, \"75145\", \"Star Wars\", \"Original Content\", 2018, \"Eclipse Fighter\", 363.0, 29.99, \"http://images.brickset.com/sets/images/75145-1.jpg\", 4], [\"Benjamin\", \"Park\", 33, \"NaN\", 25883, \"853568\", \"Gear\", \"Key Chains/City\", 2018, \"Prison Guard Key Chain\", NaN, 5.99, \"http://images.brickset.com/sets/images/853568-1.jpg\", 1], [\"Benjamin\", \"Park\", 33, \"NaN\", 24957, \"71309\", \"Bionicle\", \"Toa\", 2018, \"Onua - Uniter of Earth\", 143.0, 19.99, \"http://images.brickset.com/sets/images/71309-1.jpg\", 2], [\"Miles\", \"Hill\", 34, \"NaN\", 24758, \"70312\", \"Nexo Knights\", \"NaN\", 2018, \"Lance's Mecha Horse\", 237.0, 19.99, \"http://images.brickset.com/sets/images/70312-1.jpg\", 2], [\"Carolyn\", \"Quarry\", 23, \"567-555-7649\", 25627, \"70596\", \"Ninjago\", \"Rise of the Villains\", 2018, \"Samurai X Cave Chaos\", 1253.0, 119.99, \"NaN\", 2], [\"Carolyn\", \"Quarry\", 23, \"567-555-7649\", 24806, \"71311\", \"Bionicle\", \"Miscellaneous\", 2018, \"Kopaka and Melum - Unity set\", 171.0, 24.99, \"http://images.brickset.com/sets/images/71311-1.jpg\", 2], [\"Jennifer\", \"Reinert\", 29, \"402-555-0467\", 24660, \"71241\", \"Dimensions\", \"Fun Pack\", 2018, \"Fun Pack: Slimer\", 33.0, 14.99, \"http://images.brickset.com/sets/images/71241-1.jpg\", 3], [\"Natalia\", \"Vonduyke\", 16, \"859-555-3818\", 25879, \"853534\", \"Gear\", \"Key Chains/Ninjago\", 2018, \"Airjitzu Jay Key Chain\", NaN, 5.99, \"http://images.brickset.com/sets/images/853534-1.jpg\", 2], [\"Natalia\", \"Vonduyke\", 16, \"859-555-3818\", 24714, \"10814\", \"Duplo\", \"NaN\", 2018, \"Tow Truck\", 28.0, 19.99, \"http://images.brickset.com/sets/images/10814-1.jpg\", 1], [\"Natalia\", \"Vonduyke\", 16, \"859-555-3818\", 24765, \"70332\", \"Nexo Knights\", \"Ultimate\", 2018, \"Ultimate Aaron\", 82.0, 9.99, \"http://images.brickset.com/sets/images/70332-1.jpg\", 1], [\"Natalia\", \"Vonduyke\", 16, \"859-555-3818\", 25922, \"75149\", \"Star Wars\", \"The Force Awakens\", 2018, \"Resistance X-wing Fighter\", 740.0, 79.99, \"http://images.brickset.com/sets/images/75149-1.jpg\", 1], [\"Talise\", \"Nieukirk\", 16, \"801-555-2343\", 24902, \"41556\", \"Mixels\", \"Series 7\", 2018, \"Tiketz\", 62.0, 4.99, \"http://images.brickset.com/sets/images/41556-1.jpg\", 2], [\"Spencer\", \"Morgan\", 28, \"784-555-3455\", 26041, \"41580\", \"Mixels\", \"Series 9\", 2018, \"Myke\", 63.0, 4.99, \"NaN\", 2], [\"Spencer\", \"Morgan\", 28, \"784-555-3455\", 26060, \"5005051\", \"Gear\", \"Digital Media\", 2018, \"Friends of Heartlake City Girlz 4 Life\", NaN, 19.99, \"NaN\", 1], [\"Amelia\", \"Hageman\", 40, \"336-555-1950\", 24702, \"76063\", \"DC Comics Super Heroes\", \"Mighty Micros\", 2018, \"The Flash vs. Captain Cold\", 88.0, 9.99, \"http://images.brickset.com/sets/images/76063-1.jpg\", 2], [\"Amelia\", \"Hageman\", 40, \"336-555-1950\", 24720, \"10830\", \"Duplo\", \"NaN\", 2018, \"Minnie's Caf\\u00e9\", 27.0, 19.99, \"http://images.brickset.com/sets/images/10830-1.jpg\", 4]];\n",
       "\n",
       "        // Define the dt_args\n",
       "        let dt_args = {\"layout\": {\"topStart\": \"pageLength\", \"topEnd\": \"search\", \"bottomStart\": \"info\", \"bottomEnd\": \"paging\"}, \"order\": [], \"fnInfoCallback\": function (oSettings, iStart, iEnd, iMax, iTotal, sPre) { return sPre + ' (<a href=\"https://mwouts.github.io/itables/downsampling.html\">downsampled</a> from 620x14 to 585x14 as maxBytes=64KB)'; }};\n",
       "        dt_args[\"data\"] = data;\n",
       "\n",
       "        \n",
       "        new DataTable(table, dt_args);\n",
       "    });\n",
       "</script>\n"
      ],
      "text/plain": [
       "<IPython.core.display.HTML object>"
      ]
     },
     "metadata": {},
     "output_type": "display_data"
    }
   ],
   "source": [
    "show(DF)"
   ]
  },
  {
   "cell_type": "code",
   "execution_count": 580,
   "id": "18332f6f-c0ad-46d3-9874-c7a66ba59600",
   "metadata": {},
   "outputs": [
    {
     "name": "stdout",
     "output_type": "stream",
     "text": [
      "<class 'str'>\n"
     ]
    },
    {
     "data": {
      "text/plain": [
       "'phone_number'"
      ]
     },
     "execution_count": 580,
     "metadata": {},
     "output_type": "execute_result"
    }
   ],
   "source": [
    "phone_number = str('phone_number')\n",
    "print(type(phone_number))\n",
    "phone_number"
   ]
  },
  {
   "cell_type": "code",
   "execution_count": 586,
   "id": "4be73d04-ae8b-488c-850e-165246001bbc",
   "metadata": {},
   "outputs": [
    {
     "data": {
      "text/plain": [
       "first_name       object\n",
       "last_name        object\n",
       "age               int64\n",
       "phone_number     object\n",
       "set_id            int64\n",
       "number           object\n",
       "theme            object\n",
       "subtheme         object\n",
       "year              int64\n",
       "name             object\n",
       "pieces          float64\n",
       "us_price        float64\n",
       "image_url        object\n",
       "quantity          int64\n",
       "dtype: object"
      ]
     },
     "execution_count": 586,
     "metadata": {},
     "output_type": "execute_result"
    }
   ],
   "source": [
    "DF.dtypes"
   ]
  },
  {
   "cell_type": "code",
   "execution_count": 575,
   "id": "d6512aae-dfa8-492a-bccf-95ee21e33a1e",
   "metadata": {},
   "outputs": [
    {
     "ename": "AttributeError",
     "evalue": "'float' object has no attribute 'split'",
     "output_type": "error",
     "traceback": [
      "\u001b[0;31m---------------------------------------------------------------------------\u001b[0m",
      "\u001b[0;31mAttributeError\u001b[0m                            Traceback (most recent call last)",
      "Cell \u001b[0;32mIn[575], line 1\u001b[0m\n\u001b[0;32m----> 1\u001b[0m DF[\u001b[38;5;124m'\u001b[39m\u001b[38;5;124mphone_number\u001b[39m\u001b[38;5;124m'\u001b[39m] \u001b[38;5;241m=\u001b[39m DF[\u001b[38;5;124m'\u001b[39m\u001b[38;5;124mphone_number\u001b[39m\u001b[38;5;124m'\u001b[39m]\u001b[38;5;241m.\u001b[39mapply(\u001b[38;5;28;01mlambda\u001b[39;00m x: \u001b[38;5;28mstr\u001b[39m(x\u001b[38;5;241m.\u001b[39msplit(\u001b[38;5;124m'\u001b[39m\u001b[38;5;124m-\u001b[39m\u001b[38;5;124m'\u001b[39m)))\n",
      "File \u001b[0;32m/opt/anaconda3/lib/python3.12/site-packages/pandas/core/series.py:4924\u001b[0m, in \u001b[0;36mSeries.apply\u001b[0;34m(self, func, convert_dtype, args, by_row, **kwargs)\u001b[0m\n\u001b[1;32m   4789\u001b[0m \u001b[38;5;28;01mdef\u001b[39;00m \u001b[38;5;21mapply\u001b[39m(\n\u001b[1;32m   4790\u001b[0m     \u001b[38;5;28mself\u001b[39m,\n\u001b[1;32m   4791\u001b[0m     func: AggFuncType,\n\u001b[0;32m   (...)\u001b[0m\n\u001b[1;32m   4796\u001b[0m     \u001b[38;5;241m*\u001b[39m\u001b[38;5;241m*\u001b[39mkwargs,\n\u001b[1;32m   4797\u001b[0m ) \u001b[38;5;241m-\u001b[39m\u001b[38;5;241m>\u001b[39m DataFrame \u001b[38;5;241m|\u001b[39m Series:\n\u001b[1;32m   4798\u001b[0m \u001b[38;5;250m    \u001b[39m\u001b[38;5;124;03m\"\"\"\u001b[39;00m\n\u001b[1;32m   4799\u001b[0m \u001b[38;5;124;03m    Invoke function on values of Series.\u001b[39;00m\n\u001b[1;32m   4800\u001b[0m \n\u001b[0;32m   (...)\u001b[0m\n\u001b[1;32m   4915\u001b[0m \u001b[38;5;124;03m    dtype: float64\u001b[39;00m\n\u001b[1;32m   4916\u001b[0m \u001b[38;5;124;03m    \"\"\"\u001b[39;00m\n\u001b[1;32m   4917\u001b[0m     \u001b[38;5;28;01mreturn\u001b[39;00m SeriesApply(\n\u001b[1;32m   4918\u001b[0m         \u001b[38;5;28mself\u001b[39m,\n\u001b[1;32m   4919\u001b[0m         func,\n\u001b[1;32m   4920\u001b[0m         convert_dtype\u001b[38;5;241m=\u001b[39mconvert_dtype,\n\u001b[1;32m   4921\u001b[0m         by_row\u001b[38;5;241m=\u001b[39mby_row,\n\u001b[1;32m   4922\u001b[0m         args\u001b[38;5;241m=\u001b[39margs,\n\u001b[1;32m   4923\u001b[0m         kwargs\u001b[38;5;241m=\u001b[39mkwargs,\n\u001b[0;32m-> 4924\u001b[0m     )\u001b[38;5;241m.\u001b[39mapply()\n",
      "File \u001b[0;32m/opt/anaconda3/lib/python3.12/site-packages/pandas/core/apply.py:1427\u001b[0m, in \u001b[0;36mSeriesApply.apply\u001b[0;34m(self)\u001b[0m\n\u001b[1;32m   1424\u001b[0m     \u001b[38;5;28;01mreturn\u001b[39;00m \u001b[38;5;28mself\u001b[39m\u001b[38;5;241m.\u001b[39mapply_compat()\n\u001b[1;32m   1426\u001b[0m \u001b[38;5;66;03m# self.func is Callable\u001b[39;00m\n\u001b[0;32m-> 1427\u001b[0m \u001b[38;5;28;01mreturn\u001b[39;00m \u001b[38;5;28mself\u001b[39m\u001b[38;5;241m.\u001b[39mapply_standard()\n",
      "File \u001b[0;32m/opt/anaconda3/lib/python3.12/site-packages/pandas/core/apply.py:1507\u001b[0m, in \u001b[0;36mSeriesApply.apply_standard\u001b[0;34m(self)\u001b[0m\n\u001b[1;32m   1501\u001b[0m \u001b[38;5;66;03m# row-wise access\u001b[39;00m\n\u001b[1;32m   1502\u001b[0m \u001b[38;5;66;03m# apply doesn't have a `na_action` keyword and for backward compat reasons\u001b[39;00m\n\u001b[1;32m   1503\u001b[0m \u001b[38;5;66;03m# we need to give `na_action=\"ignore\"` for categorical data.\u001b[39;00m\n\u001b[1;32m   1504\u001b[0m \u001b[38;5;66;03m# TODO: remove the `na_action=\"ignore\"` when that default has been changed in\u001b[39;00m\n\u001b[1;32m   1505\u001b[0m \u001b[38;5;66;03m#  Categorical (GH51645).\u001b[39;00m\n\u001b[1;32m   1506\u001b[0m action \u001b[38;5;241m=\u001b[39m \u001b[38;5;124m\"\u001b[39m\u001b[38;5;124mignore\u001b[39m\u001b[38;5;124m\"\u001b[39m \u001b[38;5;28;01mif\u001b[39;00m \u001b[38;5;28misinstance\u001b[39m(obj\u001b[38;5;241m.\u001b[39mdtype, CategoricalDtype) \u001b[38;5;28;01melse\u001b[39;00m \u001b[38;5;28;01mNone\u001b[39;00m\n\u001b[0;32m-> 1507\u001b[0m mapped \u001b[38;5;241m=\u001b[39m obj\u001b[38;5;241m.\u001b[39m_map_values(\n\u001b[1;32m   1508\u001b[0m     mapper\u001b[38;5;241m=\u001b[39mcurried, na_action\u001b[38;5;241m=\u001b[39maction, convert\u001b[38;5;241m=\u001b[39m\u001b[38;5;28mself\u001b[39m\u001b[38;5;241m.\u001b[39mconvert_dtype\n\u001b[1;32m   1509\u001b[0m )\n\u001b[1;32m   1511\u001b[0m \u001b[38;5;28;01mif\u001b[39;00m \u001b[38;5;28mlen\u001b[39m(mapped) \u001b[38;5;129;01mand\u001b[39;00m \u001b[38;5;28misinstance\u001b[39m(mapped[\u001b[38;5;241m0\u001b[39m], ABCSeries):\n\u001b[1;32m   1512\u001b[0m     \u001b[38;5;66;03m# GH#43986 Need to do list(mapped) in order to get treated as nested\u001b[39;00m\n\u001b[1;32m   1513\u001b[0m     \u001b[38;5;66;03m#  See also GH#25959 regarding EA support\u001b[39;00m\n\u001b[1;32m   1514\u001b[0m     \u001b[38;5;28;01mreturn\u001b[39;00m obj\u001b[38;5;241m.\u001b[39m_constructor_expanddim(\u001b[38;5;28mlist\u001b[39m(mapped), index\u001b[38;5;241m=\u001b[39mobj\u001b[38;5;241m.\u001b[39mindex)\n",
      "File \u001b[0;32m/opt/anaconda3/lib/python3.12/site-packages/pandas/core/base.py:921\u001b[0m, in \u001b[0;36mIndexOpsMixin._map_values\u001b[0;34m(self, mapper, na_action, convert)\u001b[0m\n\u001b[1;32m    918\u001b[0m \u001b[38;5;28;01mif\u001b[39;00m \u001b[38;5;28misinstance\u001b[39m(arr, ExtensionArray):\n\u001b[1;32m    919\u001b[0m     \u001b[38;5;28;01mreturn\u001b[39;00m arr\u001b[38;5;241m.\u001b[39mmap(mapper, na_action\u001b[38;5;241m=\u001b[39mna_action)\n\u001b[0;32m--> 921\u001b[0m \u001b[38;5;28;01mreturn\u001b[39;00m algorithms\u001b[38;5;241m.\u001b[39mmap_array(arr, mapper, na_action\u001b[38;5;241m=\u001b[39mna_action, convert\u001b[38;5;241m=\u001b[39mconvert)\n",
      "File \u001b[0;32m/opt/anaconda3/lib/python3.12/site-packages/pandas/core/algorithms.py:1743\u001b[0m, in \u001b[0;36mmap_array\u001b[0;34m(arr, mapper, na_action, convert)\u001b[0m\n\u001b[1;32m   1741\u001b[0m values \u001b[38;5;241m=\u001b[39m arr\u001b[38;5;241m.\u001b[39mastype(\u001b[38;5;28mobject\u001b[39m, copy\u001b[38;5;241m=\u001b[39m\u001b[38;5;28;01mFalse\u001b[39;00m)\n\u001b[1;32m   1742\u001b[0m \u001b[38;5;28;01mif\u001b[39;00m na_action \u001b[38;5;129;01mis\u001b[39;00m \u001b[38;5;28;01mNone\u001b[39;00m:\n\u001b[0;32m-> 1743\u001b[0m     \u001b[38;5;28;01mreturn\u001b[39;00m lib\u001b[38;5;241m.\u001b[39mmap_infer(values, mapper, convert\u001b[38;5;241m=\u001b[39mconvert)\n\u001b[1;32m   1744\u001b[0m \u001b[38;5;28;01melse\u001b[39;00m:\n\u001b[1;32m   1745\u001b[0m     \u001b[38;5;28;01mreturn\u001b[39;00m lib\u001b[38;5;241m.\u001b[39mmap_infer_mask(\n\u001b[1;32m   1746\u001b[0m         values, mapper, mask\u001b[38;5;241m=\u001b[39misna(values)\u001b[38;5;241m.\u001b[39mview(np\u001b[38;5;241m.\u001b[39muint8), convert\u001b[38;5;241m=\u001b[39mconvert\n\u001b[1;32m   1747\u001b[0m     )\n",
      "File \u001b[0;32mlib.pyx:2972\u001b[0m, in \u001b[0;36mpandas._libs.lib.map_infer\u001b[0;34m()\u001b[0m\n",
      "Cell \u001b[0;32mIn[575], line 1\u001b[0m, in \u001b[0;36m<lambda>\u001b[0;34m(x)\u001b[0m\n\u001b[0;32m----> 1\u001b[0m DF[\u001b[38;5;124m'\u001b[39m\u001b[38;5;124mphone_number\u001b[39m\u001b[38;5;124m'\u001b[39m] \u001b[38;5;241m=\u001b[39m DF[\u001b[38;5;124m'\u001b[39m\u001b[38;5;124mphone_number\u001b[39m\u001b[38;5;124m'\u001b[39m]\u001b[38;5;241m.\u001b[39mapply(\u001b[38;5;28;01mlambda\u001b[39;00m x: \u001b[38;5;28mstr\u001b[39m(x\u001b[38;5;241m.\u001b[39msplit(\u001b[38;5;124m'\u001b[39m\u001b[38;5;124m-\u001b[39m\u001b[38;5;124m'\u001b[39m)))\n",
      "\u001b[0;31mAttributeError\u001b[0m: 'float' object has no attribute 'split'"
     ]
    }
   ],
   "source": [
    "DF['phone_number'] = DF['phone_number'].apply(lambda x: str(x.split('-')))"
   ]
  },
  {
   "cell_type": "markdown",
   "id": "e09180ed-c666-4e79-af52-2f9721d47074",
   "metadata": {},
   "source": [
    "10. Come up with a question you want to answer using these data, and write it down. Then, create a data visualization that answers the question, and explain how your visualization answers the question."
   ]
  },
  {
   "cell_type": "markdown",
   "id": "97ce4284-c698-44bc-b9e2-4e8d2988bbaa",
   "metadata": {},
   "source": [
    "## Essay Response\n",
    "\n",
    "Give a brief report on what you are reading and what you have learned so far. If you chose your own articles please insert a link to the articles. If you chose a book, please give the book title and author.\n",
    "\n",
    "1. What drew you to the book/articles\n",
    "2. What have you learned so far.\n",
    "\n",
    "eg. In the first chapter of the book the author talks about..... or My first article discusses..... or I disagree with what the author is saying so far.... or I really like what I am learning about because...."
   ]
  },
  {
   "cell_type": "code",
   "execution_count": null,
   "id": "fa0e691a-8fa9-4e9e-b9cd-5c86881aa29a",
   "metadata": {},
   "outputs": [],
   "source": []
  }
 ],
 "metadata": {
  "kernelspec": {
   "display_name": "Python 3 (ipykernel)",
   "language": "python",
   "name": "python3"
  },
  "language_info": {
   "codemirror_mode": {
    "name": "ipython",
    "version": 3
   },
   "file_extension": ".py",
   "mimetype": "text/x-python",
   "name": "python",
   "nbconvert_exporter": "python",
   "pygments_lexer": "ipython3",
   "version": "3.12.2"
  }
 },
 "nbformat": 4,
 "nbformat_minor": 5
}
